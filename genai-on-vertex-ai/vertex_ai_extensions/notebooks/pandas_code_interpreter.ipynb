{
 "cells": [
  {
   "cell_type": "code",
   "execution_count": null,
   "metadata": {
    "id": "Js_h8jjWM1mu"
   },
   "outputs": [],
   "source": [
    "# Copyright 2024 Google LLC\n",
    "#\n",
    "# Licensed under the Apache License, Version 2.0 (the \"License\");\n",
    "# you may not use this file except in compliance with the License.\n",
    "# You may obtain a copy of the License at\n",
    "#\n",
    "#     https://www.apache.org/licenses/LICENSE-2.0\n",
    "#\n",
    "# Unless required by applicable law or agreed to in writing, software\n",
    "# distributed under the License is distributed on an \"AS IS\" BASIS,\n",
    "# WITHOUT WARRANTIES OR CONDITIONS OF ANY KIND, either express or implied.\n",
    "# See the License for the specific language governing permissions and\n",
    "# limitations under the License."
   ]
  },
  {
   "cell_type": "markdown",
   "metadata": {
    "id": "si1MarbUIZ_k"
   },
   "source": [
    "See [Google Cloud Marketplace](https://console.cloud.google.com/marketplace/product/city-of-new-york/nyc-311) for terms of use of the dataset featured in this notebook."
   ]
  },
  {
   "cell_type": "markdown",
   "metadata": {
    "id": "ZJ5caKL2Ff2B"
   },
   "source": [
    "# Working with Pandas Using the Vertex AI Extensions Code Interpreter Extension\n"
   ]
  },
  {
   "cell_type": "markdown",
   "metadata": {
    "id": "5Qj-TzSNGUii"
   },
   "source": [
    "<table align=\"left\">\n",
    "  <td style=\"text-align: center\">\n",
    "    <a href=\"https://art-analytics.appspot.com/r.html?uaid=G-FHXEFWTT4E&utm_source=aRT-pandas_extbygoog_notebook-from_notebook-colab&utm_medium=aRT-clicks&utm_campaign=pandas_extbygoog_notebook-from_notebook-colab&destination=pandas_extbygoog_notebook-from_notebook-colab&url=https%3A%2F%2Fcolab.research.google.com%2Fgithub%2FGoogleCloudPlatform%2Fapplied-ai-engineering-samples%2Fblob%2Fmain%2Fgenai-on-vertex-ai%2Fvertex_ai_extensions%2Fnotebooks%2Fpandas_code_interpreter.ipynb\">\n",
    "      <img src=\"https://cloud.google.com/ml-engine/images/colab-logo-32px.png\" alt=\"Google Colaboratory logo\"><br> Open in Colab\n",
    "    </a>\n",
    "  </td>\n",
    "  <td style=\"text-align: center\">\n",
    "    <a href=\"https://art-analytics.appspot.com/r.html?uaid=G-FHXEFWTT4E&utm_source=aRT-pandas_extbygoog_notebook-from_notebook-colab_ent&utm_medium=aRT-clicks&utm_campaign=pandas_extbygoog_notebook-from_notebook-colab_ent&destination=pandas_extbygoog_notebook-from_notebook-colab_ent&url=https%3A%2F%2Fconsole.cloud.google.com%2Fvertex-ai%2Fcolab%2Fimport%2Fhttps%3A%252F%252Fraw.githubusercontent.com%252FGoogleCloudPlatform%252Fapplied-ai-engineering-samples%252Fmain%252Fgenai-on-vertex-ai%252Fvertex_ai_extensions%252Fnotebooks%252Fpandas_code_interpreter.ipynb\">\n",
    "      <img width=\"32px\" src=\"https://lh3.googleusercontent.com/JmcxdQi-qOpctIvWKgPtrzZdJJK-J3sWE1RsfjZNwshCFgE_9fULcNpuXYTilIR2hjwN\" alt=\"Google Cloud Colab Enterprise logo\"><br> Open in Colab Enterprise\n",
    "    </a>\n",
    "  </td>    \n",
    "  <td style=\"text-align: center\">\n",
    "    <a href=\"https://art-analytics.appspot.com/r.html?uaid=G-FHXEFWTT4E&utm_source=aRT-pandas_extbygoog_notebook-from_notebook-vai_workbench&utm_medium=aRT-clicks&utm_campaign=pandas_extbygoog_notebook-from_notebook-vai_workbench&destination=pandas_extbygoog_notebook-from_notebook-vai_workbench&url=https%3A%2F%2Fconsole.cloud.google.com%2Fvertex-ai%2Fworkbench%2Fdeploy-notebook%3Fdownload_url%3Dhttps%3A%2F%2Fraw.githubusercontent.com%2FGoogleCloudPlatform%2Fapplied-ai-engineering-samples%2Fmain%2Fgenai-on-vertex-ai%2Fvertex_ai_extensions%2Fnotebooks%2Fpandas_code_interpreter.ipynb\">\n",
    "      <img src=\"https://lh3.googleusercontent.com/UiNooY4LUgW_oTvpsNhPpQzsstV5W8F7rYgxgGBD85cWJoLmrOzhVs_ksK_vgx40SHs7jCqkTkCk=e14-rj-sc0xffffff-h130-w32\" alt=\"Vertex AI logo\"><br> Open in Vertex AI Workbench\n",
    "    </a>\n",
    "  </td>\n",
    "  <td style=\"text-align: center\">\n",
    "    <a href=\"https://art-analytics.appspot.com/r.html?uaid=G-FHXEFWTT4E&utm_source=aRT-pandas_extbygoog_notebook-from_notebook-github&utm_medium=aRT-clicks&utm_campaign=pandas_extbygoog_notebook-from_notebook-github&destination=pandas_extbygoog_notebook-from_notebook-github&url=https%3A%2F%2Fgithub.com%2FGoogleCloudPlatform%2Fapplied-ai-engineering-samples%2Fblob%2Fmain%2Fgenai-on-vertex-ai%2Fvertex_ai_extensions%2Fnotebooks%2Fpandas_code_interpreter.ipynb\">\n",
    "      <img src=\"https://cloud.google.com/ml-engine/images/github-logo-32px.png\" alt=\"GitHub logo\"><br> View on GitHub\n",
    "    </a>\n",
    "  </td>\n",
    "</table>"
   ]
  },
  {
   "cell_type": "markdown",
   "metadata": {
    "id": "ocycMnwJGUii"
   },
   "source": [
    "| | |\n",
    "|----------|-------------|\n",
    "| Author(s)   | Michael W. Sherman |\n",
    "| Reviewers(s) | Yan Sun |\n",
    "| Last updated | 2024 04 10: Initial release |\n",
    "| | 2024 03 28: Complete draft |"
   ]
  },
  {
   "cell_type": "markdown",
   "metadata": {
    "id": "FlkJDD0nGUij"
   },
   "source": [
    "# Overview\n",
    "\n",
    "This notebook shows how to use the [Vertex AI Extensions](https://cloud.google.com/vertex-ai/generative-ai/docs/extensions/overview) Google-provided [Code Interpreter Extension](https://cloud.google.com/vertex-ai/generative-ai/docs/extensions/google-extensions.md#code_interpreter_extension) with [pandas](https://pandas.pydata.org/pandas-docs/stable/index.html) DataFrames.\n",
    "\n",
    "Pandas DataFrames, especially when compressed, store data much more efficiently than text-based data formats like CSV or JSON, making them a good choice for using Code Interpreter with larger datasets.\n",
    "\n",
    "You can also use pandas code generated by Code Interpreter to work with [especially large datasets](https://cloud.google.com/python/docs/reference/bigframes/latest). When you're using a data platform that supports the pandas API, generating code with Code Interpreter on a sample of the larger dataset is a better experience than generating pandas code from an LLM directly--you don't need to test the code generated by Code Interpreter yourself, since the code has already been run in the Code Interpreter execution environment, and Code Interpreter has additional backend enhancements to increase the quality of generated code vs. a base LLM.\n",
    "\n",
    "In this notebook you will work with a real-world pandas dataset of tens of thousands of rows and use the Vertex AI Extensions Code Interpreter Extension to:\n",
    "- Set the types of DataFrame columns.\n",
    "- Clean a DataFrame.\n",
    "- Augment a DataFrame with additional columns.\n",
    "- Sample from a DataFrame.\n",
    "- Perform data analysis and generate plots from a DataFrame."
   ]
  },
  {
   "cell_type": "markdown",
   "metadata": {
    "id": "ZIBXCGNGfPKL"
   },
   "source": [
    "**If you're already familiar with Google Cloud and the Vertex Extensions Code Interpreter Extension**, you can skip reading between here and the \"Step 1: Retrieve the Data\" section, but make sure to run the code cells before that section."
   ]
  },
  {
   "cell_type": "markdown",
   "metadata": {
    "id": "KUXzlvfpn513"
   },
   "source": [
    "## Vertex AI Extensions\n",
    "\n",
    "[Vertex AI Extensions](https://cloud.google.com/vertex-ai/generative-ai/docs/extensions/overview) is a platform for creating and managing extensions that connect large language models to external systems via APIs. These external systems can provide LLMs with real-time data and perform data processing actions on their behalf. You can use pre-built or third-party extensions in Vertex AI Extensions."
   ]
  },
  {
   "cell_type": "markdown",
   "metadata": {
    "id": "3r29fUEFn8JH"
   },
   "source": [
    "## Vertex AI Extensions Code Interpreter Extension\n",
    "\n",
    "The [Code Interpreter](https://cloud.google.com/vertex-ai/generative-ai/docs/extensions/google-extensions.md#code_interpreter_extension) extension provides access to a Python interpreter with a sandboxed, secure execution environment that can be used with any model in the Vertex AI Model Garden. This extension can generate and execute code in response to a user query or workflow. It allows the user or LLM agent to perform various tasks such as data analysis and visualization on new or existing data files.\n",
    "\n",
    "You can use the Code Interpreter extension to:\n",
    "\n",
    "* Generate and execute code.\n",
    "* Perform a wide variety of mathematical calculations.\n",
    "* Sort, filter, select the top results, and otherwise analyze data (including data acquired from other tools and APIs).\n",
    "* Create visualizations, plot charts, draw graphs, shapes, print results, etc."
   ]
  },
  {
   "cell_type": "markdown",
   "metadata": {
    "id": "uNriTZl70OdV"
   },
   "source": [
    "## Using this Notebook\n",
    "\n",
    "Colab is recommended for running this notebook, but it can run in any iPython environment where you can connect to Google Cloud, install pip packages, etc.\n",
    "\n",
    "If you're running outside of Colab, depending on your environment you may need to install pip packages (at the very least `pandas`, `tabulate`, `db-dtypes`, and `matplotlib`) that are included in the Colab environment by default but are not part of the Python Standard Library--try pipping the library name of any imports that fail. You'll also notice some comments in code cells that look like \"@something\"; these have special rendering in colab, but you aren't missing out on any content or important functionality.\n",
    "\n",
    "This tutorial uses the following Google Cloud services and resources:\n",
    "\n",
    "* Vertex AI Extensions\n",
    "* BigQuery\n",
    "\n",
    "This notebook has been tested in the following environment:\n",
    "\n",
    "* Python version = 3.10.12\n",
    "* [pandas](https://pypi.org/project/pandas/2.0.3/) version = 2.2.2\n",
    "* [google-cloud-aiplatform](https://pypi.org/project/google-cloud-aiplatform/) version = 1.47.0"
   ]
  },
  {
   "cell_type": "markdown",
   "metadata": {
    "id": "Ar0aDcql1dxl"
   },
   "source": [
    "## Useful Tips\n",
    "\n",
    "1. This notebook uses Generative AI cababilities. Re-running a cell that uses Generative AI capabilities may produce similar but not identical results. Some Code Interpreter calls in this notebook may sometimes produce executable code that misimplements some of the more complex parts of the instructions.\n",
    "2. Because of #1, it is possible that an output from Code Interpreter producess errors. If that happens re-run the cell that produced the coding error. The different generated code will likely be bug free. The `run_code_interpreter` method below helps automate this, but you still may need to rerun cells that generate working code that doesn't perfectly follow the instructions in the prompt.\n",
    "3. The use of Extensions and other Generative AI capabilities is subject to service quotas. Running the notebook using \"Run All\" may exceed  your queries per minute (QPM) limitations. Run the notebook manually and if you get a quota error pause for up to 1 minute before retrying that cell. Code Interpreter defaults to Gemini on the backend and is subject to the Gemini quotas, [view your Gemini quotas here](https://console.cloud.google.com/iam-admin/quotas?pageState=(%22allQuotasTable%22:(%22f%22:%22%255B%257B_22k_22_3A_22_22_2C_22t_22_3A10_2C_22v_22_3A_22_5C_22base_model_5C_22_22%257D_2C%257B_22k_22_3A_22_22_2C_22t_22_3A10_2C_22v_22_3A_22_5C_22gemini_5C_22_22%257D%255D%22%29%29&e=13802955&mods=logs_tg_staging).\n",
    "4. The Code Interpreter Extension is stateless and therefore every request to Code Interpreter does not have knowledge of previous operations nor files injested or produced in previous steps. Therefore, with any request to Code Interpreter you need to submit all files and instructions for that request to complete successfully.\n",
    "5. If you're sending data prepared in non-standard ways to Code Interpreter, you'll have to provide Code Interpreter information on how to use that data. For example, as later in this notebook, if you're sending data compressed with a specific compression algorithm, you have to let Code Interpreter know how to uncompress the data.\n",
    "6. Common ways of using the pandas library generate a lot of warnings. Related to number 2 above, you'll want to make sure you don't necessarily automatically rerun code that generates warnings. One way to handle this is to instruct Code Interpreter to use the Python `warnings` library to supress warnings. You'll see examples of this later in the notebook."
   ]
  },
  {
   "cell_type": "markdown",
   "metadata": {
    "id": "PO_tnShTGUik"
   },
   "source": [
    "# Getting Started\n",
    "\n",
    "The following steps are necessary to run this notebook, no matter what notebook environment you're using.\n",
    "\n",
    "If you're entirely new to Google Cloud, [get started here](https://cloud.google.com/docs/get-started)."
   ]
  },
  {
   "cell_type": "markdown",
   "metadata": {
    "id": "XLf5oGqHn_DH"
   },
   "source": [
    "## Google Cloud Project Setup\n",
    "\n",
    "1. [Select or create a Google Cloud project](https://console.cloud.google.com/cloud-resource-manager). When you first create an account, you get a $300 free credit towards your compute/storage costs.\n",
    "1. [Make sure that billing is enabled for your project](https://cloud.google.com/billing/docs/how-to/modify-project).\n",
    "1. [Enable the Vertex AI API](https://console.cloud.google.com/flows/enableapi?apiid=aiplatform.googleapis.com).\n",
    "1. [Enable the BigQuery API](https://console.cloud.google.com/flows/enableapi?apiid=bigquery.googleapis.com)."
   ]
  },
  {
   "cell_type": "markdown",
   "metadata": {
    "id": "PTuXDJ2qn-8W"
   },
   "source": [
    "## Google Cloud Permissions\n",
    "Make sure you have been [granted the following roles](https://cloud.google.com/iam/docs/granting-changing-revoking-access) for the GCP project you'll access from this notebook:\n",
    "* [`roles/aiplatform.user`](https://cloud.google.com/vertex-ai/docs/general/access-control#aiplatform.user)\n",
    "* [`roles/bigquery.jobUser`](https://cloud.google.com/bigquery/docs/access-control#bigquery.jobUser) or [`roles/bigquery.User`](https://cloud.google.com/bigquery/docs/access-control#bigquery.user)"
   ]
  },
  {
   "cell_type": "markdown",
   "metadata": {
    "id": "JdU-qMmbpR8r"
   },
   "source": [
    "## Install the Google Cloud Vertex AI Python SDK\n",
    "\n",
    "Install the Google Cloud Vertex AI Python SDK, and if you already have the Google Cloud Vertex AI Python SDK installed, upgrade to the latest version."
   ]
  },
  {
   "cell_type": "code",
   "execution_count": null,
   "metadata": {
    "id": "lHEI7wZMhZPd",
    "tags": []
   },
   "outputs": [],
   "source": [
    "!pip install google-cloud-aiplatform==1.47.0 pandas==2.2.2 tabulate matplotlib google-cloud-bigquery db-dtypes --upgrade\n",
    "# Note -- this may not work in some non-Colab environments. If you get errors\n",
    "# when running 'import vertexai' below, you'll need to find another way to\n",
    "# install the latest google-cloud-aiplatform package into your notebook kernel.\n",
    "# In some kernel setups running \"%pip install google-cloud-aiplatform --upgrade\"\n",
    "# in a code cell works if \"!pip install ....\" doesn't."
   ]
  },
  {
   "cell_type": "markdown",
   "metadata": {
    "id": "R5Xep4W9lq-Z"
   },
   "source": [
    "### Restart runtime\n",
    "\n",
    "You may need to restart your notebook runtime to use the Vertex AI SDK. You can do this by running the cell below, which restarts the current kernel.\n",
    "\n",
    "You may see the restart reported as a crash, but it is working as-intended -- you are merely restarting the runtime.\n",
    "\n",
    "The restart might take a minute or longer. After its restarted, continue to the next step."
   ]
  },
  {
   "cell_type": "code",
   "execution_count": 3,
   "metadata": {
    "colab": {
     "base_uri": "https://localhost:8080/"
    },
    "id": "XRvKdaPDTznN",
    "outputId": "966bb88a-a1b5-490d-8f8c-286fd4ef500b",
    "tags": []
   },
   "outputs": [
    {
     "data": {
      "text/plain": [
       "{'status': 'ok', 'restart': True}"
      ]
     },
     "execution_count": 3,
     "metadata": {},
     "output_type": "execute_result"
    }
   ],
   "source": [
    "import IPython\n",
    "\n",
    "app = IPython.Application.instance()\n",
    "app.kernel.do_shutdown(True)"
   ]
  },
  {
   "cell_type": "markdown",
   "metadata": {
    "id": "SbmM4z7FOBpM"
   },
   "source": [
    "<div class=\"alert alert-block alert-warning\">\n",
    "<b>⚠️ The kernel is going to restart. Please wait until it is finished before continuing to the next step. ⚠️</b>\n",
    "</div>\n"
   ]
  },
  {
   "cell_type": "markdown",
   "metadata": {
    "id": "mCG23ih_sJr9"
   },
   "source": [
    "If you're using Colab, as long the notebook runtime isn't deleted (even if it restarts) you don't need to re-run the previous cell.\n",
    "\n",
    "If you're running this notebook in your own environment you shouldn't need to run the above pip cell again unless you delete your IPython kernel."
   ]
  },
  {
   "cell_type": "markdown",
   "metadata": {
    "id": "7plalcaLGUik"
   },
   "source": [
    "## Authenticate\n",
    "\n",
    "If you're using Colab, run the code in the next cell. Follow the popups and authenticate with an account that has access to your Google Cloud [project](https://cloud.google.com/resource-manager/docs/creating-managing-projects#identifying_projects).\n",
    "\n",
    "If you're running this notebook somewhere besides Colab, make sure your environment has the right Google Cloud access. If that's a new concept to you, consider looking into [Application Default Credentials for your local environment](https://cloud.google.com/docs/authentication/provide-credentials-adc#local-dev) and [initializing the Google Cloud CLI](https://cloud.google.com/docs/authentication/gcloud). More authentication options are discussed [here](https://cloud.google.com/docs/authentication)."
   ]
  },
  {
   "cell_type": "code",
   "execution_count": 2,
   "metadata": {
    "colab": {
     "base_uri": "https://localhost:8080/"
    },
    "id": "THYfMKWMGUil",
    "outputId": "759e20f9-32aa-4e0e-baa2-71e83440a82f"
   },
   "outputs": [
    {
     "name": "stdout",
     "output_type": "stream",
     "text": [
      "Authenticated\n"
     ]
    }
   ],
   "source": [
    "# Colab authentication.\n",
    "import sys\n",
    "\n",
    "if \"google.colab\" in sys.modules:\n",
    "    from google.colab import auth\n",
    "    auth.authenticate_user()\n",
    "    print('Authenticated')"
   ]
  },
  {
   "cell_type": "markdown",
   "metadata": {
    "id": "init_aip:mbsdk,all"
   },
   "source": [
    "# Initialize the Google Cloud Vertex AI Python SDK\n",
    "\n",
    "Start here if your Notebook kernel restarts (but isn't deleted), though if it's been a few hours you may need to run the Authentication steps above again.\n",
    "\n",
    "To initialize the SDK, you need to set your Google Cloud project ID and region.\n",
    "\n",
    "If you don't know your project  ID, try the [Google Cloud CLI](https://cloud.google.com/sdk) commands [`gcloud config list`](https://cloud.google.com/sdk/gcloud/reference/config/list) or [`gcloud projects list`](https://cloud.google.com/sdk/gcloud/reference/projects/list). See the support page [Locate the project ID](https://support.google.com/googleapi/answer/7014113) for more information.\n"
   ]
  },
  {
   "cell_type": "markdown",
   "metadata": {
    "id": "WReHDGG5g0XY"
   },
   "source": [
    "### Set Your Project ID\n",
    "\n"
   ]
  },
  {
   "cell_type": "code",
   "execution_count": 6,
   "metadata": {
    "id": "oM1iC_MfAts1",
    "tags": []
   },
   "outputs": [],
   "source": [
    "PROJECT_ID = \"YOUR_PROJECT_ID_HERE\"  # @param {type:\"string\"}"
   ]
  },
  {
   "cell_type": "markdown",
   "metadata": {
    "id": "region"
   },
   "source": [
    "### Set the Region\n",
    "\n",
    "You can also change the `REGION` variable used by Vertex AI. Learn more about [Vertex AI regions](https://cloud.google.com/vertex-ai/docs/general/locations)."
   ]
  },
  {
   "cell_type": "code",
   "execution_count": 2,
   "metadata": {
    "id": "Cg9uNa6rlyWx",
    "tags": []
   },
   "outputs": [],
   "source": [
    "REGION = \"us-central1\"  # @param {type: \"string\"}"
   ]
  },
  {
   "cell_type": "markdown",
   "metadata": {
    "id": "6-NbHLWtu-iW"
   },
   "source": [
    "### Import the Vertex AI Python SDK"
   ]
  },
  {
   "cell_type": "code",
   "execution_count": 7,
   "metadata": {
    "id": "KhnzTqS8iOJC",
    "tags": []
   },
   "outputs": [],
   "source": [
    "import vertexai\n",
    "from vertexai.preview import extensions\n",
    "\n",
    "vertexai.init(\n",
    "    project=PROJECT_ID,\n",
    "    location=REGION\n",
    ")"
   ]
  },
  {
   "cell_type": "markdown",
   "metadata": {
    "id": "i1acCewrgFgY"
   },
   "source": [
    "# Import Additional Libraries"
   ]
  },
  {
   "cell_type": "code",
   "execution_count": 8,
   "metadata": {
    "id": "lfobYRV1gEVm",
    "tags": []
   },
   "outputs": [],
   "source": [
    "import pandas as pd\n",
    "pd.set_option('display.max_columns', None)\n",
    "import pprint  # For better formatting when printing raw Code Intepreter output."
   ]
  },
  {
   "cell_type": "markdown",
   "metadata": {
    "id": "NIZnIItkxeb-"
   },
   "source": [
    "# Setup and Test the Code Interpreter Extension\n",
    "\n",
    "Code Interpreter is provided by Google, so you can load it directly."
   ]
  },
  {
   "cell_type": "code",
   "execution_count": null,
   "metadata": {
    "id": "6zAMy-Ndinbz",
    "tags": []
   },
   "outputs": [],
   "source": [
    "extension_code_interpreter = extensions.Extension.from_hub(\"code_interpreter\")\n",
    "extension_code_interpreter"
   ]
  },
  {
   "cell_type": "markdown",
   "metadata": {
    "id": "oXzY2nqRlyWy"
   },
   "source": [
    "Confirm your Code Interpreter extension is registered:"
   ]
  },
  {
   "cell_type": "code",
   "execution_count": null,
   "metadata": {
    "id": "nPSe7IQtlyWz",
    "tags": []
   },
   "outputs": [],
   "source": [
    "print(\"Name:\", extension_code_interpreter.gca_resource.name)\n",
    "print(\"Display Name:\", extension_code_interpreter.gca_resource.display_name)\n",
    "print(\"Description:\", extension_code_interpreter.gca_resource.description)"
   ]
  },
  {
   "cell_type": "markdown",
   "metadata": {
    "id": "MejOedOYxc1O"
   },
   "source": [
    "## Test Code Interpreter\n",
    "\n",
    "To test Code Interpreter, ask it to generate a basic plot from a small dataset. If you're already familiar with Code Interpreter you can skip this section.\n",
    "\n",
    "Note that printing the Code Interpreter response object below is a bit long, due to the base64-encoded image file returned by Code Interpreter--just scroll down a bit."
   ]
  },
  {
   "cell_type": "code",
   "execution_count": null,
   "metadata": {
    "colab": {
     "base_uri": "https://localhost:8080/"
    },
    "id": "QkgY1Ji-lyWz",
    "outputId": "f619c290-7788-4736-e44c-617fe81ad0fe",
    "tags": []
   },
   "outputs": [],
   "source": [
    "QUERY = \"\"\"\n",
    "Using the data below, construct a bar chart that includes only the height values with different colors for the bars:\n",
    "\n",
    "tree_heights_prices = {\n",
    "  \\\"Pine\\\": {\\\"height\\\": 100, \\\"price\\\": 100},\n",
    "  \\\"Oak\\\": {\\\"height\\\": 65, \\\"price\\\": 135},\n",
    "  \\\"Birch\\\": {\\\"height\\\": 45, \\\"price\\\": 80},\n",
    "  \\\"Redwood\\\": {\\\"height\\\": 200, \\\"price\\\": 200},\n",
    "  \\\"Fir\\\": {\\\"height\\\": 180, \\\"price\\\": 162},\n",
    "}\n",
    "\n",
    "Please include the data in the generated code.\n",
    "\"\"\"\n",
    "\n",
    "response = extension_code_interpreter.execute(\n",
    "    operation_id = \"generate_and_execute\",\n",
    "    operation_params = {\"query\": QUERY},\n",
    ")\n",
    "\n",
    "print(response)"
   ]
  },
  {
   "cell_type": "markdown",
   "metadata": {
    "id": "9zfhZvJrzh8F"
   },
   "source": [
    "Now, dig deeper into the returned `response` object. `pprint` more clearly shows the generated code:"
   ]
  },
  {
   "cell_type": "code",
   "execution_count": null,
   "metadata": {
    "colab": {
     "base_uri": "https://localhost:8080/"
    },
    "id": "eEwauD0Xyzru",
    "outputId": "283fad94-dc16-4d3d-ac0b-cfccb4d265db",
    "tags": []
   },
   "outputs": [],
   "source": [
    "pprint.pprint(response)"
   ]
  },
  {
   "cell_type": "markdown",
   "metadata": {
    "id": "aZB4ZDEmyzLm"
   },
   "source": [
    "You'll notice the `response` object has an `output_files` object that contains (base64 encoded) files you'll want to extract.\n",
    "\n",
    "In the next section you'll create some helper functions that make it easier to work with Code Interpreter's `response` object."
   ]
  },
  {
   "cell_type": "markdown",
   "metadata": {
    "id": "NLE3wb5VfhJv"
   },
   "source": [
    "# Code Interpreter Helper Functions\n",
    "\n",
    "These functions are optional when using Code Interpreter but make it easier to inspect Code Interpreter's output, assemble Code Interprer requests, and run generated code."
   ]
  },
  {
   "cell_type": "markdown",
   "metadata": {
    "id": "9NnhQmFLAHXs"
   },
   "source": [
    "## `process_response`\n",
    "\n",
    "`process_response` displays the generated code and any output files, shows the output from code execution, surfaces code execution errors, and saves output files.\n",
    "\n",
    "If the output of `process_response` looks strange, try making your noteboook window wider--this will help keep the HTML layout organized.\n",
    "\n",
    "**To use this functionality** call `process_response(response)`, where `response` is the Code Interpreter `response` object.\n"
   ]
  },
  {
   "cell_type": "code",
   "execution_count": 13,
   "metadata": {
    "id": "Md76P2cH_qMO",
    "tags": []
   },
   "outputs": [],
   "source": [
    "import base64\n",
    "import json\n",
    "import pprint\n",
    "import pandas\n",
    "import sys\n",
    "import IPython\n",
    "if sys.version_info[0] < 3:\n",
    "    from StringIO import StringIO\n",
    "else:\n",
    "    from io import StringIO\n",
    "\n",
    "css_styles = \"\"\"\n",
    "<style>\n",
    ".main_summary {\n",
    "  font-weight: bold;\n",
    "  font-size: 14px; color: #4285F4;\n",
    "  background-color:rgba(221, 221, 221, 0.5); padding:8px;}\n",
    ".main_summary:hover {background-color: rgba(221, 221, 221, 1);}\n",
    "details {\n",
    "  background-color:#fff;\n",
    "  border: 1px solid #E8EAED;\n",
    "  padding:0px;\n",
    "  margin-bottom:2px; }\n",
    "details img {width:50%}\n",
    "details > div {padding:10px; }\n",
    "div#left > * > div {\n",
    "    overflow:auto;\n",
    "    max-height:400px; }\n",
    "\n",
    "div#right > pre {\n",
    "    overflow:auto;\n",
    "    max-height:600px;\n",
    "    background-color: ghostwhite;\n",
    "    padding: 10px; }\n",
    "details details > div { overflow: scroll; max-height:400px}\n",
    "details details {\n",
    "  background-color:rgba(246, 231, 217, 0.2);\n",
    "  border: 1px solid #FBBC04;}\n",
    "details details > summary {\n",
    "  padding: 8px;\n",
    "  background-color:rgba(255, 228, 196, 0.6); }\n",
    "details details > summary:hover { background-color:rgba(255, 228, 196, 0.9); }\n",
    "div#left {width: 64%; padding:0 1%;  }\n",
    "div#right {\n",
    "  border-left: 1px solid silver;\n",
    "  width: 30%;\n",
    "  float: right;\n",
    "  padding:0 1%; }\n",
    "body {color: #000; background-color: white; padding:10px 10px 40px 10px; }\n",
    "#main { border: 1px solid #FBBC04; padding:10px 0; display: flow-root; }\n",
    "h3 {color: #000; }\n",
    "code  { font-family: monospace; color: #900; padding: 0 2px; font-size: 105%; }\n",
    "</style>\n",
    "        \"\"\"\n",
    "\n",
    "# Parser to visualise the content of returned files as HTML.\n",
    "def parse_files_to_html(outputFiles, save_files_locally = True):\n",
    "    IMAGE_FILE_EXTENSIONS = set([\"jpg\", \"jpeg\", \"png\"])\n",
    "    file_list = []\n",
    "    details_tml = \"\"\"<details><summary>{name}</summary><div>{html_content}</div></details>\"\"\"\n",
    "\n",
    "    if not outputFiles:\n",
    "      return \"No Files generated from the code\"\n",
    "    # Sort output_files so images are displayed before other files such as JSON.\n",
    "    for output_file in sorted(\n",
    "        outputFiles,\n",
    "        key=lambda x: x[\"name\"].split(\".\")[-1] not in IMAGE_FILE_EXTENSIONS,\n",
    "    ):\n",
    "        file_name = output_file.get(\"name\")\n",
    "        file_contents = base64.b64decode(output_file.get(\"contents\"))\n",
    "        if save_files_locally:\n",
    "          open(file_name,\"wb\").write(file_contents)\n",
    "\n",
    "        if file_name.split(\".\")[-1] in IMAGE_FILE_EXTENSIONS:\n",
    "            # Render Image\n",
    "            file_html_content = ('<img src=\"data:image/png;base64, '\n",
    "                                f'{output_file.get(\"contents\")}\" />')\n",
    "        elif file_name.endswith(\".json\"):\n",
    "            # Pretty print JSON\n",
    "            json_pp = pprint.pformat(\n",
    "                        json.loads(file_contents.decode()),\n",
    "                        compact=False,\n",
    "                        width=160)\n",
    "            file_html_content =  (f'<span>{json_pp}</span>')\n",
    "        elif file_name.endswith(\".csv\"):\n",
    "            # CSV\n",
    "            csv_md = pandas.read_csv(\n",
    "                  StringIO(file_contents.decode())).to_markdown(index=False)\n",
    "            file_html_content = f'<span>{csv_md}</span>'\n",
    "        elif file_name.endswith(\".pkl\"):\n",
    "            # PKL\n",
    "            file_html_content = f'<span>Preview N/A</span>'\n",
    "        else:\n",
    "            file_html_content = f\"<span>{file_contents.decode()}</span>\"\n",
    "\n",
    "        file_list.append({'name': file_name, \"html_content\": file_html_content})\n",
    "\n",
    "    buffer_html = [ details_tml.format(**_file) for _file in file_list ]\n",
    "    return \"\".join(buffer_html)\n",
    "\n",
    "# Processing code interpreter response to html visualization.\n",
    "def process_response(response: dict, save_files_locally = True) -> None:\n",
    "\n",
    "  result_template = \"\"\"\n",
    "  <details open>\n",
    "    <summary class='main_summary'>{summary}:</summary>\n",
    "    <div><pre>{content}</pre></div>\n",
    "  </details>\n",
    "  \"\"\"\n",
    "\n",
    "  result = \"\"\n",
    "  code = response.get('generated_code')\n",
    "  if 'execution_result' in response and response['execution_result']!=\"\":\n",
    "    result = result_template.format(\n",
    "        summary=\"Executed Code Output\",\n",
    "        content=response.get('execution_result'))\n",
    "  else:\n",
    "    result = result_template.format(\n",
    "      summary=\"Executed Code Output\",\n",
    "      content=\"Code does not produce printable output.\")\n",
    "\n",
    "  if response.get('execution_error', None):\n",
    "    result += result_template.format(\n",
    "        summary=\"Generated Code Raised a (Possibly Non-Fatal) Exception\",\n",
    "        content=response.get('execution_error', None))\n",
    "\n",
    "  result += result_template.format(\n",
    "    summary=\"Files Created <u>(Click on filename to view content)</u>\",\n",
    "    content=parse_files_to_html(\n",
    "        response.get('output_files', []),\n",
    "        save_files_locally = True))\n",
    "\n",
    "  display(\n",
    "      IPython.display.HTML(\n",
    "        ( f\"{css_styles}\"\n",
    "f\"\"\"\n",
    "<div id='main'>\n",
    "    <div id=\"right\">\n",
    "      <h3>Generated Code by Code Interpreter</h3>\n",
    "      <pre><code>{code}</code></pre>\n",
    "    </div>\n",
    "    <div id=\"left\">\n",
    "      <h3>Code Execution Results</h3>\n",
    "      {result}\n",
    "    </div>\n",
    "</div>\n",
    "\"\"\"\n",
    "        )\n",
    "      )\n",
    "  )"
   ]
  },
  {
   "cell_type": "markdown",
   "metadata": {
    "id": "9UYWV1OYEYz2"
   },
   "source": [
    "## `run_code_interpreter`\n",
    "`run_code_interpreter` eases calling Code Interpreter by encoding files to base 64 (a Code Interpreter requirement) and submitting the files alongside the instructions. It also automates retries (5 by default) if the generated code doesn't execute or if Code Interpreter fails due to exceeding Gemini (time-based) quotas. Additionally, a global `CODE_INTERPRETER_WRITTEN_FILES` variable is populated by `run_code_interpreter` to aid with cleaning up files created by Code Interpreter.\n",
    "\n",
    "**To use this functionality**  call `run_code_interpreter(instructions, filenames, retry_num, retry_wait_time)`\n",
    "where `instructions` is the prompt for Code Interpreter, `filenames` is a list of local files in the working directory to submit to Code Interpreter, optionally `retry_num` if you want to change the default number of retries from 5, and optionally `retry_wait_time` if you want to change the default 15 second wait between retries."
   ]
  },
  {
   "cell_type": "code",
   "execution_count": 14,
   "metadata": {
    "id": "L2xJ63r2EZGU",
    "tags": []
   },
   "outputs": [],
   "source": [
    "from time import sleep\n",
    "\n",
    "global CODE_INTERPRETER_WRITTEN_FILES\n",
    "CODE_INTERPRETER_WRITTEN_FILES = []\n",
    "\n",
    "def run_code_interpreter(instructions: str,\n",
    "                         filenames: list[dict] = [],\n",
    "                         retry_num: int = 5,\n",
    "                         retry_wait_time: int = 15) -> dict['str', 'str']:\n",
    "\n",
    "  global CODE_INTERPRETER_WRITTEN_FILES\n",
    "\n",
    "  file_arr = [\n",
    "      {\n",
    "          \"name\": filename,\n",
    "          \"contents\":  base64.b64encode(open(filename, \"rb\").read()).decode()\n",
    "      }\n",
    "      for filename in filenames\n",
    "  ]\n",
    "\n",
    "  attempts = 0\n",
    "  res = {}\n",
    "\n",
    "  while attempts <= retry_num:\n",
    "    attempts += 1\n",
    "\n",
    "    res = extension_code_interpreter.execute(\n",
    "        operation_id = \"generate_and_execute\",\n",
    "        operation_params = {\n",
    "            \"query\": instructions,\n",
    "            \"files\": file_arr\n",
    "        },\n",
    "    )\n",
    "\n",
    "    CODE_INTERPRETER_WRITTEN_FILES.extend(\n",
    "        [item['name'] for item in res['output_files']])\n",
    "\n",
    "    if not res.get('execution_error', None):\n",
    "      return res\n",
    "    elif attempts <= retry_num:\n",
    "      print(f\"The generated code produced an error {res.get('execution_error')}\"\n",
    "            f\" -Automatic retry attempt # {attempts}/{retry_num}\")"
   ]
  },
  {
   "cell_type": "markdown",
   "metadata": {
    "id": "s-T0SwZbNxmL"
   },
   "source": [
    "## `run_locally`\n",
    "`run_locally` executes code generated by Code Interpreter.\n",
    "\n",
    "**To use this functionality**  call `run_locally(response)` with the `response` object returned by Code Interpreter.\n",
    "\n",
    "Note: to avoid unexpected issues you should always inspect generated code before you run it locally.\n"
   ]
  },
  {
   "cell_type": "code",
   "execution_count": 15,
   "metadata": {
    "id": "m6pn9muMNx6L",
    "tags": []
   },
   "outputs": [],
   "source": [
    "def run_locally(response):\n",
    "  my_code = \"\\n\".join(response['generated_code'].split('\\n')[1:-1])\n",
    "  exec(my_code)"
   ]
  },
  {
   "cell_type": "markdown",
   "metadata": {
    "id": "Wq71jPJ7dMOd"
   },
   "source": [
    "## Using the Helper Functions\n",
    "\n",
    "To demonstrate the helper functions you will write a CSV of data, send the CSV with a prompt to Code Interpreter, examine the response, and run the code locally."
   ]
  },
  {
   "cell_type": "code",
   "execution_count": 16,
   "metadata": {
    "id": "4FQ1s3YxfL4f",
    "tags": []
   },
   "outputs": [],
   "source": [
    "import csv\n",
    "\n",
    "tree_heights_prices = {\n",
    "  \"Pine\": {\"height\": 100, \"price\": 100},\n",
    "  \"Oak\": {\"height\": 65, \"price\": 135},\n",
    "  \"Birch\": {\"height\": 45, \"price\": 80},\n",
    "  \"Redwood\": {\"height\": 200, \"price\": 200},\n",
    "  \"Fir\": {\"height\": 180, \"price\": 162},\n",
    "}\n",
    "\n",
    "with open('tree_data.csv', 'w', newline='') as csvfile:\n",
    "    fieldnames = ['Tree', 'Height', 'Price']\n",
    "    writer = csv.DictWriter(csvfile, fieldnames=fieldnames)\n",
    "\n",
    "    writer.writeheader()\n",
    "    for tree, data in tree_heights_prices.items():\n",
    "        writer.writerow({'Tree': tree, 'Height': data['height'], 'Price': data['price']})"
   ]
  },
  {
   "cell_type": "code",
   "execution_count": 17,
   "metadata": {
    "id": "ZEIADEAXjMuY",
    "tags": []
   },
   "outputs": [],
   "source": [
    "response = run_code_interpreter(\"Make a bar chart of the heights of the trees.\",\n",
    "                                ['tree_data.csv'])"
   ]
  },
  {
   "cell_type": "code",
   "execution_count": 18,
   "metadata": {
    "colab": {
     "base_uri": "https://localhost:8080/",
     "height": 376
    },
    "id": "MaLwhE6kjrQL",
    "outputId": "6dcefbfa-1198-451d-b1ba-fb9cbbf06d21",
    "tags": []
   },
   "outputs": [
    {
     "data": {
      "text/html": [
       "\n",
       "<style>\n",
       ".main_summary {\n",
       "  font-weight: bold;\n",
       "  font-size: 14px; color: #4285F4;\n",
       "  background-color:rgba(221, 221, 221, 0.5); padding:8px;}\n",
       ".main_summary:hover {background-color: rgba(221, 221, 221, 1);}\n",
       "details {\n",
       "  background-color:#fff;\n",
       "  border: 1px solid #E8EAED;\n",
       "  padding:0px;\n",
       "  margin-bottom:2px; }\n",
       "details img {width:50%}\n",
       "details > div {padding:10px; }\n",
       "div#left > * > div {\n",
       "    overflow:auto;\n",
       "    max-height:400px; }\n",
       "\n",
       "div#right > pre {\n",
       "    overflow:auto;\n",
       "    max-height:600px;\n",
       "    background-color: ghostwhite;\n",
       "    padding: 10px; }\n",
       "details details > div { overflow: scroll; max-height:400px}\n",
       "details details {\n",
       "  background-color:rgba(246, 231, 217, 0.2);\n",
       "  border: 1px solid #FBBC04;}\n",
       "details details > summary {\n",
       "  padding: 8px;\n",
       "  background-color:rgba(255, 228, 196, 0.6); }\n",
       "details details > summary:hover { background-color:rgba(255, 228, 196, 0.9); }\n",
       "div#left {width: 64%; padding:0 1%;  }\n",
       "div#right {\n",
       "  border-left: 1px solid silver;\n",
       "  width: 30%;\n",
       "  float: right;\n",
       "  padding:0 1%; }\n",
       "body {color: #000; background-color: white; padding:10px 10px 40px 10px; }\n",
       "#main { border: 1px solid #FBBC04; padding:10px 0; display: flow-root; }\n",
       "h3 {color: #000; }\n",
       "code  { font-family: monospace; color: #900; padding: 0 2px; font-size: 105%; }\n",
       "</style>\n",
       "        \n",
       "<div id='main'>\n",
       "    <div id=\"right\">\n",
       "      <h3>Generated Code by Code Interpreter</h3>\n",
       "      <pre><code>```python\n",
       "import pandas as pd\n",
       "import matplotlib.pyplot as plt\n",
       "\n",
       "# Load the data from the CSV file\n",
       "data = pd.read_csv(\"tree_data.csv\")\n",
       "\n",
       "# Create a bar chart of the heights of the trees\n",
       "plt.bar(data[\"Tree\"], data[\"Height\"])\n",
       "\n",
       "# Set the chart title and labels\n",
       "plt.title(\"Heights of Trees\")\n",
       "plt.xlabel(\"Tree\")\n",
       "plt.ylabel(\"Height (m)\")\n",
       "\n",
       "# Display the chart\n",
       "plt.show()\n",
       "```</code></pre>\n",
       "    </div>\n",
       "    <div id=\"left\">\n",
       "      <h3>Code Execution Results</h3>\n",
       "      \n",
       "  <details open>\n",
       "    <summary class='main_summary'>Executed Code Output:</summary>\n",
       "    <div><pre>Code does not produce printable output.</pre></div>\n",
       "  </details>\n",
       "  \n",
       "  <details open>\n",
       "    <summary class='main_summary'>Files Created <u>(Click on filename to view content)</u>:</summary>\n",
       "    <div><pre><details><summary>code_execution_image_1_LDAsZq_RI8-S2ukPo6my0Ak.png</summary><div><img src=\"data:image/png;base64, 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\" /></div></details></pre></div>\n",
       "  </details>\n",
       "  \n",
       "    </div>\n",
       "</div>\n"
      ],
      "text/plain": [
       "<IPython.core.display.HTML object>"
      ]
     },
     "metadata": {},
     "output_type": "display_data"
    }
   ],
   "source": [
    "process_response(response)"
   ]
  },
  {
   "cell_type": "markdown",
   "metadata": {
    "id": "ZYPGX2uz0ijb"
   },
   "source": [
    "One of the features of Code Interpreter is that it executes the code remotely, but Code Interpreter returns the generated code should you wish to run the code in you local environment."
   ]
  },
  {
   "cell_type": "code",
   "execution_count": 19,
   "metadata": {
    "colab": {
     "base_uri": "https://localhost:8080/",
     "height": 499
    },
    "id": "pxC6iec0jzSl",
    "outputId": "f4c76054-bbe4-428e-e897-e45c1f1c5014",
    "tags": []
   },
   "outputs": [
    {
     "data": {
      "image/png": "[encoded data removed]",
      "text/plain": [
       "<Figure size 640x480 with 1 Axes>"
      ]
     },
     "metadata": {},
     "output_type": "display_data"
    }
   ],
   "source": [
    "run_locally(response)"
   ]
  },
  {
   "cell_type": "markdown",
   "metadata": {
    "id": "AmHlKV61v72l"
   },
   "source": [
    "# Step 1: Retrieve the Data\n",
    "\n",
    "You'll be using the New York City 311 dataset, which contains citizen [complaints and reports](https://portal.311.nyc.gov/report-problems/) of non-emergency issues (e.g., illegal parking, noise, parties, leaking fire hydrants, damaged buildings, broken streetlights, etc.).\n",
    "\n",
    "This data is [hosted publicly on BigQuery](https://console.cloud.google.com/marketplace/product/city-of-new-york/nyc-311). Using the BigQuery API, download a sample of the dataset:"
   ]
  },
  {
   "cell_type": "code",
   "execution_count": 20,
   "metadata": {
    "id": "IG-hJqUYqxQN",
    "tags": []
   },
   "outputs": [],
   "source": [
    "from google.cloud import bigquery\n",
    "\n",
    "client = bigquery.Client(project=PROJECT_ID)\n",
    "\n",
    "QUERY = (\"\"\"\n",
    "  SELECT\n",
    "    unique_key,\n",
    "    created_date,\n",
    "    closed_date,\n",
    "    agency,\n",
    "    agency_name,\n",
    "    complaint_type,\n",
    "    descriptor,\n",
    "    location_type,\n",
    "    incident_zip,\n",
    "    incident_address,\n",
    "    street_name,\n",
    "    cross_street_1,\n",
    "    cross_street_2,\n",
    "    intersection_street_1,\n",
    "    intersection_street_2,\n",
    "    address_type,\n",
    "    status,\n",
    "    resolution_description,\n",
    "    community_board,\n",
    "    borough,\n",
    "    park_facility_name,\n",
    "    open_data_channel_type,\n",
    "    taxi_pickup_location,\n",
    "    bridge_highway_name,\n",
    "    bridge_highway_direction,\n",
    "    bridge_highway_segment\n",
    "  FROM `bigquery-public-data.new_york_311.311_service_requests`\n",
    "  WHERE rand() < .0015\n",
    "  \"\"\")\n",
    "query_job = client.query(QUERY)\n",
    "df_311 = query_job.to_dataframe()"
   ]
  },
  {
   "cell_type": "markdown",
   "metadata": {
    "id": "UKUCS_Os2dvj"
   },
   "source": [
    "Check how many rows you sampled and take a peek at the data."
   ]
  },
  {
   "cell_type": "code",
   "execution_count": 21,
   "metadata": {
    "colab": {
     "base_uri": "https://localhost:8080/"
    },
    "id": "jU3DQm8gfDlS",
    "outputId": "253b60b8-0163-43f7-9cf1-13983bb2beea",
    "tags": []
   },
   "outputs": [
    {
     "data": {
      "text/plain": [
       "40706"
      ]
     },
     "execution_count": 21,
     "metadata": {},
     "output_type": "execute_result"
    }
   ],
   "source": [
    "len(df_311)"
   ]
  },
  {
   "cell_type": "code",
   "execution_count": 22,
   "metadata": {
    "colab": {
     "base_uri": "https://localhost:8080/",
     "height": 451
    },
    "id": "oyu0_y5G9K5N",
    "outputId": "66acc620-7676-45ed-a7a1-08bf70ae0a3d",
    "tags": []
   },
   "outputs": [
    {
     "data": {
      "text/html": [
       "<div>\n",
       "<style scoped>\n",
       "    .dataframe tbody tr th:only-of-type {\n",
       "        vertical-align: middle;\n",
       "    }\n",
       "\n",
       "    .dataframe tbody tr th {\n",
       "        vertical-align: top;\n",
       "    }\n",
       "\n",
       "    .dataframe thead th {\n",
       "        text-align: right;\n",
       "    }\n",
       "</style>\n",
       "<table border=\"1\" class=\"dataframe\">\n",
       "  <thead>\n",
       "    <tr style=\"text-align: right;\">\n",
       "      <th></th>\n",
       "      <th>unique_key</th>\n",
       "      <th>created_date</th>\n",
       "      <th>closed_date</th>\n",
       "      <th>agency</th>\n",
       "      <th>agency_name</th>\n",
       "      <th>complaint_type</th>\n",
       "      <th>descriptor</th>\n",
       "      <th>location_type</th>\n",
       "      <th>incident_zip</th>\n",
       "      <th>incident_address</th>\n",
       "      <th>street_name</th>\n",
       "      <th>cross_street_1</th>\n",
       "      <th>cross_street_2</th>\n",
       "      <th>intersection_street_1</th>\n",
       "      <th>intersection_street_2</th>\n",
       "      <th>address_type</th>\n",
       "      <th>status</th>\n",
       "      <th>resolution_description</th>\n",
       "      <th>community_board</th>\n",
       "      <th>borough</th>\n",
       "      <th>park_facility_name</th>\n",
       "      <th>open_data_channel_type</th>\n",
       "      <th>taxi_pickup_location</th>\n",
       "      <th>bridge_highway_name</th>\n",
       "      <th>bridge_highway_direction</th>\n",
       "      <th>bridge_highway_segment</th>\n",
       "    </tr>\n",
       "  </thead>\n",
       "  <tbody>\n",
       "    <tr>\n",
       "      <th>0</th>\n",
       "      <td>19040342</td>\n",
       "      <td>2010-11-03 00:00:00+00:00</td>\n",
       "      <td>2010-11-12 00:00:00+00:00</td>\n",
       "      <td>HPD</td>\n",
       "      <td>Department of Housing Preservation and Develop...</td>\n",
       "      <td>HEATING</td>\n",
       "      <td>HEAT</td>\n",
       "      <td>RESIDENTIAL BUILDING</td>\n",
       "      <td>11414</td>\n",
       "      <td>133-20 EMERALD STREET</td>\n",
       "      <td>EMERALD STREET</td>\n",
       "      <td>133 AVENUE</td>\n",
       "      <td>DUMONT AVENUE</td>\n",
       "      <td>None</td>\n",
       "      <td>None</td>\n",
       "      <td>ADDRESS</td>\n",
       "      <td>Closed</td>\n",
       "      <td>The Department of Housing Preservation and Dev...</td>\n",
       "      <td>0 Unspecified</td>\n",
       "      <td>Unspecified</td>\n",
       "      <td>Unspecified</td>\n",
       "      <td>UNKNOWN</td>\n",
       "      <td>None</td>\n",
       "      <td>None</td>\n",
       "      <td>None</td>\n",
       "      <td>None</td>\n",
       "    </tr>\n",
       "    <tr>\n",
       "      <th>1</th>\n",
       "      <td>18439937</td>\n",
       "      <td>2010-08-08 00:00:00+00:00</td>\n",
       "      <td>2010-08-12 00:00:00+00:00</td>\n",
       "      <td>HPD</td>\n",
       "      <td>Department of Housing Preservation and Develop...</td>\n",
       "      <td>GENERAL CONSTRUCTION</td>\n",
       "      <td>MOLD</td>\n",
       "      <td>RESIDENTIAL BUILDING</td>\n",
       "      <td>11422</td>\n",
       "      <td>138-36 247 STREET</td>\n",
       "      <td>247 STREET</td>\n",
       "      <td>SOUTH CONDUIT AVENUE</td>\n",
       "      <td>139 AVENUE</td>\n",
       "      <td>None</td>\n",
       "      <td>None</td>\n",
       "      <td>ADDRESS</td>\n",
       "      <td>Closed</td>\n",
       "      <td>The Department of Housing Preservation and Dev...</td>\n",
       "      <td>0 Unspecified</td>\n",
       "      <td>Unspecified</td>\n",
       "      <td>Unspecified</td>\n",
       "      <td>UNKNOWN</td>\n",
       "      <td>None</td>\n",
       "      <td>None</td>\n",
       "      <td>None</td>\n",
       "      <td>None</td>\n",
       "    </tr>\n",
       "    <tr>\n",
       "      <th>2</th>\n",
       "      <td>18651125</td>\n",
       "      <td>2010-09-09 00:00:00+00:00</td>\n",
       "      <td>2010-10-04 00:00:00+00:00</td>\n",
       "      <td>HPD</td>\n",
       "      <td>Department of Housing Preservation and Develop...</td>\n",
       "      <td>GENERAL CONSTRUCTION</td>\n",
       "      <td>MOLD</td>\n",
       "      <td>RESIDENTIAL BUILDING</td>\n",
       "      <td>11415</td>\n",
       "      <td>83-09 TALBOT STREET</td>\n",
       "      <td>TALBOT STREET</td>\n",
       "      <td>LEFFERTS BOULEVARD</td>\n",
       "      <td>83 DRIVE</td>\n",
       "      <td>None</td>\n",
       "      <td>None</td>\n",
       "      <td>ADDRESS</td>\n",
       "      <td>Closed</td>\n",
       "      <td>The Department of Housing Preservation and Dev...</td>\n",
       "      <td>0 Unspecified</td>\n",
       "      <td>Unspecified</td>\n",
       "      <td>Unspecified</td>\n",
       "      <td>UNKNOWN</td>\n",
       "      <td>None</td>\n",
       "      <td>None</td>\n",
       "      <td>None</td>\n",
       "      <td>None</td>\n",
       "    </tr>\n",
       "    <tr>\n",
       "      <th>3</th>\n",
       "      <td>18284854</td>\n",
       "      <td>2010-07-17 00:00:00+00:00</td>\n",
       "      <td>2010-08-09 00:00:00+00:00</td>\n",
       "      <td>HPD</td>\n",
       "      <td>Department of Housing Preservation and Develop...</td>\n",
       "      <td>PLUMBING</td>\n",
       "      <td>TOILET</td>\n",
       "      <td>RESIDENTIAL BUILDING</td>\n",
       "      <td>11420</td>\n",
       "      <td>115-30 125 STREET</td>\n",
       "      <td>125 STREET</td>\n",
       "      <td>115 AVENUE</td>\n",
       "      <td>116 AVENUE</td>\n",
       "      <td>None</td>\n",
       "      <td>None</td>\n",
       "      <td>ADDRESS</td>\n",
       "      <td>Closed</td>\n",
       "      <td>The Department of Housing Preservation and Dev...</td>\n",
       "      <td>0 Unspecified</td>\n",
       "      <td>Unspecified</td>\n",
       "      <td>Unspecified</td>\n",
       "      <td>UNKNOWN</td>\n",
       "      <td>None</td>\n",
       "      <td>None</td>\n",
       "      <td>None</td>\n",
       "      <td>None</td>\n",
       "    </tr>\n",
       "    <tr>\n",
       "      <th>4</th>\n",
       "      <td>18624735</td>\n",
       "      <td>2010-09-04 00:00:00+00:00</td>\n",
       "      <td>2010-09-11 00:00:00+00:00</td>\n",
       "      <td>HPD</td>\n",
       "      <td>Department of Housing Preservation and Develop...</td>\n",
       "      <td>NONCONST</td>\n",
       "      <td>VERMIN</td>\n",
       "      <td>RESIDENTIAL BUILDING</td>\n",
       "      <td>11369</td>\n",
       "      <td>32-40 93 STREET</td>\n",
       "      <td>93 STREET</td>\n",
       "      <td>32 AVENUE</td>\n",
       "      <td>NORTHERN BOULEVARD</td>\n",
       "      <td>None</td>\n",
       "      <td>None</td>\n",
       "      <td>ADDRESS</td>\n",
       "      <td>Closed</td>\n",
       "      <td>The Department of Housing Preservation and Dev...</td>\n",
       "      <td>0 Unspecified</td>\n",
       "      <td>Unspecified</td>\n",
       "      <td>Unspecified</td>\n",
       "      <td>UNKNOWN</td>\n",
       "      <td>None</td>\n",
       "      <td>None</td>\n",
       "      <td>None</td>\n",
       "      <td>None</td>\n",
       "    </tr>\n",
       "  </tbody>\n",
       "</table>\n",
       "</div>"
      ],
      "text/plain": [
       "   unique_key              created_date               closed_date agency  \\\n",
       "0    19040342 2010-11-03 00:00:00+00:00 2010-11-12 00:00:00+00:00    HPD   \n",
       "1    18439937 2010-08-08 00:00:00+00:00 2010-08-12 00:00:00+00:00    HPD   \n",
       "2    18651125 2010-09-09 00:00:00+00:00 2010-10-04 00:00:00+00:00    HPD   \n",
       "3    18284854 2010-07-17 00:00:00+00:00 2010-08-09 00:00:00+00:00    HPD   \n",
       "4    18624735 2010-09-04 00:00:00+00:00 2010-09-11 00:00:00+00:00    HPD   \n",
       "\n",
       "                                         agency_name        complaint_type  \\\n",
       "0  Department of Housing Preservation and Develop...               HEATING   \n",
       "1  Department of Housing Preservation and Develop...  GENERAL CONSTRUCTION   \n",
       "2  Department of Housing Preservation and Develop...  GENERAL CONSTRUCTION   \n",
       "3  Department of Housing Preservation and Develop...              PLUMBING   \n",
       "4  Department of Housing Preservation and Develop...              NONCONST   \n",
       "\n",
       "  descriptor         location_type incident_zip       incident_address  \\\n",
       "0       HEAT  RESIDENTIAL BUILDING        11414  133-20 EMERALD STREET   \n",
       "1       MOLD  RESIDENTIAL BUILDING        11422      138-36 247 STREET   \n",
       "2       MOLD  RESIDENTIAL BUILDING        11415    83-09 TALBOT STREET   \n",
       "3     TOILET  RESIDENTIAL BUILDING        11420      115-30 125 STREET   \n",
       "4     VERMIN  RESIDENTIAL BUILDING        11369        32-40 93 STREET   \n",
       "\n",
       "      street_name        cross_street_1      cross_street_2  \\\n",
       "0  EMERALD STREET            133 AVENUE       DUMONT AVENUE   \n",
       "1      247 STREET  SOUTH CONDUIT AVENUE          139 AVENUE   \n",
       "2   TALBOT STREET    LEFFERTS BOULEVARD            83 DRIVE   \n",
       "3      125 STREET            115 AVENUE          116 AVENUE   \n",
       "4       93 STREET             32 AVENUE  NORTHERN BOULEVARD   \n",
       "\n",
       "  intersection_street_1 intersection_street_2 address_type  status  \\\n",
       "0                  None                  None      ADDRESS  Closed   \n",
       "1                  None                  None      ADDRESS  Closed   \n",
       "2                  None                  None      ADDRESS  Closed   \n",
       "3                  None                  None      ADDRESS  Closed   \n",
       "4                  None                  None      ADDRESS  Closed   \n",
       "\n",
       "                              resolution_description community_board  \\\n",
       "0  The Department of Housing Preservation and Dev...   0 Unspecified   \n",
       "1  The Department of Housing Preservation and Dev...   0 Unspecified   \n",
       "2  The Department of Housing Preservation and Dev...   0 Unspecified   \n",
       "3  The Department of Housing Preservation and Dev...   0 Unspecified   \n",
       "4  The Department of Housing Preservation and Dev...   0 Unspecified   \n",
       "\n",
       "       borough park_facility_name open_data_channel_type taxi_pickup_location  \\\n",
       "0  Unspecified        Unspecified                UNKNOWN                 None   \n",
       "1  Unspecified        Unspecified                UNKNOWN                 None   \n",
       "2  Unspecified        Unspecified                UNKNOWN                 None   \n",
       "3  Unspecified        Unspecified                UNKNOWN                 None   \n",
       "4  Unspecified        Unspecified                UNKNOWN                 None   \n",
       "\n",
       "  bridge_highway_name bridge_highway_direction bridge_highway_segment  \n",
       "0                None                     None                   None  \n",
       "1                None                     None                   None  \n",
       "2                None                     None                   None  \n",
       "3                None                     None                   None  \n",
       "4                None                     None                   None  "
      ]
     },
     "execution_count": 22,
     "metadata": {},
     "output_type": "execute_result"
    }
   ],
   "source": [
    "df_311.head()"
   ]
  },
  {
   "cell_type": "markdown",
   "metadata": {
    "id": "uyoXUBet2hT0"
   },
   "source": [
    "As mentioned earlier in this notebook under Useful Tips, Code Interpreter is stateless. This means that you have to provide your data to Code Interpreter with each call.\n",
    "\n",
    "To facilitate this, we'll pickle and compress our DataFrame, making it smaller and more portable."
   ]
  },
  {
   "cell_type": "code",
   "execution_count": 23,
   "metadata": {
    "id": "jbzKXz-gqWU6",
    "tags": []
   },
   "outputs": [],
   "source": [
    "df_311.to_pickle('311_dataframe.pkl', compression=\"zip\")"
   ]
  },
  {
   "cell_type": "markdown",
   "metadata": {
    "id": "RNs-_cB_5llH"
   },
   "source": [
    "Note that when using Code Interpreter with data files prepared in a specific way, you have to tell Code Interpreter how to access the data. You'll see this in the rest of this notebook, where we instruct Code Interpreter on how to decompress the pickled DataFrame."
   ]
  },
  {
   "cell_type": "markdown",
   "metadata": {
    "id": "IAG5AbcD3RZS"
   },
   "source": [
    "# Step 2: Clean the Data\n",
    "\n",
    "The 311 data is relatively clean, but there are still some issues you'll want to address."
   ]
  },
  {
   "cell_type": "markdown",
   "metadata": {
    "id": "-uCRG5q_5GiK"
   },
   "source": [
    "## Assign Column Types\n",
    "\n",
    "Take a look at the column types pandas assumed when generating a DataFrame from the imported data:"
   ]
  },
  {
   "cell_type": "code",
   "execution_count": 24,
   "metadata": {
    "colab": {
     "base_uri": "https://localhost:8080/"
    },
    "id": "hr3Jk7oXspTq",
    "outputId": "078a2a3a-2d9f-40f8-93e6-4ac0f51f3ac6",
    "tags": []
   },
   "outputs": [
    {
     "data": {
      "text/plain": [
       "unique_key                                Int64\n",
       "created_date                datetime64[us, UTC]\n",
       "closed_date                 datetime64[us, UTC]\n",
       "agency                                   object\n",
       "agency_name                              object\n",
       "complaint_type                           object\n",
       "descriptor                               object\n",
       "location_type                            object\n",
       "incident_zip                             object\n",
       "incident_address                         object\n",
       "street_name                              object\n",
       "cross_street_1                           object\n",
       "cross_street_2                           object\n",
       "intersection_street_1                    object\n",
       "intersection_street_2                    object\n",
       "address_type                             object\n",
       "status                                   object\n",
       "resolution_description                   object\n",
       "community_board                          object\n",
       "borough                                  object\n",
       "park_facility_name                       object\n",
       "open_data_channel_type                   object\n",
       "taxi_pickup_location                     object\n",
       "bridge_highway_name                      object\n",
       "bridge_highway_direction                 object\n",
       "bridge_highway_segment                   object\n",
       "dtype: object"
      ]
     },
     "execution_count": 24,
     "metadata": {},
     "output_type": "execute_result"
    }
   ],
   "source": [
    "df_311.dtypes"
   ]
  },
  {
   "cell_type": "markdown",
   "metadata": {
    "id": "zy2GG5wN3jgp"
   },
   "source": [
    "Most of these columns are text, but many are categorical. And while having them as a pandas objects (which are pointers to strings) won't break anything, it's suboptimal. To save space and ease working with the data, we'll use Code Interpreter to assign more appropriate types based on the BigQuery schema.\n",
    "\n",
    "First, retrieve the BigQuery schema and save it locally as `schema.json`:"
   ]
  },
  {
   "cell_type": "code",
   "execution_count": 25,
   "metadata": {
    "id": "q--7DA9InfO7",
    "tags": []
   },
   "outputs": [],
   "source": [
    "table = client.get_table('bigquery-public-data.new_york_311.311_service_requests')\n",
    "schema_file = open(\"schema.json\", \"w\")\n",
    "client.schema_to_json(table.schema, schema_file)\n",
    "schema_file.close()"
   ]
  },
  {
   "cell_type": "markdown",
   "metadata": {
    "id": "TFDJ2-rC5WzJ"
   },
   "source": [
    "The BigQuery schema file is a JSON with field names and types:"
   ]
  },
  {
   "cell_type": "code",
   "execution_count": 26,
   "metadata": {
    "colab": {
     "base_uri": "https://localhost:8080/"
    },
    "id": "pO7AK0v55K1r",
    "outputId": "afd5fb4a-544e-49f7-b1ee-0f091e31d67c",
    "tags": []
   },
   "outputs": [
    {
     "name": "stdout",
     "output_type": "stream",
     "text": [
      "[\n",
      "  {\n",
      "    \"description\": \"\",\n",
      "    \"mode\": \"NULLABLE\",\n",
      "    \"name\": \"unique_key\",\n",
      "    \"type\": \"INTEGER\"\n",
      "  },\n",
      "  {\n",
      "    \"description\": \"\",\n",
      "    \"mode\": \"NULLABLE\",\n",
      "    \"name\": \"created_date\",\n",
      "    \"type\": \"TIMESTAMP\"\n",
      "  },\n",
      "  {\n",
      "    \"description\": \"\",\n",
      "    \"mode\": \"NULLABLE\",\n",
      "    \"name\": \"closed_date\",\n",
      "    \"type\": \"TIMESTAMP\"\n",
      "  },\n",
      "  {\n",
      "    \"description\": \"\",\n",
      "    \"mode\": \"NULLABLE\",\n",
      "    \"name\": \"agency\",\n",
      "    \"type\": \"STRING\"\n",
      "  },\n",
      "  {\n",
      "    \"description\": \"\",\n",
      "    \"mode\": \"NULLABLE\",\n",
      "    \"name\": \"agency_name\",\n",
      "    \"type\": \"STRING\"\n"
     ]
    }
   ],
   "source": [
    "!head -30 schema.json"
   ]
  },
  {
   "cell_type": "markdown",
   "metadata": {
    "id": "qEJwMZnU5bcj"
   },
   "source": [
    "Send the `schema.json` file to Code Interpreter along with the pickled DataFrame, and provide Code Interpreter instructions on:\n",
    "1. How to uncompress the DataFrame.\n",
    "2. How to use the included schema JSON.\n",
    "3. How you'd like to decide between categorical columns and regular strings.\n",
    "4. How you'd like BigQuery data types cast (in this case, we want to use StringDtype explictly, pandas defaults to `object` for columns cast to strings).\n",
    "\n",
    "You'll see in the example below that Code Interpreter is instructed to ignore UserWarnings. This is related to casting StringDType with more recent versions of pandas on data that isn't necessarily strings. The `run_code_interpreter` method will retry code that throws errors, but since the pandas warnings are non-fatal we don't want to retry code that only has warnings in this particular case.\n",
    "\n",
    "You may have to rerun this Code Interpreter call, it asks Code Interpreter to do many things so it can malfunction in many ways. While you'd have easier success breaking this Code Interpreter call into a few separate calls (say, setting types from the schema first, then setting strings to StringDType, then creating categories), it's just not as much fun!"
   ]
  },
  {
   "cell_type": "code",
   "execution_count": 28,
   "metadata": {
    "colab": {
     "base_uri": "https://localhost:8080/",
     "height": 751
    },
    "id": "cnFS6bJs7dLA",
    "outputId": "8a189205-7881-42db-df54-52da45698b24",
    "tags": []
   },
   "outputs": [
    {
     "data": {
      "text/html": [
       "\n",
       "<style>\n",
       ".main_summary {\n",
       "  font-weight: bold;\n",
       "  font-size: 14px; color: #4285F4;\n",
       "  background-color:rgba(221, 221, 221, 0.5); padding:8px;}\n",
       ".main_summary:hover {background-color: rgba(221, 221, 221, 1);}\n",
       "details {\n",
       "  background-color:#fff;\n",
       "  border: 1px solid #E8EAED;\n",
       "  padding:0px;\n",
       "  margin-bottom:2px; }\n",
       "details img {width:50%}\n",
       "details > div {padding:10px; }\n",
       "div#left > * > div {\n",
       "    overflow:auto;\n",
       "    max-height:400px; }\n",
       "\n",
       "div#right > pre {\n",
       "    overflow:auto;\n",
       "    max-height:600px;\n",
       "    background-color: ghostwhite;\n",
       "    padding: 10px; }\n",
       "details details > div { overflow: scroll; max-height:400px}\n",
       "details details {\n",
       "  background-color:rgba(246, 231, 217, 0.2);\n",
       "  border: 1px solid #FBBC04;}\n",
       "details details > summary {\n",
       "  padding: 8px;\n",
       "  background-color:rgba(255, 228, 196, 0.6); }\n",
       "details details > summary:hover { background-color:rgba(255, 228, 196, 0.9); }\n",
       "div#left {width: 64%; padding:0 1%;  }\n",
       "div#right {\n",
       "  border-left: 1px solid silver;\n",
       "  width: 30%;\n",
       "  float: right;\n",
       "  padding:0 1%; }\n",
       "body {color: #000; background-color: white; padding:10px 10px 40px 10px; }\n",
       "#main { border: 1px solid #FBBC04; padding:10px 0; display: flow-root; }\n",
       "h3 {color: #000; }\n",
       "code  { font-family: monospace; color: #900; padding: 0 2px; font-size: 105%; }\n",
       "</style>\n",
       "        \n",
       "<div id='main'>\n",
       "    <div id=\"right\">\n",
       "      <h3>Generated Code by Code Interpreter</h3>\n",
       "      <pre><code>```python\n",
       "import warnings\n",
       "import pandas as pd\n",
       "import json\n",
       "\n",
       "# Suppress UserWarnings\n",
       "warnings.filterwarnings(\"ignore\", category=UserWarning)\n",
       "\n",
       "# Load the pickled DataFrame\n",
       "df = pd.read_pickle(\"311_dataframe.pkl\", compression=\"zip\")\n",
       "\n",
       "# Load the BigQuery schema JSON file\n",
       "with open(\"schema.json\", \"r\") as f:\n",
       "    schema = json.load(f)\n",
       "\n",
       "# Set the column types\n",
       "for column in schema:\n",
       "    column_name = column[\"name\"]\n",
       "    column_type = column[\"type\"]\n",
       "\n",
       "    if column_name in df.columns:\n",
       "        if column_type == \"STRING\":\n",
       "            if df[column_name].nunique() < 200:\n",
       "                df[column_name] = df[column_name].astype(\"category\")\n",
       "            else:\n",
       "                df[column_name] = df[column_name].astype(pd.StringDtype())\n",
       "        elif column_type == \"INTEGER\":\n",
       "            df[column_name] = df[column_name].astype(\"int64\")\n",
       "        elif column_type == \"TIMESTAMP\":\n",
       "            df[column_name] = pd.to_datetime(df[column_name])\n",
       "        else:\n",
       "            df[column_name] = df[column_name].astype(column_type)\n",
       "\n",
       "# Save the pickled DataFrame with zip compression\n",
       "df.to_pickle(\"311_dataframe_typed.pkl\", compression=\"zip\")\n",
       "```</code></pre>\n",
       "    </div>\n",
       "    <div id=\"left\">\n",
       "      <h3>Code Execution Results</h3>\n",
       "      \n",
       "  <details open>\n",
       "    <summary class='main_summary'>Executed Code Output:</summary>\n",
       "    <div><pre>Code does not produce printable output.</pre></div>\n",
       "  </details>\n",
       "  \n",
       "  <details open>\n",
       "    <summary class='main_summary'>Files Created <u>(Click on filename to view content)</u>:</summary>\n",
       "    <div><pre><details><summary>311_dataframe_typed.pkl</summary><div><span>Preview N/A</span></div></details></pre></div>\n",
       "  </details>\n",
       "  \n",
       "    </div>\n",
       "</div>\n"
      ],
      "text/plain": [
       "<IPython.core.display.HTML object>"
      ]
     },
     "metadata": {},
     "output_type": "display_data"
    }
   ],
   "source": [
    "QUERY = \"\"\"\n",
    "The attached pkl file has a DataFrame where some of the column types are wrong.\n",
    "First, load the pickled DataFrame. The pickled DataFrame was saved with the compression set to zip.\n",
    "Use the warnings library to supress all category=UserWarning.\n",
    "Use the attached BigQuery schema JSON file to set the columns to the correct pandas dtype.\n",
    "Don't import any special Google Cloud libraries to read the schema JSON.\n",
    "The JSON is a list of columns, where the 'name' field is the name of the column and the 'type' field is the BigQuery type.\n",
    "Not all columns in the schema are in the DataFrame, do not set the types of columns not in the DataFrame.\n",
    "Before setting a column's type make sure the column exists in the DataFrame.\n",
    "Set string columns explicitly to pandas pd.StringDType.\n",
    "Set string columns with fewer than 200 unique values as the category type.\n",
    "Return a pickle of the DataFrame in a file called \"311_dataframe_typed.pkl\".\n",
    "Save the pickled DataFrame with zip compression.\n",
    "\"\"\"\n",
    "response = run_code_interpreter(QUERY, ['311_dataframe.pkl', 'schema.json'])\n",
    "process_response(response)"
   ]
  },
  {
   "cell_type": "markdown",
   "metadata": {
    "id": "6aSVbAYMZ3HD"
   },
   "source": [
    "Now compare the new column types to the original types you saw above.\n",
    "\n",
    "To do this, load the `311_dataframe_typed.pkl` file Code Interpreter returned (saved automatically by the `run_code_interpreter` helper function) and inspect the types:"
   ]
  },
  {
   "cell_type": "code",
   "execution_count": 29,
   "metadata": {
    "colab": {
     "base_uri": "https://localhost:8080/"
    },
    "id": "1Yyv3mfCdbyB",
    "outputId": "8e9600d2-ffe6-4f32-dc9d-0785d79c2cfb",
    "tags": []
   },
   "outputs": [
    {
     "data": {
      "text/plain": [
       "unique_key                                int64\n",
       "created_date                datetime64[us, UTC]\n",
       "closed_date                 datetime64[us, UTC]\n",
       "agency                                 category\n",
       "agency_name                            category\n",
       "complaint_type                   string[python]\n",
       "descriptor                       string[python]\n",
       "location_type                          category\n",
       "incident_zip                     string[python]\n",
       "incident_address                 string[python]\n",
       "street_name                      string[python]\n",
       "cross_street_1                   string[python]\n",
       "cross_street_2                   string[python]\n",
       "intersection_street_1            string[python]\n",
       "intersection_street_2            string[python]\n",
       "address_type                           category\n",
       "status                                 category\n",
       "resolution_description           string[python]\n",
       "community_board                        category\n",
       "borough                                category\n",
       "park_facility_name               string[python]\n",
       "open_data_channel_type                 category\n",
       "taxi_pickup_location                   category\n",
       "bridge_highway_name                    category\n",
       "bridge_highway_direction               category\n",
       "bridge_highway_segment                 category\n",
       "dtype: object"
      ]
     },
     "execution_count": 29,
     "metadata": {},
     "output_type": "execute_result"
    }
   ],
   "source": [
    "df_311_typed = pd.read_pickle('311_dataframe_typed.pkl', compression='zip')\n",
    "df_311_typed.dtypes"
   ]
  },
  {
   "cell_type": "markdown",
   "metadata": {
    "id": "yCwAy18dacNq"
   },
   "source": [
    "You can see the types are now hopefully closer to the actual data. Do note that it's possible Code Interpreter misses some conversions--you'll want to rerun the code if you don't see a handful of category types and string types, and it's very important that the `created_date` and `closed_date` fields are datetime64 types."
   ]
  },
  {
   "cell_type": "markdown",
   "metadata": {
    "id": "64uqs3e3BjQN"
   },
   "source": [
    "## Clean Up `created_date`\n",
    "\n",
    "Take a look at a plot showing the distribution of hour of the day that 311 issues are filed:"
   ]
  },
  {
   "cell_type": "code",
   "execution_count": 31,
   "metadata": {
    "colab": {
     "base_uri": "https://localhost:8080/",
     "height": 518
    },
    "id": "gxmahV5QBkzm",
    "outputId": "6c04cf32-1853-4e0a-f694-596ba435ab68",
    "tags": []
   },
   "outputs": [
    {
     "data": {
      "text/html": [
       "\n",
       "<style>\n",
       ".main_summary {\n",
       "  font-weight: bold;\n",
       "  font-size: 14px; color: #4285F4;\n",
       "  background-color:rgba(221, 221, 221, 0.5); padding:8px;}\n",
       ".main_summary:hover {background-color: rgba(221, 221, 221, 1);}\n",
       "details {\n",
       "  background-color:#fff;\n",
       "  border: 1px solid #E8EAED;\n",
       "  padding:0px;\n",
       "  margin-bottom:2px; }\n",
       "details img {width:50%}\n",
       "details > div {padding:10px; }\n",
       "div#left > * > div {\n",
       "    overflow:auto;\n",
       "    max-height:400px; }\n",
       "\n",
       "div#right > pre {\n",
       "    overflow:auto;\n",
       "    max-height:600px;\n",
       "    background-color: ghostwhite;\n",
       "    padding: 10px; }\n",
       "details details > div { overflow: scroll; max-height:400px}\n",
       "details details {\n",
       "  background-color:rgba(246, 231, 217, 0.2);\n",
       "  border: 1px solid #FBBC04;}\n",
       "details details > summary {\n",
       "  padding: 8px;\n",
       "  background-color:rgba(255, 228, 196, 0.6); }\n",
       "details details > summary:hover { background-color:rgba(255, 228, 196, 0.9); }\n",
       "div#left {width: 64%; padding:0 1%;  }\n",
       "div#right {\n",
       "  border-left: 1px solid silver;\n",
       "  width: 30%;\n",
       "  float: right;\n",
       "  padding:0 1%; }\n",
       "body {color: #000; background-color: white; padding:10px 10px 40px 10px; }\n",
       "#main { border: 1px solid #FBBC04; padding:10px 0; display: flow-root; }\n",
       "h3 {color: #000; }\n",
       "code  { font-family: monospace; color: #900; padding: 0 2px; font-size: 105%; }\n",
       "</style>\n",
       "        \n",
       "<div id='main'>\n",
       "    <div id=\"right\">\n",
       "      <h3>Generated Code by Code Interpreter</h3>\n",
       "      <pre><code>```python\n",
       "import pandas as pd\n",
       "import matplotlib.pyplot as plt\n",
       "\n",
       "# Load the pickled DataFrame\n",
       "df = pd.read_pickle(\"311_dataframe_typed.pkl\", compression=\"zip\")\n",
       "\n",
       "# Create a new DataFrame with the hour of the day\n",
       "df[\"hour\"] = pd.to_datetime(df[\"created_date\"]).dt.hour\n",
       "\n",
       "# Group by hour and count the number of complaints\n",
       "df_grouped = df.groupby(\"hour\").size().reset_index(name=\"count\")\n",
       "\n",
       "# Create the line graph\n",
       "plt.figure(figsize=(12, 6))\n",
       "plt.plot(df_grouped[\"hour\"], df_grouped[\"count\"])\n",
       "\n",
       "# Set the title and axis labels\n",
       "plt.title(\"Distribution of Complaints by Hour of Day\")\n",
       "plt.xlabel(\"Hour of Day\")\n",
       "plt.ylabel(\"Count of Complaints\")\n",
       "\n",
       "# Show the plot\n",
       "plt.show()\n",
       "```</code></pre>\n",
       "    </div>\n",
       "    <div id=\"left\">\n",
       "      <h3>Code Execution Results</h3>\n",
       "      \n",
       "  <details open>\n",
       "    <summary class='main_summary'>Executed Code Output:</summary>\n",
       "    <div><pre>Code does not produce printable output.</pre></div>\n",
       "  </details>\n",
       "  \n",
       "  <details open>\n",
       "    <summary class='main_summary'>Files Created <u>(Click on filename to view content)</u>:</summary>\n",
       "    <div><pre><details><summary>code_execution_image_1_BjEsZrOpL4G6n_wPtMGJ4Ao.png</summary><div><img src=\"data:image/png;base64, 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\" /></div></details></pre></div>\n",
       "  </details>\n",
       "  \n",
       "    </div>\n",
       "</div>\n"
      ],
      "text/plain": [
       "<IPython.core.display.HTML object>"
      ]
     },
     "metadata": {},
     "output_type": "display_data"
    }
   ],
   "source": [
    "QUERY = \"\"\"\n",
    "First, load the pickled DataFrame. The pickled Dataframe was saved with the compression set to zip.\n",
    "Create a line graph showing the distribution of complaints by hour the of day.\n",
    "The 'created_date' field contains the datetime value the complaint was created.\n",
    "The Y axis is the count of complaints.\n",
    "The X axis is the hour of the day.\n",
    "Title the plot and the axes.\n",
    "\"\"\"\n",
    "response = run_code_interpreter(QUERY,['311_dataframe_typed.pkl'])\n",
    "process_response(response)"
   ]
  },
  {
   "cell_type": "markdown",
   "metadata": {
    "id": "UqhHCSSjbg5v"
   },
   "source": [
    "There's a very high number of 311 issue created during the first hour of the day, from midnight to 1AM. This is because issues created a certain way are assigned a time of midnight. Ask Code Interpreter to remove these 311 issues created exactly at midnight."
   ]
  },
  {
   "cell_type": "code",
   "execution_count": 32,
   "metadata": {
    "colab": {
     "base_uri": "https://localhost:8080/",
     "height": 469
    },
    "id": "H4J7vORvBuiV",
    "outputId": "936d01d9-d3cb-4351-ddf6-329596351a4e",
    "tags": []
   },
   "outputs": [
    {
     "data": {
      "text/html": [
       "\n",
       "<style>\n",
       ".main_summary {\n",
       "  font-weight: bold;\n",
       "  font-size: 14px; color: #4285F4;\n",
       "  background-color:rgba(221, 221, 221, 0.5); padding:8px;}\n",
       ".main_summary:hover {background-color: rgba(221, 221, 221, 1);}\n",
       "details {\n",
       "  background-color:#fff;\n",
       "  border: 1px solid #E8EAED;\n",
       "  padding:0px;\n",
       "  margin-bottom:2px; }\n",
       "details img {width:50%}\n",
       "details > div {padding:10px; }\n",
       "div#left > * > div {\n",
       "    overflow:auto;\n",
       "    max-height:400px; }\n",
       "\n",
       "div#right > pre {\n",
       "    overflow:auto;\n",
       "    max-height:600px;\n",
       "    background-color: ghostwhite;\n",
       "    padding: 10px; }\n",
       "details details > div { overflow: scroll; max-height:400px}\n",
       "details details {\n",
       "  background-color:rgba(246, 231, 217, 0.2);\n",
       "  border: 1px solid #FBBC04;}\n",
       "details details > summary {\n",
       "  padding: 8px;\n",
       "  background-color:rgba(255, 228, 196, 0.6); }\n",
       "details details > summary:hover { background-color:rgba(255, 228, 196, 0.9); }\n",
       "div#left {width: 64%; padding:0 1%;  }\n",
       "div#right {\n",
       "  border-left: 1px solid silver;\n",
       "  width: 30%;\n",
       "  float: right;\n",
       "  padding:0 1%; }\n",
       "body {color: #000; background-color: white; padding:10px 10px 40px 10px; }\n",
       "#main { border: 1px solid #FBBC04; padding:10px 0; display: flow-root; }\n",
       "h3 {color: #000; }\n",
       "code  { font-family: monospace; color: #900; padding: 0 2px; font-size: 105%; }\n",
       "</style>\n",
       "        \n",
       "<div id='main'>\n",
       "    <div id=\"right\">\n",
       "      <h3>Generated Code by Code Interpreter</h3>\n",
       "      <pre><code>```python\n",
       "import pandas as pd\n",
       "\n",
       "# Load the pickled DataFrame\n",
       "df = pd.read_pickle(\"311_dataframe_typed.pkl\", compression=\"zip\")\n",
       "\n",
       "# Print the number of rows of the DataFrame\n",
       "print(f\"Original number of rows: {len(df)}\")\n",
       "\n",
       "# Remove all rows created exactly at midnight\n",
       "df = df[\n",
       "    (df[\"created_date\"].dt.hour != 0)\n",
       "    | (df[\"created_date\"].dt.minute != 0)\n",
       "    | (df[\"created_date\"].dt.second != 0)\n",
       "]\n",
       "\n",
       "# Print the number of rows of the DataFrame\n",
       "print(f\"Number of rows after removing midnight rows: {len(df)}\")\n",
       "\n",
       "# Save the new DataFrame pickle with zip compression\n",
       "df.to_pickle(\"311_dataframe_nomidnight.pkl\", compression=\"zip\")\n",
       "```</code></pre>\n",
       "    </div>\n",
       "    <div id=\"left\">\n",
       "      <h3>Code Execution Results</h3>\n",
       "      \n",
       "  <details open>\n",
       "    <summary class='main_summary'>Executed Code Output:</summary>\n",
       "    <div><pre>Original number of rows: 40706\n",
       "Number of rows after removing midnight rows: 35130\n",
       "</pre></div>\n",
       "  </details>\n",
       "  \n",
       "  <details open>\n",
       "    <summary class='main_summary'>Files Created <u>(Click on filename to view content)</u>:</summary>\n",
       "    <div><pre><details><summary>311_dataframe_nomidnight.pkl</summary><div><span>Preview N/A</span></div></details></pre></div>\n",
       "  </details>\n",
       "  \n",
       "    </div>\n",
       "</div>\n"
      ],
      "text/plain": [
       "<IPython.core.display.HTML object>"
      ]
     },
     "metadata": {},
     "output_type": "display_data"
    }
   ],
   "source": [
    "QUERY = \"\"\"\n",
    "First, load the pickled DataFrame. The pickled DataFrame was saved with the compression set to zip.\n",
    "Print the number of rows of the DataFrame.\n",
    "Remove all rows created exactly at midnight (to the second).\n",
    "The test for midnight is rows with an hour of 0, minute of 0, and second of 0.\n",
    "Meaning, a row needs either an hour not 0, a minute not 0, or a second not 0 to be kept.\n",
    "The column 'created_date' holds the creation time.\n",
    "Print the number of rows of the DataFrame.\n",
    "Then return a pickle of the DataFrame in a file called '311_dataframe_nomidnight.pkl'.\n",
    "Save the new DataFrame pickle with zip compression.\n",
    "\"\"\"\n",
    "response = run_code_interpreter(QUERY,['311_dataframe_typed.pkl'])\n",
    "process_response(response)"
   ]
  },
  {
   "cell_type": "markdown",
   "metadata": {
    "id": "lumotfZec2Wr"
   },
   "source": [
    "To make sure the cleaning worked, take a look at the distribution of issue creation times in the new DataFrame."
   ]
  },
  {
   "cell_type": "code",
   "execution_count": 33,
   "metadata": {
    "colab": {
     "base_uri": "https://localhost:8080/",
     "height": 518
    },
    "id": "__07p6v1cwB0",
    "outputId": "729e63e8-c2b1-456d-8da2-2f94127f2383",
    "tags": []
   },
   "outputs": [
    {
     "data": {
      "text/html": [
       "\n",
       "<style>\n",
       ".main_summary {\n",
       "  font-weight: bold;\n",
       "  font-size: 14px; color: #4285F4;\n",
       "  background-color:rgba(221, 221, 221, 0.5); padding:8px;}\n",
       ".main_summary:hover {background-color: rgba(221, 221, 221, 1);}\n",
       "details {\n",
       "  background-color:#fff;\n",
       "  border: 1px solid #E8EAED;\n",
       "  padding:0px;\n",
       "  margin-bottom:2px; }\n",
       "details img {width:50%}\n",
       "details > div {padding:10px; }\n",
       "div#left > * > div {\n",
       "    overflow:auto;\n",
       "    max-height:400px; }\n",
       "\n",
       "div#right > pre {\n",
       "    overflow:auto;\n",
       "    max-height:600px;\n",
       "    background-color: ghostwhite;\n",
       "    padding: 10px; }\n",
       "details details > div { overflow: scroll; max-height:400px}\n",
       "details details {\n",
       "  background-color:rgba(246, 231, 217, 0.2);\n",
       "  border: 1px solid #FBBC04;}\n",
       "details details > summary {\n",
       "  padding: 8px;\n",
       "  background-color:rgba(255, 228, 196, 0.6); }\n",
       "details details > summary:hover { background-color:rgba(255, 228, 196, 0.9); }\n",
       "div#left {width: 64%; padding:0 1%;  }\n",
       "div#right {\n",
       "  border-left: 1px solid silver;\n",
       "  width: 30%;\n",
       "  float: right;\n",
       "  padding:0 1%; }\n",
       "body {color: #000; background-color: white; padding:10px 10px 40px 10px; }\n",
       "#main { border: 1px solid #FBBC04; padding:10px 0; display: flow-root; }\n",
       "h3 {color: #000; }\n",
       "code  { font-family: monospace; color: #900; padding: 0 2px; font-size: 105%; }\n",
       "</style>\n",
       "        \n",
       "<div id='main'>\n",
       "    <div id=\"right\">\n",
       "      <h3>Generated Code by Code Interpreter</h3>\n",
       "      <pre><code>```python\n",
       "import pandas as pd\n",
       "import matplotlib.pyplot as plt\n",
       "\n",
       "# Load the pickled DataFrame\n",
       "df = pd.read_pickle(\"311_dataframe_nomidnight.pkl\", compression=\"zip\")\n",
       "\n",
       "# Create a line graph showing the distribution of complaints by hour of the day\n",
       "df[\"hour\"] = pd.to_datetime(df[\"created_date\"]).dt.hour\n",
       "df[\"count\"] = 1\n",
       "df_grouped = df.groupby(\"hour\").count()\n",
       "\n",
       "plt.figure(figsize=(12, 6))\n",
       "plt.plot(df_grouped.index, df_grouped[\"count\"])\n",
       "\n",
       "plt.xlabel(\"Hour of the Day\")\n",
       "plt.ylabel(\"Count of Complaints\")\n",
       "plt.title(\"Distribution of Complaints by Hour of the Day\")\n",
       "\n",
       "plt.show()\n",
       "```</code></pre>\n",
       "    </div>\n",
       "    <div id=\"left\">\n",
       "      <h3>Code Execution Results</h3>\n",
       "      \n",
       "  <details open>\n",
       "    <summary class='main_summary'>Executed Code Output:</summary>\n",
       "    <div><pre>Code does not produce printable output.</pre></div>\n",
       "  </details>\n",
       "  \n",
       "  <details open>\n",
       "    <summary class='main_summary'>Files Created <u>(Click on filename to view content)</u>:</summary>\n",
       "    <div><pre><details><summary>code_execution_image_1_FDEsZuqLIq60ybgP9sqBoAY.png</summary><div><img src=\"data:image/png;base64, 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\" /></div></details></pre></div>\n",
       "  </details>\n",
       "  \n",
       "    </div>\n",
       "</div>\n"
      ],
      "text/plain": [
       "<IPython.core.display.HTML object>"
      ]
     },
     "metadata": {},
     "output_type": "display_data"
    }
   ],
   "source": [
    "QUERY = \"\"\"\n",
    "First, load the pickled DataFrame. The pickled Dataframe was saved with the compression set to zip.\n",
    "Create a line graph showing the distribution of complaints by hour the of day.\n",
    "The 'created_date' field contains the datetime value the complaint was created.\n",
    "The Y axis is the count of complaints.\n",
    "The X axis is the hour of the day.\n",
    "Title the plot and the axes.\n",
    "\"\"\"\n",
    "response = run_code_interpreter(QUERY,['311_dataframe_nomidnight.pkl'])\n",
    "process_response(response)"
   ]
  },
  {
   "cell_type": "markdown",
   "metadata": {
    "id": "Uy7kH-CefoJ-"
   },
   "source": [
    "# Step 3: Augment the Data\n",
    "\n",
    "Code Interpreter can also help with augmenting pandas data. In this call, you'll add additional columns to the DataFrame based on existing columns."
   ]
  },
  {
   "cell_type": "code",
   "execution_count": 34,
   "metadata": {
    "colab": {
     "base_uri": "https://localhost:8080/",
     "height": 601
    },
    "id": "ljJmsQvegbma",
    "outputId": "57db53d2-b72e-4453-a227-c70e3ecd8181",
    "tags": []
   },
   "outputs": [
    {
     "data": {
      "text/html": [
       "\n",
       "<style>\n",
       ".main_summary {\n",
       "  font-weight: bold;\n",
       "  font-size: 14px; color: #4285F4;\n",
       "  background-color:rgba(221, 221, 221, 0.5); padding:8px;}\n",
       ".main_summary:hover {background-color: rgba(221, 221, 221, 1);}\n",
       "details {\n",
       "  background-color:#fff;\n",
       "  border: 1px solid #E8EAED;\n",
       "  padding:0px;\n",
       "  margin-bottom:2px; }\n",
       "details img {width:50%}\n",
       "details > div {padding:10px; }\n",
       "div#left > * > div {\n",
       "    overflow:auto;\n",
       "    max-height:400px; }\n",
       "\n",
       "div#right > pre {\n",
       "    overflow:auto;\n",
       "    max-height:600px;\n",
       "    background-color: ghostwhite;\n",
       "    padding: 10px; }\n",
       "details details > div { overflow: scroll; max-height:400px}\n",
       "details details {\n",
       "  background-color:rgba(246, 231, 217, 0.2);\n",
       "  border: 1px solid #FBBC04;}\n",
       "details details > summary {\n",
       "  padding: 8px;\n",
       "  background-color:rgba(255, 228, 196, 0.6); }\n",
       "details details > summary:hover { background-color:rgba(255, 228, 196, 0.9); }\n",
       "div#left {width: 64%; padding:0 1%;  }\n",
       "div#right {\n",
       "  border-left: 1px solid silver;\n",
       "  width: 30%;\n",
       "  float: right;\n",
       "  padding:0 1%; }\n",
       "body {color: #000; background-color: white; padding:10px 10px 40px 10px; }\n",
       "#main { border: 1px solid #FBBC04; padding:10px 0; display: flow-root; }\n",
       "h3 {color: #000; }\n",
       "code  { font-family: monospace; color: #900; padding: 0 2px; font-size: 105%; }\n",
       "</style>\n",
       "        \n",
       "<div id='main'>\n",
       "    <div id=\"right\">\n",
       "      <h3>Generated Code by Code Interpreter</h3>\n",
       "      <pre><code>```python\n",
       "import pandas as pd\n",
       "\n",
       "# Load the pickled DataFrame\n",
       "df = pd.read_pickle(\"311_dataframe_nomidnight.pkl\", compression=\"zip\")\n",
       "\n",
       "# Extract date and time components from 'created_date'\n",
       "df['created_year'] = pd.to_datetime(df['created_date']).dt.year\n",
       "df['created_month'] = pd.to_datetime(df['created_date']).dt.month\n",
       "df['created_day'] = pd.to_datetime(df['created_date']).dt.day\n",
       "df['created_hour'] = pd.to_datetime(df['created_date']).dt.hour\n",
       "df['created_minute'] = pd.to_datetime(df['created_date']).dt.minute\n",
       "df['created_second'] = pd.to_datetime(df['created_date']).dt.second\n",
       "\n",
       "# Extract date and time components from 'closed_date'\n",
       "df['closed_year'] = pd.to_datetime(df['closed_date']).dt.year\n",
       "df['closed_month'] = pd.to_datetime(df['closed_date']).dt.month\n",
       "df['closed_day'] = pd.to_datetime(df['closed_date']).dt.day\n",
       "df['closed_hour'] = pd.to_datetime(df['closed_date']).dt.hour\n",
       "df['closed_minute'] = pd.to_datetime(df['closed_date']).dt.minute\n",
       "df['closed_second'] = pd.to_datetime(df['closed_date']).dt.second\n",
       "\n",
       "# Save the augmented DataFrame as a pickle file with zip compression\n",
       "df.to_pickle(\"311_dataframe_augmented.pkl\", compression=\"zip\")\n",
       "```</code></pre>\n",
       "    </div>\n",
       "    <div id=\"left\">\n",
       "      <h3>Code Execution Results</h3>\n",
       "      \n",
       "  <details open>\n",
       "    <summary class='main_summary'>Executed Code Output:</summary>\n",
       "    <div><pre>Code does not produce printable output.</pre></div>\n",
       "  </details>\n",
       "  \n",
       "  <details open>\n",
       "    <summary class='main_summary'>Files Created <u>(Click on filename to view content)</u>:</summary>\n",
       "    <div><pre><details><summary>311_dataframe_augmented.pkl</summary><div><span>Preview N/A</span></div></details></pre></div>\n",
       "  </details>\n",
       "  \n",
       "    </div>\n",
       "</div>\n"
      ],
      "text/plain": [
       "<IPython.core.display.HTML object>"
      ]
     },
     "metadata": {},
     "output_type": "display_data"
    }
   ],
   "source": [
    "QUERY = \"\"\"\n",
    "The attached pkl file has a DataFrame of citizen complaints.\n",
    "The DataFrame will be used to analyze timing around complaint creation and resolution.\n",
    "To make this easier, create additional columns breaking the time fields down.\n",
    "First, load the pickled DataFrame. The pickled DataFrame was saved with the compression set to zip.\n",
    "From the 'created_date' datetime column, create new columns for the year, month, day, hour, minute, and second.\n",
    "These columns should be named like 'created_year', 'created_month', etc.\n",
    "Do the same for the 'closed_date' column.\n",
    "Then return a pickle of the DataFrame in a file called '311_dataframe_augmented.pkl'.\n",
    "Save the new DataFrame pickle with zip compression.\n",
    "\"\"\"\n",
    "response = run_code_interpreter(QUERY, ['311_dataframe_nomidnight.pkl'])\n",
    "process_response(response)"
   ]
  },
  {
   "cell_type": "markdown",
   "metadata": {
    "id": "xrAnF_tsPGdd"
   },
   "source": [
    "Note the new columns now in the DataFrame:"
   ]
  },
  {
   "cell_type": "code",
   "execution_count": 35,
   "metadata": {
    "colab": {
     "base_uri": "https://localhost:8080/"
    },
    "id": "zl0AjhNdPH1f",
    "outputId": "61af113e-6834-4368-ea25-3650d6a71af4",
    "tags": []
   },
   "outputs": [
    {
     "data": {
      "text/plain": [
       "Index(['unique_key', 'created_date', 'closed_date', 'agency', 'agency_name',\n",
       "       'complaint_type', 'descriptor', 'location_type', 'incident_zip',\n",
       "       'incident_address', 'street_name', 'cross_street_1', 'cross_street_2',\n",
       "       'intersection_street_1', 'intersection_street_2', 'address_type',\n",
       "       'status', 'resolution_description', 'community_board', 'borough',\n",
       "       'park_facility_name', 'open_data_channel_type', 'taxi_pickup_location',\n",
       "       'bridge_highway_name', 'bridge_highway_direction',\n",
       "       'bridge_highway_segment', 'created_year', 'created_month',\n",
       "       'created_day', 'created_hour', 'created_minute', 'created_second',\n",
       "       'closed_year', 'closed_month', 'closed_day', 'closed_hour',\n",
       "       'closed_minute', 'closed_second'],\n",
       "      dtype='object')"
      ]
     },
     "execution_count": 35,
     "metadata": {},
     "output_type": "execute_result"
    }
   ],
   "source": [
    "df_311_augmented = pd.read_pickle(\"311_dataframe_augmented.pkl\", compression=\"zip\")\n",
    "df_311_augmented.columns"
   ]
  },
  {
   "cell_type": "markdown",
   "metadata": {
    "id": "M0vSAFr65LHw"
   },
   "source": [
    "# Step 4: Sample the Data\n",
    "\n",
    "Sometimes you may want to sample your data. Code Interpreter can help with this as well."
   ]
  },
  {
   "cell_type": "code",
   "execution_count": 36,
   "metadata": {
    "colab": {
     "base_uri": "https://localhost:8080/",
     "height": 357
    },
    "id": "Ws6hE9jW5Jbt",
    "outputId": "00b05bb5-d0ec-415d-bdd9-6372f1f3d9e9",
    "tags": []
   },
   "outputs": [
    {
     "data": {
      "text/html": [
       "\n",
       "<style>\n",
       ".main_summary {\n",
       "  font-weight: bold;\n",
       "  font-size: 14px; color: #4285F4;\n",
       "  background-color:rgba(221, 221, 221, 0.5); padding:8px;}\n",
       ".main_summary:hover {background-color: rgba(221, 221, 221, 1);}\n",
       "details {\n",
       "  background-color:#fff;\n",
       "  border: 1px solid #E8EAED;\n",
       "  padding:0px;\n",
       "  margin-bottom:2px; }\n",
       "details img {width:50%}\n",
       "details > div {padding:10px; }\n",
       "div#left > * > div {\n",
       "    overflow:auto;\n",
       "    max-height:400px; }\n",
       "\n",
       "div#right > pre {\n",
       "    overflow:auto;\n",
       "    max-height:600px;\n",
       "    background-color: ghostwhite;\n",
       "    padding: 10px; }\n",
       "details details > div { overflow: scroll; max-height:400px}\n",
       "details details {\n",
       "  background-color:rgba(246, 231, 217, 0.2);\n",
       "  border: 1px solid #FBBC04;}\n",
       "details details > summary {\n",
       "  padding: 8px;\n",
       "  background-color:rgba(255, 228, 196, 0.6); }\n",
       "details details > summary:hover { background-color:rgba(255, 228, 196, 0.9); }\n",
       "div#left {width: 64%; padding:0 1%;  }\n",
       "div#right {\n",
       "  border-left: 1px solid silver;\n",
       "  width: 30%;\n",
       "  float: right;\n",
       "  padding:0 1%; }\n",
       "body {color: #000; background-color: white; padding:10px 10px 40px 10px; }\n",
       "#main { border: 1px solid #FBBC04; padding:10px 0; display: flow-root; }\n",
       "h3 {color: #000; }\n",
       "code  { font-family: monospace; color: #900; padding: 0 2px; font-size: 105%; }\n",
       "</style>\n",
       "        \n",
       "<div id='main'>\n",
       "    <div id=\"right\">\n",
       "      <h3>Generated Code by Code Interpreter</h3>\n",
       "      <pre><code>```python\n",
       "import pandas as pd\n",
       "import numpy as np\n",
       "\n",
       "# Load the pickled DataFrame\n",
       "df = pd.read_pickle(\"311_dataframe_augmented.pkl\", compression=\"zip\")\n",
       "\n",
       "# Randomly sample 20% of the dataset\n",
       "df_sampled = df.sample(frac=0.2, random_state=42)\n",
       "\n",
       "# Save the new DataFrame pickle with zip compression\n",
       "df_sampled.to_pickle(\"311_dataframe_sampled.pkl\", compression=\"zip\")\n",
       "```</code></pre>\n",
       "    </div>\n",
       "    <div id=\"left\">\n",
       "      <h3>Code Execution Results</h3>\n",
       "      \n",
       "  <details open>\n",
       "    <summary class='main_summary'>Executed Code Output:</summary>\n",
       "    <div><pre>Code does not produce printable output.</pre></div>\n",
       "  </details>\n",
       "  \n",
       "  <details open>\n",
       "    <summary class='main_summary'>Files Created <u>(Click on filename to view content)</u>:</summary>\n",
       "    <div><pre><details><summary>311_dataframe_sampled.pkl</summary><div><span>Preview N/A</span></div></details></pre></div>\n",
       "  </details>\n",
       "  \n",
       "    </div>\n",
       "</div>\n"
      ],
      "text/plain": [
       "<IPython.core.display.HTML object>"
      ]
     },
     "metadata": {},
     "output_type": "display_data"
    }
   ],
   "source": [
    "QUERY = \"\"\"\n",
    "First, load the pickled DataFrame. The pickled DataFrame was saved with the compression set to zip.\n",
    "Randomly sample 20% of the dataset.\n",
    "Then return a pickle of the DataFrame in a file called '311_dataframe_sampled.pkl'.\n",
    "Save the new DataFrame pickle with zip compression.\n",
    "\"\"\"\n",
    "response = run_code_interpreter(QUERY, ['311_dataframe_augmented.pkl'])\n",
    "process_response(response)"
   ]
  },
  {
   "cell_type": "markdown",
   "metadata": {
    "id": "VjzpqWYCjlID"
   },
   "source": [
    "Look at the length of the DataFrames to see the impact of the sampling"
   ]
  },
  {
   "cell_type": "code",
   "execution_count": 37,
   "metadata": {
    "colab": {
     "base_uri": "https://localhost:8080/"
    },
    "id": "dwZfi5xw5xai",
    "outputId": "880d9ef4-6736-49df-acc6-7a76a29d4af9",
    "tags": []
   },
   "outputs": [
    {
     "data": {
      "text/plain": [
       "35130"
      ]
     },
     "execution_count": 37,
     "metadata": {},
     "output_type": "execute_result"
    }
   ],
   "source": [
    "len(df_311_augmented)"
   ]
  },
  {
   "cell_type": "code",
   "execution_count": 38,
   "metadata": {
    "colab": {
     "base_uri": "https://localhost:8080/"
    },
    "id": "WwEQVs1H5yco",
    "outputId": "4beb29fb-f217-4267-8633-304ea88fa245",
    "tags": []
   },
   "outputs": [
    {
     "data": {
      "text/plain": [
       "7026"
      ]
     },
     "execution_count": 38,
     "metadata": {},
     "output_type": "execute_result"
    }
   ],
   "source": [
    "df_311_sampled = pd.read_pickle('311_dataframe_sampled.pkl', compression='zip')\n",
    "len(df_311_sampled)"
   ]
  },
  {
   "cell_type": "markdown",
   "metadata": {
    "id": "tCxUGXBF54MR"
   },
   "source": [
    "## More Complex Sampling\n",
    "\n",
    "Code Interpreter can also handle more complex sampling requests. Though the more complex the request (and the more complex pandas operations required) the more likely Code Interpreter needs a few retries--remember, the more difficult it would be for a person the more difficult it is for a generative AI model.\n",
    "\n",
    "You'll see in the example below that Code Interpreter is instructed to ignore FutureWarnings and DeprecationWarnings. This is because Code Interpreter favors pandas `groupby` to sample, and there's future pandas changes that will break common ways of using `groupby`. The `run_code_interpreter` method will retry code that throws errors, but since the pandas warnings are non-fatal we don't want to retry code that only has warnings in this particular case."
   ]
  },
  {
   "cell_type": "code",
   "execution_count": 40,
   "metadata": {
    "colab": {
     "base_uri": "https://localhost:8080/",
     "height": 601
    },
    "id": "AlaQ5FFU5_g3",
    "outputId": "dcb24005-db81-44ad-cde1-78474423eaaa",
    "tags": []
   },
   "outputs": [
    {
     "data": {
      "text/html": [
       "\n",
       "<style>\n",
       ".main_summary {\n",
       "  font-weight: bold;\n",
       "  font-size: 14px; color: #4285F4;\n",
       "  background-color:rgba(221, 221, 221, 0.5); padding:8px;}\n",
       ".main_summary:hover {background-color: rgba(221, 221, 221, 1);}\n",
       "details {\n",
       "  background-color:#fff;\n",
       "  border: 1px solid #E8EAED;\n",
       "  padding:0px;\n",
       "  margin-bottom:2px; }\n",
       "details img {width:50%}\n",
       "details > div {padding:10px; }\n",
       "div#left > * > div {\n",
       "    overflow:auto;\n",
       "    max-height:400px; }\n",
       "\n",
       "div#right > pre {\n",
       "    overflow:auto;\n",
       "    max-height:600px;\n",
       "    background-color: ghostwhite;\n",
       "    padding: 10px; }\n",
       "details details > div { overflow: scroll; max-height:400px}\n",
       "details details {\n",
       "  background-color:rgba(246, 231, 217, 0.2);\n",
       "  border: 1px solid #FBBC04;}\n",
       "details details > summary {\n",
       "  padding: 8px;\n",
       "  background-color:rgba(255, 228, 196, 0.6); }\n",
       "details details > summary:hover { background-color:rgba(255, 228, 196, 0.9); }\n",
       "div#left {width: 64%; padding:0 1%;  }\n",
       "div#right {\n",
       "  border-left: 1px solid silver;\n",
       "  width: 30%;\n",
       "  float: right;\n",
       "  padding:0 1%; }\n",
       "body {color: #000; background-color: white; padding:10px 10px 40px 10px; }\n",
       "#main { border: 1px solid #FBBC04; padding:10px 0; display: flow-root; }\n",
       "h3 {color: #000; }\n",
       "code  { font-family: monospace; color: #900; padding: 0 2px; font-size: 105%; }\n",
       "</style>\n",
       "        \n",
       "<div id='main'>\n",
       "    <div id=\"right\">\n",
       "      <h3>Generated Code by Code Interpreter</h3>\n",
       "      <pre><code>```python\n",
       "import pandas as pd\n",
       "import warnings\n",
       "\n",
       "warnings.filterwarnings(\"ignore\", category=FutureWarning)\n",
       "warnings.filterwarnings(\"ignore\", category=DeprecationWarning)\n",
       "\n",
       "# Load the pickled DataFrame\n",
       "df = pd.read_pickle(\"311_dataframe_augmented.pkl\", compression=\"zip\")\n",
       "\n",
       "# Count the unique values in the 'borough' column\n",
       "borough_counts = df[\"borough\"].value_counts()\n",
       "\n",
       "# Calculate the number of rows to sample from each borough\n",
       "sample_size = 1000\n",
       "rows_per_borough = sample_size // len(borough_counts)\n",
       "\n",
       "# Create a sample DataFrame with an equal number of rows for each borough\n",
       "df_sample = pd.concat(\n",
       "    [\n",
       "        df[df[\"borough\"] == borough].sample(rows_per_borough)\n",
       "        for borough in borough_counts.index\n",
       "    ]\n",
       ")\n",
       "\n",
       "# Save the sample DataFrame as a pickle with zip compression\n",
       "df_sample.to_pickle(\"311_dataframe_borough_sample.pkl\", compression=\"zip\")\n",
       "```</code></pre>\n",
       "    </div>\n",
       "    <div id=\"left\">\n",
       "      <h3>Code Execution Results</h3>\n",
       "      \n",
       "  <details open>\n",
       "    <summary class='main_summary'>Executed Code Output:</summary>\n",
       "    <div><pre>Code does not produce printable output.</pre></div>\n",
       "  </details>\n",
       "  \n",
       "  <details open>\n",
       "    <summary class='main_summary'>Files Created <u>(Click on filename to view content)</u>:</summary>\n",
       "    <div><pre><details><summary>311_dataframe_borough_sample.pkl</summary><div><span>Preview N/A</span></div></details></pre></div>\n",
       "  </details>\n",
       "  \n",
       "    </div>\n",
       "</div>\n"
      ],
      "text/plain": [
       "<IPython.core.display.HTML object>"
      ]
     },
     "metadata": {},
     "output_type": "display_data"
    }
   ],
   "source": [
    "QUERY = \"\"\"\n",
    "Use the warnings library to supress all category=FutureWarning and DeprecationWarning.\n",
    "Load the pickled DataFrame. The pickled DataFrame was saved with the compression set to zip.\n",
    "Create a sample of about 1000 rows.\n",
    "The sample should have a roughly equal number of rows for each unique value in the 'borough' column.\n",
    "Count the unique values in the 'borough' column and use that to determine how many rows to sample from each borough.\n",
    "Then return a pickle of the DataFrame in a file called '311_dataframe_borough_sample.pkl'.\n",
    "Save the new DataFrame pickle with zip compression.\n",
    "\"\"\"\n",
    "response = run_code_interpreter(QUERY, ['311_dataframe_augmented.pkl'])\n",
    "process_response(response)"
   ]
  },
  {
   "cell_type": "markdown",
   "metadata": {
    "id": "X1N2ScfImUcm"
   },
   "source": [
    "Make some plots showing how the sample changed the distribution of boroughs in the dataset. First, look at the data before sampling:"
   ]
  },
  {
   "cell_type": "code",
   "execution_count": 41,
   "metadata": {
    "colab": {
     "base_uri": "https://localhost:8080/",
     "height": 544
    },
    "id": "paqfTM__RRYl",
    "outputId": "485a440a-0766-44e0-b185-619eae3bc60b",
    "tags": []
   },
   "outputs": [
    {
     "data": {
      "text/html": [
       "\n",
       "<style>\n",
       ".main_summary {\n",
       "  font-weight: bold;\n",
       "  font-size: 14px; color: #4285F4;\n",
       "  background-color:rgba(221, 221, 221, 0.5); padding:8px;}\n",
       ".main_summary:hover {background-color: rgba(221, 221, 221, 1);}\n",
       "details {\n",
       "  background-color:#fff;\n",
       "  border: 1px solid #E8EAED;\n",
       "  padding:0px;\n",
       "  margin-bottom:2px; }\n",
       "details img {width:50%}\n",
       "details > div {padding:10px; }\n",
       "div#left > * > div {\n",
       "    overflow:auto;\n",
       "    max-height:400px; }\n",
       "\n",
       "div#right > pre {\n",
       "    overflow:auto;\n",
       "    max-height:600px;\n",
       "    background-color: ghostwhite;\n",
       "    padding: 10px; }\n",
       "details details > div { overflow: scroll; max-height:400px}\n",
       "details details {\n",
       "  background-color:rgba(246, 231, 217, 0.2);\n",
       "  border: 1px solid #FBBC04;}\n",
       "details details > summary {\n",
       "  padding: 8px;\n",
       "  background-color:rgba(255, 228, 196, 0.6); }\n",
       "details details > summary:hover { background-color:rgba(255, 228, 196, 0.9); }\n",
       "div#left {width: 64%; padding:0 1%;  }\n",
       "div#right {\n",
       "  border-left: 1px solid silver;\n",
       "  width: 30%;\n",
       "  float: right;\n",
       "  padding:0 1%; }\n",
       "body {color: #000; background-color: white; padding:10px 10px 40px 10px; }\n",
       "#main { border: 1px solid #FBBC04; padding:10px 0; display: flow-root; }\n",
       "h3 {color: #000; }\n",
       "code  { font-family: monospace; color: #900; padding: 0 2px; font-size: 105%; }\n",
       "</style>\n",
       "        \n",
       "<div id='main'>\n",
       "    <div id=\"right\">\n",
       "      <h3>Generated Code by Code Interpreter</h3>\n",
       "      <pre><code>```python\n",
       "import pandas as pd\n",
       "import matplotlib.pyplot as plt\n",
       "\n",
       "# Load the pickled DataFrame\n",
       "df = pd.read_pickle(\"311_dataframe_augmented.pkl\", compression=\"zip\")\n",
       "\n",
       "# Create a horizontal bar graph showing the distribution of complaints by borough\n",
       "df[\"borough\"].value_counts().plot(kind=\"barh\", figsize=(10, 6))\n",
       "\n",
       "# Set the title and axis labels\n",
       "plt.title(\"Distribution of Complaints by Borough\")\n",
       "plt.xlabel(\"Number of Complaints\")\n",
       "\n",
       "# Show the plot\n",
       "plt.show()\n",
       "```</code></pre>\n",
       "    </div>\n",
       "    <div id=\"left\">\n",
       "      <h3>Code Execution Results</h3>\n",
       "      \n",
       "  <details open>\n",
       "    <summary class='main_summary'>Executed Code Output:</summary>\n",
       "    <div><pre>Code does not produce printable output.</pre></div>\n",
       "  </details>\n",
       "  \n",
       "  <details open>\n",
       "    <summary class='main_summary'>Files Created <u>(Click on filename to view content)</u>:</summary>\n",
       "    <div><pre><details><summary>code_execution_image_1_mjEsZpDxOc-S2ukPo6my0Ak.png</summary><div><img src=\"data:image/png;base64, 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\" /></div></details></pre></div>\n",
       "  </details>\n",
       "  \n",
       "    </div>\n",
       "</div>\n"
      ],
      "text/plain": [
       "<IPython.core.display.HTML object>"
      ]
     },
     "metadata": {},
     "output_type": "display_data"
    }
   ],
   "source": [
    "QUERY = \"\"\"\n",
    "First, load the pickled DataFrame. The pickled Dataframe was saved with the compression set to zip.\n",
    "Create a horizontal bar graph showing the distribution of complaints by the 'borough' field.\n",
    "The Y axis is the borough.\n",
    "The X axis is the number of complaints.\n",
    "Title the plot and the X axis.\n",
    "Do not title the Y axis.\n",
    "Make sure the plot is wide enough to show the Y axis labels.\n",
    "\"\"\"\n",
    "response = run_code_interpreter(QUERY, ['311_dataframe_augmented.pkl'])\n",
    "process_response(response)"
   ]
  },
  {
   "cell_type": "markdown",
   "metadata": {
    "id": "moilzutknJ9F"
   },
   "source": [
    "Now look at the distribution of boroughs in the sample:"
   ]
  },
  {
   "cell_type": "code",
   "execution_count": 43,
   "metadata": {
    "colab": {
     "base_uri": "https://localhost:8080/",
     "height": 447
    },
    "id": "XA23I5KQT2a-",
    "outputId": "4934bb7f-e848-42d7-c139-aa231ee77810",
    "tags": []
   },
   "outputs": [
    {
     "data": {
      "text/html": [
       "\n",
       "<style>\n",
       ".main_summary {\n",
       "  font-weight: bold;\n",
       "  font-size: 14px; color: #4285F4;\n",
       "  background-color:rgba(221, 221, 221, 0.5); padding:8px;}\n",
       ".main_summary:hover {background-color: rgba(221, 221, 221, 1);}\n",
       "details {\n",
       "  background-color:#fff;\n",
       "  border: 1px solid #E8EAED;\n",
       "  padding:0px;\n",
       "  margin-bottom:2px; }\n",
       "details img {width:50%}\n",
       "details > div {padding:10px; }\n",
       "div#left > * > div {\n",
       "    overflow:auto;\n",
       "    max-height:400px; }\n",
       "\n",
       "div#right > pre {\n",
       "    overflow:auto;\n",
       "    max-height:600px;\n",
       "    background-color: ghostwhite;\n",
       "    padding: 10px; }\n",
       "details details > div { overflow: scroll; max-height:400px}\n",
       "details details {\n",
       "  background-color:rgba(246, 231, 217, 0.2);\n",
       "  border: 1px solid #FBBC04;}\n",
       "details details > summary {\n",
       "  padding: 8px;\n",
       "  background-color:rgba(255, 228, 196, 0.6); }\n",
       "details details > summary:hover { background-color:rgba(255, 228, 196, 0.9); }\n",
       "div#left {width: 64%; padding:0 1%;  }\n",
       "div#right {\n",
       "  border-left: 1px solid silver;\n",
       "  width: 30%;\n",
       "  float: right;\n",
       "  padding:0 1%; }\n",
       "body {color: #000; background-color: white; padding:10px 10px 40px 10px; }\n",
       "#main { border: 1px solid #FBBC04; padding:10px 0; display: flow-root; }\n",
       "h3 {color: #000; }\n",
       "code  { font-family: monospace; color: #900; padding: 0 2px; font-size: 105%; }\n",
       "</style>\n",
       "        \n",
       "<div id='main'>\n",
       "    <div id=\"right\">\n",
       "      <h3>Generated Code by Code Interpreter</h3>\n",
       "      <pre><code>```python\n",
       "import pandas as pd\n",
       "import matplotlib.pyplot as plt\n",
       "\n",
       "# Load the pickled DataFrame\n",
       "df = pd.read_pickle(\"311_dataframe_borough_sample.pkl\", compression=\"zip\")\n",
       "\n",
       "# Create a horizontal bar graph showing the distribution of complaints by the 'borough' field\n",
       "df[\"borough\"].value_counts().plot(kind=\"barh\", figsize=(10, 6))\n",
       "\n",
       "# Set the title and X axis label\n",
       "plt.title(\"Distribution of Complaints by Borough\")\n",
       "plt.xlabel(\"Number of Complaints\")\n",
       "\n",
       "# Show the plot\n",
       "plt.show()\n",
       "```</code></pre>\n",
       "    </div>\n",
       "    <div id=\"left\">\n",
       "      <h3>Code Execution Results</h3>\n",
       "      \n",
       "  <details open>\n",
       "    <summary class='main_summary'>Executed Code Output:</summary>\n",
       "    <div><pre>Code does not produce printable output.</pre></div>\n",
       "  </details>\n",
       "  \n",
       "  <details open>\n",
       "    <summary class='main_summary'>Files Created <u>(Click on filename to view content)</u>:</summary>\n",
       "    <div><pre><details><summary>code_execution_image_1_vDEsZsesC_aP2ukPiJCbyAM.png</summary><div><img src=\"data:image/png;base64, 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\" /></div></details></pre></div>\n",
       "  </details>\n",
       "  \n",
       "    </div>\n",
       "</div>\n"
      ],
      "text/plain": [
       "<IPython.core.display.HTML object>"
      ]
     },
     "metadata": {},
     "output_type": "display_data"
    }
   ],
   "source": [
    "QUERY = \"\"\"\n",
    "First, load the pickled DataFrame. The pickled Dataframe was saved with the compression set to zip.\n",
    "Create a horizontal bar graph showing the distribution of complaints by the 'borough' field.\n",
    "The Y axis is the borough.\n",
    "The X axis is the number of complaints.\n",
    "Title the plot and the X axis.\n",
    "Do not title the Y axis.\n",
    "Make sure the plot is wide enough to show the Y axis labels.\n",
    "\"\"\"\n",
    "response = run_code_interpreter(QUERY, ['311_dataframe_borough_sample.pkl'])\n",
    "process_response(response)"
   ]
  },
  {
   "cell_type": "markdown",
   "metadata": {
    "id": "okzVZhXNTpEJ"
   },
   "source": [
    "# Step 5: Analyze the Data\n",
    "\n",
    "Next, use Code Interpreter to generate some plots.\n",
    "\n",
    "To make this easier, you'll provide Code Interpreter with an example of the data and other additional information about the data as necessary.\n",
    "\n",
    "The pandas `head` method makes it easy to output a few pandas rows, but if your dataframe is wide pandas won't show some columns. To get around this, set pandas `display.max_columns` to not skip columns when printing:"
   ]
  },
  {
   "cell_type": "code",
   "execution_count": 44,
   "metadata": {
    "id": "htrnPGkT9cLR",
    "tags": []
   },
   "outputs": [],
   "source": [
    "pd.set_option('display.max_columns', None)"
   ]
  },
  {
   "cell_type": "markdown",
   "metadata": {
    "id": "LeThShXsqtrO"
   },
   "source": [
    "Use Code Interpreter to create a plot of the most common complaint types. To help Code Interpreter do this, provide the `head` of the DataFrame along with the unique complaint types."
   ]
  },
  {
   "cell_type": "code",
   "execution_count": 45,
   "metadata": {
    "id": "n7sK_Bhhr7Es",
    "tags": []
   },
   "outputs": [],
   "source": [
    "df_311_augmented = pd.read_pickle('311_dataframe_augmented.pkl', compression='zip')"
   ]
  },
  {
   "cell_type": "code",
   "execution_count": 49,
   "metadata": {
    "colab": {
     "base_uri": "https://localhost:8080/",
     "height": 544
    },
    "id": "1L-RO1tS0Dtp",
    "outputId": "0207ed38-df98-4587-9993-a91007ca3324",
    "tags": []
   },
   "outputs": [
    {
     "data": {
      "text/html": [
       "\n",
       "<style>\n",
       ".main_summary {\n",
       "  font-weight: bold;\n",
       "  font-size: 14px; color: #4285F4;\n",
       "  background-color:rgba(221, 221, 221, 0.5); padding:8px;}\n",
       ".main_summary:hover {background-color: rgba(221, 221, 221, 1);}\n",
       "details {\n",
       "  background-color:#fff;\n",
       "  border: 1px solid #E8EAED;\n",
       "  padding:0px;\n",
       "  margin-bottom:2px; }\n",
       "details img {width:50%}\n",
       "details > div {padding:10px; }\n",
       "div#left > * > div {\n",
       "    overflow:auto;\n",
       "    max-height:400px; }\n",
       "\n",
       "div#right > pre {\n",
       "    overflow:auto;\n",
       "    max-height:600px;\n",
       "    background-color: ghostwhite;\n",
       "    padding: 10px; }\n",
       "details details > div { overflow: scroll; max-height:400px}\n",
       "details details {\n",
       "  background-color:rgba(246, 231, 217, 0.2);\n",
       "  border: 1px solid #FBBC04;}\n",
       "details details > summary {\n",
       "  padding: 8px;\n",
       "  background-color:rgba(255, 228, 196, 0.6); }\n",
       "details details > summary:hover { background-color:rgba(255, 228, 196, 0.9); }\n",
       "div#left {width: 64%; padding:0 1%;  }\n",
       "div#right {\n",
       "  border-left: 1px solid silver;\n",
       "  width: 30%;\n",
       "  float: right;\n",
       "  padding:0 1%; }\n",
       "body {color: #000; background-color: white; padding:10px 10px 40px 10px; }\n",
       "#main { border: 1px solid #FBBC04; padding:10px 0; display: flow-root; }\n",
       "h3 {color: #000; }\n",
       "code  { font-family: monospace; color: #900; padding: 0 2px; font-size: 105%; }\n",
       "</style>\n",
       "        \n",
       "<div id='main'>\n",
       "    <div id=\"right\">\n",
       "      <h3>Generated Code by Code Interpreter</h3>\n",
       "      <pre><code>```python\n",
       "import pandas as pd\n",
       "import matplotlib.pyplot as plt\n",
       "\n",
       "# Load the pickled DataFrame with compression set to zip\n",
       "df = pd.read_pickle(\"311_dataframe_augmented.pkl\", compression='zip')\n",
       "\n",
       "# Count the number of complaints for each complaint type\n",
       "complaint_counts = df[\"complaint_type\"].value_counts()\n",
       "\n",
       "# Calculate the percentage of total complaints for each complaint type\n",
       "complaint_percentages = (complaint_counts / len(df)) * 100\n",
       "\n",
       "# Select the top 10 complaint types\n",
       "top_10_complaints = complaint_percentages.nlargest(10)\n",
       "\n",
       "# Create a horizontal bar plot\n",
       "plt.figure(figsize=(10, 6))\n",
       "plt.barh(top_10_complaints.index, top_10_complaints.values)\n",
       "\n",
       "# Set the title and labels\n",
       "plt.title(\"Most Common Complaint Types\")\n",
       "plt.xlabel(\"Percentage of Total Complaints\")\n",
       "plt.ylabel(\"Complaint Type\")\n",
       "\n",
       "# Show the plot\n",
       "plt.show()\n",
       "```</code></pre>\n",
       "    </div>\n",
       "    <div id=\"left\">\n",
       "      <h3>Code Execution Results</h3>\n",
       "      \n",
       "  <details open>\n",
       "    <summary class='main_summary'>Executed Code Output:</summary>\n",
       "    <div><pre>Code does not produce printable output.</pre></div>\n",
       "  </details>\n",
       "  \n",
       "  <details open>\n",
       "    <summary class='main_summary'>Files Created <u>(Click on filename to view content)</u>:</summary>\n",
       "    <div><pre><details><summary>code_execution_image_1_EzIsZrTmNc-S2ukPo6my0Ak.png</summary><div><img src=\"data:image/png;base64, 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\" /></div></details></pre></div>\n",
       "  </details>\n",
       "  \n",
       "    </div>\n",
       "</div>\n"
      ],
      "text/plain": [
       "<IPython.core.display.HTML object>"
      ]
     },
     "metadata": {},
     "output_type": "display_data"
    }
   ],
   "source": [
    "QUERY = \"\"\"\n",
    "The attached pkl file is a DataFrame of citizen complaints.\n",
    "First, load the pickled DataFrame. The pickled Dataframe was saved with the compression set to zip.\n",
    "Create a horizontal bar plot showing the most common complaint types.\n",
    "Your plot should only show about 10 types.\n",
    "Don't show raw compliant counts, show as a percentage of total compliants.\n",
    "Title the plot and the X axis.\n",
    "The compliant types should be on the Y axis.\n",
    "Make sure the image is wide enough to show all the Y axis labels.\n",
    "Here is the head() of the DataFrame:\\n {}\\n\n",
    "Here are the unique complaint types: {}\n",
    "\"\"\".format(df_311_augmented.head(),\n",
    "           df_311_augmented['complaint_type'].unique().tolist())\n",
    "response = run_code_interpreter(QUERY, ['311_dataframe_augmented.pkl'])\n",
    "process_response(response)"
   ]
  },
  {
   "cell_type": "markdown",
   "metadata": {
    "id": "U9ACn0I_t7j7"
   },
   "source": [
    "Next, let's do some analysis of complaints having to do with \"vermin\". Let code interpreter decide what complaint categories correspond to vermin."
   ]
  },
  {
   "cell_type": "code",
   "execution_count": 50,
   "metadata": {
    "colab": {
     "base_uri": "https://localhost:8080/",
     "height": 619
    },
    "id": "WckAVsuqUwdJ",
    "outputId": "b97c9f8e-0369-4139-dca1-53c39e82ea74",
    "tags": []
   },
   "outputs": [
    {
     "data": {
      "text/html": [
       "\n",
       "<style>\n",
       ".main_summary {\n",
       "  font-weight: bold;\n",
       "  font-size: 14px; color: #4285F4;\n",
       "  background-color:rgba(221, 221, 221, 0.5); padding:8px;}\n",
       ".main_summary:hover {background-color: rgba(221, 221, 221, 1);}\n",
       "details {\n",
       "  background-color:#fff;\n",
       "  border: 1px solid #E8EAED;\n",
       "  padding:0px;\n",
       "  margin-bottom:2px; }\n",
       "details img {width:50%}\n",
       "details > div {padding:10px; }\n",
       "div#left > * > div {\n",
       "    overflow:auto;\n",
       "    max-height:400px; }\n",
       "\n",
       "div#right > pre {\n",
       "    overflow:auto;\n",
       "    max-height:600px;\n",
       "    background-color: ghostwhite;\n",
       "    padding: 10px; }\n",
       "details details > div { overflow: scroll; max-height:400px}\n",
       "details details {\n",
       "  background-color:rgba(246, 231, 217, 0.2);\n",
       "  border: 1px solid #FBBC04;}\n",
       "details details > summary {\n",
       "  padding: 8px;\n",
       "  background-color:rgba(255, 228, 196, 0.6); }\n",
       "details details > summary:hover { background-color:rgba(255, 228, 196, 0.9); }\n",
       "div#left {width: 64%; padding:0 1%;  }\n",
       "div#right {\n",
       "  border-left: 1px solid silver;\n",
       "  width: 30%;\n",
       "  float: right;\n",
       "  padding:0 1%; }\n",
       "body {color: #000; background-color: white; padding:10px 10px 40px 10px; }\n",
       "#main { border: 1px solid #FBBC04; padding:10px 0; display: flow-root; }\n",
       "h3 {color: #000; }\n",
       "code  { font-family: monospace; color: #900; padding: 0 2px; font-size: 105%; }\n",
       "</style>\n",
       "        \n",
       "<div id='main'>\n",
       "    <div id=\"right\">\n",
       "      <h3>Generated Code by Code Interpreter</h3>\n",
       "      <pre><code>```python\n",
       "import warnings\n",
       "import pandas as pd\n",
       "import matplotlib.pyplot as plt\n",
       "\n",
       "warnings.filterwarnings(\"ignore\", category=FutureWarning)\n",
       "\n",
       "# Load the pickled DataFrame\n",
       "df = pd.read_pickle(\"311_dataframe_augmented.pkl\", compression=\"zip\")\n",
       "\n",
       "# Define the vermin-related complaint types\n",
       "vermin_complaint_types = [\n",
       "    \"Rodent\",\n",
       "    \"Rat\",\n",
       "    \"Mice\",\n",
       "    \"Vermin\",\n",
       "    \"Infestation\",\n",
       "    \"Cockroach\",\n",
       "    \"Bed Bug\",\n",
       "    \"Flea\",\n",
       "    \"Lice\",\n",
       "    \"Mosquito\",\n",
       "    \"Termite\",\n",
       "    \"Ant\",\n",
       "    \"Spider\",\n",
       "    \"Flies\",\n",
       "    \"Animal\",\n",
       "    \"Pigeon\",\n",
       "    \"Bird\",\n",
       "    \"Squirrel\",\n",
       "    \"Raccoon\",\n",
       "    \"Opossum\",\n",
       "    \"Skunk\",\n",
       "    \"Bat\",\n",
       "    \"Cat\",\n",
       "    \"Dog\",\n",
       "    \"Livestock\",\n",
       "    \"Poultry\",\n",
       "    \"Wildlife\",\n",
       "    \"Animal Control\",\n",
       "    \"Animal Bite\",\n",
       "    \"Animal Nuisance\",\n",
       "    \"Animal Complaint\",\n",
       "    \"Animal Abuse\",\n",
       "    \"Dead Animal\",\n",
       "    \"Stray Animal\",\n",
       "    \"Wild Animal\",\n",
       "    \"Dangerous Animal\",\n",
       "    \"Aggressive Animal\",\n",
       "    \"Unleashed Dog\",\n",
       "    \"Animal in a Park\",\n",
       "    \"Animal-Abuse\",\n",
       "    \"Illegal Animal Kept as Pet\",\n",
       "    \"Illegal Animal Sold\",\n",
       "    \"Unsanitary Animal Pvt Property\",\n",
       "    \"Unsanitary Pigeon Condition\",\n",
       "    \"Harboring Bees/Wasps\",\n",
       "    \"Mosquitoes\",\n",
       "]\n",
       "\n",
       "# Filter the DataFrame for vermin-related complaints\n",
       "vermin_df = df[df[\"complaint_type\"].isin(vermin_complaint_types)]\n",
       "\n",
       "# Print the number of vermin-related complaints\n",
       "print(f\"Number of vermin-related complaints: {len(vermin_df)}\")\n",
       "\n",
       "# Create a horizontal bar plot showing the counts of the different vermin-related complaint types\n",
       "vermin_df[\"complaint_type\"].value_counts().plot(kind=\"barh\", figsize=(10, 6), title=\"Vermin-Related Complaints\")\n",
       "\n",
       "# Set the title and labels\n",
       "plt.xlabel(\"Number of Complaints\")\n",
       "plt.ylabel(\"Complaint Type\")\n",
       "\n",
       "# Show the plot\n",
       "plt.show()\n",
       "```</code></pre>\n",
       "    </div>\n",
       "    <div id=\"left\">\n",
       "      <h3>Code Execution Results</h3>\n",
       "      \n",
       "  <details open>\n",
       "    <summary class='main_summary'>Executed Code Output:</summary>\n",
       "    <div><pre>Number of vermin-related complaints: 360\n",
       "</pre></div>\n",
       "  </details>\n",
       "  \n",
       "  <details open>\n",
       "    <summary class='main_summary'>Files Created <u>(Click on filename to view content)</u>:</summary>\n",
       "    <div><pre><details><summary>code_execution_image_1_LjIsZoG7Es-S2ukPo6my0Ak.png</summary><div><img src=\"data:image/png;base64, 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\" /></div></details></pre></div>\n",
       "  </details>\n",
       "  \n",
       "    </div>\n",
       "</div>\n"
      ],
      "text/plain": [
       "<IPython.core.display.HTML object>"
      ]
     },
     "metadata": {},
     "output_type": "display_data"
    }
   ],
   "source": [
    "QUERY = \"\"\"\n",
    "The attached pkl file is a DataFrame of citizen complaints.\n",
    "Use the warnings library to supress all category=FutureWarning.\n",
    "First, load the pickled DataFrame. The pickled Dataframe was saved with the compression set to zip.\n",
    "You are going to do analysis of complaints related to vermin.\n",
    "Consider the different kinds of complaints, and determine the complaint types that have to do with vermin. Here are the unique complaint types:{}\n",
    "Be generous with your definition of vermin, there are multiple relevant complaint types.\n",
    "Print the number of complaints that have to do with vermin.\n",
    "Then, create a horizontal bar plot showing the counts of the different vermin-related complaint types.\n",
    "Title the plot and the X axis.\n",
    "The compliant types should be on the Y axis.\n",
    "Make sure the image is wide enough to show all the Y axis labels.\n",
    "Here is the head() of the dataframe {}:\n",
    "\"\"\".format(\n",
    "    df_311_augmented['complaint_type'].unique().tolist(),\n",
    "    df_311_augmented.head())\n",
    "response = run_code_interpreter(QUERY, ['311_dataframe_augmented.pkl'])\n",
    "process_response(response)"
   ]
  },
  {
   "cell_type": "markdown",
   "metadata": {
    "id": "p_AaQ4Xtu_V0"
   },
   "source": [
    "You may find it interesting to rerun the prompt above and see how Code Interpreter's idea of \"vermin\" changes.\n",
    "\n",
    "Finally, let's use our augmented time fields to do some analysis of complaint creation times."
   ]
  },
  {
   "cell_type": "code",
   "execution_count": 51,
   "metadata": {
    "colab": {
     "base_uri": "https://localhost:8080/",
     "height": 662
    },
    "id": "5hSKyhizywvN",
    "outputId": "45b05e4b-6cab-400e-f2d2-b43048057c37",
    "tags": []
   },
   "outputs": [
    {
     "data": {
      "text/html": [
       "\n",
       "<style>\n",
       ".main_summary {\n",
       "  font-weight: bold;\n",
       "  font-size: 14px; color: #4285F4;\n",
       "  background-color:rgba(221, 221, 221, 0.5); padding:8px;}\n",
       ".main_summary:hover {background-color: rgba(221, 221, 221, 1);}\n",
       "details {\n",
       "  background-color:#fff;\n",
       "  border: 1px solid #E8EAED;\n",
       "  padding:0px;\n",
       "  margin-bottom:2px; }\n",
       "details img {width:50%}\n",
       "details > div {padding:10px; }\n",
       "div#left > * > div {\n",
       "    overflow:auto;\n",
       "    max-height:400px; }\n",
       "\n",
       "div#right > pre {\n",
       "    overflow:auto;\n",
       "    max-height:600px;\n",
       "    background-color: ghostwhite;\n",
       "    padding: 10px; }\n",
       "details details > div { overflow: scroll; max-height:400px}\n",
       "details details {\n",
       "  background-color:rgba(246, 231, 217, 0.2);\n",
       "  border: 1px solid #FBBC04;}\n",
       "details details > summary {\n",
       "  padding: 8px;\n",
       "  background-color:rgba(255, 228, 196, 0.6); }\n",
       "details details > summary:hover { background-color:rgba(255, 228, 196, 0.9); }\n",
       "div#left {width: 64%; padding:0 1%;  }\n",
       "div#right {\n",
       "  border-left: 1px solid silver;\n",
       "  width: 30%;\n",
       "  float: right;\n",
       "  padding:0 1%; }\n",
       "body {color: #000; background-color: white; padding:10px 10px 40px 10px; }\n",
       "#main { border: 1px solid #FBBC04; padding:10px 0; display: flow-root; }\n",
       "h3 {color: #000; }\n",
       "code  { font-family: monospace; color: #900; padding: 0 2px; font-size: 105%; }\n",
       "</style>\n",
       "        \n",
       "<div id='main'>\n",
       "    <div id=\"right\">\n",
       "      <h3>Generated Code by Code Interpreter</h3>\n",
       "      <pre><code>```python\n",
       "import warnings\n",
       "import pandas as pd\n",
       "\n",
       "warnings.filterwarnings(\"ignore\", category=FutureWarning)\n",
       "\n",
       "# Load the pickled DataFrame\n",
       "df = pd.read_pickle(\"311_dataframe_augmented.pkl\", compression=\"zip\")\n",
       "\n",
       "# Group by created_hour and count the occurrences of each complaint type\n",
       "complaint_counts = df.groupby(\"created_hour\")[\"complaint_type\"].value_counts()\n",
       "\n",
       "# Get the most common complaint type for each hour\n",
       "most_common_complaints = complaint_counts.groupby(level=0).idxmax()\n",
       "\n",
       "# Print the report\n",
       "print(\"Most Common Complaints by Hour:\")\n",
       "print(most_common_complaints)\n",
       "```</code></pre>\n",
       "    </div>\n",
       "    <div id=\"left\">\n",
       "      <h3>Code Execution Results</h3>\n",
       "      \n",
       "  <details open>\n",
       "    <summary class='main_summary'>Executed Code Output:</summary>\n",
       "    <div><pre>Most Common Complaints by Hour:\n",
       "created_hour\n",
       "0         (0, Noise - Residential)\n",
       "1         (1, Noise - Residential)\n",
       "2         (2, Noise - Residential)\n",
       "3         (3, Noise - Residential)\n",
       "4         (4, Noise - Residential)\n",
       "5         (5, Noise - Residential)\n",
       "6              (6, HEAT/HOT WATER)\n",
       "7             (7, Illegal Parking)\n",
       "8             (8, Illegal Parking)\n",
       "9      (9, Street Light Condition)\n",
       "10    (10, Street Light Condition)\n",
       "11    (11, Street Light Condition)\n",
       "12         (12, Derelict Vehicles)\n",
       "13    (13, Street Light Condition)\n",
       "14          (14, Street Condition)\n",
       "15          (15, Street Condition)\n",
       "16       (16, Noise - Residential)\n",
       "17       (17, Noise - Residential)\n",
       "18       (18, Noise - Residential)\n",
       "19       (19, Noise - Residential)\n",
       "20       (20, Noise - Residential)\n",
       "21       (21, Noise - Residential)\n",
       "22       (22, Noise - Residential)\n",
       "23       (23, Noise - Residential)\n",
       "Name: count, dtype: object\n",
       "</pre></div>\n",
       "  </details>\n",
       "  \n",
       "  <details open>\n",
       "    <summary class='main_summary'>Files Created <u>(Click on filename to view content)</u>:</summary>\n",
       "    <div><pre>No Files generated from the code</pre></div>\n",
       "  </details>\n",
       "  \n",
       "    </div>\n",
       "</div>\n"
      ],
      "text/plain": [
       "<IPython.core.display.HTML object>"
      ]
     },
     "metadata": {},
     "output_type": "display_data"
    }
   ],
   "source": [
    "QUERY = \"\"\"\n",
    "The attached pkl file is a DataFrame of citizen complaints.\n",
    "Use the warnings library to supress all category=FutureWarning.\n",
    "First, load the pickled DataFrame. The pickled Dataframe was saved with the compression set to zip.\n",
    "You are going to do analysis of the most common complaints by hour of the day, using the 'created_hour' field.\n",
    "For each hour of the day, determine the most common complaint type.\n",
    "Print out a report.\n",
    "Here is the head() of the dataframe {}:\n",
    "\"\"\".format(df_311_augmented.head())\n",
    "response = run_code_interpreter(QUERY, ['311_dataframe_augmented.pkl'])\n",
    "process_response(response)"
   ]
  },
  {
   "cell_type": "markdown",
   "metadata": {
    "id": "figw2zZ7MmO4"
   },
   "source": [
    "# Cleaning Up\n",
    "In this tutorial you used Code Interpreter from Vertex AI Extensions to work with a Pandas DataFrame. You set data types, cleaned the data, augemented the data, explored ways to sample the data, and did some data analysis."
   ]
  },
  {
   "cell_type": "markdown",
   "metadata": {
    "id": "SSwaXG-zq-Zs"
   },
   "source": [
    "## Cleaning Up Extensions\n",
    "\n",
    "Run the next code block to remove the extension you registered in this notebook."
   ]
  },
  {
   "cell_type": "code",
   "execution_count": null,
   "metadata": {
    "id": "G6y9BgeyQuXj"
   },
   "outputs": [],
   "source": [
    "extension_code_interpreter.delete()"
   ]
  },
  {
   "cell_type": "markdown",
   "metadata": {
    "id": "-DjFqPctqxg8"
   },
   "source": [
    "If you restarted the notebook runtime, you may have some stray registered Extensions. This next line of code shows you all the Extensions registered in your project:"
   ]
  },
  {
   "cell_type": "code",
   "execution_count": null,
   "metadata": {
    "id": "GTEgYGhFQfTW"
   },
   "outputs": [],
   "source": [
    "extensions.Extension.list()"
   ]
  },
  {
   "cell_type": "markdown",
   "metadata": {
    "id": "ihJEWJvNSfc9"
   },
   "source": [
    "You can use the [Google Cloud Console](https://console.cloud.google.com/vertex-ai/extensions) to view and delete any stray registered Extensions.\n",
    "\n",
    "If you cant to delete all the extensions in your project, uncomment and run this code block. **WARNING**: This cannot be undone!"
   ]
  },
  {
   "cell_type": "code",
   "execution_count": null,
   "metadata": {
    "id": "CsPKKv-USmi-"
   },
   "outputs": [],
   "source": [
    "\"\"\"\n",
    "clean_ids = []\n",
    "\n",
    "for element in extensions.Extension.list():\n",
    "  clean_ids.append(str(element).split(\"extensions/\")[1])\n",
    "\n",
    "for id in clean_ids:\n",
    "  extension = extensions.Extension(id)\n",
    "  extension.delete()\n",
    "\"\"\""
   ]
  },
  {
   "cell_type": "markdown",
   "metadata": {
    "id": "jUkl6FE-tXGC"
   },
   "source": [
    "## Cleaning Up Local Files"
   ]
  },
  {
   "cell_type": "markdown",
   "metadata": {
    "id": "dyM_NM-cPciW"
   },
   "source": [
    "If you used the `run_code_interpreter` helper function, you can quickly cleanup the files created by Code Interpreter. First, take a look at the file names created:"
   ]
  },
  {
   "cell_type": "code",
   "execution_count": null,
   "metadata": {
    "id": "KKIcuYjMQYmY"
   },
   "outputs": [],
   "source": [
    "print(set(CODE_INTERPRETER_WRITTEN_FILES))"
   ]
  },
  {
   "cell_type": "markdown",
   "metadata": {
    "id": "nbcEVKPAQcX5"
   },
   "source": [
    "If you don't want to keep any of these files, uncomment and run the next code block. **WARNING**: These files will all be deleted, and this cannot be undone."
   ]
  },
  {
   "cell_type": "code",
   "execution_count": 46,
   "metadata": {
    "id": "SrK4sJCiPtkg"
   },
   "outputs": [],
   "source": [
    "# import os\n",
    "# _ = [os.remove(filename) for filename in set(CODE_INTERPRETER_WRITTEN_FILES)\n",
    "#      if os.path.isfile(filename)]"
   ]
  },
  {
   "cell_type": "markdown",
   "metadata": {
    "id": "PMKk4CScm_4C"
   },
   "source": [
    "Uncomment to remove one more file created by this notebook:"
   ]
  },
  {
   "cell_type": "code",
   "execution_count": null,
   "metadata": {
    "id": "1BfKIV2Jm_eU"
   },
   "outputs": [],
   "source": [
    "# os.remove('tree_data.csv')\n",
    "# os.remove('schema.json')\n",
    "# os.remove('311_dataframe.pkl')"
   ]
  }
 ],
 "metadata": {
  "colab": {
   "provenance": []
  },
  "environment": {
   "kernel": "test_pandas",
   "name": "workbench-notebooks.m119",
   "type": "gcloud",
   "uri": "us-docker.pkg.dev/deeplearning-platform-release/gcr.io/workbench-notebooks:m119"
  },
  "kernelspec": {
   "display_name": "test_pandas (Local)",
   "language": "python",
   "name": "test_pandas"
  },
  "language_info": {
   "codemirror_mode": {
    "name": "ipython",
    "version": 3
   },
   "file_extension": ".py",
   "mimetype": "text/x-python",
   "name": "python",
   "nbconvert_exporter": "python",
   "pygments_lexer": "ipython3",
   "version": "3.10.14"
  }
 },
 "nbformat": 4,
 "nbformat_minor": 4
}
