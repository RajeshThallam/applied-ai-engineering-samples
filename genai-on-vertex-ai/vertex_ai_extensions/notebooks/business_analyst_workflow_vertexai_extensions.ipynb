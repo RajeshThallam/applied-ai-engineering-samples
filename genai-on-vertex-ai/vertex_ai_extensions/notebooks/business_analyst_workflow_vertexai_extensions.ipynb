{
 "cells": [
  {
   "cell_type": "code",
   "execution_count": null,
   "metadata": {
    "id": "ur8xi4C7S06n"
   },
   "outputs": [],
   "source": [
    "# Copyright 2024 Google LLC\n",
    "#\n",
    "# Licensed under the Apache License, Version 2.0 (the \"License\");\n",
    "# you may not use this file except in compliance with the License.\n",
    "# You may obtain a copy of the License at\n",
    "#\n",
    "#     https://www.apache.org/licenses/LICENSE-2.0\n",
    "#\n",
    "# Unless required by applicable law or agreed to in writing, software\n",
    "# distributed under the License is distributed on an \"AS IS\" BASIS,\n",
    "# WITHOUT WARRANTIES OR CONDITIONS OF ANY KIND, either express or implied.\n",
    "# See the License for the specific language governing permissions and\n",
    "# limitations under the License."
   ]
  },
  {
   "cell_type": "markdown",
   "metadata": {
    "id": "x0q6qjyLbCG5"
   },
   "source": [
    "# Business Analyst Workflow with Vertex AI Extensions\n",
    "\n",
    "<table align=\"left\">\n",
    "  <td style=\"text-align: center\">\n",
    "    <a href=\"https://art-analytics.appspot.com/r.html?uaid=G-FHXEFWTT4E&utm_source=aRT-ba_extbygoog_notebook-from_notebook-colab&utm_medium=aRT-clicks&utm_campaign=ba_extbygoog_notebook-from_notebook-colab&destination=ba_extbygoog_notebook-from_notebook-colab&url=https%3A%2F%2Fcolab.research.google.com%2Fgithub%2FGoogleCloudPlatform%2Fapplied-ai-engineering-samples%2Fblob%2Fmain%2Fgenai-on-vertex-ai%2Fvertex_ai_extensions%2Fnotebooks%2Fbusiness_analyst_workflow_vertexai_extensions.ipynb\">\n",
    "      <img src=\"https://cloud.google.com/ml-engine/images/colab-logo-32px.png\" alt=\"Google Colaboratory logo\"><br> Open in Colab\n",
    "    </a>\n",
    "  </td>\n",
    "  <td style=\"text-align: center\">\n",
    "    <a href=\"https://art-analytics.appspot.com/r.html?uaid=G-FHXEFWTT4E&utm_source=aRT-ba_extbygoog_notebook-from_notebook-colab_ent&utm_medium=aRT-clicks&utm_campaign=ba_extbygoog_notebook-from_notebook-colab_ent&destination=ba_extbygoog_notebook-from_notebook-colab_ent&url=https%3A%2F%2Fconsole.cloud.google.com%2Fvertex-ai%2Fcolab%2Fimport%2Fhttps%3A%252F%252Fraw.githubusercontent.com%252FGoogleCloudPlatform%252Fapplied-ai-engineering-samples%252Fmain%252Fgenai-on-vertex-ai%252Fvertex_ai_extensions%252Fnotebooks%252Fbusiness_analyst_workflow_vertexai_extensions.ipynb\">\n",
    "      <img width=\"32px\" src=\"https://lh3.googleusercontent.com/JmcxdQi-qOpctIvWKgPtrzZdJJK-J3sWE1RsfjZNwshCFgE_9fULcNpuXYTilIR2hjwN\" alt=\"Google Cloud Colab Enterprise logo\"><br> Open in Colab Enterprise\n",
    "    </a>\n",
    "  </td>    \n",
    "  <td style=\"text-align: center\">\n",
    "    <a href=\"https://art-analytics.appspot.com/r.html?uaid=G-FHXEFWTT4E&utm_source=aRT-ba_extbygoog_notebook-from_notebook-vai_workbench&utm_medium=aRT-clicks&utm_campaign=ba_extbygoog_notebook-from_notebook-vai_workbench&destination=ba_extbygoog_notebook-from_notebook-vai_workbench&url=https%3A%2F%2Fconsole.cloud.google.com%2Fvertex-ai%2Fworkbench%2Fdeploy-notebook%3Fdownload_url%3Dhttps%3A%2F%2Fraw.githubusercontent.com%2FGoogleCloudPlatform%2Fapplied-ai-engineering-samples%2Fmain%2Fgenai-on-vertex-ai%2Fvertex_ai_extensions%2Fnotebooks%2Fbusiness_analyst_workflow_vertexai_extensions.ipynb\">\n",
    "      <img src=\"https://lh3.googleusercontent.com/UiNooY4LUgW_oTvpsNhPpQzsstV5W8F7rYgxgGBD85cWJoLmrOzhVs_ksK_vgx40SHs7jCqkTkCk=e14-rj-sc0xffffff-h130-w32\" alt=\"Vertex AI logo\"><br> Open in Workbench\n",
    "    </a>\n",
    "  </td>\n",
    "  <td style=\"text-align: center\">\n",
    "    <a href=\"https://art-analytics.appspot.com/r.html?uaid=G-FHXEFWTT4E&utm_source=aRT-ba_extbygoog_notebook-from_notebook-github&utm_medium=aRT-clicks&utm_campaign=ba_extbygoog_notebook-from_notebook-github&destination=ba_extbygoog_notebook-from_notebook-github&url=https%3A%2F%2Fgithub.com%2FGoogleCloudPlatform%2Fapplied-ai-engineering-samples%2Fblob%2Fmain%2Fgenai-on-vertex-ai%2Fvertex_ai_extensions%2Fnotebooks%2Fbusiness_analyst_workflow_vertexai_extensions.ipynb\">\n",
    "      <img src=\"https://cloud.google.com/ml-engine/images/github-logo-32px.png\" alt=\"GitHub logo\"><br> View on GitHub\n",
    "    </a>\n",
    "  </td>\n",
    "</table>"
   ]
  },
  {
   "cell_type": "markdown",
   "metadata": {
    "id": "MGwjcyJkb78K"
   },
   "source": [
    "| | |\n",
    "|----------|-------------|\n",
    "| Author(s)   | [Lei Pan](https://github.com/genaimagician)|\n",
    "| Reviewers(s) | [Meltem Subasioglu](https://github.com/5Y5TEM), Michael W. Sherman|\n",
    "| Last updated | 2024-04-30: Code Review and Cleanup |\n",
    "| | 2024-04-24: Code & Documentation Changes |"
   ]
  },
  {
   "cell_type": "markdown",
   "metadata": {
    "id": "JAPoU8Sm5E6e"
   },
   "source": [
    "## Overview\n",
    "\n",
    "In this notebook, we will show you how to use the Vertex AI Extensions Code Interpreter and Vertex AI Search extensions to complete a housing investment opportunities research report for business stakeholders. You will perform the following steps:\n",
    "\n",
    "- Creating a pre-built Code Interpreter extension in your project\n",
    "- Using Code Interpreter to analyze housing data\n",
    "- Creating and using the Vertex AI Search extension to research on housing investment opportunities\n",
    "- (Optional) Automatically adding the data analysis and research to your Google Slide deck with the [Google Sheets API](https://developers.google.com/sheets/api/guides/concepts) and [Google Slides API](https://developers.google.com/slides/api/reference/rest)\n",
    "- (Optional) Emailing the Slides deck link to stakeholders with the [Gmail API](https://developers.google.com/gmail/api/guides)"
   ]
  },
  {
   "cell_type": "markdown",
   "metadata": {
    "id": "4S23-EwCumCU"
   },
   "source": [
    "▶ If you're already familiar with Google Cloud and the Vertex AI Extensions Code Interpreter and Vertex AI Search Extensions, you can skip reading between here and the \"**Getting Started**\" section."
   ]
  },
  {
   "cell_type": "markdown",
   "metadata": {
    "id": "KUXzlvfpn513"
   },
   "source": [
    "### Vertex AI Extensions\n",
    "\n",
    "[Vertex AI Extensions](https://cloud.google.com/vertex-ai/generative-ai/docs/extensions/overview) is a platform for creating and managing extensions that connect large language models to external systems via APIs. These external systems can provide LLMs with real-time data and perform data processing actions on their behalf. You can use pre-built or third-party extensions in Vertex AI Extensions."
   ]
  },
  {
   "cell_type": "markdown",
   "metadata": {
    "id": "3r29fUEFn8JH"
   },
   "source": [
    "### Vertex AI Extensions Code Interpreter Extension\n",
    "\n",
    "The [Code Interpreter](https://console.cloud.google.com/vertex-ai/generative-ai/docs/extensions/google-extensions.md#google_code_interpreter_extension) extension provides access to a Python interpreter with a sandboxed, secure execution environment. It lets you generate and execute Python code to:\n",
    "\n",
    "* Analyze, clean, transform, and reshape your datasets\n",
    "* Visualize data in charts and graphs\n",
    "* Execute calculations"
   ]
  },
  {
   "cell_type": "markdown",
   "metadata": {
    "id": "-CDQMnan1a7o"
   },
   "source": [
    "### Vertex AI Extensions Search Extension\n",
    "\n",
    "The Vertex AI [Search](https://cloud.google.com/vertex-ai/generative-ai/docs/extensions/google-extensions#vertex_ai_search_extension) extension lets you access and search website corpuses and unstructured data to provide relevant responses to natural language questions, such as:\n",
    "\n",
    "* \"How did the competitive threats for the company change from Q1 of last year to Q1 of this year?\"\n",
    "* \"What parts of the company are growing the fastest? How fast?\""
   ]
  },
  {
   "cell_type": "markdown",
   "metadata": {
    "id": "uNriTZl70OdV"
   },
   "source": [
    "### Using this Notebook\n",
    "\n",
    "If you're running outside of Colab, depending on your environment you may need to install pip packages that are included in the Colab environment by default but are not part of the Python Standard Library. Outside of Colab you'll also notice comments in code cells that look like #@something, these trigger special Colab functionality but don't change the behavior of the notebook.\n",
    "\n",
    "This tutorial uses the following Google Cloud services and resources:\n",
    "\n",
    "* Vertex AI Extensions\n",
    "* Google Cloud Storage Client\n",
    "  - If you don't have a bucket, you can follow [this doc](https://cloud.google.com/storage/docs/creating-buckets) to create one or follow the code provided in this notebook later.\n",
    "* Google Slides API (needed only if you run the optional step 4 and 5)\n",
    "* Google Sheets API (needed only if you run the optional step 4 and 5)\n",
    "* Gmail API (needed only if you run the optional step 4 and 5)\n",
    "\n",
    "This notebook has been tested in the following environment:\n",
    "\n",
    "* Python version = 3.10.12\n",
    "* [google-cloud-aiplatform](https://pypi.org/project/google-cloud-aiplatform/) version = 1.4.7\n",
    "* [google-cloud-discoveryengine](https://cloud.google.com/python/docs/reference/discoveryengine/latest) version = 0.11.11\n",
    "\n",
    "**Note:** Vertex AI Extensions requires google-cloud-aiplatform version >= 1.47.0\n",
    "\n",
    "🗒 **Please note: the optional section near the end of this notebook shows how to use Google's Workspace APIs to save a PDF report to your Google Drive and to send an email with the attached PDF. Using the Workspace APIs requires going through a web-based authentication flow. Many remote notebook environments, including Colab and Juypterlab, don't support this out-of-the-box. If you want to run through the optional section, make sure you are running this notebook in an environment that can open a webpage that you can interact with, like a local development environment.**"
   ]
  },
  {
   "cell_type": "markdown",
   "metadata": {
    "id": "Ar0aDcql1dxl"
   },
   "source": [
    "### Useful Tips\n",
    "\n",
    "1. This notebook uses Generative AI cababilities. Re-running a cell that uses Generative AI capabilities may produce similar but not identical results.\n",
    "2. Because of #1, it is possible that an output from Code Interpreter producess errors. If that happens re-run the cell that produced the coding error. The different generated code will likely be bug free. The `run_code_interpreter` method below helps automate this, but you still may need to rerun cells that generate working code that doesn't perfectly follow the instructions in the prompt.\n",
    "3. The use of Extensions and other Generative AI capabilities is subject to service quotas. Running the notebook using \"Run All\" may exceed  your queries per minute (QPM) limitations. Run the notebook manually and if you get a quota error pause for up to 1 minute before retrying that cell. Code Interpreter defaults to Gemini on the backend and is subject to the Gemini quotas, [view your Gemini quotas here](https://console.cloud.google.com/iam-admin/quotas?pageState=(%22allQuotasTable%22:(%22f%22:%22%255B%257B_22k_22_3A_22_22_2C_22t_22_3A10_2C_22v_22_3A_22_5C_22base_model_5C_22_22%257D_2C%257B_22k_22_3A_22_22_2C_22t_22_3A10_2C_22v_22_3A_22_5C_22gemini_5C_22_22%257D%255D%22%29%29&e=13802955&mods=logs_tg_staging).\n",
    "4. The Code Interpreter Extension is stateless and therefore every request to Code Interpreter does not have knowledge of previous operations nor files injested or produced in previous steps. Therefore, with any request to Code Interpreter you need to submit all files and instructions for that request to complete successfully.\n",
    "\n"
   ]
  },
  {
   "cell_type": "markdown",
   "metadata": {
    "id": "PO_tnShTGUik"
   },
   "source": [
    "## Getting Started\n",
    "\n",
    "The following steps are necessary to run this notebook, no matter what notebook environment you're using.\n",
    "\n",
    "If you're entirely new to Google Cloud, [get started here](https://cloud.google.com/docs/get-started)."
   ]
  },
  {
   "cell_type": "markdown",
   "metadata": {
    "id": "dq30xzDj-dkW"
   },
   "source": [
    "### Google Cloud Project Setup\n",
    "\n",
    "1. [Select or create a Google Cloud project](https://console.cloud.google.com/cloud-resource-manager). When you first create an account, you get a $300 free credit towards your compute/storage costs.\n",
    "1. [Make sure that billing is enabled for your project](https://cloud.google.com/billing/docs/how-to/modify-project).\n",
    "1. [Enable the Service Usage API](https://console.cloud.google.com/apis/library/serviceusage.googleapis.com)\n",
    "1. [Enable the Vertex AI API](https://console.cloud.google.com/flows/enableapi?apiid=aiplatform.googleapis.com).\n",
    "1. [Enable the Cloud Storage API](https://console.cloud.google.com/flows/enableapi?apiid=storage.googleapis.com).\n",
    "1. [Enable the Discovery Engine API for your project](https://console.cloud.google.com/marketplace/product/google/discoveryengine.googleapis.com).\n",
    "1. [Enable the Agent Builder API](https://console.cloud.google.com/gen-app-builder/start).\n",
    "1. [Enable the Slide API](https://console.cloud.google.com/flows/enableapi?apiid=slides.googleapis.com) (needed only if you run the optional step 4 and 5).\n",
    "1. [Enable the Sheet API](https://console.cloud.google.com/flows/enableapi?apiid=sheets.googleapis.com) (needed only if you run the optional step 4 and 5).\n",
    "1. [Enable the Gmail API](https://console.cloud.google.com/flows/enableapi?apiid=gmail.googleapis.com). (needed only if you run the optional step 4 and 5)."
   ]
  },
  {
   "cell_type": "code",
   "execution_count": 48,
   "metadata": {
    "tags": []
   },
   "outputs": [
    {
     "data": {
      "text/plain": [
       "'1.49.0'"
      ]
     },
     "execution_count": 48,
     "metadata": {},
     "output_type": "execute_result"
    }
   ],
   "source": [
    "vertexai.__version__"
   ]
  },
  {
   "cell_type": "markdown",
   "metadata": {
    "id": "kqFCMciQ-dkW"
   },
   "source": [
    "### Google Cloud Permissions\n",
    "\n",
    "**To run the complete Notebook, including the optional section, you will need to have the [Owner role](https://cloud.google.com/iam/docs/understanding-roles) for your project.**\n",
    "\n",
    "If you want to skip the optional section, you need at least the following [roles](https://cloud.google.com/iam/docs/granting-changing-revoking-access):\n",
    "* **`roles/serviceusage.serviceUsageAdmin`** to enable APIs\n",
    "* **`roles/iam.serviceAccountAdmin`** to modify service agent permissions\n",
    "* **`roles/discoveryengine.admin`** to modify discoveryengine assets\n",
    "* **`roles/aiplatform.user`** to use AI Platform components\n",
    "* **`roles/storage.objectAdmin`** to modify and delete GCS buckets\n",
    "\n",
    "\n",
    "\n"
   ]
  },
  {
   "cell_type": "markdown",
   "metadata": {
    "id": "IkFv0zD6x27_"
   },
   "source": [
    "### Install Vertex AI SDK and Other Required Packages\n"
   ]
  },
  {
   "cell_type": "code",
   "execution_count": null,
   "metadata": {
    "id": "DEKfRTPsJoN-",
    "tags": []
   },
   "outputs": [],
   "source": [
    "!pip install google-cloud-discoveryengine --upgrade\n",
    "!pip install google-cloud-aiplatform --upgrade\n",
    "# Note -- this may not work in some non-Colab environments. If you get errors\n",
    "# when running 'import vertexai' below, you'll need to find another way to\n",
    "# install the latest google-cloud-aiplatform package into your notebook kernel.\n",
    "# In some kernel setups running \"%pip install google-cloud-aiplatform --upgrade\"\n",
    "# in a code cell works if \"!pip install ....\" doesn't.\n",
    "\n",
    "## If you're running outside of colab, make sure to install the following modules as well:\n",
    "!pip install google\n",
    "!pip install google-api-python-client\n",
    "!pip install google-oauth\n",
    "!pip install google-auth-oauthlib\n",
    "!pip install Pillow"
   ]
  },
  {
   "cell_type": "markdown",
   "metadata": {
    "id": "R5Xep4W9lq-Z"
   },
   "source": [
    "### Restart Runtime\n",
    "\n",
    "To use the newly installed packages in this Jupyter runtime, you must restart the runtime. You can do this by running the cell below, which restarts the current kernel.\n",
    "\n",
    "You may see the restart reported as a crash, but it is working as-intended -- you are merely restarting the runtime.\n",
    "\n",
    "The restart might take a minute or longer. After it's restarted, continue to the next step."
   ]
  },
  {
   "cell_type": "code",
   "execution_count": 2,
   "metadata": {
    "colab": {
     "base_uri": "https://localhost:8080/"
    },
    "id": "XRvKdaPDTznN",
    "outputId": "ad061a26-670b-43ec-bca3-70c6ebdac5e5",
    "tags": []
   },
   "outputs": [
    {
     "data": {
      "text/plain": [
       "{'status': 'ok', 'restart': True}"
      ]
     },
     "execution_count": 2,
     "metadata": {},
     "output_type": "execute_result"
    }
   ],
   "source": [
    "import IPython\n",
    "\n",
    "app = IPython.Application.instance()\n",
    "app.kernel.do_shutdown(True)"
   ]
  },
  {
   "cell_type": "markdown",
   "metadata": {
    "id": "SbmM4z7FOBpM"
   },
   "source": [
    "<div class=\"alert alert-block alert-warning\">\n",
    "<b>⚠️ The kernel is going to restart. Please wait until it is finished before continuing to the next step. ⚠️</b>\n",
    "</div>\n"
   ]
  },
  {
   "cell_type": "markdown",
   "metadata": {
    "id": "7plalcaLGUik"
   },
   "source": [
    "### Authenticate\n",
    "\n",
    "If you're using Colab, run the code in the next cell. Follow the popups and authenticate with an account that has access to your Google Cloud [project](https://cloud.google.com/resource-manager/docs/creating-managing-projects#identifying_projects).\n",
    "\n",
    "If you're running this notebook somewhere besides Colab, make sure your environment has the right Google Cloud access. If that's a new concept to you, consider looking into [Application Default Credentials for your local environment](https://cloud.google.com/docs/authentication/provide-credentials-adc#local-dev) and [initializing the Google Cloud CLI](https://cloud.google.com/docs/authentication/gcloud). In many cases, running `gcloud auth application-default login` in a shell on the machine running the notebook kernel is sufficient.\n",
    "\n",
    "More authentication options are discussed [here](https://cloud.google.com/docs/authentication)."
   ]
  },
  {
   "cell_type": "code",
   "execution_count": null,
   "metadata": {
    "colab": {
     "base_uri": "https://localhost:8080/"
    },
    "id": "THYfMKWMGUil",
    "outputId": "ab572db3-6219-4311-c29f-3daa57d68bbd"
   },
   "outputs": [
    {
     "name": "stdout",
     "output_type": "stream",
     "text": [
      "Authenticated\n"
     ]
    }
   ],
   "source": [
    "# Colab authentication.\n",
    "import sys\n",
    "\n",
    "if \"google.colab\" in sys.modules:\n",
    "    from google.colab import auth\n",
    "    auth.authenticate_user()\n",
    "    print('Authenticated')"
   ]
  },
  {
   "cell_type": "markdown",
   "metadata": {
    "id": "pNcfOA7Ne0kP"
   },
   "source": [
    "### Set Google Cloud project information and initialize Vertex AI SDK\n",
    "\n",
    "To get started using Vertex AI, you must have an existing Google Cloud project and [enable the Vertex AI API](https://console.cloud.google.com/flows/enableapi?apiid=aiplatform.googleapis.com).\n",
    "\n",
    "Learn more about [setting up a project and a development environment](https://cloud.google.com/vertex-ai/docs/start/cloud-environment).\n",
    "\n",
    "Make sure to change `PROJECT_ID` in the next cell. You can leave the values for `REGION` and `API_ENV` unless you have a specific reason to change them."
   ]
  },
  {
   "cell_type": "code",
   "execution_count": 47,
   "metadata": {
    "colab": {
     "base_uri": "https://localhost:8080/"
    },
    "id": "oM1iC_MfAts1",
    "outputId": "2f221479-fc13-437d-d3ed-d38986f4a74a",
    "tags": []
   },
   "outputs": [],
   "source": [
    "import vertexai\n",
    "\n",
    "PROJECT_ID = \"your project id\"  # @param {type:\"string\"}\n",
    "REGION = \"us-central1\"  # @param {type: \"string\"}\n",
    "API_ENV = \"aiplatform.googleapis.com\"  # @param {type:\"string\"}\n",
    "\n",
    "vertexai.init(\n",
    "    project=PROJECT_ID,\n",
    "    location=REGION,\n",
    "    api_endpoint=f\"{REGION}-{API_ENV}\",\n",
    ")"
   ]
  },
  {
   "cell_type": "markdown",
   "metadata": {
    "id": "ossHfQf-4Swv"
   },
   "source": [
    "## Using Vertex AI Extensions to Complete a Housing Research Report for Business Stakeholders Tutorial"
   ]
  },
  {
   "cell_type": "markdown",
   "metadata": {
    "id": "9MFqpF8pfWPJ"
   },
   "source": [
    "### Import Libraries"
   ]
  },
  {
   "cell_type": "markdown",
   "metadata": {
    "id": "tgTdZdjBzrEN"
   },
   "source": [
    "### Step 1: Create a Code Interpreter Extension\n",
    "\n",
    "Now you can create the extension. The following cell uses the Python SDK to import the extension (thereby creating it) into Vertex AI Extensions."
   ]
  },
  {
   "cell_type": "code",
   "execution_count": 4,
   "metadata": {
    "colab": {
     "base_uri": "https://localhost:8080/"
    },
    "id": "B-A82yCzDry5",
    "outputId": "604cffed-a226-4ef9-da83-3e1b7e569cc5",
    "tags": []
   },
   "outputs": [
    {
     "name": "stdout",
     "output_type": "stream",
     "text": [
      "Creating Extension\n",
      "Create Extension backing LRO: projects/812852329854/locations/us-central1/extensions/5230121726632787968/operations/293025930475995136\n",
      "Extension created. Resource name: projects/812852329854/locations/us-central1/extensions/5230121726632787968\n",
      "To use this Extension in another session:\n",
      "extension = vertexai.preview.extensions.Extension('projects/812852329854/locations/us-central1/extensions/5230121726632787968')\n"
     ]
    },
    {
     "data": {
      "text/plain": [
       "<vertexai.extensions._extensions.Extension object at 0x7f47d69afd90> \n",
       "resource name: projects/812852329854/locations/us-central1/extensions/5230121726632787968"
      ]
     },
     "execution_count": 4,
     "metadata": {},
     "output_type": "execute_result"
    }
   ],
   "source": [
    "from vertexai.preview import extensions\n",
    "extension_code_interpreter = extensions.Extension.from_hub(\"code_interpreter\")\n",
    "extension_code_interpreter"
   ]
  },
  {
   "cell_type": "markdown",
   "metadata": {
    "id": "yKCjnPm_lyWz"
   },
   "source": [
    "### Step 2: Use Code Interpreter to Analyze Housing Data\n",
    "\n",
    "In this example, you'll send Code Interpreter a prompt with instructions to use data from a CSV file that you'll include with the Code Interpreter call.\n",
    "\n",
    "- Step 1: Download the housing data CSV and convert it to base64.\n",
    "- Step 2: Call the Code Interpreter extension to generate a histogram of median housing values and save the binned histogram data as a csv file from the attached file.\n",
    "- Step 3: Use a helper function to print out the histogram and output file name."
   ]
  },
  {
   "cell_type": "markdown",
   "metadata": {
    "id": "Z33nEkzgxmXU"
   },
   "source": [
    "####  Download the Housing Sample Data File\n",
    "\n",
    "The dataset contains housing statistics for each [block group](https://en.wikipedia.org/wiki/Census_block_group) in California from the 1990 Census. Each block group averages 1425.5 individuals. Computed distances among the centroids of each block group are in the latitude and longitude fields. Block groups with 0 entries were removed, resulting in 20,640 observations.\n",
    "\n",
    "[Here is the reference and citation of the dataset](https://developers.google.com/machine-learning/crash-course/california-housing-data-description)\n",
    "\n",
    "We use this dataset to calculate median housing values of each block group."
   ]
  },
  {
   "cell_type": "code",
   "execution_count": 5,
   "metadata": {
    "colab": {
     "base_uri": "https://localhost:8080/"
    },
    "id": "s8CpIlsMVq41",
    "outputId": "502e7fc3-eefc-4290-e1af-476f49e4b944",
    "tags": []
   },
   "outputs": [
    {
     "name": "stdout",
     "output_type": "stream",
     "text": [
      "curl: /opt/conda/lib/libcurl.so.4: no version information available (required by curl)\n",
      "  % Total    % Received % Xferd  Average Speed   Time    Time     Time  Current\n",
      "                                 Dload  Upload   Total   Spent    Left  Speed\n",
      "100  294k  100  294k    0     0  1926k      0 --:--:-- --:--:-- --:--:-- 1934k\n"
     ]
    }
   ],
   "source": [
    "# Download the sample data file and encode it in base64.\n",
    "import base64\n",
    "!curl -O https://storage.googleapis.com/cloud-samples-data/vertex-ai/extensions/code-interpreter/california-housing-test.csv\n",
    "filename = \"california-housing-test.csv\"\n",
    "with open(filename, \"rb\") as file:\n",
    "    encoded_string = base64.b64encode(file.read()).decode()"
   ]
  },
  {
   "cell_type": "markdown",
   "metadata": {
    "id": "vDfhUg2ySJEY"
   },
   "source": [
    "#### Call the Code Interpreter Extension to Generate a Histogram and CSV File"
   ]
  },
  {
   "cell_type": "markdown",
   "metadata": {
    "id": "32zy7Ay0xmXg"
   },
   "source": [
    "The output from calling the Code Interpreter extension includes the generated Python code, the histogram, and the generated data file. We print out the raw output using pprint."
   ]
  },
  {
   "cell_type": "code",
   "execution_count": 6,
   "metadata": {
    "id": "UflIrPhkVq4_",
    "tags": []
   },
   "outputs": [
    {
     "name": "stdout",
     "output_type": "stream",
     "text": [
      "Generated Code:\n",
      "{'```python\\n'\n",
      " 'import pandas as pd\\n'\n",
      " 'import matplotlib.pyplot as plt\\n'\n",
      " '\\n'\n",
      " '# Read the CSV file\\n'\n",
      " 'data = pd.read_csv(\"california-housing-test.csv\")\\n'\n",
      " '\\n'\n",
      " '# Create a histogram of median house values\\n'\n",
      " 'plt.hist(data[\"median_house_value\"], bins=20)\\n'\n",
      " 'plt.xlabel(\"Median House Value\")\\n'\n",
      " 'plt.ylabel(\"Frequency\")\\n'\n",
      " 'plt.title(\"Histogram of Median House Values\")\\n'\n",
      " 'plt.show()\\n'\n",
      " '\\n'\n",
      " '# Calculate the median house values and their counts\\n'\n",
      " 'median_house_values = '\n",
      " 'pd.Series(data[\"median_house_value\"]).value_counts().sort_index()\\n'\n",
      " '\\n'\n",
      " '# Save the median house values and their counts to a file\\n'\n",
      " 'with open(\"median_house_values.txt\", \"w\") as f:\\n'\n",
      " '    for median_house_value, count in median_house_values.items():\\n'\n",
      " '        f.write(f\"{median_house_value},{count}\\\\n\")\\n'\n",
      " '```'}\n",
      "Generated File Names:\n",
      "'median_house_values.txt'\n",
      "'code_execution_image_1_IxsxZt6mM8-S2ukPzpaFgAo.png'\n"
     ]
    }
   ],
   "source": [
    "import pprint\n",
    "CODE_QUERY = \"\"\"From the attached CSV file, generate a histogram of median house\n",
    "values. And save median house values and their counts in a file.\"\"\"\n",
    "\n",
    "response = extension_code_interpreter.execute(\n",
    "    operation_id = \"generate_and_execute\",\n",
    "    operation_params = {\"query\": CODE_QUERY,\n",
    "        \"files\": [{\"name\": filename, \"contents\": encoded_string}],},)\n",
    "\n",
    "print(\"Generated Code:\")\n",
    "pprint.pprint({response['generated_code']})\n",
    "\n",
    "print(\"Generated File Names:\")\n",
    "for file_name in response['output_files']:\n",
    "    pprint.pprint(file_name['name'])"
   ]
  },
  {
   "cell_type": "markdown",
   "metadata": {
    "id": "5Aa6JwifSgSc"
   },
   "source": [
    "Here is a helper function that makes it easier to print out the response from code interpreter. This method parses the output files to display images and return non-image files."
   ]
  },
  {
   "cell_type": "code",
   "execution_count": 9,
   "metadata": {
    "id": "adH-FTJ8xmXh",
    "tags": []
   },
   "outputs": [],
   "source": [
    "# Helper function to parse the output from each example query.\n",
    "from IPython.display import display\n",
    "from PIL import Image\n",
    "import io\n",
    "def parse_output_files(outputFiles):\n",
    "    \"\"\"Parses and processes a list of output files.\n",
    "\n",
    "  This function parses a list of output files, sorting them to prioritize displaying image files.\n",
    "  For image files, it decodes the base64 content and renders them using the Image library.\n",
    "  For other file types, it simply returns the decoded content as a string.\n",
    "\n",
    "  Args:\n",
    "    outputFiles: A list of dictionaries containing file information, where each dictionary\n",
    "      has the following keys:\n",
    "      - name (str): The filename of the output file.\n",
    "      - contents (str): The base64 encoded contents of the file.\n",
    "\n",
    "  Returns:\n",
    "    str: The decoded contents of the processed output files (for non-image files).\n",
    "  \"\"\"\n",
    "    IMAGE_FILE_EXTENSIONS = set([\"jpg\", \"jpeg\", \"png\"])\n",
    "    # Sort the output_files so images are displayed before other files such as JSON.\n",
    "    for output_file in sorted(\n",
    "        outputFiles,\n",
    "        key=lambda x: x[\"name\"].split(\".\")[-1] not in IMAGE_FILE_EXTENSIONS,\n",
    "    ):\n",
    "        file_name = output_file.get(\"name\")\n",
    "        file_contents = base64.b64decode(output_file.get(\"contents\"))\n",
    "        print(\"Output Files: \\n=======================\\n\")\n",
    "        print(f\"File Name: {file_name}\\n\")\n",
    "\n",
    "        if file_name.split(\".\")[-1] in IMAGE_FILE_EXTENSIONS:\n",
    "            # Render Image\n",
    "            image = Image.open(io.BytesIO(file_contents))\n",
    "            display(image)\n",
    "\n",
    "    return file_contents.decode()"
   ]
  },
  {
   "cell_type": "code",
   "execution_count": 10,
   "metadata": {
    "id": "nlM6_U8YLNBr",
    "tags": []
   },
   "outputs": [
    {
     "name": "stdout",
     "output_type": "stream",
     "text": [
      "Output Files: \n",
      "=======================\n",
      "\n",
      "File Name: code_execution_image_1_IxsxZt6mM8-S2ukPzpaFgAo.png\n",
      "\n"
     ]
    },
    {
     "data": {
      "image/png": "[encoded data removed]",
      "text/plain": [
       "<PIL.PngImagePlugin.PngImageFile image mode=RGBA size=640x480>"
      ]
     },
     "metadata": {},
     "output_type": "display_data"
    },
    {
     "name": "stdout",
     "output_type": "stream",
     "text": [
      "Output Files: \n",
      "=======================\n",
      "\n",
      "File Name: median_house_values.txt\n",
      "\n"
     ]
    }
   ],
   "source": [
    "res = parse_output_files(response[\"output_files\"])"
   ]
  },
  {
   "cell_type": "markdown",
   "metadata": {
    "id": "T5PqGgkd3V9N"
   },
   "source": [
    "### Step 3: Use the Vertex AI Search Extension to Research on Housing Opportunities\n",
    "\n",
    "In this section, we do the following tasks:\n",
    "\n",
    "- Create Vertex AI Search App with 4 PDFs for Search Extension.\n",
    "- Use Search Extension to extract key information on housing investment opportunities Search App.\n",
    "- Use Gemini model to summarize the key information."
   ]
  },
  {
   "cell_type": "markdown",
   "metadata": {
    "id": "wQYE7e8lrwR8"
   },
   "source": [
    "For using the Vertex AI Search Extension, please grant the [Vertex AI Extension Service agent](https://cloud.google.com/vertex-ai/docs/general/access-control#service-agents) the [permission needed](https://cloud.google.com/vertex-ai/docs/general/access-control#home-project). In this case, you need permissions to run discovery engine.\n",
    "\n",
    "To do so in the UI:\n",
    "1. Go to https://console.cloud.google.com/iam-admin/iam\n",
    "2. Make sure you're in the right project.\n",
    "3. Enable the checkfield `Include Google-provided role grants`. This will show you the active service accounts in your project.\n",
    "4. Locate the service agent with the name **Vertex AI Extension Service Agent**.\n",
    "5. Click on the pen icon to edit the roles for this service agent.\n",
    "6. Click on `add another role` and add **Discovery Engine Editor**.\n",
    "7. Save the changes.\n",
    "\n",
    "\n",
    "**Alternatively, run the next cell to assign the role to the Service Agent programmatically:**"
   ]
  },
  {
   "cell_type": "code",
   "execution_count": 20,
   "metadata": {
    "id": "XKpHduryrxx-",
    "tags": []
   },
   "outputs": [
    {
     "name": "stderr",
     "output_type": "stream",
     "text": [
      "Updated IAM policy for project [mws-playground].\n"
     ]
    },
    {
     "name": "stdout",
     "output_type": "stream",
     "text": [
      "bindings:\n",
      "- members:\n",
      "  - serviceAccount:service-812852329854@gcp-sa-aiplatform-cc.iam.gserviceaccount.com\n",
      "  role: roles/aiplatform.customCodeServiceAgent\n",
      "- members:\n",
      "  - serviceAccount:service-812852329854@gcp-sa-vertex-ex-cc.iam.gserviceaccount.com\n",
      "  role: roles/aiplatform.extensionCustomCodeServiceAgent\n",
      "- members:\n",
      "  - serviceAccount:service-812852329854@gcp-sa-vertex-ex.iam.gserviceaccount.com\n",
      "  role: roles/aiplatform.extensionServiceAgent\n",
      "- members:\n",
      "  - serviceAccount:service-812852329854@gcp-sa-aiplatform-re.iam.gserviceaccount.com\n",
      "  role: roles/aiplatform.reasoningEngineServiceAgent\n",
      "- members:\n",
      "  - serviceAccount:service-812852329854@gcp-sa-aiplatform.iam.gserviceaccount.com\n",
      "  role: roles/aiplatform.serviceAgent\n",
      "- members:\n",
      "  - serviceAccount:service-812852329854@compute-system.iam.gserviceaccount.com\n",
      "  role: roles/compute.serviceAgent\n",
      "- members:\n",
      "  - serviceAccount:service-812852329854@gcp-sa-vertex-ex.iam.gserviceaccount.com\n",
      "  role: roles/discoveryengine.editor\n",
      "- members:\n",
      "  - serviceAccount:service-812852329854@gcp-sa-discoveryengine.iam.gserviceaccount.com\n",
      "  role: roles/discoveryengine.serviceAgent\n",
      "- members:\n",
      "  - serviceAccount:812852329854@cloudservices.gserviceaccount.com\n",
      "  role: roles/editor\n",
      "- members:\n",
      "  - serviceAccount:service-812852329854@gcp-sa-notebooks.iam.gserviceaccount.com\n",
      "  role: roles/notebooks.serviceAgent\n",
      "- members:\n",
      "  - user:admin@michaelsherman.altostrat.com\n",
      "  - user:michaelsherman@michaelsherman.altostrat.com\n",
      "  role: roles/owner\n",
      "etag: BwYXU7XBF5c=\n",
      "version: 1\n"
     ]
    }
   ],
   "source": [
    "%%bash -s \"$PROJECT_ID\"\n",
    "\n",
    "# Get project number using gcloud\n",
    "PROJECT_NUMBER=$(gcloud projects describe $1 --format=\"value(projectNumber)\")\n",
    "\n",
    "# Service agent email\n",
    "SERVICE_AGENT_EMAIL=\"service-$PROJECT_NUMBER@gcp-sa-vertex-ex.iam.gserviceaccount.com\"\n",
    "\n",
    "# Role to add\n",
    "ROLE=\"roles/discoveryengine.editor\"\n",
    "\n",
    "# Add the role using gcloud CLI (with the correct service agent email)\n",
    "gcloud projects add-iam-policy-binding $1 \\\n",
    "    --member=\"serviceAccount:$SERVICE_AGENT_EMAIL\" \\\n",
    "    --role=$ROLE"
   ]
  },
  {
   "cell_type": "markdown",
   "metadata": {},
   "source": [
    "If the previous cell doesn't run, try running `gcloud auth login` in a shell, which creates credentials for running `gcloud` commands. If it still doesn't run, you may need to set your project in gcloud, uncomment and run the next cell."
   ]
  },
  {
   "cell_type": "code",
   "execution_count": null,
   "metadata": {},
   "outputs": [],
   "source": [
    "#!gcloud config set project {PROJECT_ID}"
   ]
  },
  {
   "cell_type": "markdown",
   "metadata": {
    "id": "eLSvcJrRBa0P"
   },
   "source": [
    "#### Create a Vertex AI Search App for the Vertex AI Search Extension in 4 Steps\n",
    "\n",
    "To create a search app for Vertex AI Search Extension to use, you can either do that manually by following [these docs](https://cloud.google.com/generative-ai-app-builder/docs/create-datastore-ingest) or run the 4 steps below."
   ]
  },
  {
   "cell_type": "markdown",
   "metadata": {
    "id": "IBcXf2rdBASy"
   },
   "source": [
    "##### 1. Download PDFs and Ingest Into GCS Bucket"
   ]
  },
  {
   "cell_type": "markdown",
   "metadata": {
    "id": "aTAhUI7DT8Ek"
   },
   "source": [
    "The following cell lets you download the PDFs from the URLs and write them into .pdf files in current working directory. Then, these files will be uploaded to your GCS bucket. Those are the 4 PDFs we use in the search app: [PDF1](https://sgp.fas.org/crs/misc/R47617.pdf), [PDF2](https://sgp.fas.org/crs/misc/IF11327.pdf), [PDF3](https://www.whitehouse.gov/wp-content/uploads/2024/03/ERP-2024-CHAPTER-4.pdf), [PDF4](https://ahcd.assembly.ca.gov/sites/ahcd.assembly.ca.gov/files/HCD%20_SHA_Presentation.pdf)"
   ]
  },
  {
   "cell_type": "code",
   "execution_count": 21,
   "metadata": {
    "id": "5Uosb6tdbOH4",
    "tags": []
   },
   "outputs": [
    {
     "name": "stdout",
     "output_type": "stream",
     "text": [
      "+ gsutil mb -p mws-playground -l us-central1 gs://mws-playground-house-invest\n",
      "Creating gs://mws-playground-house-invest/...\n"
     ]
    }
   ],
   "source": [
    "# Create a GCS bucket if you don't have one.\n",
    "GCS_BUCKET = f\"{PROJECT_ID}-house-invest\"\n",
    "! set -x && gsutil mb -p $PROJECT_ID -l us-central1 gs://$GCS_BUCKET"
   ]
  },
  {
   "cell_type": "code",
   "execution_count": 22,
   "metadata": {
    "id": "kb3BDKin-6z-",
    "tags": []
   },
   "outputs": [],
   "source": [
    "from google.cloud import storage\n",
    "\n",
    "def upload_blob(bucket_name, source_file_name, destination_blob_name):\n",
    "    \"\"\"Uploads a file to the bucket.\"\"\"\n",
    "    storage_client = storage.Client()\n",
    "    bucket = storage_client.bucket(bucket_name)\n",
    "    blob = bucket.blob(destination_blob_name)\n",
    "\n",
    "    generation_match_precondition = None\n",
    "    blob.upload_from_filename(source_file_name, if_generation_match=generation_match_precondition)\n",
    "    print(\n",
    "        f\"File {source_file_name} uploaded to {destination_blob_name}.\"\n",
    "    )"
   ]
  },
  {
   "cell_type": "code",
   "execution_count": 23,
   "metadata": {
    "colab": {
     "base_uri": "https://localhost:8080/"
    },
    "id": "WegV3B-1-yVk",
    "outputId": "5b025d66-0e66-4593-d113-f8991a0ec166",
    "tags": []
   },
   "outputs": [
    {
     "name": "stdout",
     "output_type": "stream",
     "text": [
      "File invest1.pdf uploaded to house_invest_pdfs/invest1.pdf.\n",
      "File invest2.pdf uploaded to house_invest_pdfs/invest2.pdf.\n",
      "File invest3.pdf uploaded to house_invest_pdfs/invest3.pdf.\n",
      "File invest4.pdf uploaded to house_invest_pdfs/invest4.pdf.\n"
     ]
    }
   ],
   "source": [
    "import urllib.request\n",
    "gcs_bucket = GCS_BUCKET # If you don't use the bucket created in the notebook, use the name of your bucket.\n",
    "folder_path = \"house_invest_pdfs/\" #Default sub folder name in your gcs bucket. You can use this one.\n",
    "\n",
    "# List of pdfs that you want to ingest to the bucket.\n",
    "url_list = [\"https://sgp.fas.org/crs/misc/R47617.pdf\",\n",
    "            \"https://sgp.fas.org/crs/misc/IF11327.pdf\",\n",
    "            \"https://www.whitehouse.gov/wp-content/uploads/2024/03/ERP-2024-CHAPTER-4.pdf\",\n",
    "            \"https://ahcd.assembly.ca.gov/sites/ahcd.assembly.ca.gov/files/HCD%20_SHA_Presentation.pdf\"]\n",
    "i=1\n",
    "for url in url_list:\n",
    "  urllib.request.urlretrieve(url, f\"invest{i}.pdf\")\n",
    "  upload_blob(gcs_bucket,f\"invest{i}.pdf\",f\"{folder_path}invest{i}.pdf\")\n",
    "  i+=1"
   ]
  },
  {
   "cell_type": "markdown",
   "metadata": {
    "id": "VsZUGcCSgMFw"
   },
   "source": [
    "##### 2. Create a Vertex AI Search Data Store"
   ]
  },
  {
   "cell_type": "markdown",
   "metadata": {
    "id": "VrGwhGACXNqY"
   },
   "source": [
    "The Vertex AI Search extension needs a **Data Store** and **Vertex AI Search App** to run. [You can learn more about Data Stores and Vertex AI Search Apps here](https://cloud.google.com/generative-ai-app-builder/docs/create-datastore-ingest).\n",
    "\n",
    "Therefore, we need to do the following steps:\n",
    "1. Create a Vertex AI Search data store.\n",
    "1. Ingest our website PDF files into the data store.\n",
    "1. Connect a Vertex AI Search App to the data store.\n",
    "\n",
    "The following cells will help you in the setup."
   ]
  },
  {
   "cell_type": "code",
   "execution_count": 26,
   "metadata": {
    "id": "HW997jCmXNqZ",
    "tags": []
   },
   "outputs": [],
   "source": [
    "# Specify an id for your datastore. It should only use lowercase letters.\n",
    "DATA_STORE_ID = \"ba-workflow-extensions\" # @param {type:\"string\"}"
   ]
  },
  {
   "cell_type": "markdown",
   "metadata": {
    "id": "pwLU9sb6UWvK"
   },
   "source": [
    "Use the following bash command to **create** your Vertex AI Search data store:"
   ]
  },
  {
   "cell_type": "code",
   "execution_count": null,
   "metadata": {
    "colab": {
     "base_uri": "https://localhost:8080/"
    },
    "id": "DOLi7KS5gR0P",
    "outputId": "76601c5b-8351-4264-a461-a65512307ab0",
    "tags": []
   },
   "outputs": [],
   "source": [
    "%%bash -s \"$PROJECT_ID\" \"$DATA_STORE_ID\"\n",
    "\n",
    "curl -X POST \\\n",
    "-H \"Authorization: Bearer $(gcloud auth print-access-token)\" \\\n",
    "-H \"Content-Type: application/json\" \\\n",
    "-H \"X-Goog-User-Project: $1\" \\\n",
    "\"https://discoveryengine.googleapis.com/v1alpha/projects/$1/locations/global/collections/default_collection/dataStores?dataStoreId=$2\" \\\n",
    "-d '{\n",
    "  \"displayName\": \"BA-Workflow-Extensions-Store\",\n",
    "  \"industryVertical\": \"GENERIC\",\n",
    "  \"solutionTypes\": [\"SOLUTION_TYPE_SEARCH\"],\n",
    "  \"contentConfig\": \"CONTENT_REQUIRED\",\n",
    "}'"
   ]
  },
  {
   "cell_type": "markdown",
   "metadata": {
    "id": "dEMZ-vPVWO9O"
   },
   "source": [
    "🎉 Your data store is all set! You can inspect it under: https://console.cloud.google.com/gen-app-builder/data-stores"
   ]
  },
  {
   "cell_type": "markdown",
   "metadata": {
    "id": "jc2zLUA6BMsa"
   },
   "source": [
    "##### 3. Ingest PDF Files into the Vertex AI Search Data Store\n",
    "\n",
    "Now you just need to **ingest** your .pdf files into it by running the two cells below.\n",
    "\n",
    "**This process can take somewhere between 5-10 mins.** You can check the status of the ingestion by following the link above and clicking on your newly created Data Store."
   ]
  },
  {
   "cell_type": "code",
   "execution_count": 28,
   "metadata": {
    "id": "MT6vj3nr6T8e",
    "tags": []
   },
   "outputs": [],
   "source": [
    "from google.api_core.client_options import ClientOptions\n",
    "from google.cloud import discoveryengine\n",
    "from typing import Optional\n",
    "\n",
    "\n",
    "def import_documents_sample(\n",
    "    project_id: str,\n",
    "    location: str,\n",
    "    data_store_id: str,\n",
    "    gcs_uri: Optional[str] = None,\n",
    ") -> str:\n",
    "    \"\"\"Imports documents into a Vertex AI data store from GCS.\n",
    "\n",
    "    This function imports documents into a specified data store within Vertex AI\n",
    "    Agent Builder from a GCS bucket. It uses the incremental reconciliation\n",
    "    mode, which adds new documents and updates existing ones.\n",
    "\n",
    "    Args:\n",
    "        project_id: The ID of the Google Cloud project.\n",
    "        location: The region where the data store is located (e.g., \"us-central1\").\n",
    "        data_store_id: The ID of the data store.\n",
    "        gcs_uri: The GCS URI of the documents to import (e.g., \"gs://my-bucket/docs/*.txt\").\n",
    "\n",
    "    Returns:\n",
    "        str: The name of the long-running operation that imports the documents.\n",
    "\n",
    "    Raises:\n",
    "        google.api_core.exceptions.GoogleAPICallError: If the API call fails.\n",
    "\n",
    "    \"\"\"\n",
    "\n",
    "    client_options = (\n",
    "        ClientOptions(api_endpoint=f\"{location}-discoveryengine.googleapis.com\")\n",
    "        if location != \"global\"\n",
    "        else None\n",
    "    )\n",
    "\n",
    "    # Create a client.\n",
    "    client = discoveryengine.DocumentServiceClient(client_options=client_options)\n",
    "\n",
    "    # The full resource name of the search engine branch.\n",
    "    # e.g. projects/{project}/locations/{location}/dataStores/{data_store_id}/branches/{branch}\n",
    "    parent = client.branch_path(\n",
    "        project=project_id,\n",
    "        location=location,\n",
    "        data_store=data_store_id,\n",
    "        branch=\"default_branch\",\n",
    "    )\n",
    "\n",
    "    request = discoveryengine.ImportDocumentsRequest(\n",
    "        parent=parent,\n",
    "        gcs_source=discoveryengine.GcsSource(\n",
    "            input_uris=[gcs_uri], data_schema=\"content\"\n",
    "        ),\n",
    "        # Options: `FULL`, `INCREMENTAL`\n",
    "        reconciliation_mode=discoveryengine.ImportDocumentsRequest.ReconciliationMode.INCREMENTAL,\n",
    "    )\n",
    "\n",
    "\n",
    "    # Make the request\n",
    "    operation = client.import_documents(request=request)\n",
    "\n",
    "    print(f\"Waiting for operation to complete: {operation.operation.name}\")\n",
    "    response = operation.result()\n",
    "\n",
    "    # Once the operation is complete, get information from operation metadata.\n",
    "    metadata = discoveryengine.ImportDocumentsMetadata(operation.metadata)\n",
    "\n",
    "    # Handle the response.\n",
    "    print(response)\n",
    "    print(metadata)\n",
    "\n",
    "    return operation.operation.name"
   ]
  },
  {
   "cell_type": "code",
   "execution_count": null,
   "metadata": {
    "id": "BJsSbM6fAfzy",
    "tags": []
   },
   "outputs": [],
   "source": [
    "GCS_URI = f\"gs://{gcs_bucket}/{folder_path}*.pdf\"\n",
    "import_documents_sample(PROJECT_ID, \"global\", DATA_STORE_ID, GCS_URI)"
   ]
  },
  {
   "cell_type": "markdown",
   "metadata": {
    "id": "xwcBGeljauNR"
   },
   "source": [
    "##### 4. Create a Vertex Search App and Connect it to the Data Store"
   ]
  },
  {
   "cell_type": "markdown",
   "metadata": {
    "id": "UsFFVozhYiCQ"
   },
   "source": [
    "The following cell lets you create a Vertex AI Search App to ✨**connect**✨ to your newly created data store. For the Vertex AI Search Extension to work, we need to enable [Advanced Features](https://cloud.google.com/generative-ai-app-builder/docs/about-advanced-features), including Enterprise features by setting `\"searchTier\": \"SEARCH_TIER_ENTERPRISE\" `and Advanced LLM Features by setting `\"searchAddOns\": [\"SEARCH_ADD_ON_LLM\"]` in the code cell below.\n",
    "\n",
    "**These settings will be set automatically by running the next cell.**"
   ]
  },
  {
   "cell_type": "code",
   "execution_count": 30,
   "metadata": {
    "id": "fu8919bNaybd",
    "tags": []
   },
   "outputs": [
    {
     "name": "stderr",
     "output_type": "stream",
     "text": [
      "curl: /opt/conda/lib/libcurl.so.4: no version information available (required by curl)\n",
      "  % Total    % Received % Xferd  Average Speed   Time    Time     Time  Current\n",
      "                                 Dload  Upload   Total   Spent    Left  Speed\n",
      "100   916    0   656  100   260    816    323 --:--:-- --:--:-- --:--:--  1139\n"
     ]
    },
    {
     "name": "stdout",
     "output_type": "stream",
     "text": [
      "{\n",
      "  \"name\": \"projects/812852329854/locations/global/collections/default_collection/operations/create-engine-7710498838676849606\",\n",
      "  \"done\": true,\n",
      "  \"response\": {\n",
      "    \"@type\": \"type.googleapis.com/google.cloud.discoveryengine.v1.Engine\",\n",
      "    \"name\": \"projects/812852329854/locations/global/collections/default_collection/engines/ba-workflow-extensions2\",\n",
      "    \"displayName\": \"BA-Workflow-Extension-Engine\",\n",
      "    \"dataStoreIds\": [\n",
      "      \"ba-workflow-extensions2\"\n",
      "    ],\n",
      "    \"solutionType\": \"SOLUTION_TYPE_SEARCH\",\n",
      "    \"searchEngineConfig\": {\n",
      "      \"searchTier\": \"SEARCH_TIER_ENTERPRISE\",\n",
      "      \"searchAddOns\": [\n",
      "        \"SEARCH_ADD_ON_LLM\"\n",
      "      ]\n",
      "    }\n",
      "  }\n",
      "}\n"
     ]
    }
   ],
   "source": [
    "%%bash -s \"$PROJECT_ID\" \"$DATA_STORE_ID\"\n",
    "\n",
    "curl -X POST \\\n",
    "-H \"Authorization: Bearer $(gcloud auth print-access-token)\" \\\n",
    "-H \"Content-Type: application/json\" \\\n",
    "-H \"X-Goog-User-Project: $1\" \\\n",
    "\"https://discoveryengine.googleapis.com/v1/projects/$1/locations/global/collections/default_collection/engines?engineId=$2\" \\\n",
    "-d '{\n",
    "  \"displayName\": \"BA-Workflow-Extension-Engine\",\n",
    "  \"dataStoreIds\": [\"'$2'\"],\n",
    "  \"solutionType\": \"SOLUTION_TYPE_SEARCH\",\n",
    "  \"searchEngineConfig\": {\n",
    "     \"searchTier\": \"SEARCH_TIER_ENTERPRISE\",\n",
    "     \"searchAddOns\": [\"SEARCH_ADD_ON_LLM\"]\n",
    "   }\n",
    "}'"
   ]
  },
  {
   "cell_type": "markdown",
   "metadata": {
    "id": "1TaNXRnqL1Lu"
   },
   "source": [
    "#### Set Up the Vertex AI Search Extension and Extract Key Information"
   ]
  },
  {
   "cell_type": "markdown",
   "metadata": {
    "id": "DLJSZUyIHHje"
   },
   "source": [
    "After you create the search app use the Vertex AI Search Extension to connect to it, in order to extract the key housing research information. Below cells show you how to get the information using the Vertex AI Search Extension."
   ]
  },
  {
   "cell_type": "code",
   "execution_count": 31,
   "metadata": {
    "id": "j45s9LyIOvQ8",
    "tags": []
   },
   "outputs": [],
   "source": [
    "#If you use the notebook to create the search app, this should be the app name.\n",
    "#If you use your own app name, you can find it in the UI as described below\n",
    "SEARCH_APP_ID = \"ba-workflow-extensions\"\n",
    "SEARCH_APP_REGION = \"global\""
   ]
  },
  {
   "cell_type": "markdown",
   "metadata": {
    "id": "GEpZIzeba807"
   },
   "source": [
    "Once you create the search app, use the search app id in the vertex ai extension notebok. You can find it in [the search app UI](https://console.cloud.google.com/gen-app-builder/engines)."
   ]
  },
  {
   "cell_type": "markdown",
   "metadata": {
    "id": "dQ9XSS8JarHC"
   },
   "source": [
    "![Screenshot 2024-04-15 at 5.58.38 PM.png](data:image/png;base64,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)"
   ]
  },
  {
   "cell_type": "code",
   "execution_count": 38,
   "metadata": {
    "id": "l_hqJnawdayL",
    "tags": []
   },
   "outputs": [],
   "source": [
    "# Configure the Vertex AI Search extension.\n",
    "SEARCH_CONFIG  = \"projects/{project_id}/locations/{search_app_region}/collections/default_collection/engines/{search_app_id}/servingConfigs/default_search\".format(\n",
    "    project_id=PROJECT_ID,\n",
    "    search_app_region=SEARCH_APP_REGION,\n",
    "    search_app_id=SEARCH_APP_ID)"
   ]
  },
  {
   "cell_type": "code",
   "execution_count": 39,
   "metadata": {
    "colab": {
     "base_uri": "https://localhost:8080/"
    },
    "id": "zXggbziVKPC2",
    "outputId": "71acab71-db1c-499c-c6b5-5bf67fc7e0dd",
    "tags": []
   },
   "outputs": [
    {
     "name": "stdout",
     "output_type": "stream",
     "text": [
      "Creating Extension\n",
      "Create Extension backing LRO: projects/812852329854/locations/us-central1/extensions/2356825164370411520/operations/5252615020117753856\n",
      "Extension created. Resource name: projects/812852329854/locations/us-central1/extensions/2356825164370411520\n",
      "To use this Extension in another session:\n",
      "extension = vertexai.preview.extensions.Extension('projects/812852329854/locations/us-central1/extensions/2356825164370411520')\n"
     ]
    },
    {
     "data": {
      "text/plain": [
       "<vertexai.extensions._extensions.Extension object at 0x7f47b633b2b0> \n",
       "resource name: projects/812852329854/locations/us-central1/extensions/2356825164370411520"
      ]
     },
     "execution_count": 39,
     "metadata": {},
     "output_type": "execute_result"
    }
   ],
   "source": [
    "# Create the extension and register it in your project.\n",
    "extension_vertex_ai_search = extensions.Extension.from_hub(\n",
    "    \"vertex_ai_search\",\n",
    "    runtime_config={\n",
    "        \"vertex_ai_search_runtime_config\": {\n",
    "            \"serving_config_name\": SEARCH_CONFIG,\n",
    "        }\n",
    "    })\n",
    "\n",
    "extension_vertex_ai_search"
   ]
  },
  {
   "cell_type": "markdown",
   "metadata": {},
   "source": [
    "Now we'll query our search app via the Vertex AI Search extension. \n",
    "\n",
    "> ❗**NOTE - if you are facing the following error:**\n",
    "\n",
    ">`FailedPrecondition: 400 Cannot use enterprise edition features (website search, multi-modal search, extractive answers/segments, etc.) in a standard edition search engine...`\n",
    "\n",
    ">when running the cell below, simply wait a few minutes and try to run the cell again. That means the settings from the Vertex AI Search App creation have not yet propagated to the system (setting propagation may take up to 15 minutes to take effect after creating the search app).❗"
   ]
  },
  {
   "cell_type": "code",
   "execution_count": 35,
   "metadata": {
    "id": "fgX31Eug83YV",
    "tags": []
   },
   "outputs": [],
   "source": [
    "QUERY = \"Extract key information about investment opportunities in the housing market.\" # @param {type:\"string\"}"
   ]
  },
  {
   "cell_type": "code",
   "execution_count": 36,
   "metadata": {
    "id": "fG3EcAoCO_TN",
    "tags": []
   },
   "outputs": [],
   "source": [
    "vertex_ai_search_response = extension_vertex_ai_search.execute(\n",
    "    operation_id = \"search\",\n",
    "    operation_params = {\"query\": QUERY},\n",
    ")"
   ]
  },
  {
   "cell_type": "markdown",
   "metadata": {
    "id": "m10_ZjuORCow"
   },
   "source": [
    "There are a lot of texts returned back from the extension response. In this example, we only use extractive_answers from the response because they capture main information in a concise way. You can read more [here](https://cloud.google.com/generative-ai-app-builder/docs/snippets#extractive-answers)."
   ]
  },
  {
   "cell_type": "code",
   "execution_count": 37,
   "metadata": {
    "colab": {
     "base_uri": "https://localhost:8080/"
    },
    "id": "XqvqQzjw-aDA",
    "outputId": "81dfe404-15c8-4bca-e1eb-60f6f777e3d1",
    "tags": []
   },
   "outputs": [
    {
     "name": "stdout",
     "output_type": "stream",
     "text": [
      "Home sales began to recover in 2011 and 2012 but have still not recovered to pre-recession levels. In 2021, sales of existing houses increased by 8.5% while sales of new houses decreased by 6.2%.\n",
      "Vacancy rates dipped further during the COVID-19 pandemic and hit several-decade lows in 2022. • The number of single-family homes available for sale each year has trended downward since 2000 but particularly after the housing crisis of 2007-2009.\n",
      "Historically, interest rates have fluctuated between 4 and 8 percent. Equity, mostly from private investors, fills the gap between debt and project costs. Housing development equity is a relatively risky investment class due to the time required for projects to generate rev enue.\n",
      "1. Increase supply of housing affordable to all income levels by reducing time and cost of development.\n"
     ]
    }
   ],
   "source": [
    "list_extractive_answers=[]\n",
    "for i in vertex_ai_search_response:\n",
    "    list_extractive_answers.append(i[\"extractive_answers\"][0])\n",
    "    print(i[\"extractive_answers\"][0])"
   ]
  },
  {
   "cell_type": "markdown",
   "metadata": {
    "id": "dbxon2VeL8Aa"
   },
   "source": [
    "#### Summarize Extracted Answers to Bullet Points\n",
    "\n",
    "We use Gemini to summarize the housing investment information the Vertex AI Search extension returns."
   ]
  },
  {
   "cell_type": "code",
   "execution_count": 40,
   "metadata": {
    "id": "Twc9lgfsGaI3",
    "tags": []
   },
   "outputs": [],
   "source": [
    "from vertexai.generative_models import GenerativeModel\n",
    "SUMMARY_QUERY = \"Summarize investment opportunities in housing market in 4 bullet points.\"\n",
    "model = GenerativeModel(model_name=\"gemini-1.0-pro\")\n",
    "summary_response = model.generate_content(f\"{SUMMARY_QUERY} from the content below: {list_extractive_answers}\")"
   ]
  },
  {
   "cell_type": "markdown",
   "metadata": {
    "id": "sXuZNbvTee8F"
   },
   "source": [
    "Reformat the summary from Gemini to bullet points to make it easier to display in the deck."
   ]
  },
  {
   "cell_type": "code",
   "execution_count": 41,
   "metadata": {
    "id": "O1izkKvOHU3-",
    "tags": []
   },
   "outputs": [],
   "source": [
    "def to_bullet_points(text):\n",
    "  text = text.replace('**','')\n",
    "  text = text.replace('* ','• ')\n",
    "  text = text.replace('\\n','\\n\\n')\n",
    "  return text"
   ]
  },
  {
   "cell_type": "code",
   "execution_count": 42,
   "metadata": {
    "colab": {
     "base_uri": "https://localhost:8080/",
     "height": 70
    },
    "id": "vPbBvFHEHWzI",
    "outputId": "c6283ae7-4855-4a12-d7f3-9cd689c5511e",
    "tags": []
   },
   "outputs": [
    {
     "data": {
      "text/plain": [
       "\"## Investment Opportunities in the Housing Market:\\n\\n\\n\\n• Increased demand: While home sales haven't fully recovered to pre-recession levels, they are on an upward trend. This suggests a growing demand for housing, creating potential opportunities for investors. \\n\\n• Low vacancy rates: Vacancy rates are at historic lows, indicating strong rental market performance and potential for stable rental income.\\n\\n• Limited supply: The number of available homes for sale has been steadily declining, creating a potential supply shortage that could drive up prices and benefit investors. \\n\\n• Focus on affordable housing:  Initiatives aimed at increasing the supply of affordable housing could present investment opportunities in this growing segment of the market. \\n\\n\""
      ]
     },
     "execution_count": 42,
     "metadata": {},
     "output_type": "execute_result"
    }
   ],
   "source": [
    "deck_text = to_bullet_points(summary_response.text)\n",
    "deck_text"
   ]
  },
  {
   "cell_type": "markdown",
   "metadata": {
    "id": "ZAkfc7-i3hdg"
   },
   "source": [
    "### Step 4 (Optional): Add Data Analysis and Research to a Slide Deck\n",
    "\n",
    "You will do the following tasks in this step:\n",
    "\n",
    "- Set up workspace API credentials\n",
    "- Update the histogram chart to be inserted to the slide deck\n",
    "- Add the histogram chart to the slide template\n",
    "- Add housing research summary from Vertex AI search extension to the slide\n",
    "\n",
    "If you are skipping this optional section, you should still go to the \"Cleaning Up\" section at the end if you want to remove files and GCP resources created by this notebook."
   ]
  },
  {
   "cell_type": "markdown",
   "metadata": {
    "id": "l8gZtlqZnvH4"
   },
   "source": [
    "##### Workspace API OAuth Credential Setup\n",
    "\n",
    "To run Google Slides, Sheets, and Gmail APIs in the notebook, you will need to configure the Google Workspace API credentials first.\n",
    "\n",
    "🚨 **As mentioned in the beginning of this notebook, using the Workspace APIs requires setting up an OAuth consent screen and going through a web-based authentication flow that many remote notebook environments, including Colab and Jupyterlab don't support out-of-the-box. If you want to run through the optional section, make sure you are running this notebook in an environment that can open a webpage that you can interact with, like a local development environment.**🚨\n",
    "\n",
    "For this, you need to configure the Google Workspace API and credentials first. You can check out the [Python Quick Start Guide](https://developers.google.com/gmail/api/quickstart/python) for more details. If you've followed this notebook so far just follow these steps to complete the configuration:\n",
    "\n",
    "👣 **Steps for setting up the scopes:**\n",
    "1. [Go to the OAuth consent screen in your project](https://console.cloud.google.com/apis/credentials/consent)\n",
    "1. For User type select external, then click Create.\n",
    "1. Complete the app registration form by adding an app name, and adding your email to the user support email & developer contact information, then click Save and Continue.\n",
    "1. Click on `Add or Remove Scopes`\n",
    "1. In the filter search bar of the selected scopes window, search for and enable the needed scopes https://www.googleapis.com/auth/spreadsheets, https://www.googleapis.com/auth/gmail.send, https://www.googleapis.com/auth/gmail.compose, https://www.googleapis.com/auth/gmail.modify, https://www.googleapis.com/auth/presentations\n",
    "1. Click on Save and Continue.\n",
    "1. In the Test Users window, add your own Google email address as a User by clicking `Add Users`, then click on Save and Continue.\n",
    "1. Review your app registration summary. To make changes, click Edit. If the app registration looks OK, click Back to Dashboard.\n",
    "\n",
    "\n",
    "👣  **Steps for retrieving authorized credentials:**\n",
    "1. Go to [Credentials](https://console.cloud.google.com/apis/credentials) in the GCP console.\n",
    "1. Click Create Credentials > OAuth client ID.\n",
    "1. Click Application type > Desktop app.\n",
    "1. In the Name field, type a name for the credential. This name is only shown in the Google Cloud console.\n",
    "1. Click Create. The OAuth client created screen appears, showing your new Client ID and Client secret.\n",
    "1. Click OK. The newly created credential appears under OAuth 2.0 Client IDs.\n",
    "1. Save the downloaded JSON file as credentials.json and move it to the working directory of your local IDE\n",
    "\n",
    "Now, you can run the code in the cell below. The code below uses the credentials.json to create a token.json file that our notebook can use.\n",
    "\n",
    "As mentioned above, this code to trigger web-based oauth won't run in most remote execution notebook environments. But if you are in a remote notebook environment, you can run this code in your local development environment and then copy the token.json file into the working directory of your remote notebook environment (in Colab, into the file directory in the left panel which goes to the working directory for the notebook).\n",
    "\n",
    "\n",
    "\n",
    "\n"
   ]
  },
  {
   "cell_type": "code",
   "execution_count": null,
   "metadata": {
    "id": "OD5B_RxW1xqt"
   },
   "outputs": [],
   "source": [
    "import os\n",
    "from googleapiclient.discovery import build\n",
    "from google_auth_oauthlib.flow import InstalledAppFlow\n",
    "from google.auth.transport.requests import Request\n",
    "from google.oauth2 import credentials\n",
    "\n",
    "SCOPES=[\"https://www.googleapis.com/auth/spreadsheets\",\n",
    "        \"https://www.googleapis.com/auth/gmail.send\",\n",
    "        \"https://www.googleapis.com/auth/gmail.compose\",\n",
    "        \"https://www.googleapis.com/auth/gmail.modify\",\n",
    "        \"https://www.googleapis.com/auth/presentations\"]\n",
    "\n",
    "creds = None\n",
    "# Token file typically stores credentials for reuse.\n",
    "token_file = 'token.json'\n",
    "\n",
    "# Check if authorized credentials exist.\n",
    "if os.path.exists(token_file):\n",
    "    creds = credentials.Credentials.from_authorized_user_file(token_file, SCOPES)\n",
    "# If not, or credentials are invalid, trigger the authorization flow.\n",
    "if not creds or not creds.valid:\n",
    "    if creds and creds.expired and creds.refresh_token:\n",
    "        creds.refresh(Request())\n",
    "    else:\n",
    "        flow = InstalledAppFlow.from_client_secrets_file(\n",
    "        \"credentials.json\", SCOPES\n",
    "        )\n",
    "        creds = flow.run_local_server(port=0)\n",
    "    # Save the credentials for the next run\n",
    "    with open(\"token.json\", \"w\") as token:\n",
    "        token.write(creds.to_json())"
   ]
  },
  {
   "cell_type": "code",
   "execution_count": null,
   "metadata": {
    "id": "0gly9zi6x8Cn"
   },
   "outputs": [],
   "source": [
    "# Code below uses the token.json you generated in the previous step.\n",
    "# Make sure token.json is in your current working directory.\n",
    "from google.oauth2.credentials import Credentials\n",
    "\n",
    "scopes=[\"https://www.googleapis.com/auth/spreadsheets\",\n",
    "        \"https://www.googleapis.com/auth/gmail.send\",\n",
    "        \"https://www.googleapis.com/auth/gmail.compose\",\n",
    "        \"https://www.googleapis.com/auth/gmail.modify\",\n",
    "        \"https://www.googleapis.com/auth/presentations\"]\n",
    "creds = Credentials.from_authorized_user_file(\"token.json\", scopes)"
   ]
  },
  {
   "cell_type": "markdown",
   "metadata": {
    "id": "wFCPCwGFxuz7"
   },
   "source": [
    "#### Update the Histogram Chart to be Inserted to the Slide Deck\n",
    "\n",
    "In order to insert a histagram chart into a deck later, we will need to create a histagram chart in a sheet first. Please [make a copy](https://support.google.com/docs/answer/49114#zippy=%2Cmake-a-copy-of-a-file) of this [sheet template](https://docs.google.com/spreadsheets/d/1VURqw88fJf6JreqKmFQwjveHhkQo3r-dyQwX5kh4hjE/edit#gid=990375291) for this notebook.\n",
    "\n",
    "After you copy the sheet, you should see the raw template. The histogram chart hasn't been updated yet. Now you're gonig to update the values used to make this chart in 2 steps.\n",
    "\n",
    "- Get the median house value csv data from the code extension step and convert it to histogram data. In this example, we convert it to 10 bins.\n",
    "- Run the Sheets API to update the chart with the histogram values."
   ]
  },
  {
   "cell_type": "markdown",
   "metadata": {
    "id": "ItnrjWuBWuJY"
   },
   "source": [
    "This function converts housing value data to 10-bin histogram data. You'll then use this function to create your data."
   ]
  },
  {
   "cell_type": "code",
   "execution_count": 43,
   "metadata": {
    "id": "tAefV64csOsd",
    "tags": []
   },
   "outputs": [],
   "source": [
    "import numpy as np\n",
    "def convert_csv_to_hist(res):\n",
    "  \"\"\"Converts CSV-formatted data into a histogram-compatible data structure.\n",
    "\n",
    "  This function takes a CSV string containing median value and count information\n",
    "  and transforms it into a list suitable for generating a histogram plot.\n",
    "\n",
    "  Args:\n",
    "    res: A string containing CSV data. The first line is assumed to contain\n",
    "         column headers, with subsequent lines containing median value and count\n",
    "         pairs separated by a comma.\n",
    "\n",
    "  Returns:\n",
    "    A list where the first element contains the original CSV header information.\n",
    "    Subsequent elements are lists with two values: [bin_center, bin_count],\n",
    "    representing the center of each histogram bin and the corresponding count of\n",
    "    data points within that bin.\n",
    "  \"\"\"\n",
    "  hist_data=[]\n",
    "  res_arr = res.split('\\n')\n",
    "  for arr in res_arr[1:]:\n",
    "    median_val_count = arr.split(',')\n",
    "    if not '' in median_val_count:\n",
    "      median_val_count_float = [float(i) for i in median_val_count]\n",
    "      hist_data.append(median_val_count_float)\n",
    "  hist_data_sorted = sorted(hist_data,key=lambda x: x[0])\n",
    "  hist_data_sorted_np=np.array(hist_data_sorted)\n",
    "\n",
    "  # Convert np.array to histogram chart data.\n",
    "  hist_data_final=[]\n",
    "  bin_len = int(len(hist_data_sorted)/9)\n",
    "  for i in range(0,len(hist_data_sorted),bin_len):\n",
    "    temp_arr = hist_data_sorted_np[i:i+bin_len-1,:]\n",
    "    bin_center = np.mean(temp_arr[:, 0])\n",
    "    bin_count = np.sum(temp_arr[:, 1])\n",
    "    hist_data_final.append([int(bin_center),int(bin_count)])\n",
    "  hist_data_final.insert(0,res_arr[0].split(','))\n",
    "  return hist_data_final"
   ]
  },
  {
   "cell_type": "code",
   "execution_count": 44,
   "metadata": {
    "id": "dbDd6Dk2rRkE",
    "tags": []
   },
   "outputs": [
    {
     "data": {
      "text/plain": [
       "[['22500.0', '1'],\n",
       " [65653, 288],\n",
       " [99118, 402],\n",
       " [131761, 382],\n",
       " [161613, 400],\n",
       " [190894, 310],\n",
       " [224767, 317],\n",
       " [263217, 283],\n",
       " [316471, 255],\n",
       " [406636, 224],\n",
       " [500001, 125]]"
      ]
     },
     "execution_count": 44,
     "metadata": {},
     "output_type": "execute_result"
    }
   ],
   "source": [
    "hist_data_final = convert_csv_to_hist(res)\n",
    "hist_data_final"
   ]
  },
  {
   "cell_type": "markdown",
   "metadata": {
    "id": "Nra_ijN3YKQp"
   },
   "source": [
    "Debugging Tip: if median_house_value_counts.csv is not returned from parse_output_files function (a few cells above), this `convert_csv_to_hist` function will fail. To temporarily bypass the failure, you can set `hist_data_final` to the data below. You can continue running the rest of the notebook this way. Later, you can come back and try the prompt above again or modify the prompt to get the median_house_value_counts.csv.\n",
    "\n"
   ]
  },
  {
   "cell_type": "code",
   "execution_count": 45,
   "metadata": {
    "id": "uXhq3loxSo3l",
    "tags": []
   },
   "outputs": [],
   "source": [
    "# Uncomment it and run it if needed\n",
    "# hist_data_final=\n",
    "# [['median_house_value', 'count'],\n",
    "#  [65344, 288],\n",
    "#  [98957, 403],\n",
    "#  [131601, 380],\n",
    "#  [161468, 400],\n",
    "#  [190727, 310],\n",
    "#  [224597, 317],\n",
    "#  [262999, 283],\n",
    "#  [316138, 255],\n",
    "#  [405905, 224],\n",
    "#  [500000, 129]]"
   ]
  },
  {
   "cell_type": "markdown",
   "metadata": {
    "id": "x6Rduqq3UlYZ"
   },
   "source": [
    "After we get the histogram data, we are going to update the chart in the sheet now. This function below updates a specified range of cells within a Google Sheet with new values provided as input. \n",
    "\n",
    "You can learn more about [Google Sheets API here](https://developers.google.com/sheets/api/guides/concepts)."
   ]
  },
  {
   "cell_type": "code",
   "execution_count": null,
   "metadata": {
    "colab": {
     "base_uri": "https://localhost:8080/"
    },
    "id": "hpX3d177lPX4",
    "outputId": "c634a736-a339-4588-96d5-8e2a4d242e16"
   },
   "outputs": [],
   "source": [
    "from googleapiclient.discovery import build\n",
    "from googleapiclient.errors import HttpError\n",
    "def update_values(spreadsheet_id, range_name, value_input_option, values,creds):\n",
    "  \"\"\"Updates a range of cells in a Google Sheet with new values.\n",
    "\n",
    "  Args:\n",
    "    spreadsheet_id: The ID of the Google Sheet to update.\n",
    "    range_name: The range of cells to update, in A1 notation (e.g., \"A1:B11\").\n",
    "    value_input_option: Determines how the input values should be interpreted.\n",
    "      Valid options include \"USER_ENTERED\".\n",
    "    values: A list of lists representing the values to be written. The structure\n",
    "      should match the desired range.\n",
    "    creds: Credentials object authorizing access to the Google Sheets API.\n",
    "\n",
    "  Returns:\n",
    "    A dictionary containing information about the updated cells, or an HttpError object\n",
    "    in case of an error.\n",
    "\n",
    "  Raises:\n",
    "    HttpError: If an error occurs during the Sheets API call.\n",
    "  \"\"\"\n",
    "  try:\n",
    "    service = build(\"sheets\", \"v4\", credentials=creds)\n",
    "    body = {\"values\": values}\n",
    "    result = (\n",
    "        service.spreadsheets()\n",
    "        .values()\n",
    "        .update(\n",
    "            spreadsheetId=spreadsheet_id,\n",
    "            range=range_name,\n",
    "            valueInputOption=value_input_option,\n",
    "            body=body,\n",
    "        )\n",
    "        .execute()\n",
    "    )\n",
    "    print(f\"{result.get('updatedCells')} cells updated.\")\n",
    "    return result\n",
    "  except HttpError as error:\n",
    "    print(f\"An error occurred: {error}\")\n",
    "    return error"
   ]
  },
  {
   "cell_type": "markdown",
   "metadata": {},
   "source": [
    "To use this function on your sheet, you'll need the sheet ID of your copy of the sheet. You can find your sheet ID by looking at the URL of your copy of the sheet:\n",
    "\n",
    "- In this URL example below, sheet id is **1VURqw88fJf6JreqKmFQwjveHhkQo3r-dyQwX5kh4hjE**\n",
    "- URL example: https://docs.google.com/spreadsheets/d/1VURqw88fJf6JreqKmFQwjveHhkQo3r-dyQwX5kh4hjE/edit#gid=990375291"
   ]
  },
  {
   "cell_type": "code",
   "execution_count": null,
   "metadata": {},
   "outputs": [],
   "source": [
    "# Add data into the sheet to update the chart.\n",
    "SHEET_ID = \"your sheet id\"  # Replace this with your sheet id\n",
    "update_values(\n",
    "      SHEET_ID,\n",
    "      \"A1:B11\",\n",
    "      \"USER_ENTERED\",\n",
    "      hist_data_final,creds\n",
    "  )"
   ]
  },
  {
   "cell_type": "code",
   "execution_count": null,
   "metadata": {
    "id": "Fnm06G-orVYn"
   },
   "outputs": [],
   "source": [
    "def get_chart_id(\n",
    "        spreadsheet_id,creds):\n",
    "    \"\"\"Retrieves a list of chart IDs from a Google Sheet.\n",
    "\n",
    "    Args:\n",
    "        spreadsheet_id: The ID of the Google Spreadsheet.\n",
    "        creds: Credentials object for authorizing API requests.\n",
    "\n",
    "    Returns:\n",
    "        A list of chart IDs found within the specified spreadsheet.\n",
    "    \"\"\"\n",
    "    spreadsheet_id = spreadsheet_id\n",
    "    ranges = []\n",
    "    include_grid_data = False\n",
    "\n",
    "    service = build(\"sheets\", \"v4\", credentials=creds)\n",
    "    request = service.spreadsheets().get(\n",
    "        spreadsheetId=spreadsheet_id,\n",
    "        ranges=ranges,\n",
    "        includeGridData=include_grid_data)\n",
    "    response = request.execute()\n",
    "\n",
    "    chart_id_list = []\n",
    "    for chart in response['sheets'][0]['charts']:\n",
    "        chart_id_list.append(chart['chartId'])\n",
    "    return chart_id_list"
   ]
  },
  {
   "cell_type": "markdown",
   "metadata": {
    "id": "9s0M2gitysZD"
   },
   "source": [
    "#### Add the Histogram Chart to the Slide Template\n",
    "\n",
    "Now that you've put updated numbers into your spreadsheet, you want to get the new chart into your slide deck.\n",
    "\n",
    "The next cell is a function to take a histogram chart from a Google Sheet and insert it into a specified slide within a Google Slides presentation. The function maintains a live link between the sheet and the presentation, ensuring that any changes made in the sheet data automatically reflect in the presentation chart.;"
   ]
  },
  {
   "cell_type": "code",
   "execution_count": null,
   "metadata": {
    "id": "EKQ-ZHm7s5Wh"
   },
   "outputs": [],
   "source": [
    "import uuid\n",
    "def add_chart_to_slides(presentation_id, spreadsheet_id, page_id, creds):\n",
    "    \"\"\"\n",
    "    Adds a chart from a Google Sheet to a Google Slides presentation.\n",
    "\n",
    "    Args:\n",
    "        presentation_id (str): The ID of the Google Slides presentation.\n",
    "        spreadsheet_id (str): The ID of the Google Sheet containing the chart.\n",
    "        page_id (str): The ID of the slide page to insert the chart into.\n",
    "        creds: Credentials object for authenticating with the Google Slides API.\n",
    "\n",
    "    Returns:\n",
    "        None\n",
    "\n",
    "    Notes:\n",
    "        * The first chart in the specified Google Sheet will be added to the presentation.\n",
    "        * The chart will be linked to the spreadsheet, so changes in the sheet will update the chart in the presentation.\n",
    "        * The `emu4m` variable defines the default size and position of the chart.\n",
    "          Modify these values to customize the chart's appearance.\n",
    "    \"\"\"\n",
    "    emu4m = {\n",
    "        'magnitude': 4000000,\n",
    "        'unit': 'EMU'\n",
    "    }\n",
    "\n",
    "    sheet_chart_id_list = get_chart_id(\n",
    "        spreadsheet_id,creds)\n",
    "\n",
    "    presentation_chart_id = str(uuid.uuid4())\n",
    "    requests = [\n",
    "            {\n",
    "        'createSheetsChart': {\n",
    "            'objectId': presentation_chart_id,\n",
    "            'spreadsheetId': spreadsheet_id,\n",
    "            'chartId': sheet_chart_id_list[0],\n",
    "            'linkingMode': 'LINKED',\n",
    "            'elementProperties': {\n",
    "                'pageObjectId': page_id,\n",
    "                'size': {\n",
    "                    'height': emu4m,\n",
    "                    'width': emu4m\n",
    "                },\n",
    "                'transform': {\n",
    "                    'scaleX': 1.5,\n",
    "                    'scaleY': 1.5,\n",
    "                    'translateX': 1000000,\n",
    "                    'translateY': 100000,\n",
    "                    'unit': 'EMU'\n",
    "                }\n",
    "            }\n",
    "        }\n",
    "        }\n",
    "        ]\n",
    "\n",
    "    body = {\n",
    "        'requests': requests\n",
    "    }\n",
    "    service = build(\"slides\", \"v1\", credentials=creds)\n",
    "    service.presentations().batchUpdate(\n",
    "        presentationId=presentation_id,\n",
    "        body=body).execute()"
   ]
  },
  {
   "cell_type": "markdown",
   "metadata": {
    "id": "PuvrTnWk0Fs7"
   },
   "source": [
    "Please copy this [slide template](https://docs.google.com/presentation/d/15z20CP574Vb3AMU72g_C2Z25taY78aVZ0n3xhE4I8sY/edit#slide=id.g2cb57cea9e7_0_0) for this notebook.\n",
    "\n",
    "To run the function above and some of the steps below, you'll need a slide deck ID and slide page IDs. You can find these IDs by looking at the URL when you're viewing a specific slide in your copy of the deck:\n",
    "- In this URL example below, **15z20CP574Vb3AMU72g_C2Z25taY78aVZ0n3xhE4I8sY** is the slide deck id and **g2cb57cea9e7_0_0** is the slide page id. \n",
    "- URL example: https://docs.google.com/presentation/d/15z20CP574Vb3AMU72g_C2Z25taY78aVZ0n3xhE4I8sY/edit#slide=id.g2cb57cea9e7_0_0\n",
    "\n",
    "Make sure to get the slide page ID for both slides, as you view a different slide in the deck in your web browser the slide page ID in the URL will change. The slide deck ID will not change.\n",
    "\n",
    "You can read more about these IDs [here](https://developers.google.com/slides/api/samples/reading).\n",
    "\n",
    "You can learn more about [Google Slides API here](https://developers.google.com/slides/api/reference/rest)."
   ]
  },
  {
   "cell_type": "code",
   "execution_count": null,
   "metadata": {},
   "outputs": [],
   "source": [
    "SLIDE_DECK_ID = \"your slide deck id\"  # Replace this with your slide deck id.\n",
    "SLIDE_PAGE1_ID = \"page 1 id of your slide deck\"  # Replace this with slide page 1 id of the slide deck.\n",
    "SLIDE_PAGE2_ID = \"page 2 id of your slide deck\"  # Replace this with slide page 2 id of the slide deck.\n",
    "add_chart_to_slides(SLIDE_DECK_ID, SHEET_ID, SLIDE_PAGE2_ID, creds)"
   ]
  },
  {
   "cell_type": "markdown",
   "metadata": {
    "id": "fIqzYYIRzLII"
   },
   "source": [
    "#### Add Housing Research Summary from Vertex AI Search Extension to the Slide Deck\n",
    "\n",
    "Next, you want to insert the research summary into the deck template.\n",
    "\n",
    "Slide 1 of the deck has the text \"{{replace_text}}\", the function below looks for \"{{replace_text}}\" in a slide and replaces it with text specified when calling the function."
   ]
  },
  {
   "cell_type": "code",
   "execution_count": null,
   "metadata": {
    "id": "8bcJKnO0jtxS"
   },
   "outputs": [],
   "source": [
    "def replace_text_in_slides(slide_deck_id,\n",
    "                           slide_page_id,\n",
    "                           deck_text,\n",
    "                           creds):\n",
    "  \"\"\"\n",
    "  Replaces '{{replace_text}}` on a Google Slides slide with replacement text.\n",
    "\n",
    "  Args:\n",
    "    slide_deck_id: The ID of the Google Slides presentation to modify.\n",
    "    slide_page_id: The ID of the slide to modify.\n",
    "    deck_text: The replacement text to insert in place of `{{replace_text}}`.\n",
    "    creds: Valid Google credentials for accessing the Slides API.\n",
    "\n",
    "  Raises:\n",
    "    HttpError: If an error occurs while communicating with the Slides API.\n",
    "  \"\"\"\n",
    "  try:\n",
    "    service = build(\"slides\", \"v1\", credentials=creds)\n",
    "    presentation_id = slide_deck_id # you need to use the presentation id of your slide\n",
    "\n",
    "    requests = [\n",
    "            {\n",
    "          \"replaceAllText\": { # Replaces all instances of text matching a criteria with replace text. # Replaces all instances of specified text.\n",
    "          \"containsText\": { # A criteria that matches a specific string of text in a shape or table. # Finds text in a shape matching this substring.\n",
    "            \"matchCase\": True, # Indicates whether the search should respect case: - `True`: the search is case sensitive. - `False`: the search is case insensitive.\n",
    "            \"text\": \"{{replace_text}}\", # The text to search for in the shape or table.\n",
    "          },\n",
    "          \"pageObjectIds\": [ # If non-empty, limits the matches to page elements only on the given pages. Returns a 400 bad request error if given the page object ID of a notes master, or if a page with that object ID doesn't exist in the presentation.\n",
    "            slide_page_id,\n",
    "          ],\n",
    "          \"replaceText\": deck_text, # The text that will replace the matched text.\n",
    "        }\n",
    "            }\n",
    "        ]\n",
    "\n",
    "    body = {\n",
    "        'requests': requests\n",
    "    }\n",
    "    service.presentations().batchUpdate(\n",
    "        presentationId=presentation_id,\n",
    "        body=body).execute()\n",
    "  except HttpError as err:\n",
    "    print(err)\n",
    "\n",
    "replace_text_in_slides(SLIDE_DECK_ID, SLIDE_PAGE1_ID, deck_text, creds)"
   ]
  },
  {
   "cell_type": "markdown",
   "metadata": {
    "id": "tRD3VaEg3qf5"
   },
   "source": [
    "### Step 5 (Optional): Email Slide Link to Stakeholders\n",
    "\n",
    "Now that you've created your deck, you need to send it to your team. This function sends an email containing a link to the Google Slides presentation. It uses the Gmail API to authenticate with your Gmail account and then creates and sends an email message with the specified recipient, sender, subject, and presentation link.\n",
    "\n",
    "You can learn more about [Gmail API here](https://developers.google.com/gmail/api/guides).\n",
    "\n"
   ]
  },
  {
   "cell_type": "code",
   "execution_count": null,
   "metadata": {
    "colab": {
     "base_uri": "https://localhost:8080/"
    },
    "id": "f10KNaRI5c6i",
    "outputId": "4c3515e4-52b4-4b1d-c328-6d66c6912cb0"
   },
   "outputs": [
    {
     "name": "stdout",
     "output_type": "stream",
     "text": [
      "Message Id: 18ec45f70bf82a85\n"
     ]
    }
   ],
   "source": [
    "# Set these values before sending the email.\n",
    "EMAIL_TO = \"email to adress\" # Replace this with the email address you're sending to.\n",
    "EMAIL_FROM = \"email from address\" # Replace this with your email address.\n",
    "EMAIL_SUBJECT = \"Latest Housing Research\"\n",
    "EMAIL_CONTENT = f\"Hi team. As discussed, here's the presentation on California housing: https://docs.google.com/presentation/d/{SLIDE_DECK_ID}\"\n",
    "\n",
    "from email.message import EmailMessage\n",
    "\n",
    "def send_email(email_to, email_from, email_subject, email_content, creds):\n",
    "  \"\"\"Sends an email with a link to a Google Slides presentation.\n",
    "\n",
    "  Args:\n",
    "    email_to: Email address of the recipient.\n",
    "    email_from: Email address of the sender.\n",
    "    email_subject: Subject line of the email.\n",
    "    email_content: Content of the email.\n",
    "    creds: Credentials object used for authentication with the Gmail API.\n",
    "\n",
    "  Raises:\n",
    "    HttpError: If an HTTP error occurs during communication with the Gmail API.\n",
    "  \"\"\"\n",
    "  try:\n",
    "    # Create Gmail API client.\n",
    "    service_gmail = build(\"gmail\", \"v1\", credentials=creds)\n",
    "\n",
    "    message = EmailMessage()\n",
    "    # Send the slide to the stakeholders.\n",
    "    message.set_content(email_content)\n",
    "\n",
    "    message[\"To\"] = email_to\n",
    "    message[\"From\"] = email_from\n",
    "    message[\"Subject\"] = email_subject\n",
    "\n",
    "    # Encoded message.\n",
    "    encoded_message = base64.urlsafe_b64encode(message.as_bytes()).decode()\n",
    "\n",
    "    create_message = {\"raw\": encoded_message}\n",
    "    send_message = (\n",
    "        service_gmail.users()\n",
    "        .messages()\n",
    "        .send(userId=\"me\", body=create_message)\n",
    "        .execute()\n",
    "    )\n",
    "    print(f'Message Id: {send_message[\"id\"]}')\n",
    "  except HttpError as error:\n",
    "    print(f\"An error occurred: {error}\")\n",
    "    send_message = None\n",
    "\n",
    "send_email(EMAIL_TO, EMAIL_FROM, EMAIL_SUBJECT, EMAIL_CONTENT, creds)"
   ]
  },
  {
   "cell_type": "markdown",
   "metadata": {
    "id": "qYCcqz9m5EY3"
   },
   "source": [
    "After you run the send email function above, the email address you specific in `EMAIL_TO` should recieve an email similar to the screenshot below."
   ]
  },
  {
   "cell_type": "markdown",
   "metadata": {
    "id": "vlDRcbQ46aaV"
   },
   "source": [
    "![Screenshot 2024-04-24 at 12.00.31 AM.png](data:image/png;base64,iVBORw0KGgoAAAANSUhEUgAABQQAAALUCAYAAABdBz86AAAKrWlDQ1BJQ0MgUHJvZmlsZQAASImVlwdQU1kXgO97L52ElhCKlNCbIJ0AUkJoARSkg6iEJEAoIQaCil1ZXIEVRUUEK7oCouBaAFlsiGJhEbDXDbIoKOtiwYbK/4AhuPvP///zn5kz53vnnXvuuXfufXMeABRlrlicDisDkCHKloT5ezNiYuMY+AGAAE2gDhjAjsvLErNCQ4MBKlP27/L+DoDG7U2r8Vz//v6/igpfkMUDAApFOZGfxctA+SSqL3hiSTYAyD7Ub7gkWzzObSjTJGiBKN8b5+RJHhrnxAnGgImYiDA2yjQACGQuV5IMAJmB+hk5vGQ0D9kLZRsRXyhCWYyyR0ZGJh/lYyiboTGojzyen5n4XZ7kv+VMlOfkcpPlPLmWCSH4CLPE6dxl/+d2/G/JSJdOzWGCKjlFEhCGWlV0z+6lZQbJWZQ4N2SKhfyJ+AlOkQZETjEvix03xXyuT5B8bPrc4ClOEvpx5HmyORFTLMjyDZ9iSWaYfK4kCZs1xVzJ9LzStEi5P0XAkefPTYmInuIcYdTcKc5KCw+ajmHL/RJpmLx+gcjfe3peP/naM7K+W6+QIx+bnRIRIF87d7p+gYg1nTMrRl4bX+DjOx0TKY8XZ3vL5xKnh8rjBen+cn9WTrh8bDZ6IKfHhsr3MJUbGDrFgA0yQTqqEvTWBaNPPgBkC5Zmjy+EnSleJhEmp2QzWOgNEzA4Ip71TIadjZ0DAOP3dfI4vKVP3EOIfm3at54EgLtobGysZdoX9BmAk/oAkGTTPtMeABTRc39lC08qyZn0TdwlLCABJUBDvwa6wBCYAStgB5yAG/ACviAQhIAIEAsWAh5IARlo5UvACrAW5INCsBlsB+VgLzgAqsFRcBw0ghZwAVwG10EXuA0eAhnoBy/BMHgPRiEIwkMUiAppQnqQMWQJ2UFMyAPyhYKhMCgWSoCSIREkhVZA66FCqAQqh/ZDNdAv0GnoAnQV6obuQ73QIPQG+gwjMBmmwTqwCTwLZsIsOAiOgBfAyfBiOBfOgzfBZXAlfARugC/A1+HbsAx+CY8gAFFA6Ig+YoUwETYSgsQhSYgEWYUUIKVIJVKHNCPtyE1EhgwhnzA4DBXDwFhh3DABmEgMD7MYswpThCnHVGMaMG2Ym5hezDDmG5aC1cZaYl2xHGwMNhm7BJuPLcUewp7CXsLexvZj3+NwODrOFOeMC8DF4lJxy3FFuN24etx5XDeuDzeCx+M18ZZ4d3wInovPxufjd+KP4M/he/D9+I8EBYIewY7gR4gjiAjrCKWEw4SzhB7Cc8IoUZloTHQlhhD5xGXEYuJBYjPxBrGfOEpSIZmS3EkRpFTSWlIZqY50ifSI9FZBQcFAwUVhnoJQYY1CmcIxhSsKvQqfyKpkCzKbHE+WkjeRq8jnyffJbykUignFixJHyaZsotRQLlKeUD4qUhWtFTmKfMXVihWKDYo9iq+UiErGSiylhUq5SqVKJ5RuKA0pE5VNlNnKXOVVyhXKp5XvKo+oUFVsVUJUMlSKVA6rXFUZUMWrmqj6qvJV81QPqF5U7aMiVEMqm8qjrqcepF6i9tNwNFMah5ZKK6QdpXXShtVU1RzUotSWqlWonVGT0RG6CZ1DT6cX04/T79A/q+uos9QF6hvV69R71D9ozNDw0hBoFGjUa9zW+KzJ0PTVTNPcotmo+VgLo2WhNU9ridYerUtaQzNoM9xm8GYUzDg+44E2rG2hHaa9XPuAdof2iI6ujr+OWGenzkWdIV26rpduqu423bO6g3pUPQ89od42vXN6LxhqDBYjnVHGaGMM62vrB+hL9ffrd+qPGpgaRBqsM6g3eGxIMmQaJhluM2w1HDbSM5pjtMKo1uiBMdGYaZxivMO43fiDialJtMkGk0aTAVMNU45prmmt6SMzipmn2WKzSrNb5jhzpnma+W7zLgvYwtEixaLC4oYlbOlkKbTcbdk9EzvTZaZoZuXMu1ZkK5ZVjlWtVa813TrYep11o/WrWUaz4mZtmdU+65uNo026zUGbh7aqtoG262ybbd/YWdjx7CrsbtlT7P3sV9s32b92sHQQOOxxuOdIdZzjuMGx1fGrk7OTxKnOadDZyDnBeZfzXSaNGcosYl5xwbp4u6x2aXH55Orkmu163PUvNyu3NLfDbgOzTWcLZh+c3edu4M513+8u82B4JHjs85B56ntyPSs9n3oZevG9Dnk9Z5mzUllHWK+8bbwl3qe8P7Bd2SvZ530QH3+fAp9OX1XfSN9y3yd+Bn7JfrV+w/6O/sv9zwdgA4ICtgTc5ehweJwaznCgc+DKwLYgclB4UHnQ02CLYElw8xx4TuCcrXMezTWeK5rbGAJCOCFbQx6HmoYuDv11Hm5e6LyKec/CbMNWhLWHU8MXhR8Ofx/hHVEc8TDSLFIa2RqlFBUfVRP1IdonuiRaFjMrZmXM9VitWGFsUxw+LiruUNzIfN/52+f3xzvG58ffWWC6YOmCqwu1FqYvPLNIaRF30YkEbEJ0wuGEL9wQbiV3JJGTuCtxmMfm7eC95Hvxt/EHBe6CEsHzJPekkqSBZPfkrcmDKZ4ppSlDQrawXPg6NSB1b+qHtJC0qrSx9Oj0+gxCRkLGaZGqKE3UlqmbuTSzW2wpzhfLFrsu3r54WBIkOZQFZS3IasqmoY1Rh9RM+oO0N8cjpyLn45KoJSeWqiwVLe1YZrFs47LnuX65Py/HLOctb12hv2Ltit6VrJX7V0GrEle1rjZcnbe6f43/muq1pLVpa39bZ7OuZN279dHrm/N08tbk9f3g/0NtvmK+JP/uBrcNe3/E/Cj8sXOj/cadG78V8AuuFdoUlhZ+KeIVXfvJ9qeyn8Y2JW3qLHYq3rMZt1m0+c4Wzy3VJSoluSV9W+dsbdjG2Faw7d32RduvljqU7t1B2iHdISsLLmvaabRz884v5Snltyu8K+p3ae/auOvDbv7unj1ee+r26uwt3Pt5n3Dfvf3++xsqTSpLD+AO5Bx4djDqYPvPzJ9rDmkdKjz0tUpUJasOq26rca6pOax9uLgWrpXWDh6JP9J11OdoU51V3f56en3hMXBMeuzFLwm/3DkedLz1BPNE3Unjk7tOUU8VNEANyxqGG1MaZU2xTd2nA0+3Nrs1n/rV+teqFv2WijNqZ4rPks7mnR07l3tu5Lz4/NCF5At9rYtaH16MuXirbV5b56WgS1cu+12+2M5qP3fF/UrLVderp68xrzVed7re0OHYceo3x99OdTp1NtxwvtHU5dLV3D27+2yPZ8+Fmz43L9/i3Lp+e+7t7juRd+7djb8ru8e/N3A//f7rBzkPRh+ueYR9VPBY+XHpE+0nlb+b/14vc5Kd6fXp7Xga/vRhH6/v5R9Zf3zpz3tGeVb6XO95zYDdQMug32DXi/kv+l+KX44O5f+p8ueuV2avTv7l9VfHcMxw/2vJ67E3RW8131a9c3jXOhI68uR9xvvRDwUfNT9Wf2J+av8c/fn56JIv+C9lX82/Nn8L+vZoLGNsTMyVcCdaAQRVOCkJgDdVAFBiAaB2of3D/Ml+ekKgyX+ACQL/iSd77glxAqAONeNtEfs8AMdQNVmD5kZ1vCWK8AKwvb1cp3rfiT59XHDoH8s+n3G6v3XBGvAPmezhv6v7nxaMZ3UA/7T/Ag24B0l6WKnCAAAAlmVYSWZNTQAqAAAACAAFARIAAwAAAAEAAQAAARoABQAAAAEAAABKARsABQAAAAEAAABSASgAAwAAAAEAAgAAh2kABAAAAAEAAABaAAAAAAAAAJAAAAABAAAAkAAAAAEAA5KGAAcAAAASAAAAhKACAAQAAAABAAAFBKADAAQAAAABAAAC1AAAAABBU0NJSQAAAFNjcmVlbnNob3SYqB/SAAAACXBIWXMAABYlAAAWJQFJUiTwAAAC3GlUWHRYTUw6Y29tLmFkb2JlLnhtcAAAAAAAPHg6eG1wbWV0YSB4bWxuczp4PSJhZG9iZTpuczptZXRhLyIgeDp4bXB0az0iWE1QIENvcmUgNi4wLjAiPgogICA8cmRmOlJERiB4bWxuczpyZGY9Imh0dHA6Ly93d3cudzMub3JnLzE5OTkvMDIvMjItcmRmLXN5bnRheC1ucyMiPgogICAgICA8cmRmOkRlc2NyaXB0aW9uIHJkZjphYm91dD0iIgogICAgICAgICAgICB4bWxuczpleGlmPSJodHRwOi8vbnMuYWRvYmUuY29tL2V4aWYvMS4wLyIKICAgICAgICAgICAgeG1sbnM6dGlmZj0iaHR0cDovL25zLmFkb2JlLmNvbS90aWZmLzEuMC8iPgogICAgICAgICA8ZXhpZjpVc2VyQ29tbWVudD5TY3JlZW5zaG90PC9leGlmOlVzZXJDb21tZW50PgogICAgICAgICA8ZXhpZjpQaXhlbFhEaW1lbnNpb24+MTI4NDwvZXhpZjpQaXhlbFhEaW1lbnNpb24+CiAgICAgICAgIDxleGlmOlBpeGVsWURpbWVuc2lvbj43MjQ8L2V4aWY6UGl4ZWxZRGltZW5zaW9uPgogICAgICAgICA8dGlmZjpSZXNvbHV0aW9uVW5pdD4yPC90aWZmOlJlc29sdXRpb25Vbml0PgogICAgICAgICA8dGlmZjpYUmVzb2x1dGlvbj4xNDQvMTwvdGlmZjpYUmVzb2x1dGlvbj4KICAgICAgICAgPHRpZmY6WVJlc29sdXRpb24+MTQ0LzE8L3RpZmY6WVJlc29sdXRpb24+CiAgICAgICAgIDx0aWZmOk9yaWVudGF0aW9uPjE8L3RpZmY6T3JpZW50YXRpb24+CiAgICAgIDwvcmRmOkRlc2NyaXB0aW9uPgogICA8L3JkZjpSREY+CjwveDp4bXBtZXRhPgpnC3lgAABAAElEQVR4AeydB5wkRdmH6/YC6UhHzkHJUXJQCYJEUUQBASULCHgiCAiKIuEARbIoGUyAAQxwgor4IVGCApKVHCXnfN88DdXW9M7shJ2dmd153t9vdzpWVz1VXd3177eqRk0pWdAkIAEJSEACEpCABCQgAQlIQAISkIAEJCCBniDQ1xOpNJESkIAEJCABCUhAAhKQgAQkIAEJSEACEpBARkBB0IIgAQlIQAISkIAEJCABCUhAAhKQgAQkIIEeIqAg2EOZbVIlIAEJSEACEpCABCQgAQlIQAISkIAEJKAgaBmQgAQkIAEJSEACEpCABCQgAQlIQAISkEAPEVAQ7KHMNqkSkIAEJCABCUhAAhKQgAQkIAEJSEACElAQtAxIQAISkIAEJCABCUhAAhKQgAQkIAEJSKCHCCgI9lBmm1QJSEACEpCABCQgAQlIQAISkIAEJCABCSgIWgYkIAEJSEACEpCABCQgAQlIQAISkIAEJNBDBBQEeyizTaoEJCABCUhAAhKQgAQkIAEJSEACEpCABBQELQMSkIAEJCABCUhAAhKQgAQkIAEJSEACEughAgqCPZTZJlUCEpCABCQgAQlIQAISkIAEJCABCUhAAgqClgEJSEACEpCABCQgAQlIQAISkIAEJCABCfQQAQXBHspskyoBCUhAAhKQgAQkIAEJSEACEpCABCQgAQVBy4AEJCABCUhAAhKQgAQkIAEJSEACEpCABHqIgIJgD2W2SZWABCQgAQlIQAISkIAEJCABCUhAAhKQgIKgZUACEpCABCQgAQlIQAISkIAEJCABCUhAAj1EQEGwhzLbpEpAAhKQgAQkIAEJSEACEpCABCQgAQlIQEHQMiABCUhAAhKQgAQkIAEJSEACEpCABCQggR4ioCDYQ5ltUiUgAQlIQAISkIAEJCABCUhAAhKQgAQkoCBoGZCABCQgAQlIQAISkIAEJCABCUhAAhKQQA8RUBDsocw2qRKQgAQkIAEJSEACEpCABCQgAQlIQAISUBC0DEhAAhKQgAQkIAEJSEACEpCABCQgAQlIoIcIKAj2UGabVAlIQAISkIAEJCABCUhAAhKQgAQkIAEJKAhaBiQgAQlIQAISkIAEJCABCUhAAhKQgAQk0EMEFAR7KLNNqgQkIAEJSEACEpCABCQgAQlIQAISkIAEFAQtAxKQgAQkIAEJSEACEpCABCQgAQlIQAIS6CECCoI9lNkmVQISkIAEJCABCYw0AlOmTAn8aUNDQL5Dw9VQJSABCUhAAp0mMKbTEfD6EpDAwATefPPN8N///je89NJLYcKECWGWWWYJo0ePHvgk90pAAhKQgARGOIFXX3018PfGG29kfyM8uR1N3lRTTRX4m3baabO/jkbGi0tAAhKQgAQk0BICo0pf/Yb9J9UbbrghXH311TmQz3zmM2G++ebL1xtduOqqq8KNN96Yn7bddtuF2WabLV93oTaBf/7zn+HMM88M9913X/jsZz8bttlmm+xFsvaZHvHEE0+EP/3pT+Hyyy8PcHzhhRfKoPT19YVZZ501rL766mH99dcP66yzTphuuunKjnFFAsOFQLvqinZdZ7hwrxbPiy66KDzwwAP57oUXXjh88pOfzNd7aeHxxx8P559/fp7kVVddNayxxhr5+nBcIE1nnXVWuOKKK8LHP/7xsMMOO4Q55phj2CWFD2V8JOPv3XffHXbxH84R5h1k+umnz/7GjRs3nJNi3CUgAQlIQAI9T2BECIKnnHJK+O53v5tn5s9+9rNBvbQfccQR4fTTT8/Du+SSS8JSSy2Vr7swMAFe1FdbbbXw7LPP5gfCdNttt83XXehP4P777w9HHXVUJgQ2otPzxX777bcPe+21V5hhhhn6B+wWCXQpgXbVFe26Tpdirjtar7zySlh55ZUzj6t40vjx48Pf//73MM0008RNPfN70003hS222CJP79577x323XfffH04Luyyyy7ZB6cY90033TScfPLJcXVY/L799tvZ+8XLL788LOI7UiNJ3UCvhTFj7Gw0UvPYdElAAhKQwMgn4BiCIz+P257CP/7xj2ViIBH4xS9+0fZ4DJcL0tXp0EMPzbz9LrvssobHQeL80047LXz0ox8NP/nJT4ZLso2nBEK76op2XWe4Zykfv+h+mRqiy+TJk9NNLg9TAgw9gWdgajxzhpOwxscyvOaHU5xT3iNpmTwgLxr5gDmS0m9aJCABCUhAAiOBgJ/1RkIudlkallxyyTBq1Kiyl0S2af0JPPPMMwGPjVtuuaXfTjxy8Nah+/u8886bfYmnO/EjjzwSHnzwwaxbe9pV6vnnnw/f+MY3wr/+9a9w2GGH+dW+H9Hu3IAnLWUg2lprrRUmTpwYV0f0bzN1BZ6wjz32WMaF8TRTb+5qsJq5TrWwRvL2ah9u2P7pT396JCe9J9KGN9ecc86Z3z8kev755w94eg0Xe+211/oNozFc4j4S44kgyLsK4wpqEpCABCQgAQkMPwIKgsMvz7o+xgsttFD43Oc+l429hGA199xzZ+MUdX3E2xxBRD26USPwpcaYXYxbyViYA3UBfvTRRzOPwAsuuKDMI/PnP/95ePjhh8MZZ5wRpp566jRol7uQwFtvvRVuvvnmPGYLLLBAvjzSF5qpKxC86V6PzTXXXHUhauY6dQU8gg6CKV2DK9l1112X1SmDGZu3Urhuay8BJqP6yle+Er797W9nnqCMPUs36OFkCIJadxEgTxQEuytPjI0EJCABCUigXgJ2Ga6XlMc1RODII48Mf/3rX8M555wTmKRl0UUXbej8kX4wY3XtuuuuZWIgA3XTWGNCkZ122mlAMRA+88wzTzjggAMyvhtttFEZsr/97W/h4IMPLtvmigS6kUC76op2XacbGdcTp1/+8pdlh+255575Ol0Cf/WrX+XrLgxfAltuuWW4/vrrw49+9KPAhGyf+tSnhlViXn/99WEV316IrHnSC7lsGiUgAQlIYKQSUBAcqTnbBenCm2TttdcOeCVo5QT233//cM899+QbZ5555kw8RRBEGGzE8PI49dRTMwEwZU0DHkFWk0C3E2hXXdGu63Q772L88OROBT8+Nuyzzz5Z99J4LN2GHSss0hjev8wQu8EGGwy72ekpf0wo0m679NJLw7HHHht+97vftfvSw+J6nciTYQHGSEpAAhKQgASGAYHGlIdhkCCjKIFuJ/D73/8+MHh/NGboYxw0JgUZjOFxeOCBB5YFwezOdC3WJCABCVQjgBc345NG23zzzbMxSD/5yU/GTVk9cs011+TrLkig3QQYm/idd96p67LMEH311VeHxx9/vK7jBzqILrGIXnrCVaZUb55UPtutEpCABCQgAQl0koCC4BDT50WSF9Lh+gWVF2AmPei0Pffcc+HFF18ckmgw8yITcrTDeHH+/ve/X3YpvAVXWmmlsm3NriAKrr/++vnpjE93wgkn5OuDWXjqqafa0iAiLxiofCitXfcl930vzMLIzLTcR71g3FPU6fy22qgfnnzyyZBOFtTqa1QKrziZSJxAJP7Gc4rHxe2t+B2qOp7n10svvdSKKHZVGJ18NlNHM+xFNxsiN0NnPPDAA90cTeMmAQlIQAISkIAEOkrASUVajJ8X5fPPPz/84Q9/yAZhZxZZjK6cDID/gQ98IDCGD9118AyrZYgJaVeuJZZYIqy++uq1Tsv3X3vtteHOO+/M12ngzTTTTPl6cQHRh+vdcccd2XkMNE8jlcktGJh/kUUWySYIWXrppYunlq3zMn7vvffm27baaquK3ZPOPvvsvBtamjauyVh65513XvjHP/6RNz5mn332bDxCrv+lL32p5jh7eQSSBYQLwr388svDQw89FBCHMAbFXmyxxcJnP/vZgGcMXXExJv/485//nC3zb+ONNy7rSpfvqGPhoosuCv/5z3/yI9dcc81sLMF8QwsWvve974V11lknF3LJzz322CPLv2Lwl112We5BOOOMM4YtttgiPwTR47TTTgu33XZbuPvuu/NGNXlAOWbiGFjUU47/+c9/Bjw2om2zzTb5hCfwpxxQVulGjSCCUeaYYGOTTTYJHD/QBCsx3Gq/rb4vuU/w9IwGb+4PDAGCLtxM0MB99Oabb4Zx48ZleUA3TMSetCt3TG8MizKyzDLLxNX8l3JJV79od911V0g9ttI4xGMG+v31r3+dC+FMPgPjog1UPshT0vF///d/IdZzxI86gjFDmTn5gx/8YDHIfuu16go4wztanFCEdcroWWedFXflvx/+8If7jVta6zr5yYUF8gsOP/vZz8K///3vzJOObXgrzTbbbFm+MwHQJz7xibxMF4KoukrZYOy+W2+9NatvydM33ngjTDXVVFm4lKnNNtssFMcIrRpgEzu4N6gLoy233HKBiY0w6sOllloqm7mcdZ5riGtpOWT7QNbuOp76ivqduoSyEj8kMSM16YIpz8HVVlttoGjX3IcgxoRO0ardQ3F/tV/KFOPtRqPO+9jHPhZX899WPZt5LnMvRGNWc+rzgez222/P7gHqM/647zCeBTClvuJjFOuaBCQgAQlIQAISkMDwIVBbkRo+aeloTBE1GLQeD4pK3UoQuJhNlj9e/hEHGS8OoWwgo6H9ne98Jz/k85//fEOCIA24c889Nz+fbqnVBME//vGP2SQVlTwCaVQhAPCHwIRg9rWvfS2b2CIPPFm4+OKLy4RMGrRRYEsOC3Rpjd6TMW004hD7UiEznkOjiD++/P/mN78J3/3udwON/3qM63C9n/zkJxW9e/ByuuWWW7I/vPgYM4jGEo30NA8QI+ecc856LtnvmKKHDaIJwkIrDWEP0fmHP/xhFixlD5Hpq1/9ar/LwCI2DhFyEAQpy5zLoPOVynLMAwS8SZMmhUMOOaSmYEF+kVfRGMieBjTxOvroo8u6K8ZjKHM07vk76aSTsgbnl7/85YbGWByq+5JZnNMyMcccc2RCA+IOZQxvp9QQfu67775sE2JSem56XFyutB+RIBVimJk4PS7GIYZR65f8RejFEEsqCYKVygdCCJPZpIJovBZiEfHij7zluB133HHAMl6rrkB0vPHGG+Ml+v2mDOJOylRxIqNa14nnpr98CDj88MPzWY3TfYxnFu8FJmkg36kTmTm8HkOYoTxXqucQBal3+Js8eXJYYYUVwkEHHdQyT+I0ftSjlM9o6UcBtrHOzM4Y9QHjqFUqK9kBFf61q46nnjj++OPLPt6k0eFZyh9C/YUXXhg23XTTbNzVemeqTsNimecZz8LIhm2LL754llcs12vEOR2bjudO0Vr5bOYZnt4zPOuqCYI8O37wgx9kXubxOZ3GLZZ/ZqH+6U9/mtXRX/ziFys+69PzXJaABCQgAQlIQAIS6A4CdhluQT4g8uFx8OMf/7iigFLpEnxhp7FMI28oup5Vuma1bTQ+iQdf+CuJgcXzaAjTuN5www0zL8ji/sGs4w1IQ61SI7kYLgwREREeahnpohGLt0o9vJ9++unMEzL15Kp1jVr7EbhSL7m55547ExxrndfM/q233rpMhLniiivqCoZGH+WAbsaVxMBiIOQB4u3JJ59c3FVz/bjjjssmLkjHLqt2EiIUDefdd989INzWY+2+LxF799tvv35iYD1xHS7H4E2GJ1wlMbCYBuoVhIevf/3rxV3DYp0PKdwLqUfiQBGHDTN781dJPEnPRWiFYz31HOchsOKFiDjYaks/UowdOzaLV3oNPv6kXsCIaYOxoajjqd8Y9zD15K4VR8rwuuuuGxCzmrWdd9657NT041vZjiorPJf4aBdt1llnzTxC43onn83U7TxHEChrlWfiS73Mc4Nz6nnGxjR2+pe08YEHT+160hnjy/1O3YAoWu95PFPhSi8B3jH4OKRJQAISkIAEJCCBThLQQ3CQ9OlyirdTUUhbcMEFMy86utMwgywvgXS7QUhLxzOiGxph0JBIZ4gdZLQaOh1PIeKR2hprrJE1DOeff/6sCxteBTTkbrjhhryLLenYe++9sy5vaYMxDaeRZV6s6doaxyaad955s8YFnmsYL9EMEo63WTTESbzUPv7xj1f1SsD7BTEQb5vU8AxByCX8CRMmZF5qdN0jj15++eWsK/Nhhx2W5W96XrPLdK1MGw408BudUbjea1P+VllllYDnEoYXC3wH6tJF3BCpU76IlngIwYguu4hsNKBpxMa0kAd0U6bxuu+++9YVRcpbOrYh3jY06JdddtnM+5K4cr/ggZPeL3Rt3GGHHbJu+QOxa/d9iaiJYBmNexmvG8oYDcfoHRj3p96ysbzHffym++P2gdIbjxnKXxr5eJnGLu/EkcY/3QXxSmWsLvIMj7NYNogP3Sq5/8jbZmyaaaYp41HkVYnVYOsjPGSPOuqosuhSR+B5y72ARyVdPbmvEPkZViAanlLcE3iMVzLq0G984xtluygrMWw8Z+FIncv9i3AQjUmD6NLLfdkKo07kWtEQyHhepUZa8ZSOYhvPAcpzPd3B03BYHoo6nmcCz420zDH8A8NyfOQjH8m82BGrKLfUXXjbRcODmDJNvTJ+/Pi4ue5fRF3KCenCmI32m9/8ZkDYq8e4N1LxbLvttguIstE6+WymLsebMhrDHjB8w9prr53Va9R5lAXKKYI1ZR7DU/OYY47JhPF4brf8MgTLGWeckUUH73w8M4uTbtGVnHJTqb7Fm5+u6Dz/KDvROJZ3JoYAqWS8T1A2ih8XqKc4Lx0GBn6xCz89SHgPSo1nWxTxuV4jXd/JI/J0+eWXz4axSMNNl/GkRSBdcskl080uS0ACEpCABCQwAgkoCA4iU2mA0OUrFQNpTNFAQKAqdgXl5Q5PvFNOOSX7iy/QCDB0iaQLcbsNEYdGRzReUBE28NJLjYYiVuzOS4OAbpIIA4M1xumKRre7Qw89tMwzhX00/OhyPXHixHz8MxpjpKFSl1jOoXGSioGkkQY5ja+icECjHI8m8hCPT7pMIUqlFvMt3VbPctEbiPG5htLovhYFQeJM99CBBEHyNjZYaJTSsEXIKTKC22OPPZbxTr1r6FqGcFDPBCkIiNG4BszT7rDsQzClCybH4tkZDUGF/KYsVLJO3JfEMTYQ8ZwlPYwFFg3PEAQzDJ5pN0MaXquuumq2j38Io3hPdpsR/5gGRKlzSl15i+IRccZjlPszCk2UPbrdNutZxn2YGmMlxnKK4ErX9VYa92laPgmbskZdjzgZDWEEo7zRHZ7xNmPdgOCNIMX9ULRUCGffTjvtlN1r6fMCkQBD/Ey7ZyNoUJ+l4nN2YJP/inlS7C4cg+XDSRQE2YYg0Yzn51DU8Qiz1NPRqPcom8VhHSg3ePQhiPAcjmPcUpd9+9vf7pfnMbyBfqknv/CFL+TnIu6R95SVWkZZ+fnPf54fRlhpd/NOPpthlI5PynMDr9ZiN3zGt8SKz2Tqa953mhGNcyBDsIBHXhSO+Qgb6+z0UvGZVunexZOQ8lY0wuU9jro9rcs5jnykDotjWabnEhc+FHJ+FBMZs5M6jWEn6P2AV3wUiSlffLDkPD7QrbzyymlwNZc5F0GTupnnOCJv0eIYy1yDj6mIh5oEJCABCUhAAiOXwIjsMozAgCjR7N/pp59eV47TsEMQi8Zg5ZdccknWEEwbd3E/vzQo6VbIV+pUaEEQ5Ct7uw2vidTjBiGzKAamcSKNZ555ZvYyymy2rRID02vwdZ6uhimfdD8v6kUPG+JRycgf4huNMGnY4GVWLXw8jvAMLF4jhtHsb+rpQxjzzDNPs0HVdV5xbKx6Z4HFQ4lGLQ3daozwUIIj3Qmj0ShHlE09XuK+ar90r8STqigGxuPJi29961uZoBS38cu4V0Wvu7i/E/dlbFgyzh+CfyoGEi+YIlSMBENooY6sJAaSPrzdTjzxxLLGJiIujeluN8owInQUDYgv4hGiXCoGpungHkEcK84ejjdfKlTFc/AAiob3HcJ7tecF5R/xD+9KhAK4FsXKGFajv6QRgSAa+Rk//MRt8Ze6Pp3UhwlpUkbxuHp/W1nHU08hUFInIcawXBQD03ghoiBY4dUajecHXvzNGCIe93c06s562DB2K95e0fA2ZJKaaJ18NqdllPjstdde/cTAGE9+eSYjVHOPbL/99uEvf/lL14mBaXxZps6Ok5PxToboHb1EEQXTcTXjuXEbgj0fPvbff/9MWIsf2q688soywRChD9E3ioF8RIjnMdxJ9P5DTIwfUPA2jMI8nq2pEE/X+Pis4YNZo71K4nAbvAsgiCJWpsbHKSbkieW3nmFD0vNdloAEJCABCUhg+BEYkYIg2YD40uxfPdnIi1U6uyUNAmYWrbcrF8IBL6HRaDjiYdVuK4pU8QV1oHiQRr5gIwrU4w02UFjFfQiOCCq1XnR5GU4FFhpzlV5eEa2i1w7XohtUvV1s6FJEQ7hVVmRdb1lp9vpFwbFeQRAhtB7PA4QQPCnjjKTEkwZuveMVIjwzRls9hjcDDbZoiI50zSxaJ+9LvOYYS7FW2S3GeTitU8/hCRcbwNXiTpngw0xq0asv3dZty3jrxIY5ccNrh0kS6jE8O5m0KRp1UuplxXYEhSgOsM49Wk0MZD/GfYaowMcmPLKqifTvHV3/f2ZxT73bBwobT6L0QxF1CeJHM9bqOp44fOhDH8rGV8QTq9rHhTSuPOeYDCm11Is83V5rGSE1rZvoSpt6QlY7n2dTaky+k1rxedHOZ3Mz1+ZjIpP/4Nk/33zzpUnpymV40gWa8kKdzVAA0eORCBcnhoqJWHHFFbMuxZzHvcs9TA+J+MGALuzRGEoAkQ3DQxXBOp7H858eCVGYTmea5kNBnGmaLtk8VxmuI36AJqxUPI7Xq/X7uc99Lv9Yxb2feklSX6ViICJvve9Kta7rfglIQAISkIAEupfAiBUEhxo548GknnU0GlOBqp7r77bbbiHtNspX9TgWUT3nt+KYohcZL6WVhLXitSqN21U8ppl1PPdST5SBwlhiiSXy3Yh+6The7OBLejoIP2mFeSOGd1CrLH7Zj+ENFcNq4RevH49Lf/FEQnyr12gE0QBMrdjFOt0XlxEY8MJsxL5d6taXeuIUx6ojrE7el3huxUZhI+kaTsfSEK13LMD0/iSNw0EQTD3miHOjXsJ4F6ZGGU2Nck9jPxrdk1Mvsbi9+DsUdUUchyxeKxW14rb0N3otxW3F8+P2Wr+trOPTayGsVOoCmR6TLsdu2XFbs4Ig59PtOxV2EVoGMkTD1POLD2uMxZlaJ5/NxY9V9QicxH0oymnKpJXLRd6EnXqW0j2/kkWhLt1Hvf/hD3842xQFQFYQ8TDGtGRM36LRFRghFWOcweiByDplIn7U45kae0GQN5XC4pxahvchImT8iIfoec4552Td5xGo8WjE8BRWDKxF0/0SkIAEJCCBkUFgRAqCDP5O95tm/+rJWrpMReMli/FyGjUaEOl5eAkWG5CNhtno8bwY4rERjXHm6MpCd6bUsy7uH+rfRjwOi90yiw1ruuGkoi0ePORVIwYbPL9aYakQQHjNdlGrNy40OlOrZ6B7GguNGl5UaeMVYbuW+EgjqFqX02rXRyiOjSeOwcMhjvcUz+nUfUnjEg+TkW6N3J9MbJNaUbBP93XDMt3n0gknqBuLomateNKtNxVFqIOKlgoKeLriXURjv9h9r3heK9eLHn6M9VarnsMzKs1TBK3Uw7De+DVShmrV8dWuibCBAE1XdcQsnmd33HFHWXyps9I6iLHVmjX4pWPOcd2BBMbzzz+/rDt50TuQeHTy2bz22muXeToz+Qk9Gng/GCmWin8xTXGsPtajOBb38Ut5SYXfdF8Mj/OimBgFwfT5mJ7DcjyPZcazTI0J63hnQSikfsA7mPeYwRjh0cMijgeJxzLPzZhenrH19BAYTBw8VwISkIAEJCCB7iEwpnui0rqY0G2v+PW/kdB5Qas1jmAckJxwGYcmfslt5Docu9FGG2Xj5cXz2v3Czcsh47gxcHUcN4YBxREFEcN4ceTLN2kc6q6QNKQb8bIsdlssNqiLY5al3fki73p+KUt02xmsFbv48PI/lIOuF2dPrEcQZCKERo0yhMgRu8AhcpA2xpKrZs1ch7BorPz2t7/Ng0Vkip4ZbOzUfZl6+uaRG4ELjYg5xfKeer90Ixo+KMQxtogfY7g14yGMl1r8EIHwxoeetO5kZnY8saMnEfcKYgsTr+ClhxcmnIfS2xSPo3R8w1regTG/0glveF4w6QETddRrra7ji9fl2cVQAnT9riZWUudSZyDEMmZc7BqKh9ZgDA5XJt2o6X5ZaaZpuCOwRUMsqlQfdvLZTHdaej0wDEo0RGv+8E5DqGJm3PRjYjxuuPzCt1ErftRLz+dDdDS6XOOxGofpKNaF8Th+8R4kLghyHJ+K7pTPOeaYI/94SL7EcQ7TMBpdRtQkDxm7Ov14x8c9ut9rEpCABCQgAQn0DoERKQgOdfYheKRj7NQztk+1OPGyx1ffKMYVvxBXO6+V29dbb72s2wjdaWNDlvDxsGD2TP4Y94YuJHhdMq7eUDRW+WKdNpwHm8bY4I7hwLoZKwqPzYTBOaknAOvRe4DlobCiIDiQlwLXR8gYqOEyUByLgjjejwMJgsXjBwo73Vc8L/Wy7OR92aoykqa1G5cb8Zir5knTjekiTkWPWrYxQcRgDPHnmWeeKRtzkfHV8MjhowuiY7Tnn38+G5eWsWnxVKJhzozVjGtWj5gfw6nnt9jdl7oXD7paVvxgQziNCIKtruNjfBH/mMTl8ssvj5uq/jIZEX90lWxGFKoWMBOlkL7oaYhYSpyKQ2Awxmpabw00eVMnn81MpEPcjz766LIk4/3IH8YzhQ9tTC7F+0EreZZdtEtWuEerWbovep4iEvIcriZOExZDtETvvFRUZB9idVpW+GiB92Ecd5BjmjXqnlQMJBwmtmNIiGKZbfYanicBCUhAAhKQQPcTaPwTafenachjiNCUdqctCj2NRIAX6FSESV/+GglnsMfiMUHjbu1SV6FKL/UvvfRS1p3uy1/+cua9wsyYg/WoKMa5VYPlx3Dj1/m4nnKO2+r5bVVjnK/vqTGo/1AZ3lh4yUSjAYGX50DWrGBKmEVBrCjGFq/b7D1TjGN6nU7el60Usousuml9JKczLUutZB490NIwEbbx0ksnI0j3I24jujDbOhMR0KW0VWMw3nLLLWUzoXJdJlDaeOONa/4Vx2ClW2xxRto0HcXlVtfxhI/YwgQ2RTEQQZo6f/nll888AvFmS7uEcm4UYlhuhaXiKGJLUXjlGtGTmmXGRGWih4Gsk8/mPfbYI5vsrNqHAN5X8HaEP8+3M888s+VMB2LT7n2UtfTdL71+/KDA+1MU9uLkKgO916X1TvrBi+vEITD4IMsf5ZVt1eKQxmegZTzp45iEHDfVVFNlh1Nm+SCRipsDheM+CUhAAhKQgASGPwE9BJvIQ7p4pJZ61aXb611Ou6kVw643jFYct+SSS2ZeE3S1xTOGBta///3vfkGTXmZzZKy4448/vuUzDfe7YJMbeIFODVGzme42nNcKY3wxBK3YAKB7GQ2FWp57zVz7D3/4Q5lXAl4ctcSctBw2es2ip0GtctzstYrnpddJl4n/SLkvG80Lj2+OQDphDSHQOK8l1tRzpWr3N15EzNLNkA00zn/3u9+FW2+9NfcWj2HjZUhdy3iZzIw72DhVEqnitZr5JbxKEzQ0E1Yz5+y///5l4/Xhvc7EJXR5jZ5aMVwEFbysGMOPrsWtqttj+HTDxKMueoTxnEwnHOHZyniG0eiCPdNMM8XVqr+dfDZHofimm27KZrumu3vxYxsR51nGRFGMw8l7QbMffapC6IIdlJ/rr7++34QbCPjXXnttFsP0w2PsPUI5+9e//hV4B0iN8GI3c8ptWgcxQ3nsicKEPgjcZ599djbxHNdqdlgcRPx0rGqGC2D8Wz5QkscMvcJ1tt9++1zYTOPssgQkIAEJSEACI4uAgmAT+cnXX17c4my8A339rRU8QkocgJpji7P71Tq/1v5mvvTyVZvuQvwx6zED4zMwe3EGYrq84hHBvm58+S/GCSGuWuN8II5RwBvomHr30QWMhihGYwDviq985Sv1nl73ccWujulkHNUCoRFLw6boRVPt+HR79I6I24rs4/b4yz3TzPiJA11nON2XkUMnf5upGzoZ36G+drHMfvaznw177bXXUF828/zBA5A/RGwEBxrnRVGfZ8XXv/71rK5lnMFmjGdWOgZnM2EUz0FcYDbmRmb4LYbR7Dpju6ae1nggUvdVGwcN760FS5Pd0JWXsRwZB49JFVpleFrRFfyEE07IgnzggQey5yae9xhxo96PVmkykbiv0m8nn81MKsMfRpdrPNAnT56ciUhpmhCuv/SlL2XekbU+QlVKY7dv4z2I9z/EPZ6VlJ9LLrkkL0d49Eabf/75M1EaL+Hf//73maiH+BbPY2Ke+ExLBb743kU4jNkYPePplg1fRGWen0XP/Hjdar+IksQjGmNEx6E9eDfh/qH+oYdBFAVb1UMiXtNfCUhAAhKQgAS6i4CCYJP5gbAUu3AxZhAvxJW62tYK/s477yw7pCgIFsfharSbLl98B2O8cPIFmT+8sxCzGFMwThCAmEn34VqTsAwmDs2eWxT/8L6h+1ijxnmtMrxWEAHjmJFwY/ylVg7Ozgt/OvsuDWAmr6lldEOiPDKGUKNWHH+sKK4Uw+M6jLnVqNW6Trvuy0bjPRTHD6ZuYFyrVgrdQ5G+dodZrC/S8f3aFRcm3Vh33XWzP7ytGG8OsS3NKz7UIEo0M44rAk76DEHYOPbYYysmj/JVrWvixIkT8zqMZwDe5JtuumnFcIZyYyoGch2EqGpiYDEeiB+t9hDkGgiCP/jBD7KPK6yfe+65AUGQOv/CCy9kU2Z0sWXMwWatk89mxCj+8H5EvOKdIPU8ZSw6xmhMu1A3m85uOo8yQz7yEZQ/RPD4LkQ8EQPT7tUIf9tuu23WlRpBHy9grHgeZTZO2IRHcOzOSy+HdPZqnpk8AxEhOYYu/I2Iruks6ltuuWW/9w7KKeHhnUg6+RiM16smAQlIQAISkMDIJdA3cpM2tClLv+byhTcdr62RK6cNBM4rjjMXvwzHMOnuVK8Rr1ZOXEGXzF133TXrbpKKnzROo8BVb9zacRwv52k843g8jVwbr7m0i1cj51Y6doEFFgi8iEfDI4hGbHGG5Li/0V88UvB+SW2fffbJvvyn26otM65Zo8akCWn5R9SuJQg2cx3iVczDYuO/Xfdlo4yG4vgi40bqBmZj1coJIAimoiBi02C7nZdfobE1GuZM4ITwkH4wQIC5/fbbGwvs/aNT0YZNjPm2ySabVPyjq2i1fZyXWvE5lu4bymXqu9Qa+cjAGI3VBM80zEaX8ajiI080uoQyGzoen9SV0Rr1DoznVfrt5LMZYRJB8NBDDy2LGmJ2Jy0++1PBrNpypXhWOhavQDzpYtipGMizCEGtaIj82223XdnEQMXzUg/+q6++Oheq+RAbr0W4LNN9GEPMTp+72cYa/5jABpGRYQfSOiU9jXuIIUZ4jnP/axKQgAQkIAEJjGwCegg2mb9bbbVV3vWTIE477bTsS27Ra2eg4Ok2Gb8YcxwNCbxDUuNFnxduGoEYDYt6rd6XRUQvBjpHYEjFqmrX4Qs4YlscM4eXW8YaXGyxxaqd0pHtNO4RiPjKjf3jH/8IvGwXRdeBIke+tlrsZGIWuhjFruJ4y9EV8JhjjqlbuKsUZ/IRcTH1AMIjkpmh6zVmxqSbZDoOUq1z6VqUMmJcrFr3wd133501Zmh41GvkI+MfRaP7Gt6PqbXrvkyv2erlOG5UrXCLaR+KuqFWHDq9n3uIsofnzmCNxjZlF+8uDI9oBDTGo6vXEJjwuKMrarV6hm75dLPlHmD8wFrGGHN46Rx33HH5oXgJrbzyyvl6PQt8HIp1NsdTPxLPZoyJLqgj4lhy3Js8z1JBtZlwGz0nres4l2dlvYYH21AZnnHRy4sycd5552VjyMXrce8Wn/VxX/rbyWczz3SEXzzcimPfpXGMy7w7MH5iHOe16M0dj2vXL8/ZojF7Lh62A1ml/UUvOcbM5J2MYRd4R+Pdid9qxnAWlAkEYf7ous9EX3zwTccN5HyeiQM9FynjleJY7drpduLBO0Ito15otm6oFbb7JSABCUhAAhLoLgJ6CDaZH3SrTLuG0MUiNiTrCZJG7J577lnmgcJ4LpUatmnDH7EgDkI90HXoxswMlQMZ3ZzpjoZo9v3vfz8bELxeMaLouRhnqRvoep3YB9PU9t1333zA93R7pWU8SBAEW200Hk466aSyL/94vvHVPgq/jV6TsbTospc2wmaZZZZw6qmnll2nVrh0RfrqV79at+cMIivXSA2vhnpsv/32qzsviNfXvva1smArXaed92VZZAaxQiM1FVBvvPHGsm5o1YJmPLHUi4V6IQo01c5hO2Wt6Gk50PHdtg9e0RAf6J7YKivWFwgc1KX1Gt18Tz755ExEoXxSh6TGkAvUt5R9hgvAu7oea0V9i0CVesQhcqTeR/XEIx5DuUtFEp4lzXr9xjCb+Y2TNsRz6/WcZIw/xm8bKuPdIPVWRlhLh3HAU2sg9p18NiPs0hUYTzjGPGRIkLTcVGNGF/b03uzWd4Jq8W9kO11+KXtLL710WHjhhQcUA9NweSbTTZznFL0FimJgeqzLEpCABCQgAQlIoB0EFAQHQfmII44oE/DwDKExWOvlma/Ku+yyS1lDlpdLBMJKVhzT7Vvf+lY+oUml4/Eq4Gt00XuieCwNEhoecXIUuqAws1wtURBxBgE0Gi/HiBPdaJtttlnmzRjjRjdqGuq1Gvl076JLF3yGwvAAQBRIjW6cdNO7+OKL8/Gn0v2VlvGQQohGyHjsscfyQxCWTznllKY8dugizRhhsVzkgRYWiC/ljDGPom299db5IOVxW7VfxE+6UjGe3UDG+GkcR0M1Gt6oTPpQydp1X1a6djPbaEgzo200xppCFKxl5HH6UYL7/fDDDx/wNMItdikf8IQu3Mmg/KlFD+B0W7PLNO4pa9HIC8SReoSmH/3oR+Gss86Kp2YeyanQyw4Ek1S05T6rJWjyPKHbcGpxIoB020DLhBE91uJxsethXG/0t3h+MfxGw2vm+OKYsCeeeGLZR7ZKYfKMTr0tKx3Tim3UjZWMLqS1PPE7+WzG85M6Ob7HUD55VqVe4JXSxUepOEEG+xsto5XCLG4jTulHkOJ+1ztDwDzpDHevKgEJSEACEmgFAQXBQVBcYYUVymaIRTz63ve+FxBFGH8qFUq4DA12ug4xwQPePNFo2NOQYWyXSrb77rsHGhHR6BpIGJUawnicbLPNNuHhhx/ODqe72UCGOJDOIscsdHh+4O1RqQFw2223ZQ3m1JON9HbrCyENKxp/KVvGnUIopNsNjZ04sDwNdbxG6CK4xx575A1LRIKhMLru0FU49RRBjGXWYbpk451E/IhXbJxRpmiskfd4zHEcXY3phhiNtNIdjhkJGzHKWJyogJlIKQdMUFIsBwhzkyZNyspZOiYWMyriTVKP4SmB4dFIl+Yzzjgjz4d4PuO3kQ48H9OJXRionTxFiK5k7bovK1272W2psEcYlAHuQbpI42VGHhcnIOI4PF5ToysqkxoUx1ajfOCdxhigcfyqWnVDGm43LRdZ4aGKKI4gQf1EmaHre7OG13Q6AzZdbelKTB7EejUNm66V5MNRRx2Vbg5MIFTs1ktZT8e54+MQXTLxGK406zP3GmH/5S9/ycNefPHF89le8401FugqnI4nu9xyy5WlscbpFXcTjyWXXDLfR5krekTmO4dogXo8Hd6Abth81Kok4MKSj2k8ozHqj2p1SCuiS5fgSuO0IQaOHz++5iU69WzmfeTII48s81qmLuK9Iu1yHhPAM4nJKnhupka5brUhsBM/rbsImCfdlR/GRgISkIAEJNAIAd+sGqFV4VhEHRpa559/fr73+uuvD/wxRgzdQmh48+UcIa84eQQNEsQVRIxqhmBH4zL1amCGYzxZuAZdUHhRZlvqfcIYMBtuuGHWCKoWNh4rdC3ee++9cwGT9NAIxdOKsPFewiuQ8O+7776yoOj+WmmsnrKDOrzC4Nh0z0NYjY1uvN+Y7Zc/jBfaovDFdrpN4VGYjrtT9PrhuGaNWQLpEs7EH3HsJcLCyxOhI3bHpfvVzDPPnOVvUWhOr40oh5dSKmik+wdapiwddNBB2RiCHIcYxXiClBEatvxSNpi8ohgHBD48ElPheqBrUZYJm3JFWvFsY2B6WFCm8ApEYCh6KcbGaipEVLpOO+7LStdtdhv5j+gTyyCCe1HsoywWbZ111snGekob6nh4rr322pl3KF46MGbG3NRjGPbkI8LvcDO61jNuZRS4EDsR61Lbf//909WGlunGx31Ht87olco1EB3ZTp1OnYiwikBIWY2CfbwQwl8x/+I+yjqTTsS6CC9EvMsJH5GNe5hygPCPwJnea5T/Qw45pOwjQgx3oN/iZCKVutsPdH61fXgJpsMUcJ1VVlml2uEt387HAbpp8wEn5gFesPDHi5h6C2aUdT52xfuLOpxhMvjoUknkbUVEuQbepelHEj7+IFjWY518NjM+Kx7yqccrYi/3HuWTj2TU+bxvIMKms2CTNsaYrGdm+3o4FI/h/iy+RxWPcb29BOz63F7eXk0CEpCABCTQSgJ6CA6SJi/4eIbQyKPhkRrdOfFsYnIPuqgWX2IZFwpBqtj1Kg0jLiMIIu4VjWvQdZOX9VQMZNBrurDRYKpldFPFA6DozYBQw7hH7MMDoCgG0s2Z+KcehrWu1an9eMvRFbdaN6bYUEzjh6cVItdQez9usMEGgRkZ6fabegumcaHsICqn4kC6HyGOsf/oWtiMGEhYeErijYc4ET0F2Y6ghPcVQhOicDEOiMZ4plHm6jXKzI9//ONsHKZ4DmmkcYmXK2JkUQykgYz3V7WuwjEcftt1X6bXHMwyAieiYDOGNw9CUtEQs/AkpQ5KxUAmXqkmVhXD6MZ1Bu9HABzKRijdkvGOLYpbiE4I1UxORL3LPRmFqMgKcQqP72p1L4Li5Zdf3m/iAITBW265JbuXmHSI8TnTe430UqenY9PFaw70S95Pnjw5P4TnFJ51rTCEzfS5d+mll+ae1a0Iv54weC4ikqb1NHlCHUK6mbiL+ivW8cQXkY66bqgtHWeRayHgL1j66FGvdfLZDFOeBUVvRsTVK0s9HHgv4N2mKAbiAcsHuFZ+OEt5pc+mdLvLnSNgnnSOvVeWgAQkIAEJDJaAguBgCb5/Pt56ND7oVlPr5YiZGOnuyTh1H/rQh+qKAWH+8Ic/rPiCngbAV3sEAsQvBJR6jbGYaMyRjrRhVel8Ggh0aaRRS+N2uBgNMZjjGVLNw4y044lF90o8T/DMQxBLbSiECLzi6MqGEEAZqne2TIQLvL0Q0fDUrFX20nQUl+miiyFQ4zn2sY99rKpAyXGUY7q10T2zOLg/+wcyRAq6LcYyN9AMjeyjOxr3F54njdhQ35eNxKXWsYwh+vOf/7yioEs5rJa3CPnkF92BB2qE09WWSQLwihrouFrx7Ib9iGLUP3hCFtPCOt6ugzXq0sir2E25GDYCNB5R3AsMRVCMU/F47m+Gj6COqeVVi4BFl2U+GnBPNmqUjVRcpysr3satMIT9dEZU6hDu6XYb3mxMlFMcb7cYD8oN9Qiee+0w8iw14tmodfLZzLOAj0z1zDjLOMJ4flOuq9VVjaa90vGE3Yr7u1LYbmucAHkxlPndeIw8QwISkIAEJCCBRgiMKn1Jn9LICR5bmwACEgINXdrojkTXMAQfRBM81NZcc80yr4raIZYfgVcg3Z/wOrz33nuzrqZ4CNFopatPrQZmeWj914gv8ecajBFHI48GJI1YPGYYty71CukfwvDYQpc8vB34w5uHrsV41xU9HvFGojtfNLqDF2f9jPta9cttiYcQni10H8X7Ew++CRMmZPnA9WmkNeJtUilueEHi+ReN8dBSQZjyi3coZRlvKLq/02UMTogx9ZYDPC3pEhwNwZX7IBppo6GOByL5Qn5wHQRnvGpa0QAc6vsypqUVv3jncm9zL5LnCNj13NdMLEMXTs7lD/GaeoE/hiWo5oHaijh3KgzqJ8otaecjCHXsUNyfjOfJ2HTcC1yL/KDrMPX6SiutlJXXZhjQ9RhPbLy8GUP0ueeey8Y8pR7C6xbBLR0DtZlr9NI5eLIzhi95BE8+XFD+uYeqfQgaKj54+MUu1XhSI2IPxjr5bOZZwLAGeMjCFe9VRHOem5TRdrLF25M6MvV8HgxXz22OAB+HeT7V+x7Q3FU8SwISkIAEJCCBoSSgIDiUdA17RBBgPLro9YJYhhCbimbDOZG1BMFWpa2WINiq6xiOBCQggW4gwIcW6tdoeO7j/a21hgBCOh+S+GNCN619BPiwxEcK/oZyYp72pcgrSUACEpCABHqXgF2GezfveyrljM9Fl7J0TK56ANDoYFyvaHgDjRQxMKbJXwlIQAISaC0BhviIhmc13b611hFAiMJDkZ4LeAYzrII2tARgDGuYw14xcGh5G7oEJCABCUigHQTKZ8FoxxW9hgTaSIDufUxEceGFF2ZjATKWViNeGmeeeWY+0yjRZvZKTQISkIAEJFCNAF3LmXgmGrPzOs5apNHaX8aYHWgM2tZezdAkIAEJSEACEpDAyCKgh+DIyk9TUyDA+IBnnHFGPjEIEyrQWKvHGMvu5JNPzg9looB6ZrjNT3BBAhKQgAR6jkDqHcj4al/4whd6joEJloAEJCABCUhAAhLofgIKgt2fR8ZwEASYVTL16mNCFjwEmShjIKN7MQPCx5l3OXaTTTYZVrMqD5Q+90lAAhKQQOsJPPjgg/mYs4S+4YYbZhObtP5KhigBCUhAAhKQgAQkIIHBEbDL8OD4efYwIPDNb34zXHnlldng40SX2WZ33XXXsOyyy4ZPfvKTmcjHeDjMcMvMrDfddFM242eaNGYuxbtQk4AEJCABCVQjcPrpp5dNcrH99ttXO9TtEpCABCQgAQlIQAIS6CgBBcGO4vfi7SDAANi//e1vw957713WXfjWW28N/NWy+eefP5x22mlhuummq3Wo+yUgAQlIoEcJPPvss+GXv/xlnvolllgirLzyyvm6CxKQgAQkIAEJSEACEugmAnYZ7qbcMC5DRmChhRYKF110Udh5550DYwHWa1tttVWYPHlywENQk4AEJCABCVQjcN555wUmroq20047xUV/JSABCUhAAhKQgAQk0HUERk0pWdfFyghJYAgJ0CX44osvzsYRfOKJJ8quxADwiIeMF7jZZpuFhRdeuGz/SFthrEQmXok2ceLEhgTTeF6t3xtuuCFcc801+WFbbLFFmG+++fJ1FyQgAQkMdwLnnntueO655/Jk7LnnnmHs2LH5ugsSkIAEJCABCUhAAhLoJgIKgt2UG8al7QRee+218PTTT2eTh8w666xhwoQJoa9Px9m2Z4QXlIAEJCABCUhAAhKQgAQkIAEJSKBtBBQE24baC0lAAhKQgAQkIAEJSEACEpCABCQgAQlIoPMEdIXqfB4YAwlIQAISkIAEJCABCUhAAhKQgAQkIAEJtI2AgmDbUHshCUhAAhKQgAQkIAEJSEACEpCABCQgAQl0noCCYOfzwBhIQAISkIAEJCABCUhAAhKQgAQkIAEJSKBtBBQE24baC0lAAhKQgAQkIAEJSEACEpCABCQgAQlIoPMEFAQ7nwfGQAISkIAEJCABCUhAAhKQgAQkIAEJSEACbSOgINg21F5IAhKQgAQkIAEJSEACEpCABCQgAQlIQAKdJ6Ag2Pk8MAYSkIAEJCABCUhAAhKQgAQkIAEJSEACEmgbAQXBtqH2QhKQgAQkIAEJSEACEpCABCQgAQlIQAIS6DwBBcHO54ExkIAEJCABCUhAAhKQgAQkIAEJSEACEpBA2wgoCLYNtReSgAQkIAEJSEACEpCABCQgAQlIQAISkEDnCSgIdj4PjIEEJCABCUhAAhKQgAQkIAEJSEACEpCABNpGQEGwbai9kAQkIAEJSEACEpCABCQgAQlIQAISkIAEOk9AQbDzeWAMJCABCUhAAhKQgAQkIAEJSEACEpCABCTQNgIKgm1D7YUkIAEJSEACEpCABCQgAQlIQAISkIAEJNB5AgqCnc8DYyABCUhAAhKQgAQkIAEJSEACEpCABCQggbYRUBBsG2ovJAEJSEACEpCABCQgAQlIQAISkIAEJCCBzhNQEOx8HhgDCUhAAhKQgAQkIAEJSEACEpCABCQgAQm0jYCCYNtQeyEJSEACEpCABCQgAQlIQAISkIAEJCABCXSegIJg5/PAGEhAAhKQgAQkIAEJSEACEpCABCQgAQlIoG0EFATbhtoLSUACEpCABCQgAQlIQAISkIAEJCABCUig8wQUBDufB8ZAAhKQgAQkIAEJSEACEpCABCQgAQlIQAJtI6Ag2DbUXkgCEpCABCQgAQlIQAISkIAEJCABCUhAAp0noCDY+TwwBhKQgAQkIAEJSEACEpCABCQgAQlIQAISaBsBBcG2ofZCEpCABCQgAQlIQAISkIAEJCABCUhAAhLoPAEFwc7ngTGQgAQkIAEJSEACEpCABCQgAQlIQAISkEDbCCgItg21F5KABCQgAQlIQAISkIAEJCABCUhAAhKQQOcJKAh2Pg+MgQQkIAEJSEACEpCABCQgAQlIQAISkIAE2kZAQbBtqL2QBCQgAQlIQAISkIAEJCABCUhAAhKQgAQ6T0BBsPN5YAwkIAEJSEACEpCABCQgAQlIQAISkIAEJNA2AgqCbUPthSQgAQlIQAISkIAEJCABCUhAAhKQgAQk0HkCCoKdzwNjIAEJSEACEpCABCQgAQlIQAISkIAEJCCBthFQEGwbai8kAQlIQAISkIAEJCABCUhAAhKQgAQkIIHOE1AQ7HweGAMJSEACEpCABCQgAQlIQAISkIAEJCABCbSNgIJg21B7IQlIQAISkIAEJCABCUhAAhKQgAQkIAEJdJ6AgmDn88AYSEACEpCABCQgAQlIQAISkIAEJCABCUigbQQUBNuG2gtJQAISkIAEJCABCUhAAhKQgAQkIAEJSKDzBBQEO58HxkACEpCABCQgAQlIQAISkIAEJCABCUhAAm0joCDYNtReSAISkIAEJCABCUhAAhKQgAQkIAEJSEACnSegINj5PDAGEpCABCQgAQlIQAISkIAEJCABCUhAAhJoGwEFwbah9kISkIAEJCABCUhAAhKQgAQkIAEJSEACEug8AQXBzueBMZCABCQgAQlIQAISkIAEJCABCUhAAhKQQNsIKAi2DbUXkoAEJCABCUhAAhKQgAQkIAEJSEACEpBA5wkoCHY+D4yBBCQgAQlIQAISkIAEJCABCUhAAhKQgATaRkBBsG2ovZAEJCABCUhAAhKQgAQkIAEJSEACEpCABDpPQEGw83lgDCQgAQlIQAISkIAEJCABCUhAAhKQgAQk0DYCCoJtQ+2FJCABCUhAAhKQgAQkIAEJSEACEpCABCTQeQIKgp3PA2MgAQlIQAISkIAEJCABCUhAAhKQgAQkIIG2EVAQbBtqLyQBCUhAAhKQgAQkIAEJSEACEpCABCQggc4TUBDsfB4YAwlIQAISkIAEJCABCUhAAhKQgAQkIAEJtI2AgmDbUHshCUhAAhKQgAQkIAEJSEACEpCABCQgAQl0noCCYOfzwBhIQAISkIAEJCABCUhAAhKQgAQkIAEJSKBtBBQE24baC0lAAhKQgAQkIAEJSEACEpCABCQgAQlIoPMEFAQ7nwfGQAISkIAEJCABCUhAAhKQgAQkIAEJSEACbSOgINg21F5IAhKQgAQkIAEJSEACEpCABCQgAQlIQAKdJ6Ag8errEwAAQABJREFU2Pk8MAYSkIAEJCABCUhAAhKQgAQkIAEJSEACEmgbAQXBtqH2QhKQgAQkIAEJSEACEpCABCQgAQlIQAIS6DwBBcHO54ExkIAEJCABCUhAAhKQgAQkIAEJSEACEpBA2wgoCLYNtReSgAQkIAEJSEACEpCABCQgAQlIQAISkEDnCSgIdj4PjIEEJCABCUhAAhKQgAQkIAEJSEACEpCABNpGQEGwbai9kAQkIAEJSEACEpCABCQgAQlIQAISkIAEOk9AQbDzeWAMJCABCUhAAhKQgAQkIAEJSEACEpCABCTQNgIKgm1D7YUkIAEJSEACEpCABCQgAQlIQAISkIAEJNB5AgqCnc8DYyABCUhAAhKQgAQkIAEJSEACEpCABCQggbYRUBBsG2ovJAEJSEACEpCABCQgAQlIQAISkIAEJCCBzhMY0/koDC4Ge+yxR3j55ZezQJZaaqlw4IEHDi7Awtk33nhjOOGEE8LDDz8ctt9++7DjjjsWjnB1OBMgb8ljbNSoUeG8884bzskx7hKQgAQkIAEJSEACEpCABCQgAQlIoCaBUVNKlh515513pqsuS0ACNQgsscQSNY5wtwQkIAEJSEACEpCABCQgAQlIQAIS6B4CfQ88+GD3xMaYSEACEpCABCQgAQlIQAISkIAEJCABCUhAAkNKoG/bbb8QbrnlliG9iIFLQAISkIAEJCABCUhAAhKQgAQkIAEJSEAC3UGgjx7Du+66e7juuuu7I0bGQgISkIAEJCABCUhAAhKQgAQkIAEJSEACEhgyAn3jxo0L00w7bdhr74l6Cg4ZZgOWgAQkIAEJSEACEpCABCQgAQlIQAISkEB3EOgjGmPHjgnjx08Xvjxxn+6IlbGQQI8TePbZZ8ODpfE933rrraZIvPLKK+H+++8Pzz//fFPnx5Pefvvt8Mgjj4R33303bur3y7WefPLJftvdIAEJSEACEpCABCQgAQlIQAISkEB3EhgzatR7ERs9ekxp4f2V7oyrsZJAVxLYb7/9wm677RYWWWSRQcXv9ttvD2eddVb4wx/+EF599dUsrL6+vjDvvPOGrbfeOnz+858P008/fdVrPPXUU+Gcc84Jv/rVr8oEuvHjx4dNNtkk7LTTTmGxxRbrdz7C4SGHHJJv/8Y3vhGmnnrqcOSRR4Y///nPAVFwpplmCquuumrYf//9wwc+8IHw2muvhe9+97vhmmuuCffcc08mGM4444xhiy22CAceeGDA81iTgAQkIAEJSEACEpCABCQgAQlIoDsJjFpn3fWmjMpUwVEB8eHEE77fnTE1VhLoUgIbbbRRmDBhQvjFL36RiWXNRPPaa68NO+ywQ3jjjTeqnj7LLLOECy+8sOI18ND7zGc+Ex5++OGq509bGhrgpz/9afjQhz5Udsytt94aNttss3zbscceG4444oiAl2LR5p577nD22WeHgw46KNx0003F3dn6Rz7ykfDjH/+44j43SkACEpCABCQgAQlIQAISkIAEJNB5An1RDHzvd0rnY2QMJDAMCSCebbfdduHRRx9tOPY333xz2GWXXQYUAwn0mWeeya7x9NNPl13jueeey7YPJAZyAl6HiI5333132fnFlQMOOKCiGMhxjz32WEAArSYGcsxVV12VeQ6yrElAAhKQgAQkIAEJSEACEpCABCTQfQRKYwiOCoiBOAm+Jwp2XySNkQS6mcDo0aOz6D3++ONh0qRJDUUVARGRjnH4oq2++uqZh94ZZ5yRdfPF+zAa1/jlL38ZVwOzhHP+vffem2+bf/75w5e+9KVw+umnB8S95ZZbLt/3wgsvZF2PK3n/xYPoIrzQQguFww8/PJx44okBj7/U4niCbD/hhBPCYYcdFhZeeOH0kHD55ZeXrbsiAQlIQAISkIAEJCABCUhAAhKQQPcQKI0hmIqBjiHYPVljTIYLgR133DEg3mF0v23E6Gb84osv5qesv/764Yc//GGIIuN6660X+Nt2220z8Y8Dr7jiirD77rtn59xwww3hn//8Z37+fPPNl40hONtss2XbCA/vw+233z732mOswYsvvjgTG/MTk4Xpppsu6xa84IILZls33XTTsMoqq4TUM3GFFVbIxjscO3ZsdsySSy6ZjR8Yg6nlrRiP81cCEpCABCQgAQlIQAISkIAEJCCB9hModRnmovx7z1Ow/VHwihIY3gSWWWaZPAEPPfRQwAuvXps8eXJ+KCLg8ccfn4uBcccaa6wRzjzzzHDBBReEG2+8MRtHMO5Lz2cbY/9FMTAeg2h30kknxdXst3heunPNNdcMUQxkO2OLrrPOOukhYZtttinNTv6eGMgOxiVk4pFoqXgYt/krAQlIQAISkIAEJCABCUhAAhKQQHcQSLoMv+cp2B3RMhYSGD4EJk6cWBZZZguu11JPOmYpxjuvkq277rrZLL+zzjpr2W4EyNTS7sHpdiYkmWeeefJNxfPyHaWFSjMRF0XGxRdfPD0lEw3Trs10ZdYkIAEJSEACEpCABCQgAQlIQAIS6E4C2aQi5d2GuzOixkoCw4VAvR6CTPLBX7RKQlzcV+039cSbY445wowzzljt0DKhLz2veEI1UTI9bvz48emqyxKQgAQkIAEJSEACEpCABCQgAQkMIwKOITiMMsuodieB/fffvyxiSy+9dNl6tZVpppkmjBkzJjCJB8YMvo3aDDPMkJ/CLMRvvPFGmGqqqfJt6UIafnpeeozLEpCABCQgAQlIQAISkIAEJCABCYx8Arkg6BiCIz+zTeHQEGBG32YMz1y8+phpGLvjjjsCM/gyZl/RrrrqqmxswEUXXbRs/5xzzpkfirB41113lc0qHHe+/vrrZTMRp+fFY/yVgAQkIAEJSEACEpCABCQgAQlIoDcIlLSH/00o8t4EI72RcFMpgVYR+N73vpfNsMuEIDfffHO/YG+55ZZw6KGHhssuuyz3BowHffSjH42L4ZVXXslnK843lhZuu+22sMMOO4QNN9wwE/sOOuigfPdaa62VL7Nw3HHH9bsG20844YTwzjvvsJhZ8by43V8JSEACEpCABCQgAQlIQAISkIAERj4BxxAc+XlsCoeYwCmnnBJuuummbIZghLfU/vSnP4XNN988nH322WG33XYLiIepfeYzn0lXw6RJk8Kpp54amPTj5ZdfDr/97W/DPvvsk4t5L730Uphvvvnyc9Zff/2QTuZx5ZVXhr333jtcd9114bXXXsvExCOPPDILM55EN+UtttgirvorAQlIQAISkIAEJCABCUhAAhKQQI8RyLoMhzAlvDexCN6CmgQk0AiBOKMuXX0R71K74IIL0tVw4YUXhgMOOCC739ix4oorhoMPPjgcccQR2XGEdfTRR2d/o0ePzoXAGAhdjLfeeuu4GqaeeupMbNxmm20yD0N2TJ48Ofvjno5xiyew7ZhjjgnMaKxJQAISkIAEJCABCUhAAhKQgAQk0JsEEg/B97oO9yYGUy2BwRFAaDvqqKPC8ssvXxbQUkstVba+5JJL5mJg3LHrrruGvfbaK67mv2kXXzYy+y+ehjPPPHN+DAvLLbdcOP3008O4cePKthfFQHYecsgh4dOf/nTZca5IQAISkIAEJCABCUhAAhKQgAQk0FsESrMXjHpfoOC3txJvaiXQCgLMKoxQt+WWW/YLbrvttgvrrrtuNhEIx+277779jmHDfvvtl3kOzjLLLP32IzZuuumm4dJLLw0IipVsjTXWCGeeeWZYZpllKu0O8847b6Dr8I477lhxvxslIAEJSEACEpCABCQgAQlIQAIS6B0Coz6x2acyRyLEwMzLadJ7XRd7B4EplcDgCCyxxBI1A3jhhRfCjDPOWPO4t956KzAJycMPPxzefPPNsMACC4SFF144NDIr8D333BPuv//+8NRTT2XehIiByy67bNnsxDUj4gESkIAEJCABCUhAAhKQgAQkIAEJjFgCY0hZFAPxFtQkIIHWE6hHDOSqY8eODausskr212wsFl100cCfJgEJSEACEpCABCQgAQlIQAISkIAEKhEodRl+zzMQMRAPQU0CEpCABCQgAQlIQAISkIAEJCABCUhAAhIYuQT6mLgAIfC9v5GbUFMmAQlIQAISkIAEJCABCUhAAhKQgAQkIAEJhND3Vmmcsv8JgnoIWigkIAEJSEACEpCABCQgAQlIQAISkIAEJDCSCfS9/vrrJUGwr/QXuw6P5OSaNglIQAISkIAEJCABCUhAAhKQgAQkIAEJ9DaBMa+/8UbmIfgeBj0Ee7s4mHoJSEACEpCABCQgAQlIQAISkIAEJCCBkU6g75VXXg59fQiBjCM40pNr+iQgAQlIQAISkIAEJCABCUhAAhKQgAQk0NsE+p55+ukwZcoUuwz3djkw9RKQgAQkIAEJSEACEpCABCQgAQlIQAI9QqDvySefCIwj2NfHOIK6CPZIvptMCUhAAhKQgAQkIAEJSEACEpCABCQggR4l0Ee6X3311ffFQAXBHi0HJlsCEpCABCQgAQlIQAISkIAEJCABCUigRwiUHAP7wgvPP1cSBPveH0uwR1JuMiUgAQlIQAISkIAEJCABCUhAAhKQgAQk0IME+saMGRcef+yxbBzBHky/SZaABCQgAQlIQAISkIAEJCABCUhAAhKQQE8RKAmCo8PjTzwe3nzjjcxLsKdSb2IlIAEJSEACEpCABCQgAQlIQAISkIAEJNBjBEZNP/0MU1566cWw7rrrhTnnmuv9GYdHZWMKvjfJCMshX2fbDDPMEE44/vs9hsrkSkACEpCABCQgAQlIQAISkIAEJCABCUhg+BPomzJlSsi6DT/+WJnoF2ccTsVAksv26aabbvin3BRIQAISkIAEJCABCUhAAhKQgAQkIAEJSKAHCWSzDI8ZMybcc9cd4a233spFQVgg/sW/99b7svWZZpqxB1GZZAlIQAISkIAEJCABCUhAAhKQgAQkIAEJDH8CJQ/Bd8Po0X3hnSkhvPDC86WZhjONMBcC/+cp+L+uw7PPNtvwT7kpkIAEJCABCUhAAhKQgAQkIAEJSEACEpBADxLoGzWqLxs3sG/02PDYI49kgmD0CiwXA6O3YF+Yb755exCVSZaABCQgAQlIQAISkIAEJCABCUhAAhKQwPAnUJpleGzJGzCEMaNHhzvuuD28/fbbuXcgySsXB0eVBMNRYYkllhj+KTcFEpCABCQgAQlIQAISkIAEJCABCUhAAhLoQQIlD0FEvjGZ8PfOu1MG6Db8XpfhmWaaKcw999w9iMokS0ACEpCABCQgAQlIQAISkIAEJCABCUhg+BMoeQiOycYQHDdubGm24THhoQcfKImD700eEr0DS36CpW0h60487zyKgcM/202BBCQgAQlIQAISkIAEJCABCUhAAhKQQK8S6Btd6irM35QpU8K4cVOFW2+9Nbz++mv5WIJRDHxPHOwLiy++eFexev7558NVV10Vrrvuuq6Kl5GRgAQkIAEJSEACEpCABCQgAQlIQAISkEA3EhjzXqRGhXenvBNGlYTBvtEhPProI2HRRRcL75a6EOMZGD0Fx44dE1ZffbWuSsctt9wSzjnnnDB27Niw2mrdFbeuAmVkJCABCUhAAhKQgAQkIAEJSEACEpCABCRQIpCNIQiJkoNgePedd8M0U08X7rzjtvDOO+9kE4hEMZDfD3xg4TB+/HjBSUACEpCABCQgAQlIQAISkIAEJCABCUhAAsOUwJi+vr4s6lPexUuw5BE4elT473+fCa+9+mqYfoYZsn2IgRy3/HLLDdNkvhftZ599Njz11FMlz8d3w+yzzx5mnXXWQafnv//9bxbmggsuGKabbrqy8Jix+d///nepK/a4MO+882ZejGUHFFZef/318Pjjj4fXXnstLLzwwmHqqacuHOGqBCQgAQlIQAISkIAEJCABCUhAAhKQgAQGR2BM9AAcM6YvIGBNmVLqI1yyp59+OsxYmlGYsQUZR3DChAnhox/9SLavG/7dcMMN4bTTTgtvvfVWFh1+d9lll2wZMe2ggw7Ko3n33XeHs88+OxPb8o2lBdK0/fbbh+WXXz7dXHUZJgceeGC2/+tf/3o488wzS92rH82Pn2uuuQLbp5pqqnDSSSeF22+/Pd/HOI2f//znwzrrrJNviwtwJ35/+9vf4qbsd7bZZgtrrLFG+PSnP1223RUJSEACEpCABCQgAQlIQAISkIAEJCABCTRLYAzeclgfgweGd96fXGRceOihB8IHF1kkW+/rGxWWW27ZbPKR7OAu+PdqyYMxioExOnH9xRdfjJtK6XgoHH300VkX6Hzj+wt4DB533HGZiFfPZCl0o47XmDRpUr4cw8W7j+2If4888ki2mWXO44+xDvEUXKTENTXEw3/84x/5JsZD5Dp4H/7mN78pTfLyethmm23y/Y0s3HbbbY0c3u/YZZZZpt82N0hAAhKQgAQkIAEJSEACEpCABCQgAQkMXwLZpCJjxozJutG++eab2SQizDZ8zz33hJVWWiXzEpx22mnDRhtu2FWpXGGFFcLcc88d/vznP+czDB988MFZHKeZZprs95lnnglHHHFEJsYhsn3xi18Myy67bNb9+c4778w8DF9++eVwzDHHhMMOOyzMM888dacRwQ6R7mMf+1ggjPPPPz9ce+21uRfiYostFvbcc89szMWbb745nHzyyVnYv/vd78JXv/rV/DoXXHBBLgZuvvnmmQfhjDPOGF555ZVw3nnnZWm77LLLsrittdZa+Xn1Ljz55JOZ6Fnv8elx++yzT1AQTIm4LAEJSEACEpCABCQgAQlIQAISkIAEhj+Bvnfffbvk0RbCmDGjs7+YpGmmmS78/YZrMzFtpRVXCNNP312TicxQGt9w0UUXDdGzD8GPdf7mm2++LBl//OMfM+86Vujqu8oqq2Tj8jGm33Kl8RAREKMH3yWXXBKTXtfvmmuuGTbYYIMSszFhplLX6i233DI/j7H/9t1334CwR/grr7xyWGihhbL90XOQFUTFSy+9NNtOV+JPfepT2TlsYDzC3XffPRcp//73v2fHNfpvvfXWCwh7jRrncK4mAQlIQAISkIAEJCABCUhAAhKQgAQkMLII9DGzcKnDcNZlmG7D700gMqo0EcbY8PgTj4ZHH3kgbL75p4Zlqu+6664s3quvvnr44Ac/2C8NeBhG0eu+++7rt3+gDSuuuGLZbsYj5A9DlGQcwdTi8XR1jnb//ffHxbD11lvny3GBvPjIR94bt7HR+MUw+G1UFFQMTOm5LAEJSEACEpCABCQgAQlIQAISkIAERhaBUpfhUaVxAkv/359JePToMaX1d0uebX0l77epS15rm/cTt4YDAiZDYfxArJIYGNPABCQYXWuZ3AOPv3pszjnn7HdY7Ko8xxxz9NtXacbge++9Nz9u4sSJ+XK6wPiBGDMP0zV5/PjmPDWj8MmYiQOZYuBAdNwnAQlIQAISkIAEJCABCUhAAhKQgASGP4Ex75aEs3fffaeUklHZ2HoIacw0zEQijFm30047D8tUPv/881l3ZyI/0NiAeAlGe+KJJ7JJP+L6UP9GwZLrROFvoGvGCU0GOmagfbVEQcXAgei5TwISkIAEJCABCUhAAhKQgAQkIAEJjAwCY/AMfKfUbRjPOMa7Y9bhksNgYEy+b3/78EwkHI5JZVy/OD4g3n9LLLFExWSwL9pss80WF9vyO9dcc2XXIZ4nnnhizWsyruBgrZooqBg4WLKeLwEJSEACEpCABCQgAQlIQAISkIAEhgeBPjwC33nnnazLMCIg6yVnwXDIId8qzTC79PBIRYVYInTOO++82Z6Bxt/7z3/+kx0zyyyztL1rdOzKDH8EWboDF/8QAeM20tQKK44pqBjYCqqGIQEJSEACEpCABCQgAQlIQAISkIAEhgeBMaNK6l/0DEQQHFeaDGPzzT9ZmuF2t2GRgiiS0Z2WbrfpWH1M7vHggw+Ga665Jmy00Ub9ug4/++yz4YorrsjSucgii7Q9vXH8Qi7861//OmyzzTb94nDMMccEJh/ZeOONw2abbdZvf7Mboqcg56fLzYbneRKQgAQkIAEJSEACEpCABCQgAQlIQALDg0DfO6XxA0eVnAKZSIS/1VZdOZx4wgmZx+BwSMKss86aRxNR7aWXXgoPP/xwtm3dddfNuw0feeSRgUk8Mg/I0l7G7zv88MPzsfs22GCDPJx2LUw77bSBGZCxyy67LEyePDmPD2Mg/uIXvwh33HFHNqFInLCklXFDCFQMbCVRw5KABCQgAQlIQAISkIAEJCABCUhAAt1PYEzWZbgkBPa9O6XkQTd/OPGkk9redXYwmOh2i2cjHoKIavxNmDAhMJsuE4bsv//+YdKkSdkMvQiAeENidNONtvfee4fUWy9ub8fvrrvuGh577LHMk/H8888P/NFFmBmFozEpytprrx1X/ZWABCQgAQlIQAISkIAEJCABCUhAAhKQQNME+kqWiWOzzTZr+MEPTg0LLrBA04F14kS6CH/ta1/LRLR4/Sj6sb744ouHiRMn5vsRAqMYyLk777xzWGmlleKpA/6m4TLmXyNW7XjCPOCAA7J4xvBSMXDVVVcNBx98cCZ6xv3+SkACEpCABCQgAQlIQAISkIAEJCABCUigWQKjZplltikTJswczj33nLz7arOBdfI8PB0ZExCxjxmGx40bVxYd9jMW31NPPZUdM/vss2deganIV3ZCB1aefvrprCszgiBdofEMnHHGGTsQEy8pAQlIQAISkIAEJCABCUhAAhKQgAQkMFIJjFp22WWnnH322WGFFVYYqWk0XRKQgAQkIAEJSEACEpCABCQgAQlIQAISkMD7BEaVvOamLLjgggKRgAQkIAEJSEACEpCABCQgAQlIQAISkIAEeoDAqFJX2tIcw5oEJCABCUhAAhKQgAQkIAEJSEACEpCABCTQCwT6eiGRplECEpCABCQgAQlIQAISkIAEJCABCUhAAhJ4j4CCoCVBAhKQgAQkIAEJSEACEpCABCQgAQlIQAI9REBBsIcy26RKQAISkIAEJCABCUhAAhKQgAQkIAEJSEBB0DIgAQlIQAISkIAEJCABCUhAAhKQgAQkIIEeIqAg2EOZbVIlIAEJSEACEpCABCQgAQlIQAISkIAEJKAgaBmQgAQkIAEJSEACEpCABCQgAQlIQAISkEAPEVAQ7KHMNqkSkIAEJCABCUhAAhKQgAQkIAEJSEACElAQtAxIQAISkIAEJCABCUhAAhKQgAQkIAEJSKCHCCgI9lBmm1QJSEACEpCABCQgAQlIQAISkIAEJCABCSgIWgYkIAEJSEACEpCABCQgAQlIQAISkIAEJNBDBBQEeyizTaoEJCABCUhAAhKQgAQkIAEJSEACEpCABBQELQMSkIAEJCABCUhAAhKQgAQkIAEJSEACEughAgqCPZTZJlUCEpCABCQgAQlIQAISkIAEJCABCUhAAgqClgEJSEACEpCABCQgAQlIQAISkIAEJCABCfQQAQXBHspskyoBCUhAAhKQgAQkIAEJSEACEpCABCQgAQVBy4AEJCABCUhAAhKQgAQkIAEJSEACEpCABHqIgIJgD2W2SZWABCQgAQlIQAISkIAEJCABCUhAAhKQgIKgZUACEpCABCQgAQlIQAISkIAEJCABCUhAAj1EQEGwhzLbpEpAAhKQgAQkIAEJSEACEpCABCQgAQlIQEHQMiABCUhAAhKQgAQkIAEJSEACEpCABCQggR4ioCDYQ5ltUiUgAQlIQAISkIAEJCABCUhAAhKQgAQkoCBoGZCABCQgAQlIQAISkIAEJCABCUhAAhKQQA8RUBDsocw2qRKQgAQkIAEJSEACEpCABCQgAQlIQAISUBC0DEhAAhKQgAQkIAEJSEACEpCABCQgAQlIoIcIKAj2UGabVAlIQAISkIAEJCABCUhAAhKQgAQkIAEJKAhaBiQgAQlIQAISkIAEJCABCUhAAhKQgAQk0EMEFAR7KLNNqgQkIAEJSEACEpCABCQgAQlIQAISkIAEFAQtAxKQgAQkIAEJSEACEpCABCQgAQlIQAIS6CECCoI9lNkmVQISkIAEJCABCUhAAhKQgAQkIAEJSEACCoKWAQlIQAISkIAEJCABCUhAAhKQgAQkIAEJ9BABBcEeymyTKgEJSEACEpCABCQgAQlIQAISkIAEJCABBUHLgAQkIAEJSEACEpCABCQgAQlIQAISkIAEeojAmB5Kq0mVgAQkIAEJSEACEmgzgeeeey488cQTYZZZZsn+Ro8e3eYYeDkJSEACEpCABCQggSKBYe0h+Oqrr4ZVVlkl+zvkkEOKaau4vsEGG2TH77jjjmX7v/Od72TbN9tss7Lt9azcdddd2YtuPcf28jH7779/nl/HHXdcV6I46aSTsjiuueaaZfHbZJNNsu1HHHFE2XZXhp5AtTxp9soPPvhgXg4vu+yyZoPpmvP22WefPD1PPvnkkMfrqquuCu+8807ZdQ499NAsDptvvnnZdleGL4G33norXH311S1PwLPPPhtuvfXWsnAffvjhvAxfeumlZftc6R4CX/va17J82m677coiNdDzkTp2vfXWCyuttFLYdNNNw+qrrx7OOeecsvO7ZeX3v/99Xg4fffTRIY9WfB+dNGnSkF+rExdoN89OpNFrSkACEpCABIY7gWEtCNIofeaZZ7I/vj7XY48//nh2/FNPPVV2+AsvvJBt5wt2vYYgeeSRRwZehu+99956T+vJ48inX/3qV3l+nX322eG1117rOhYvvvhixXJAg5U0PP/8810X55EeoWp50my6ETpivcE9PNwNgSWm58033xyy5HAP7LLLLmGHHXYIb7zxRtl1Yhza0Yguu7ArQ0LghhtuCBtttFH43ve+19Lwzz///LD22muHP/7xj2XhpvdkNz4XyiLbwyu8Z1HX/Pe//y2jUO35ePfdd4cvfelL4f777y87/oMf/GDZeres8DyIdenbb7895NGK76O8f45EazfPkcjQNElAAhKQgASGmsCwFgRbCWfUqFENB/evf/0rnHnmmQ2f14snXHLJJWXJfuWVV8If/vCHsm3dvDL11FNn0WumnHRzuoybBOol8Nvf/jb85S9/qfdwjxvGBE488cR+Is5gk8MHvIMPPjhQ9xetr+9/ryLpcvE417uTQLXnI97E0T71qU+Fn/70p+EXv/hF5i0Yt3fTb1r2fNYPPmfkOXiGhiABCUhAAhIYagKOIfg+4WOOOSYcffTRQ827Z8OnIYB9/OMfDzfddFP2Ff68884Lw6WL4bXXXpvF30ZChsF/XURg7NixeWzGjRuXL7sggeFCYMEFFwz33HNPFt1URBgu8e/1eFZ7Pj722GM5mn333TfMPffc+Xo3LmyxxRb5O4ljHA4+h+Q5eIaGIAEJSEACEhhqAv/7LD/UV+ry8GmE8AI4lC+BeEg020WRblQvvfRSv7G76sH6+uuvD3geYRfHBKsn3HqP+ec//xnuu+++7PB11103fOYzn8mWGUcKL8t6jW5lre5ORn7Uk/ZYNmo1Vsmjd999t94k5cfRLbaeeOQnNLlAeuHYiDVzDuHTfbWZLqz15kkjaajnWPKNazdqzaaT82rleT1hL7TQQnmUZ5tttnw5XSBtlM12W7N5+fLLLw9JVGEwZcqUhsKuJ5/Ix2bKTrP1RbNcSfhQ1PeDeT7FzIh1bK2PLs2yjtep5KEY9zXzS3kazL3V6vjAh+dJo0YaminDXCfmXfH5GJ/X0003XV1iIPd9M8/PeJ1aaa5V9il7MS21wqJLMV19h6JrcTNlYrD3Ra30FvfX8z7WCE/Cr5U/xTjEc4YiDypdy20SkIAEJCCBkUhAD8H3c/WUU04JdG9hBjyWa9kXv/jF8J///Cc/jEH1Z5111rDxxhuHL3zhC/l2xto6/fTTw//93/9lnnHsmHPOOcOKK64Y9txzz7DYYovlx6YLvNz9/Oc/D1deeWW48847yyYt+fCHP5yNy7Pqqqump4QrrrginHbaaQFR4Pjjj8+uyzY88nghZ6KMLbfcMqyzzjqZEHHWWWdlYzmxH1t88cUDX/ER7Vppv/71r/Pg1lhjjbDMMsuEH/3oR9k2xpQ67LDD8v3FBTwM4EdXRcYpwuC31FJLZWlhsPJGjfEjCfOCCy7Iuq/Bhslpdt5556pB7bHHHoHxk9Zaa63Acmq/+93vsq5Qd9xxR94dbtlll83yeK+99gozzTRTeni+/Kc//Sk7j7IRjbGVPv/5z2dpS729GMSdl17Gq2R/0W6++eaAlyt2+OGHh3SMpltuuSWQ19dff33mmckx7F9yySWzcrTIIouwqcyaOYcAmNTi5JNPDsSHyXYwyhV8J06cWJVFM3mSBd6Cf3/961+zQe65D2iIwWa11VYL3OPzzDNPxSs0ms6HHnooMKkOhicyjLgvKHuf+MQnsrK38MILZ/sbDTvmH3VK2iCncYUXLl19Y15wPcom47gxsRKN31r2yCOPhP3226+svqOOGzNmTFZfrLzyymVB0Kin/qHuYuyweH/hHUz9U81+85vfhIsvvjirr8gHzmMigq233jrzLK52XqXtTETDhBjUN3ghEx/qd8YHw6gDqX8/9KEPlZ3eSD41W7c3W1/wYeWMM87I7q041i15vv7664eddtqpX15GBh/96EcD9Qfr11xzTV4WOJf8iB9oAEGdxDX+/ve/Z1z4aAN/jGfLDDPMkC03+nzi2mn3UeperjH//PNn9Rbp+cpXvpKFTf1KPZsaAtcPf/jD8Oc//zn/uDTffPNlZXn33XfP6rL0eJa5fzmP8PBMo86nTHCtWLaon1dYYYXiqTXXSf+FF16YjYtLXYnFMOHJe0DRhjI+lEW64hKn9CMb9ybppwwUhdann346G/KEcnX77bfnzy7S8bGPfSx89atfDTCux7hG+nwkr7j/eSZi3M+xHHE/brXVVnmwlEnyhnjH+5OyyT3KmKWpBzQnXX755dnzbPbZZ8/KzDe+8Y3s2UZcmbSEuPC8I68bKfuEzXtGfDc54YQTwhxzzMHm3Bj7kvqUd7J0XETeR7bZZpvsfkrr4PzEOhYeeOCB8P3vfz9cd911GQfeRXlng1vxXS8G18x9MZh3iUbfx6rxbKZuimnml/cF6imeF7HMwOhzn/tc+MAHPhCYJBCjHMb3Lz7sxHfzWO9kB/lPAhKQgAQk0OMERpW+bjfmLtFFwPiivfzyy2cx4gWcl4xaRmOYl1NEinRcO4QwXi54CWNA9VoWwyket/3224c44/G///3v8OUvfzlvgBWPZf3b3/52P4GHBgvnRaGu0nls++Y3v5kN8B/3I64xRhMv9LxI8uJcyX75y19mQtRFF11UaXf2ct4qURBRYumll86uQ+Oba2MIW1GkoEEVG5rZzvf/IYx8+tOfLhND0/0s83KLGFuv4QHx2c9+Nr928TzYUT4w8i9azG/i893vfjduzl440/V8x/sLlCdmVER8i0ZjkkYMjbdqRkMOMSeKgrzkYog4nFs0GvK77bZbthnGUehABKShMpAde+yxgfGdojVzDuciPtOoj/xiePEXFghhiIOpNZsnaRiNLOOtyuyOGI3IKDQXw2AfwkWxUdhMOmkYI/xhNB7TRjvbmI1xiSWWaIoh4itlmsbOt771LYLLBH/Kw0Bj/tHoplFV6d7LAnn/H105mWCikv3gBz/IWCL2kgYMj8W0sZyexyylCDipUY8fdNBBYaDZZRGuqCunmmqq9NSqyzE+fDyIE1ZUOpg6kHs7Wr351GzdTgO10fqCRzScEQuqGfc7z7+55porPyQyoC6Bcaxv8wPeX0jr0J/97GfZc6V4DOvUC3z0aub5xPMsfd7G8Ckr1F18XEPYxPiwQVfDaDfeeGMmeFarVzgO8QqBN7VYZyNA8Sysdj5icbw30/OrLSOk8ZyvxpPzeL4x4dj48ePzYIYqPkzwgdhYnLk5v3BpAZEMUT8a9QLloxqTeBwiYyqYItBxLh9N0hnaY9ri85GPH0wiVsliXHgOEicEtmrGexrlOn4s4TieizzzeVZPmDChrP5mG+9NhEt91EjZJ2yeyV//+tdZzOriBRZYIFtGTKLe4uPRQMYHyigoDnRc3Be58WyMwlbcl/4y5AofqVJr9r5o9l2imfexajybqZti2nlf4J6OvU7i9vhL2Yz7EJvj85vz+BiNxXonnuOvBCQgAQlIoJcJ9I2UxPOygpBX66/WC3C9PJhM5MADD8wPp0HCi2r8AsnLLrPrxUYDLzC8HDGRBjM38uKK0cilQZ8aX6ajGEhDH4GHl3BesPEEiUYDEcGtaKSRBhAvPYhHvFCnHhd4MNAQ5sWJweMRrLhONASiVlkqSqbXSD0E8JipZDTUaHxi8KUBQqMSIZSGPvaTn/yk7hmeaVjzsh/zBBEMwQe+kWsj5QMhKTbuabiQ/+QT3g40jDBe8hEBUuO4KAbSEKA8kC4awjQQMLxnKAeDNbhhlDfCQ8zi2nvvvXceNA1Xymu0Zs5hdtldd901b2ASBvmK11cMDxY0KNPubK3Ok5iGen+jGIh3KPnGPc19g7EvivsxvGbTGc/nN4qB3JOIg5QdxMBmw6bBjkAVxUCuAXvKIoY4wf2OdxVlDSEQo46pJNJkO5N/CKOUWeqwaDR62VYUd9mPGEg5xkuD4zbbbLN4Wna/RK+huJF6LIqBnBc9l8mPeD9QZqmnGjXqD8odXtWURRqIRx11VB4M5RGBp5JVy6dm6/Zm6wueGVEMjPUFdSHiXcwTPqogqlYy6hLqPPKdZwH5higTjTr0wQcfzFbxDGM/zwYs5j3bZp555mxbM88nPPGYWT4aH/AIs9YsxsxezXM01ssIw6Sb8s2zMxp80mdN3M4vZZ/zef5QtqiPuSeiUR7S+i9ur/RLd1bErvgMiaL65MmTM7bwwriveH5VslbGh/D5CBjFQO4XRH7EsAMOOCD7wMkxp556ai5mkVYEtciU9BBfng0//vGPM888zsEQopsxBEryl/suGuv8RS9h7u8oBlKuee+gHuA+xzsQgzPPqkr5Q/y5p3i24X3MOwHedKlHYSNlP8az0i/ximIgeU5ZhhecqXfj+xziNh6XjVoUAymX3F/cF6uvvnoeDDxTBq24L/LA61xo9fsYl200f3hfoFxHwY9nCx/CuafiB4G4r85keZgEJCABCUhAAqUH7LC1krAwpfTluKm/UoOkLN0l0SILp/RFuWz7QCsl8TG/dqnbZ9mhpUZLvq/UWCnbx8rjjz8+pfS1Mjum5J0wpdQdNDum1DjNzyt9ke53HhtKDaH8mFJDID+m1MU4307YJYEh38dCqbGX72e5NLZgvr/U0Jmy7bbb5vtjfPIDmlwodeHIw3z++efzUNJ0EheuX7RSd7/sXMIoWkncyMOtxLd4POulBmN+Tkko7XdISeTN91OuUot5VfI8yDeXXkLz40veM/l2Fkov71PI11g+KasYXGNY/JaE7Gx7/JdyYX/JuynbFcMpda+Oh5b9lroy5dcqCczZvlJjKd9W8swrO56VSZMm5fv/9re/NX0OJ5Yabf3CygJ8/1+pMZXv57rRBpMnMYxGf++99948LnAtCS5lQZRE9imx7BXLQbPpLIlLZdcsCVP5NUveJ9lys2HnASULJWEzv16p4ZzsmTKlJJLl+0qeWGX7BlqhDMVyWAyz5AGW7yPMkjdGWVBpfXjuuefm+0pd7/LzuM+L9Q55kdYhxL0eS+NDvRbvo3gu9XVMS8lrMW6eUk8+pWmpVPdUq9ubqS/gGMsi9UGl9JfEgzwt1IvRUgYlwbtfHVvqApyfVxLK4mnZb3wWlD6alG1P66dGn0/kbWROnFMrCdr5vtIHmnwX9XQ8h/gWrdT4z/fz7E7LZaxnOb94LvUzTGLYt912WzHoiuslITI/pyTS9CtXJU/MKbxbxHApT9GGIj5peeU+iXVJvGZazkuibLa5JGTl8UvvxXgO+VQS2PJj4nZ+IzP2pxbTlj4f2R/rIfanlj6bKN8lQSzdnT0/SwJ3HoeSkJjvJ86RL+GWPCTzffE+b7bslz4Q5mGXuvDm4cZnOWWsNCRCvj0ulATh/DzeI+q1yI30lIb66Hda+kxIy9Jg7ovIrpF3CSIW66FG3seq8Ww2f0rCdc6Z9+CilXr55PtJZ7G+ZJ2/kqBaPNV1CUhAAhKQQM8SGDEegt0m7TL+H8aXb7wjisbX7OilUXrRy7vYlV7GM68+PA3j/uK5dIOJVslDkH10zSvO6PeRj3wknpaFnXa/Y3yhtGtQqeGXH9vsAl4ndDPD+JI744wz5kHBha/6GB5FdH8p2jTTTJNt4otv0auILs18GWacotJLc/HUiuvpl/v4NTk9kK5zxKtem3rqqfNDGVuIronRGEcI7wo8IPDEmn766bNdjMeGZwNGHBgHKTWuj+cL3mN4O9DV7//ZOw84SaqqjxaIIDkLSFpykIwBBAUFlGhCECRIUlCC8CGggEhGRHIQCYJkxQCIKIiCqCQlg+ySc04SJShfnZq9vW9qquP07M5Mn/vb2e6u8OrVea+q+/3r3vs6tbR9yadUblOOT0gYXlPhjdDJPiRWD08zPH8IVy8buZzCWwQPn7But0mU2+ornigRPhz70K7RN1lGqBE2mPMsChj/H20bvFmER0u3yo7jpH0TT5bUCKHCswUvMzyCum14Vca1G2XjeRaW9kO89sLYr5zTkPMgnUNYeD3G51ZeuReS7zA17oVxH62XIqKqnSij03t72iat3i/IJ5YPYIuq48kV4W/pueBBF4bnXJXBsJxDLryw2D5/WFO124Bl3fp+GlBwnQXRd/G822qrrQZsRfhjfL/iZRX5/NIN8d4q78v9Oc0/y/XXinEfDcPbvNyvCBFOPTXTsNrYr5v1IZddGGGyqXccy+nnhF9zX8YLGSPsm235fglP9mLF+P+4BtPw1NQzLd1uMO/T73s8yAn9TY32oY5h6X0ilvHKdz/nE1ZuD5YPtu/T52GFlx5tG96AcUxeI0UH7+v9JmNdI0sjTmK7NFVDeBGyrhvXRRyj1de4p3fr91gct532Sa/vXFSMImqv/M4Mr/LawuQN90/+wts5WeVbCUhAAhKQQM8S6D9KGsEYSCgcuV8anUaaK63RdoNZl8vLtbDAaaaZphZqUi4zFXsIfSFMix8r5IlLDQGJZPcIbCT/ZjAZVm9GvsjbF9vxmk5gkj89TVcV79MZSrsxCCAnY1jVwIPQ5QjzQtyLAXrsQ04pEtnzQ5gcT4RXMohjkMOPvvL2sV+91xAVCdGMkON0W/L1rb322kV+xXR5vffpoIlQNMKPET4QEqjjPPPMU/yl+48bN672kW2qjElDqiYOqdq20TLak3Ml7AphlmsEYQ4hAHGOPpCKwJTVyT6InKkRNlVlMVilPzMARyDudptUHbfRskUXXbRydSq8MEs31/FgzjM9SNUxu1V2HIe+RXgeRr6m3CuzEDmZTIQw3xAHYvtuvo4ZM2ZAcemgPR0wpxMzcQ8sc6Ag+IdFaGt8bvaKwL7ssstWbsZ1Ssgax2UilDTfGztUtdNg7u2d3C/S80W0q3dtcZ7cJ9O8p+lJRxh8uix9YJQ+zEi3Kb/v1vdTudyqz0xgEGIoon3cP8rbIt6TmxTj4VL5gQT3wKp90wmDEH1asZgAijKr+jll5J5UtaLS/h0Lu1mfVBAs38vjeDHZVHzOvdJqudRiGSGo9DUmtkB0IUw9jN8CZaE+1nX6ynUXlj4siGW8ItrwfU+fJ49plUU+vKp1sWywfR+RsZyHl5yC3Ku4d/CdHv2CY9b7TRb1qXrlt00V4/L3EPt267qoqkejZd3+PRbHaqd94gEiv2WqRD0eelDPCKGPY/gqAQlIQAISkEB9AqNGEGRAxA/dZsbT3fDQarZtp+uZAS2MH4wx2UMsq3pNB36s50c5uZ3SmTGr9qu3rGqigNRDpPxEnnKqnq7XK7/ZcgYRJMIOw0Oj/GQ9bQfEQwTdVDjg6X8e3lnLhYYnJX/k2KEsREISfUfepjhWvdfwSkgHguVt06T85XXlz8xeR74m8pBhnA8egZEXCa8BciUifAb7dABX9g4sl9+Nz3gpkgCffogxcInBC9wQyPF8QPAKa3eftO+SaynywUV5Va8MphAEu90mVcdqtIzZBqusanA2mPNMjxGJ6tNl3So7ykT0ZYKXyGOGsBI5vNiGgTZ5MxlYddO4LqvuPfVm3kwFLK7lZlYlsDTap55owz7ptY7gUBZUqtppMPf2Tu4Xab84+uijG51qsY77I6Jl3G9YSJuk3olRSOoNHMtafR3s91MrxyGnZhgPV+pZ2o4IWmWr9/2QMmlFxOE7LQTKevcNjg37mNigSsjqVn04VggfVaIK6+sZ58KDRR5i4cGefhfX26eby9N+HbPAVpUfnKkfgje/81KrxzK26Wbfpz/iUY1AifDcTasnbFbdN7t1XbRb/27/HuP47bQPfTZya6dCafk80gcd5XV+loAEJCABCUhgIIFRIwgOPLVJt6T84zoStDeqUcwmyzYkAK9Kts6PXzx/8GaISSnqlZmWV2+boVxOaFUa4sKxylzKxycxNBNThCFSMSlBiEzhTch6ysKrkBA5vAhT75vYP31lkNzs+Gxf9hJKy6h6j/BC+A6ht4RhhvDGtgya+UPUpT1pkzQ0rcprpeoYrSzjx3KVIWoQbsWENPBLPTOoK5MMkBCfRO4xsG53n5QrA7aqJ/flulHfoWqT8rEafW5HFOn0PMvHrxLMulV2HAtRggEc3oAI1Az+0+uRQS1/hMAxoUq3LBVZWikznWCmlftkmnaglfJbvQ+mAlqU26yd2K6VOqd1aPd+kXqRt3Is6sS1lT7cabdNKKORdeP7qVH5sa7VeqeiSdV9sFv32fQ46fuob/oa/IeyPhwPzz6snfsYvx8Q36vC7/FUw4ucic4i3UdxgC7/lz6AalR0yrmKZdU1mpbXah9K96l6D4uylyDbIWjhaQy3mGCsav9my9ppv1bPqRm7enWq4sy23fw9Fsdu9VzYnt8LmgQkIAEJSEAC3SegINh9plnqgcbMhumsls0Oh2CTioHklUHs4gly/IjG8y4EwVY8G5odcyjWM3NvGLPwpZ5/sZxXwuCYNRhDlMJrKfXO4j2egPy9+eabxRPifAKMYmZgBA6EFHilxysKK/3HgJ+8bdddd13Ny6O0SfGR2arbNQQ08h3xh8iGGIrYEgMu8uvRDxBzxyThlHgbVQkchCMRIs5T8Mg9GHWqF9pHyGM94xhw5Q9BkpyBeAlGHyInEHnRYjZgymlnn9RLAy/PmPm0Xn3S5UPVJukxuvV+MOfZrA5DVTYegPzlCeSL0HHEafojnmQYM0zjxdquEN7sfFpdT9h6eP5U5VtrtZx624VHV9X6fPKP2uI0nUJtYcWbwdzbo7h27hdsG4Y3ctpPYvnEfJ2Y309pWofUM7N8vmkblz3IytsO5jPfIXji4R1G2GYjiwdDQ+0Fzu8C6hPHq6oT93y+Z+GJ8MRDtvhuoj+RUoDoCvpaiKc8TAgbit8Y6XVEjtb4bRPHjNeUc1VUQ2w3lK98t6ZiIPmdSS2yyCKL1HIfEjYcguBQ8ErPr1vXRSe/Jbr1eyw9n1bfI7LTX+nrqZdkef9G68rb+lkCEpCABCQggSxzUpEh6AX86I4fbSSFr/fElafwDMgRwiIUjgF7GANAPOb4sZ7+YEbACatXdqyfFK94LcQkEwyg+AFNUvOqP35oRxJoBnaRtJ2JBwjPOeCAA2phpXAlPxPJ9fNZa2uM8cJLPe/qnfNyyy1XrEIMqZdE/9Zbb623+4DliGrHHXdc0Yaxkh+sJCCn7Q455JBYXAiRfEgH9CHK1DYa/4ZyyZlFffNZQ4uleCJgqSdZsWD8f2noZSwndyDek4h0L774YrEYoY9E5eSUwzMwjMlZsE72ibAu9q83QQPr8FJk0IT4GO3V7TbhOENlgznPZnXqZtncExDIDz/88MKLlmPjLbLkkksW6QvwGFx//fVrVUq9RmsLJ9KbCJVDFKzKH0g1EIO4lhAy2vVaQiypd61HX+Ueld5fG536YO7tndwv0gcIES5Xrh/tTTgx3r5p3tbydt34PDG/n9KHSDzIqWeRdoD1jUKL6+3fznJEIIxQ3Xr9into3KdTQbed47S6beQC5nj1rh/yKzIJF9c/3wMhBnKMX//618UDHLxPQwxkeZraYigErjTEuV6/JndoXO/8ngqvS+o3MY3fF2Gk1+ABJw9ZUoEyDSEe6t9kg70uOvktMRS/x4JpO6/x4IY+U/XwFi9CHsZqEpCABCQgAQm0TkBBsHVWA7ZMf6CmoV1sGImyeZoZs1KmBRAqR9jO6aefXnjvROL89El/VeglOfUQVsJaTYYe20+M1xADOdbGG2/c9JCbbrppbZvIOwif/fffv8h7hhhQDhdhxrvUy4CBejNLJ1o59dRTB2yOQNto4FnegVBc8hnShgz2y5YOBiO0idCiMAZqVYOH8Nxju8jxFoMPjhNiWpTzUJ43i3yTZWPQiihEedSxbCFaszz6Wif7UE4M8DhWOpiMY1IuQu7JJ59ciJERKtTtNonjDcXrYM6zWX26XTYTCSAG77PPPv1ChaMeIcTxucpLNbZLX1PBoHy/S7dr5306AQN9tcrwIGbSHs4pnZSnatuqZexbNgb5cc1+6EMfKq9u+LnTe3sn94t09lLE9JjxOq0gD064l5AvMhX5023afR9tXW7nwXw/pSGMjTyao6545PEQCaO9UiErtkEI46FMGOGuQ2nphCUI1GXjeyrN9ZjOZFzethuf04m1qr7T+B6NGXpXXHHF4j4feQ0RhqqEcFJfpALXUPzGIJVB2FFHHVX5PcjvpkhzkD7AiP0m1mszL0X6ctoXhoJXeq6DvS46+S0xFL/H0nNq9X3qqXnkkUcO6Df0dX5raBKQgAQkIAEJtE5AQbB1VgO2RJQKI4ccA0wEO4wwnHgSyxNlJmpAyEEAwqOB8NL4sYvow9N7LJ6A8p5BXiTfZuBD+ZtttlnN+4BtWhlYsd1gDKGMH/D8xSQFjcpLxan11luv0abFOsJvwni6S8gHng/MxojxAw+PNl7hxw9ujhGeBQwaQ2CKcqpeGcgTooohTDGQZMBLmbBl4pN2DE+7sAMPPLDIIRieeIh06eyO5A7DCCHbbbfdivcMupiQhPBgjB/diJ/hFbjhhhvWQjmj3vQZwsjvuOOOIn8UYZbUOzxSioLG/xfCBR/J+4VwEP2JvgjTMGbqxDrZh4E+npxhhKAySyUh3ggYtGkajswkOyHgDqZN4BX9Es+NobbBnGezunWzbMK60tnU99prryKPJQ8dECzwusGDFeMeVW8W3nKd0/sd++Mt1iiUs7x/1WeuIYQKjFyh3DdjAI4nNNdQeHxQ1/S8qsqrWnbiiScW91+uEe4dCEtMtIMRYrrLLrtU7VZ3Waf39k7uF3i87bTTTkVd8KAm9QDXPvcsPGSYFIJw8LBu5YMMoYh7FLla8dym/wzm+wkhI4x8prRr6t0X69JXHiKEca/E85V7Cud/5513ZsxeH9+j3FdD7Ih9uv2K93c8/EBw534dx6ff0peiv5JbbqgFSjz/4qER34lcL+G5yPcKob9Rv3jwFiIz1wPXRnxnPfvss8XDS/p3akPxG4Pv9hB3+F7neiRKgvsT3038Xjr44IOLavCwhO+4SWXhFcrxEV2Z6TZ+h1B3+iWvYeUHdrG8m6+DuS46+S0xFL/HOuHBNRXfFzwYhz2/Nfj9xm+w3XffvW6x3L/i90Lc/+tu7AoJSEACEpBADxEwh+AgGjsN8+MHCX/8YMEjhYEmuQMjFw9PM/krGz92U48CBjj8GObHOgNX/igrftSzPz+IQgwj7JT8ekNp/JCK4zf7sctgNUKaGaikXnz16oj3HOJXeCx8uT8AAEAASURBVD4y6GNQgkdMnBsebvW83IJxvfJjOV4vDIA4FgNdvPv469QQsz772c8WkzZQXgykEC5SgQ4RNx1IM2inr9CGvIZYmNaDQScekmGEXYfnIIPpdIIVtll11VUzciumRr9hwIqXGBbllevHACE4d7IPZeM5w3nRRpz7jjvuyOIBBrN01u3BtAmDsuiXDGYnhnV6nq3UrZtlw5/JbuiXcR+pqgODqDRnZ9U2sSwEej5zj+MPcTqdCCi2bfUVIZQ+yoAfwQvvJP6qjMF4eNpWrW+0rN79F2Gz3VkpO723d3q/4HpBxCW0m3DUeqIowi8D3m4YD6gYaGNx/+C+PNjvJ+41kcc17gPhsVZVb1IspPcwzpG/stHfQzgtr+vmZ6IC+F5CUOA+F9dB+Rjcj/muCU/L8vpufuYaRlzjXoinWuqtFsfhOy9yu8I9viv4rcFf+TcGnuyR0oI+1+41Esdt9MpDIsQ1jkOfWGuttQZsTr0QpGPCqwEbTIQFPDDhtwzXIIy5BsrfofRTUqXQJ9pJO9Jp9QdzXXTyW4J6dvv3WKfnTmoEomsQYeN3d1pW2jbpdxuh7/F7wTyDKTHfS0ACEpBArxMY0R6CDCbD0vexrOo1PMnSHwps1+r+aZl4UZD/jx8gYWlIG55rDMoZHFQZgwpm1mXyiDA8yBB+4ikoy+NHDD8C8WpjfYSeMstuWOqBUXU+6TlXrU/3T7dN36fbxHHT1zRkjUFIq/alL32ptmmEDTMoJcdReEDUNsjfwBzPQs5/0UUXTVc1fE94JIO4KhGOH5kMPqusqt/AAi87BjZpHwgxEFEPjw0GbKnhaUU41B577NFvv9gGYQ1xNLx0WL7EEksUeRmj3WNbjstAmLCrsLS98GhB9KTvhEX9GGwxOPzZz37WT2jpZB/KZsbas846q+ZBE8fjlXoiLNB/01B71nXaJlV9mPKaWdqH65WRMixv08l5pmWkxy/XtZOyy2XwGaZcR3iUVRleQtx76olLVfsQnlj2wIjcp9GmrQggKQuOgwcO4hPCeZUhpHGdV90HqrZPl9HHEUh4TQ1xE4/ZyF8a69K6NWqnTu7tnd4vuA/Qlnial8+DepP/DQ/gspfsYNoEz5sI1w02eBcP5vuJcggLL8+WjGddo+uN+xEicXi2RX145YEaXFIP5HQ979Oy03Xp8vR9uk3Ve+pBzlUeBlUZggse6KlHbbpdvWOly9P36b5V7+HJLOIIVWXjvosHaeoNTpg+IiDswuI3Br87CLvk2gij7LC4PqJvxfKq70fWlbeL7XklTQXfc7vuumvl9yBe60RepN9d7Bd14H09i+O2ez9KucdxWEa0Rnovje9Q+FJ/PPU333zzojoIqGlofb06psvT49ZbHvWJ9Z1eF53+lujk91h6Xmn9O20fzp3fy/x+4ruIB/C0AfdFolHwmObeFZZOlpXez9N6xba+SkACEpCABHqVwGR5iMa7vXry3TpvnjzyxHHKKacsQpaqfoQSqkYYKcmZGVTxxLvegIF60Sx4PcWTTEI2Ws311a3zGk7lEB6KtxPhS3hm4nmY/sDspK6EO/LDnQE3ouJgfiTirUZb8cfgiPL4odqKEfpH32CARN7BCKetty9emoSmEx6H6Jj+0K23D8s5Xwb19FdyyKXJyevt18k+lEVYH2IRr3iX0N9b4dtum8Ad1ojDeORMbOv0PFupZ7fKJnQ77j0MnGj7qntUK3ViGzyGuY9RBn2olXZttWz6JrP/cl1yv+M678QrEG9dRCTONyYPIYSSsumPhOK2et00q3u793bKG8z9Ak8k7oVwhw9t0K1zKZ8r9xruvcx2PtNMM9VWD/b7iXse3LjnpQ8+ageo84a+x7lTJwQt2rGb/a/OYesuph3pq/Qr+hriVaPv9boFdWkF9eEez32UvkFfr8eHbRFj+eMa47skhL0uVaetYuJ7kO9NOA7H3ztcD3zHk2pkzJgx/R7mtnWyXd640+ui098SQ/F7rBUkcOdelwp95f3IOXveeecVi6smWytv72cJSEACEpBArxNQEOz1HuD5S2AEE2C26W222aaYSTn1DBjBp2TVu0CgShDsQrEWIQEJSEACk4gA4cLksUZ8x2s8ja6hSgjzEZGDt2ukWZlE1fWwEpCABCQggRFBYELM7YiorpWUgAQk0EfgscceK8RAPEpIrq9JQAISkIAEJDA6CeDdjhHiTo5uvFsxPJbJXU1O27ByyoNY7qsEJCABCUhAAv0JOKlIfx5+koAERggBwgXJ30TuLMLjNAlIQAISkIAERieB1VdfPSP/K3kaL7nkkuKP8HLSa0QeTM6cSXacSXh09gHPSgISkIAEuk9AD8HuM7VECUhgIhFghmnFwIkE28NIQAISkIAEJhEB8o0y2zw5g8PI4RliIKHETK50wAEHDFle1TiurxKQgAQkIIHRQsAcgqOlJT0PCUhAAhIoCDDpCRMQMfGJgrGdQgISkMDoIoAQyMRlhA0zAQ0zxhM1oElAAhKQgAQk0B4BBcH2eLm1BCQgAQlIYNQRuPvuu0fdOXlCEpCABCQgAQlIQAITn8ASSywx8Q/qETsiYMhwR9jcSQISkIAEJCABCUhAAhKQgAQkIAEJSEACI5OAguDIbDdrLQEJSEACEpCABCQgAQlIQAISkIAEJCCBjggoCHaEzZ0kIAEJSEACEpCABCQgAQlIQAISkIAEJDAyCSgIjsx2s9YSkIAEJCABCUhAAhKQgAQkIAEJSEACEuiIgIJgR9jcSQISkIAEJCABCUhAAhKQgAQkIAEJSEACI5OAguDIbDdrLQEJSEACEpCABCQgAQlIQAISkIAEJCCBjggoCHaEzZ0kIAEJSEACEpCABCQgAQlIQAISkIAEJDAyCSgIjsx2s9YSkIAEJCABCUhAAhKQgAQkIAEJSEACEuiIgIJgR9jcSQISkIAEJCABCUhAAhKQgAQkIAEJSEACI5OAguDIbDdrLQEJSEACEpCABCQgAQlIQAISkIAEJCCBjggoCHaEzZ0kIAEJSEACEpCABCQgAQlIQAISkIAEJDAyCSgIjsx2s9YSkIAEJCABCUhAAhKQgAQkIAEJSEACEuiIwBQd7eVOw47Av199J7v3sdezad/3nmyJMdP2q9//3s2ym8e9XCxbYbEZsskn67faDxKQQEKg0bWUbOZbCbRN4O6HXste+89/s0XmnSabcdrufP3aX9tuBneQgAQkIAEJSEACEpCABHICI9pD8NwrnsqW2uL64u+xZ/7TUYNecePz2Tv/zRWzCrv9vlezTsutKG5IF519+ZPZpvvfme354/sGHOe2e18p1rH+7Xf+N2B91YL197y14LrdD+6uWu2yYUzglEser10XL7z89jCu6fCsWqNraXjWePjX6q23/5f98R8vdL2iz770VvaPu/sedkThDz7xRq3/X3jV07F4kr/+N/+e+cI+txf34rsefK2l+hx05oPFuSy71Q11t2+1vx5+zkPZIptcm333JwO/I+oW7goJSEACEpCABCQgAQlIYNQSGNGCIJ4Wb+YDTf7eeqda1KvXcgwav7D37dmOR43L/vNWf5Hs1Tf+m+1x4r3Zhvvenv0r9+gYCRaD7TVWnHlAdf9884vFsmUWmi6b6r2tNflzL71dcH1eQWkAz+G+4NXXJ1wX9cTu4X4Ok7J+ja6lSVmvkXrsv9z6YrbKN/+ZHfyzB7t6CgjfH9/xpuySvz3br9w38++C+F547Y3+9/Z+G07kD//MvbQRBd/znsmyjywxQ0tHfyn3/OZcXs+/6+pZK/316ltezE679ImiiHfa/K6sd1yXS0ACEpCABCQgAQlIQAIjm0Br6tDIPsfK2p9/5dPZnQ+8Wrnu5nteyS76a/9BZuWGw2Qhg8UQLtf40CwDaoUXJLbWhweuG7CxCyTQwwSaXUs9jKbjUz/8nIezl155p+P9q3ZEWDvivIcLga28Pk2JMPkw+oa78p99HpIrLjZ9NkUuCnbDWumvl177XPa1w/X07gZvy5CABCQgAQlIQAISkMBoItCdJEajicgIPJe/3f5SUWu8/5ZaYLp+Z0B+qQdyb0jsUysqCPaD4wcJlAg0upZKm/pxmBJYNM/PN/bclYvaTZ6qg5O4viEIrlnx0KbTqjXqr8/9++3C0z226fQY7icBCUhAAhKQgAQkIAEJjE4Cw8h/onuAyVdFmNXENMKM8Vpp1ZjoA7GuGxYDzU8sN1M2Wcnx5Jrb+sTCafLJRhgo17PB1OXfr72TcT7tGm0Et1aNdm0UOtdqOel2lPd2hyF07Eud2jXCeF9r47yj/KE4/witjGN06xWPsP+22Sk67UfU+Y038+uvwfFoq1bCpxtdS2U2XDPvttnv4d3sPsF5tHNdRL2oTwMEsdmA1+Le1cmOeUlwbXY+Aw7YZAFlci6N2rNJEUVYLqG55ftheb9Or8Uo5+X83teKIc499sybxaZrNHgw0+73SL3++uebXshWzcO0QwxsNVVEK+fiNhKQgAQkIAEJSEACEpDA6CAwajwE/5cPaI+98NE81PeZ2sBr/jnfl626zEzZXpuNyaaeqk/7fPDJN7Ltfzg2e+K5vsEZzbjBXrdm733P5Nm+Wy2QHfuLR7JHkglK9jn1/uxH5z+SfXbV2bKdNpw3u/Tvz2XH/fLRbNqp35Odu98Hs/1/+kB2za0vZZFrb85Zpsy++YV5sk3XmnNAD2Gge/yvHssuzsORSYaPMWhdcK6pM7xGvrXRvMXndMfT87xPP/9TX2L8/bZeoDifdD3vr8rzQ2FVA80YMH5y+YG5BQmN/uG5D2U3jXul2J9B44fz3FYcp5lRLrzJxRjiK7w5j//78nzZlHVyFT75/JvZSb95LM/79VxN3IMBYXTf2XxMtvSC/T0cH3n6P9lRFzySXXPbi9kreW48DHFz4bmnzr66zlx5u8zerKoD1lMHyvz99c/X6r7gB6bOtsrLW3z+abO9xk/Mcv4BS2WzzvDefvvf8+jr2WFnP5Tddt8rtfrMPtOUBbe9txiTzZG3f5UhkB1+3kPZVTe9WOsr00/TNyP07pvMn62w6PRVu+VC1/8ycqWdc8WTtbBLjrfOSrNmu28yX/b5795e7Lf3lmOy1SvauKpQ+v4heT63W+59tdYPKZO8ZlwDs83Y/5yryqhaRi63U3/7RDb24Ql5N+G3Zc512/U/UJm/st1+FNffrHkdz/7eB7Mjz384+2PeFx9+6j/FtUOeTPrFeivPVghKtPPlecg86zHOk3Zaf5XZqk6h8lpiYoe/5sI695ItPjNntv8ZD2Q3jX2l1neWyvvsnpvNn638wRn7lXn/429k3/jR2GLZSbsvVvQbBHr6++rLzZztml8ni8/XJ9LTzj/Kz4V8e1FX+vlSC05beV3Egc7/41PZGZc9WdyzQpj7wGxTFdfTPl9dYED/jf1u/NfL2dH5vY5UA9yXMK7fz3xk1my3vF7lkNZg8MkVZs6+8fl5soPy/nPdnf+u9R/23ezTc2Zbr/uBOESR2++E/H7HPRej3316t1uK9784cOlspun7vn4Q/n5y8ePFpCN4M0d92HCxnM+3N52/X9+mLnAK+801z2Y35Ocz3xzvy077zhLFRFDbHNYXIsu5cK2k1sm1uGE+GQj3n103njfnNHV29M8fyf4x9uWirrTnYvnDlr3y+9fHlurfB+K4V4/P48o5U8/UuB/xHfO7654rxFXKWyK/D+284TzpZpXv6937uSaiPyyZzzp/yp5LFAJhZSEulIAEJCABCUhAAhKQgAR6ksCoEQQ3PeDOmmASLcnA+uGnnsruuP/V7Pz9lypEKjwwYoAa24XnxnO5SHdXPkCOgRTrGTzyx+AeeyIfvMX+iDHxvliZ//fUC29l+53+QPZCvs+OX5wwoMMTZbMD7xqQt5Bj3fvY68XfZdc/l/3yoGVqA2XKfOipN2rHeObFPhExjsUrx6d+2Or5YL1sJJPH1izlD0QI+PJ+d/TbHGEPj5J1vn1rPwbpRgzetzn0X9m1uRhQNngjYCL2/XTvJWtiR2x3w7/+nW2bD9RDQIzlMECg+GI+ycux31o0WzcXczAEhA32uq2fQMByBIPb8zbd/YR7CxHh+N0WY3FLRvt/IW+3EHBjJ4QI2g0BK9b9JxdpUjvx149lx+QiStkQdy/LB/MITz/acZFs/Y/1F5tgul2ewyvtV5SBwMB50w4IKYh6ZdvlmHFZtGGs43hn/eHJ7M83v1ATv5/O+10rhqD27ZPuHVAXykSQQKA7MRevVssFq1aN8/rGkWOzq8aLHul+sEQ8uSgXbX77w2VromCn/SiuP0T7r+TX/C25qB1GPfjM3yx5O56Si0zhIRXbcJ67HX9P8bEsCta7lhCBWfd0fv394s9PD+i/5CLd8qC7svO+v1QhDMex8B6L+8PW+TXDvQGjnn/KPbh2+PzcxWcEVAQs6pYa/Tyui902ni/7ZnI/YTtmjY2JItL9uG74u+LGFwrRdPlEbMaj8dCzH8zOzEXEsnH9Ij5zH/rZPh/sJ1wFg+zmLPtt3ofKdWXfQ896KLs5f7gQ1yN1iPOPY8XnuAcwi/tWORv2r7Jxj7xe5L/jYQwPTLCxj7zWb3vKotwXX+2bUfvV//R9ZtvyddHptRjfCxde9Ux23V3/7nf90J7cT7968F3ZgdsuWPkw6Ip/9OVxLT+0wVN4w33u6MeT8uhT2x8xdsADIs4pjHNudO9HGN7jK/MX4ngzT8ko01cJSEACEpCABCQgAQlIoHcIjBpBkIERHm5fyT3zGABflYsll+QDVwZXiEd4oOz8pXmzhXJPsB9/e/Hs3CueqokFiDh4/C278PSFJ8UN+YCPgTG21bpzZR9dcsZ+g+PoHgzI8OI54psLF/tynG/nsxMzkEc4Wjr3VvrEsjMVm59/5VM1MfAjS86Q7brRfNmM002RXZ8fC3GHATF/P88Fh+0/1ycUxHEavf459zjD8NApe7ONzQfT4W0T9WBbWG1+4J28LYxzXPujs2UvvvJ24fWXenjFNvH6o/MeromB8N5r8/mz5RaZPnsyH/z/+KLHi3NELEA0/OuJK9YGtIQApmIggtMWa8+ZvXeKyXOx6JkMLx/sW8fek3s3zVB42uF9GfVHMPv8J2bPmCETr5if/u6JYt0fbng+u+vB17IPLjBtVLHuK2IIyfVD8MObZ9sN5s6mnnLyvK88m12QTzQT68qFICSkYuB2+X7M6PzW2+8WXqnUn76223H3ZHiphRcQLHbIB/asw/Cwoo/OOO0UhYcVXlrYGZc9kXsnTpN9cbX3F5/576RcgAwxsPBsywXD+d7/vuzG3DMJb7IQsms7NHlD/woxjE1p93VWmi3DuxYxE5EIcQUh4vqTP9xPmG5U9PG/erQmBtIn8JZbLr+Wbrn3laKdQhg64KcPZoduv1BRVKf9KOoBT4Q/PK42y3nOPftU2TmXP1WbXAeBDuOawEts5nw7xJzgeWju5VkWBBtdS5QVfRGvtf23WTCbKxdcLs/7Hx6jGKLfn45dodJLNMRAvLVeyEXS/+ZaM9cNDwq2OuRftX6HFyLelDNP/97cc/flXLx7qOg79JPl8vtaeKDhmRtiIH3jwO0WzBbIPY3vzoWp3+TXE56ItOWPLng492Reqqgf//3q6mdqYmC01YcWnyHjYcPPfv9kcU+kXzH7+m8PX7a2X7wJQY/7DfepmaZ7b+GtF17MXI/35Q84Fp5nmmyD3HuX131Pub84Pzxif/jNRYqi8PDEDsy9/UIMxMN1m/zc35+fz3P/Rnx9pjaD8I8veiz72gYfKO63eBI//uyb2c5HjyvKoP4wo/xGNphrMcoNgZm6fiG/H72ZX/+/vPrpQrhlmx+c+3C28afmqN33WMZ959o7+h6gpPkDWb5D7kEa4urHlp4xP8e5C+9M+ioet3HfoJyyNeqv39lsTPH9Ut7HzxKQgAQkIAEJSEACEpCABILAqBEECbP69aHL1PLkESa2xdpzFV5nnOxf8rBeBEEEPAZleN7E4I6ZeafLBUFs9pn6BLwQBD+cDzbTQVyx0fj/OOYVRy1fEwDWmmWW4vNqO99UDOS+mQ/27jx7pWJrQg7DfrLHErXjkdeP8lfb6aZi9QV/eqqfIEi48w55iB5WFcr5x/GeJ59aYeCEIX/Ovb2wRfJB+Qy5ABVGuF+E35Y9Wggtxtsy9byK/RADQoSA45XHLF+EYLKeUN81PzxrttNRYwuvPQa5J+cibHhJnn15n9jEtpusOUd20HZ9whCfETkQJy4YHxr9q788U4RdEwaIEc67dy6GhS2z8HSFsBviFiIq59HMLrzq6eyfuZiG4YWIN2IYodKLzzdtEQIey9JXPPXCzspDVdPwUAbyy+QC2AG5gIkhChMSie2fex2GN9TXPzt34bFTrMj/Q7j+VC4q4gWJ7XfaA9mn85BN+iKh0iEWEoZ+ed7PYI5x/gi86+1xa/G51f/2PuW+2qYn7b54v1mnEVUQYhFZECEOO+eh7PBvLFzbvt4bPP1oZ4zr4Y95n5hr1qmKz9ST63CVb/yz+PzrXKg6IG+nx579T8f9qCho/H8c71cHL1MTXzf65BzZh792Y81rCrHwquNXrKULWCvvnzDDI5f+iRiXhsY2upbiuFxLvzl02VzI7kvWuc16H8jmycVIBDTaeZ9c/CJstcp+ssfitYl9IvckHrUhQpNmIO3HiNyfygXkNfMwW9pkr9yz8+oTcpE9nyjj74mH7mE7LFTz6FwoD6VfN/dQXW3HfxYeidznEON5+ICgybWPFfeuo5fP8CLDECoRub6Xp0jgOuShAN6kZdGUbQmR/vUhy9Ty8zF7OQJ33DOZ1XbX3KNx7rxs/gjb5hynn2aKfvdSRMjwKuVaOHWvCdw4Dx7EcN4RSosXHv2Ue82SeUhtGOkD6t2jYxteO70W0zJ4X76OP/fx2XMvv9uLhyEwRginnmF4qMc9IARd1jGTPQ+EsE/nDE/Mr8mwlfLw83neP1XxUCCWlV8b9VfaW5OABCQgAQlIQAISkIAEJNCIwOSNVo6kddvnYkt50gwGjpGn6vmX+4fjdePcvp57c5RzxvEZjyWMQSCeLNg0U/WJObxnwJwag/ILD1o6u/gHy2a/++Fy6apCHIqBNaJZaogKkf+vakBMHimsvC5EMbynvrxmX12jXISC7+V55KosBFTWkScQz6TUmNDzgG0nCH14zoSFwEj55AQrG3n0EP4Qumafqc97aMr39okuMCTfYWoIFad/d8lCKPteniutFQuBkW33rdgHz70QSNLy8MYKARXPxlQMjO1oc7ymMM41vMn+Nt4zCO+lCHmMfXglZ2Hkm6S/kJcNi3blPe0RYiCfMfr6l9eYo+9DC//j/Yk4hCFWIOKUbe2PzlrkbGP5xbl3UitGqHV4MeHFGWJg7Pv+mafMCHdFcNogF6peysWpwfSjKJfXXfIw0vDEjOWrLNUn6PN5py/OWxMD+UzY5IqLT8jVSAhwWLNrKbbDMzDEwFiGiIt3HnbzPX2MY128cv7pLN+RY/OcXCjHuLb3TUTv2G+e3COU3JYYXob35F6/GF6tYYToh8DIMq5DROsLDlg6u/6UD9c8xf6ch3RHv9wlfzhS1de/u8WYKDb3qJxw/dYW5m++n+cYhWVqaZg86RJaMSbz4YEB4vweFfcEykBsD3stF9sGY51ei+kxuX+Vr2N4r5sL32Evls6f8HAMITW9jvEADUu5xzJy0Zbv+bGu1f4a2/sqAQlIQAISkIAEJCABCUigTGDUuBEsOj45f/kE58gFCUJk38jzSnXbmGikyggLJQwYuyPPBUU4I6Icni4YXjiEGeKN9+mPzFJ45hA+2K7deHffgJJBKpNypMasq+ShwvBCC8MrihBOjFmJGcyWDSEVAStEsFgfYhWfqzyHWI6YR+g1k248+fwEwYWwXmypBaYrvImKD8l/CLd4waVGvi1CHBHKyLOHpxxeXjDDczMNg073q/eeOmEIjyE6ptsiciCKEY6cWnjxsAxvoCpj3w1WmT074VePFqvve+yNQowOAYb2DxGovP/n8tBKJofA8F5DrLt9fF1ZtlreT6qMukaoZtX6dNkDT/TP0UY4YpURwo0h8iEiErrayPB+CqsSGVlH7rs0/91g+lEci9flS32eZXjVxXVWdU+Ya5Y+jzi2DSGT942uJdZjiDOE+1cZ19jpl/YJx8yWjMdcagi/ZSNkNEKJEb8Jt60yygu7Pxdgl8jFxbRP0Jac80dzL9e1cnESbzMEygX6dMTYtZYHlQXP57Pe1usDnCfXHGJvlREyXbZ5k4ky3n6ntXst90U8CVMj7yLHJWcrnnZX/qNPTGOb/7VWbFpc7T0et51ei7VC8jd4g1Zdx/EwgG3L5//H8edQfjAT1w4PVhB+y0Y7kBeWsPSytdJfy/v4WQISkIAEJCABCUhAAhKQQEqg/6g1XTPC3jNTb5URXjdUNvfsAwdxHAuPvrDb7nu1EJnWy72jGOCGUMjglEF8iBeIaDvls0q2OlMs5ccMwggBiIKp/X28ZxqDSsJZw8jvFVblIZSuI6F/ag89OUFUKucrTLdjcIz4huBCWCAhsBEWOW8eBteq4cVHHULYRDwh9Jg/zpeZWslXh8DXzKhL5CpDWKxnqbAR2zyYnHej+qfeavc9/no2W+JBycyk9Wy+OSYwifa5Ne83GOdJG1YZgkqr9sATE9oSD9HwEm20PyLiiou1Lgim/b5RuZ32I7wNU5u5IixysuR6rwqxL18nUV6jaym2mXPW/seP5bymbYH4nYaGsr6qjzK7bBjiO5PkNLOY3IhzOyYPed81z7mJ0b+Z6Ic/QtcJN93iM3MVk9WEN18q8MV9qNHxuN4QLWN/toXf1Im3c+yfeizGslZfEdzJEZjO3Nzqvq1u91AyaUm712J6jLSd0+XvS5jkyGqGwInIj5FzNLVx+WQ12FwN+hUCZJW10l+r9nOZBCQgAQlIQAISkIAEJCCBIDBqBMGpkhC6OLmhfm3lmDGY5pXQz4/nIbHMVHpNntMQL5wwBDQmvCBMjEkQWrE/jQ8JJgdi2WLAuHKeny/RSLL/vDXhmOnAtbx/5FRMl089VbUwlW7D+/ckm5FjLvU0rPKuKe8fn6kDodQX5rx+k+fbirBj1iOAEIp39a0vZj/Oc2/hldnI8mq0ZO+igJRsmvdNOKHJo0FL2/AxzUeHN9M0Ca/+cm3/nSdPGojJJrA3k3bqW1Lx/8CqVmzUtyhtAwTGqvYt78xkI82MEOCwcihtLC+/dtqPyuW005fK+5Y/N7qWYtspx3tPxud6r1VdZKYK8TJtE8pqJLLHsaYaH0bP5/XyUFtCx5kMhFmu0/KYGAQvZK6Rn+ah9bQ54lRYK8diWzyK03adIumrUdZgXn+Q56okj2LZ8FAmNP/t/PiRZ7C8TTufB3MtpsdptQ/EPkzughEqnHqJcpvhHtbMZsjzLlZZK/21aj+XSUACEpCABCQgAQlIQAISCALVo41Y62tDAs/m3m/lHILs8Pj4kFzeL5dPrJAaHoD8obXcmnsMEk52aT7DbYQOnvSbx4qZNsshh2kZvGf72KdKEIy8VeUwTsINw/Deq2dpuG9sM28e1sZMytirb/y3rqj0aC5GhM0245T9hDImlKhnhPVheJqFJxciGzn2+Hvjzf9lf7/jpULk+G2eNw1BlUH1gWc+kAuCK9YrtliOqBFh0Gn7lHd69OkJdY91nHfYUy+8mS2T9W/TWPfoMxPObbY8dDoNA0y9wWL7eH28H68+jzwmVcCziPPDmzTNPRb7PTo+P2V8bvQaOe7YBq/KLfMJd7phqecbfWaWPC9l2Yrw0zwEFI9UJjvotB+Vy+3W52bXUhzn2Xzm23oWuUJZT8h9K5Z6lHJPSCfVaGV/tmGSk4O/tlDxhwcgQtFl1z9f86olb+Rf8lm5yXNIW0X+xvP2X6rSa7HV43ZjO8SyVAxksg6EfYSzEKzxHAxBkIcLndpgrsVOj8l+IdyV0xsgGtN2XOON7sNPJF6kUY9W+2ts76sEJCABCUhAAhKQgAQkIIEqAhNcn6rWuqwhgfJEF7ExYXthhAIzkD3jsiey75x8X3bqJY8Xq3C0WSGfWXOvXJz560kfyphVMiwG7fG56vWq8YnqyT9VDtVEWCNvIlb2nMNTKEKFrx0fVlwuH7Ev8gym6xaeZ0LY67W5MFdl5C6M3FiIWAhxDH4jTPfufKbQegP7jb93R7bGt27OPr7jTdnTueB54q8fy76Vh0QGDzzLyMN12PYLZzee+uGaSIY31Av5LKbNbMEP9OU+I3S4ShTEa+fyGwfm60pFr7/eXn3eHDudSXr+PKca+SvD/laHF+vTdWPm6hMf0wlyLr9xQh61KI/X31/fl5MyXVbvPQJjWPCMz+kr3mZ7/+T+7Cf5zMHkEGxmCyTh2oTEV9kfcoHqs9+5LfvQdjdmv/37c1mn/aiq7G4sa3QtpeVzTT2X596rsgjRJxdmiFlV26XL6M8h9DLBRD2PMa7TPfKZq4+98NFs7PgwfvINHnjGg8XyKJN++rVcVPtNPtv6Hl+ZPxZnV+WCIMZsvGHpPSqW8cq1uV8+M/ZBZz6YnXPFU+mqrr+PWXIp+OhdFi3qzIQ3Kb9xD08IdW/FY7VeJQdzLdYrs5XlTOSClR/MsGyF8TkwEfjq9aubxw28plrtrxxDk4AEJCABCUhAAhKQgAQkUI9AzwqCU+RCVVgaSseyNEQuTegf28frkRc8XOTYis+8sn1MSoH4Fh6ER57/SDFBxg/Pe7jSIwRvkbCZpxvoZRXr4vWK8Ynq0wlDYl14ByL8lWcCZpvlx09gguj3+1ysKRtCXJV9YtkJYbmHnPVQpYCBkBSh0J/JJ/8I+9jSfbO/EtbIRCFlw5Mp8gwyaciLeSjqMb94pAiF3OeU+wdwRkhJJwZpJQx12/U/UDvs9097YIAwec4VT1YKoYvPP00tj98FVz5duU2alw/mCGUIoQgcGKJleXZpltP3Tkp4M1EIls4gfHgeVvnvJDSX9WMffi375VUDObKuyvCQihm38bjCO7Vs/8gnqTn4Zw8Ws8senbN/35TvKW8y4HM6mc2xFz5S2SfSfHVMZDOYfjSgAl1Y0OhaKhfPOZbtujwHHu2BLZfk6yxvV/WZFAIY18VPxj8sSLdDhPz6D+/OLspD5pmwJibGOP/Kp4pcmiyvmowkFf9mGj/ByUp5+oCwI/L7EMJ/2U741WPFBDe02UXXVE88U96n2efw9n09f1iQ2iNJXr/0Wo5tyMX4h0SgJ3w4LA2zfzln18wGcy02K7ve+nvyHIHRXmmfj+3jPsznoy4Y2K8QbSP/YOzDazv9Nd3P9xKQgAQkIAEJSEACEpCABFICPSsITpcLSmFH5oOxK/KBZ4R1TpskiD/rD08VA+6YJTf24RVPs68ccGchEOFdxozC6+x+a00U+dFOixSbM7HJOiv1CT0s2P6IscXx8KZjv6tzD57z8gE+xuD5o8lMptRtqS2uL/6oI4YXDyIEVp65kmVXjPcoq1rH+m9vOl9N4NrlmHGFAPRWHn77Wi4Q4IV02m/7vBjZNrVl8vBnZjDFEBM32Ou2YtIPzgEPPXKWhZiIYLfThvPWdidMNYQBBD4mBmGwzL5/yfMAfi0XPcI2WWOObPF8JtMQMznWnifdmyFYce5vv/NuRmh1TBKC6JZOdLDp/nfWmD370gSPLtogZgPlmJ//7u2FOImgsttx9xQeV1GH9JWy991qgdqidb59a9Fm1IM2/PVfnsk2P+iu2voDtl2w9v6Qry9Ue88x8BRFiOE8EBE/vdstNQGVMN44ZybQ2OzTcxb7IpR+cpebsjMve7IIn0Q8gH07hkfqoV9fuLbLJjkjhFnCsKnPxbmw9M2jxtbWb/GZOXOmE24PCITRD8lXFzbXrFPVwo8Rrz6/9+212Wz5zEQZEWa+Wj4JDKHwg+lHcdxuvTa7lsrHQRCmnyPk0v5MCrT1of8qNuMBAHlC27H98u3jujj6548UZeOZSe4+PDm3/cG/av0DD0C8irENV3t/7TDfO+3+jHpFX0eIOuCMB2vr180nNMIIGyf0HuPao+/RB2HANXZanssvZslmm52/NA8vg7Zpx+fgpD/gIU1+U66bJZP0BT845+Ga+AVbrklmFk+9Jl9ORHEEvjDun/TfRp6vbNvptRjHafc1HszAPcT4tIwNVpmtCBtm2YVXPV3cfxD+aXvOf5vD+vpVuk+7/TXd1/cSkIAEJCABCUhAAhKQgARSAlOkH3rp/VILTcjzdcnfns34I4cVoXZpeCWePzsfPa4YvF78g2UHIGJAvdpONw1YzsQg4e3Fyr23HFNMgMGgmFlzdzxq3IB9WLBPvl0IBHx+6dW3a4JAePQwuUYMlD+65ASvH7ZHpIjQzarcgmyDt9iZ+yyZIZxhhIjy14rtv+1ChcBDmBveK+vveeuA3RBGCFtMc6QxicFB2y1YOw7hjvyVjZmFI/n+Cf+3WCEKsA2eUPyVDeERtqk9+9JbNWZvvzNhEhW2OWvfDxbnjQBC2xLGnRrsg206SciXPzVHdnk+SEd0QExhApgqY+bXNDwQEYc+hUcWdmjuWclf2TZZc44BYtJ3txiTPZXn5UNYwIPskLP684JzeGOmXq3lsuMz9fr8x2cvOHKOnHv5/Nl2mfza2PMrY2K34hUxJo71Wn7+qe2+yXyFqItAC9O1d78lXV28RxCBTVin/Sj279Zro2up3jHwAA4v4HSbM/Zesl+fT9fVe4/we2AuICOSY/XKpp9TftgGq8xeCLp4kXFPQRTkL+2/bPuZ3OM0zWm4V94Xr8/3efDJN3IB8a3aPSDKjVdCjxFwu2HLLDR9dtP40Fc8pLGzv/fBbMt15srOyEPU6YvcE9fNhfa0T7MdAn4I/8y8velaLO0zvKq5B3E9fjsPqcbGnrty38qK/wdzLVYU13TRleO9uOvdh5kU55z9Pph9Jr9eaMOYQb1RwZ3010bluU4CEpCABCQgAQlIQAIS6F0CE1yARiCDNGwML7wqC1En3ZbtSPK+zXoTQkhZFuFZ0+az256Yi1GpMPdQEt7GttjROy9ay43XtyQrBrS7bjxfMVtwLON15unfm1106LLFhCLp8ng/z/unys77/lLZFp/pP9lDOqtnnGMkqic/YerFRVmFF10+wKbuH1miL1w1jpG+4lX3428vPmBmUwbk5Oj72Pjwwjhm7Eto35+OXaHwCkv5xPrlcw+miw5bpnLCgo0+OUeGqBpeerEPrwhGJ+WzBX81FwnC8IY6d7/qyQ84NuGqVx6zfD/Bg33TmYDL9SeM+g9HLle0PR5KlMM5fyT3ykRw+cqafR5UlDPDtBO8SPFIYj1sEGfKRrnUn5lfy4bQzGzJtHHZKOtbG82bi6UTPAljG+p18h6LZ/ttvUBRP7alvtQbEfS4XScIbDOMDwtl38mSq7rc74/YcZGinlUeS5T9zS/OU4gUZYExLafMlHpdfuTy2XZ5SDZllA0R8oqjlu+XG67TftSoHhw3neG6XE/Wp7cJ1je6ltg+NdrjRzk/XlPDq5Nr6cOl6y09/uT9d0l3zzbOxebLfrRctljuFVtl6+cefvTZyP3JNvRH+sZW687Vj3mI2bQv4voJuy3Wr0jubb/Py9rlS/MOOA82RLg//BsL54Lw/P32i/pXtW+xYdLs6XmzjocjETofhXKvxbv0Fwcs3e9+EKIzEwAxWcqVx6xQu8eWQ6Or7l/kT037QNQ7jtvptRj7l88tlpfv03jehmdsPU9t9mUSngv2XzpbqmIiGu6XaS5Itm+nv7J9ldVtw6qNXSYBCUhAAhKQgAQkIAEJjFoCk72b26g9uxZOjNA1vN0Y5JPvLx3w5ZF02cO5Jw2eHAgYvJ6Sh7yFt9fluciB1wmeNoQUIwwskk+8wXaNjMHifY+/Xnh/keyeHHXN9knL+1c+McdDeb0WmnuaASICk3EwQcHM+UBz5WSiknT/9D3n+GA+Oykz5DL7a+odmW5X7z2zqzK4ZyIAWFTNMlu1L9zH5hMG4G3GMREHGhkeNIRCvvz6O8VxxuRheKm402jfWFfk4cuFi0YzOO94ZB7OPd6z594LPha7DnglrJMJHt7NHRDnm2OqfjMKD9g4WcB5j8v3eyn3uJt79qmKc0n7XGyKpydh2JGDMpanr4SJ4hWGISaXBal026r3eJzi0Ucb4M1J+4eAXrV9q8uiT8w643vziSymGSBaV5UT+7Tbj6rKamdZo2spytkiDwe/Pg/R5x5x59krFYvvz2dN5pqBGyGhCHTdMNr9vvx64p40Vy4yz5eLyFUCdHoswkgfevI/uSfdG8W2CMapQJxuW37PvYv+iAA8/5xTFxPhdOtcysfimuE6niGfaRrhMYxvIGbvjocupAvgAUqrxgRB7+Tc6G/phCTN9m/1WmxWTtV62jEmTcFLs+oaL+9Hygr6FeeAQFh1LbbSX8vlTorPeGBzv8bbmwmlCGf/2A7/KKoSnviTol69eEyuu/h9wmRV7V7f9GXudbQp75kpfq5Zp2z6nd1t1oP9rdLt+lSVx+RA9+e/7eDEZG/z5R7OrVz7VWU1W9aN30TNjtFsPb+pxj7yWkbbLJh/Dzb6vdKsrFbXk96G++Bbb7+bLZ1HM5QfirdazsTertXf/eR33iifYA8jeiDSfEzs+rZyPNr90fwh3AP5GGLm/CHkmPw3RNXD5qqyJkXfoR6kRor7GQ/HZptxyvxh65Rt/eZIz4cUJ4/mOcL5LTVt/nCcB/9zzjJV2/fZtMyR8j5+t7fzW3+knNtIr+dw+d4e6Rx7qf49Lwi229hVgmC7Zbj9pCHAzKlMloCwg5iLIJca3kXMcozhxYh30qQyJv5gMgl+sBzxzUUy8o2lRp4x6sogDbvljI+2JYakZfm+MYEqQbDxHq6VgARSAgqCKQ3fS0ACEqgmQFqayEtMFNL6pd9+1Xu5VAISkIAEJNA5gRGbQ3CRTa7t/Kw72LORtxjFTez6dHAKPbtLtB2emBhhiXv/5L7soDwkEQ8vPJTuzj3lmLgkjBxtYROzbaOuET5KCOiBZz6QzZ/Xk7yXeEXiEXX8Lx+tiYGEjodn1MSsa/AZra/RFlXnJ+cqKv2XLZfPZl41m3X/rfw0mgk0uoY4b6+j0dz6npsEJg2B2fPIm2dffGvSHLzNo8Y9kt+h+b8iV3UUMWsemRTmvTJI+CoBCQwHAkQF4lyjjQ4CI1YQHB34PYuJSWDdlWbLjv75o4VrP5Mx4GFHrjJCTyJ3GfVhJmVyrE1KI1/cGivOUkwoQmjQhvveXngLTpPP/MsEI2Fsd9peS8RHXyUgAQlIQAISkIAERhABJmN7OI9SiTzARIcst/CEyQ9H0KlYVQlIQAISGGEERqwgGE/Vhgvv4Vaf4cJlONWDCRUuOGCpwhMwZj1NxTVCiQnPODSfOCTNszSp2vbYfNKQ7516f/aba/pmV+aHYlpfPANP2XPxfjlbJlVdh1M7T4y6yHliUPYYo52A19Fob2HPTwISaEaAfF/k4UuNScGmnmrCBHbeK1M6vpfA6CDwep7Dfdmtbuj4ZL631QLFJJ8dF+COEhhPwByCbXYFEsiS8B9jMoyhShjdZrXcvE0CTKRCmDDJgGeZYYpiFlQmhxiORqLy2+97JXvk6b58gcy+/MEF+mZIHo71HW11YqKef+fXPYJx1QzZo+18PR8JdJsA4XBMPoW9P598q9XE892uh+VJQAISGG4EuD8yCdWD+eRgM+WT9nxo8RnanuBvuJ2T9ZGABFojwG8j7gGdGFFikTKqk/3dRwJBQEEwSPgqAQlIQAISkIAEJCABCUhAAhKQgAQkIIEeIDB5D5yjpygBCUhAAhKQgAQkIAEJSEACEpCABCQgAQmMJ6AgaFeQgAQkIAEJSEACEpCABCQgAQlIQAISkEAPEVAQ7KHG9lQlIAEJSEACEpCABCQgAQlIQAISkIAEJKAgaB+QgAQkIAEJSEACEpCABCQgAQlIQAISkEAPEVAQ7KHG9lQlIAEJSEACEpCABCQgAQlIQAISkIAEJKAgaB+QgAQkIAEJSEACEpCABCQgAQlIQAISkEAPEVAQ7KHG9lQlIAEJSEACEpCABCQgAQlIQAISkIAEJKAgaB+QgAQkIAEJSEACEpCABCQgAQlIQAISkEAPEVAQ7KHG9lQlIAEJSEACEpCABCQgAQlIQAISkIAEJKAgaB+QgAQkIAEJSEACEpCABCQgAQlIQAISkEAPEVAQ7KHG9lQlIAEJSEACEpCABCQgAQlIQAISkIAEJKAgaB+QgAQkIAEJSEACEpCABCQgAQlIQAISkEAPEVAQ7KHG9lQlIAEJSEACEpCABCQgAQlIQAISkIAEJKAgaB+QgAQkIAEJSEACEpCABCQgAQlIQAISkEAPEVAQ7KHG9lQlIAEJSEACEpCABCQgAQlIQAISkIAEJKAgaB+QgAQkIAEJSEACEpCABCQgAQlIQAISkEAPEVAQ7KHG9lQlIAEJSEACEpCABCQgAQlIQAISkIAEJKAgaB+QgAQkIAEJSEACEpCABCQgAQlIQAISkEAPEVAQ7KHG9lQlIAEJSEACEpCABCQgAQlIQAISkIAEJKAgaB+QgAQkIAEJSEACEpCABCQgAQlIQAISkEAPEVAQ7KHG9lQlIAEJSEACEpCABCQgAQlIQAISkIAEJKAgaB+QgAQkIAEJSEACEpCABCQgAQlIQAISkEAPEVAQ7KHG9lQlIAEJSEACEpCABCQgAQlIQAISkIAEJKAgaB+QgAQkIAEJSEACEpCABCQgAQlIQAISkEAPEVAQ7KHG9lQlIAEJSEACEpCABCQgAQlIQAISkIAEJKAgaB+QgAQkIAEJSEACEpCABCQgAQlIQAISkEAPEVAQ7KHG9lQlIAEJSEACEpCABCQgAQlIQAISkIAEJKAgaB+QgAQkIAEJSEACEpCABCQgAQlIQAISkEAPEVAQ7KHG9lQlIAEJSEACEpCABCQgAQlIQAISkIAEJKAgaB+QgAQkIAEJSEACEpCABCQgAQlIQAISkEAPEVAQ7KHG9lQlIAEJSEACEpCABCQgAQlIQAISkIAEJKAgaB+QgAQkIAEJSEACEpCABCQgAQlIQAISkEAPEVAQ7KHG9lQlIAEJSEACEpCABCQgAQlIQAISkIAEJKAgaB+QgAQkIAEJSEACEpCABCQgAQlIQAISkEAPEVAQ7KHG9lQlIAEJSEACEpCABCQgAQlIQAISkIAEJKAgaB+QgAQkIAEJSEACEpCABCQgAQlIQAISkEAPEVAQ7KHG9lQlIAEJSEACEpCABCQgAQlIQAISkIAEJKAgaB+QgAQkIAEJSEACEpCABCQgAQlIQAISkEAPEVAQ7KHG9lQlIAEJSEACEpCABCQgAQlIQAISkIAEJKAgaB+QgAQkIAEJSEACEpCABCQgAQlIQAISkEAPEVAQ7KHG9lQlIAEJSEACEpCABCQgAQlIQAISkIAEJKAgaB+QgAQkIAEJSEACEpCABCQgAQlIQAISkEAPEVAQ7KHG9lQlIAEJSEACEpCABCQgAQlIQAISkIAEJKAgaB+QgAQkIAEJSEACEpCABCQgAQlIQAISkEAPEVAQ7KHG9lQlIAEJSEACEpCABCQgAQlIQAISkIAEJKAgaB+QgAQkIAEJSEACEpCABCQgAQlIQAISkEAPEVAQ7KHG9lQlIAEJSEACEpCABCQgAQlIQAISkIAEJKAgaB+QgAQkIAEJSEACEpCABCQgAQlIQAISkEAPEVAQ7KHG9lQlIAEJSEACEpCABCQgAQlIQAISkIAEJKAgaB+QgAQkIAEJSEACEpCABCQgAQlIQAISkEAPEVAQ7KHG9lQlIAEJSEACEpCABCQgAQlIQAISkIAEJKAgaB+QgAQkIAEJSEACEpCABCQgAQlIQAISkEAPEVAQ7KHG9lQlIAEJSEACEpCABCQgAQlIQAISkIAEJKAgaB+QgAQkIAEJSEACEpCABCQgAQlIQAISkEAPEVAQ7KHG9lQlIAEJSEACEpCABCQgAQlIQAISkIAEJKAgaB+QgAQkIAEJSEACEpCABCQgAQlIQAISkEAPEVAQ7KHG9lQlIAEJSEACEpCABCQgAQlIQAISkIAEJKAgaB+QgAQkIAEJSEACEpCABCQgAQlIQAISkEAPEVAQ7KHG9lQlIAEJSEACEpCABCQgAQlIQAISkIAEJKAgaB+QgAQkIAEJSEACEpCABCQgAQlIQAISkEAPEVAQ7KHG9lQlIAEJSEACEpCABCQgAQlIQAISkIAEJKAgaB+QgAQkIAEJSEACEpCABCQgAQlIQAISkEAPEVAQ7KHG9lQlIAEJSEACEpCABCQgAQlIQAISkIAEJKAgaB+QgAQkIAEJSEACEpCABCQgAQlIQAISkEAPEVAQ7KHG9lQlIAEJSEACEpCABCQgAQlIQAISkIAEJKAgaB+QgAQkIAEJSEACEpCABCQgAQlIQAISkEAPEVAQ7KHG9lQlIAEJSEACEpCABCQgAQlIQAISkIAEJKAgaB+QgAQkIAEJSEACEpCABCQgAQlIQAISkEAPEVAQ7KHG9lQlIAEJSEACEpCABCQgAQlIQAISkIAEJKAgaB+QgAQkIAEJSEACEpCABCQgAQlIQAISkEAPEVAQ7KHG9lQlIAEJSEACEpCABCQgAQlIQAISkIAEJKAgaB+QgAQkIAEJSEACEpCABCQgAQlIQAISkEAPEVAQ7KHG9lQlIAEJSEACEpCABCQgAQlIQAISkIAEJDBiBcFx48Zl/GHpez/Lw/4w4drwevB68HrweojvSu8H3g+8H3g/8H7QN3bwfuj90Puh90Pvh94P+S7Aevl+MGIFwb6m838JSEACEpCABCQgAQlIQAISkIAEJCABCUigHQKTvZtbOzu4rQQkIAEJSEACEpCABCQgAQlIQAISkIAEJDByCeghOHLbzppLQAISkIAEJCABCUhAAhKQgAQkIAEJSKBtAgqCbSNzBwlIQAISkIAEJCABCUhAAhKQgAQkIAEJjFwCCoIjt+2suQQkIAEJSEACEpCABCQgAQlIQAISkIAE2iagINg2MneQgAQkIAEJSEACEpCABCQgAQlIQAISkMDIJaAgOHLbzppLQAISkIAEJCABCUhAAhKQgAQkIAEJSKBtAgqCbSNzBwlIQAISkIAEJCABCUhAAhKQgAQkIAEJjFwCCoIjt+2suQQkIAEJSEACEpCABCQgAQlIQAISkIAE2iagINg2MneQgAQkIAEJSEACEpCABCQgAQlIQAISkMDIJaAgOHLbzppLQAISkIAEJCABCUhAAhKQgAQkIAEJSKBtAgqCbSNzBwlIQAISkIAEJCABCUhAAhKQgAQkIAEJjFwCCoIjt+2suQQkIAEJSEACEpCABCQgAQlIQAISkIAE2iagINg2MneQgAQkIAEJSEACEpCABCQgAQlIQAISkMDIJaAgOHLbzppLQAISkIAEJCABCUhAAhKQgAQkIAEJSKBtAgqCbSNzBwlIQAISkIAEJCABCUhAAhKQgAQkIAEJjFwCCoIjt+2suQQkIAEJSEACEpCABCQgAQlIQAISkIAE2iagINg2MneQgAQkIAEJSEACEpCABCQgAQlIQAISkMDIJaAgOHLbzppLQAISkIAEJCABCUhAAhKQgAQkIAEJSKBtAgqCbSNzBwlIQAISkIAEJCABCUhAAhKQgAQkIAEJjFwCCoIjt+2suQQkIAEJSEACEpCABCQgAQlIQAISkIAE2iagINg2MneQgAQkIAEJSEACEpCABCQgAQlIQAISkMDIJaAgOHLbzppLQAISkIAEJCABCUhAAhKQgAQkIAEJSKBtAgqCbSNzBwlIQAISkIAEJCABCUhF7B7PAABAAElEQVRAAhKQgAQkIAEJjFwCCoIjt+2suQQkIAEJSEACEpCABCQgAQlIQAISkIAE2iagINg2MneQgAQkIAEJSEACEpCABCQgAQlIQAISkMDIJaAgOHLbzppLQAISkIAEJCABCUhAAhKQgAQkIAEJSKBtAgqCbSNzBwlIQAISkIAEJCABCUhAAhKQgAQkIAEJjFwCCoIjt+2suQQkIAEJSEACEpCABCQgAQlIQAISkIAE2iagINg2MneQgAQkIAEJSEACEpCABCQgAQlIQAISkMDIJaAgOHLbzppLQAISkIAEJCABCUhAAhKQgAQkIAEJSKBtAlO0vYc7SEACEpCABCQggWFE4Lnnns/ib5pppsmmmWbqbL755i1eh1E1rYoEJCABCUhAAhKQgASGDQEFwWHTFFZkYhB48MEHs/333792qI033jhbb731ap99IwEJTDoCN9xwQ3bSSScVFTjzzDOzySabrKXKfP3rX8/efPPNbJtttslWW221lvZxo+4ReP7557NTTjklF9+mybbddttsuummqxV+1FFHZbfddlu28sorZzvssENteTfeIABeceWfs1tuuS17Lq9Dlc0226zZ4ostmn1ug/Uy3msSkIAEJCABCUhAAhKQQB+BnhUEn3766eyuu+7KEIjmn3/+bMkll8w+8IEP2C9GOYFXX301+9vf/lY7y1VWWaX23je9RYB7wO2335499thj2WKLLZYtvfTS2fTTT99bEIbZ2T777LP9rs9Wq3fddddlr7/+erbOOuu0ussk2+6///1vNm7cuOyOO+7I/vOf/2TzzDNPNu+882YLL7xwNvnkIzOLx4knnpj97Gc/K5giCn7ta1+r8f3Xv/5VtOkss8xSWzbYN6+//kZ23gW/yP5+7fVNi0I0/Ntz12V/+/t12aqrrKww2JSYG0hAAhKQgAQkIAEJ9AqBnhIEn3vuueyggw7Krr322uyFF14Y0MYzzTRT9tGPfjTbb7/9sjnnnHPAehdIQAIjn8DZZ5+d/fjHP84QBFPDG23BBRfMDjzwwGyllVZKV/leAoMm8MADD2Tf+973cm+2WwpvxnKBCyywQLb99ttnn//857P3vve95dXD+nNa3ymmGNqfFWPH3pMdf9LJuQD8Ro0J4cErLL9cNu88cxdeiqxAIH7k0ceycffcW4QSswxRcOy4e7JNv7xRvv2yLNIkIAEJSEACEpCABCTQswSG9pf7MML65z//Odtrr70qhcCo5ksvvZRdfvnl2fXXX58dfPDB2brrrhurevaVULyXX365OH+8KBFLy/bvf/+7GMjG8s985jPZ1ltvHR99HeEEjjnmmOKaiNO44IIL4u2Ien377bez73//+9nPf/7zWr1nnHHGbK655soeeuihwlvr/vvvz7baaqvshz/8YfbZz362tp1vJDAYAr/61a+KVAWIVGF4pCOkPfLII9m7775beKt/5zvfKfon3nbTTjttbDrsX7/5zW8WQhzegZtsssmQ1fdvuUfg6T/t80TkIIQAb7v1lkVIcKODIgRe/Nvf1XIMHn/iydl223w1W+VjCv+NuLlOAhKQgAQkIAEJSGB0E+gJQRBB4/jjj2+5JRG4dt5558KTY5999ml5v9G4Id4s4U1ZL5wNoeUf//hH7fSXWGKJ2nvfjHwCiGRp+47UMzrkkENqYiBiP+LL3HPPXZwOYZyED//f//1fIdDwusgii2T25ZHa2sOn3j/4wQ+yU089tajQHHPMke27776FB2qE0CIS3n333dkRRxxRXGfcc8nDhyg41VRTDZ8TaVAThPVvfetbDbYY/Kqb8zyBqRi41pqfyr6yyUYtFUyoMH8XXXJpdvElvyv2OS0XFmeddZamYmJLB3AjCUhAAhKQgAQkIAEJjEACIzNhURugyV9EfqPUyNf03e9+N/v1r3+d/fWvf80uuuiiwnOIcMHUfvrTn44KISQ9J99LoBcJILqEZ+AXvvCF4gFBiIHweM973pMtv/zy2W9+85sMoQaPrUsvvbQXUXnOXSRAntrTTz+9KHGNNdbILrvsssLzPMRAVuBVt+KKK2bnnXdettNOOxXbIsDTF7U+AuQBPP/nF9ZwfO6z67UsBtZ2yt98/rPrZ+wbhqdgGnocy32VgAQkIAEJSEACEpBALxAY9YLgAQcckP3vf/+rteWiiy6aXXLJJdl2222XLbvsssVEIkwmsOWWWxbLl1tuudq2vGF/vIfasccff7wyR1SzMhAhyHP48MMPF/mPmm3f7nrO49FHH82YWGM4GaHaMGuXc5wD+z311FPZk08+2a+tY32j1/Ispi+++OKg2eNRiZdpPaOdO+0jr7zyShFaCLPBGn0twsEHW9Zw359r6q233iqqueGGG9atLnlEmXkakYYJh5oZfY9JSZhltV2L6zENI223DLxz6UvpPa6dMgazP/2ccFcmxmjXuAa4Zjvh1s6xBntvaedYVduSj5K24SHUCSeckNG/6hke2Lvttlu21FJLFZucc8459Tbtt/ydd97JnnjiiX7Lyh+4b3TCmjbqxr2mXJ92P+PZhyiIIegh7FUZ+QFPP+Os4o/3Vca+eBdiiIGp0Fi1vcskIAEJSEACEpCABCQwWgmM6pBhPHz++c9/1tqOiULOOOOMbIYZZqgtS99MPfXU2WmnnZZttNFGNTGAUC5ypm222Wa1TX//+98Xy1jAII4ymTXyqKOOym666aYMUQmPozFjxmR77LFHttZaa9X2rXrDbJN4I/7xj3/M3nhjQqJ0cpt97nOfy8jjR0hWJ8Zg8Sc/+UlGnQn9DFGEgSkzqxLmxUQqqZFDkUkXsAgX5v0NN9yQffWrX+VtYelsvbGM17POOisjgT6GsBJlFQvG/wdXeN15553ZM888UywlGT3nvP766xc5CZvN+HrFFVdkTBBBvUJMJCfX4osvXuQwpBzaoZFxDJgfeeSRxUyY9913X9Gm5Ev8yEc+ku26667FOZTLoO633XZbsZht99xzz6JPMOhnEE2/oB5xLmx4zTXXFGwICWSQTd0QqJnoBu+0esbkF/QxPFrTQf10002Xka+R/sEMpWVD0Np///1riwl/5xo47LDDMmZlRRzGCGP8yle+kn3jG9+o8aJ+EQJYbue0DzAJwsc+9rHaMYbrm1lnnbVWtWYiKOHCXLeNjLbkXsG1En2P9mAykt13371o16r9EcK4PvD+uueee2oPDt7//vdna665ZiEIpd5jUUbcc/BiJg8iDzV++ctfZjfffHPRf9/3vvcVXmY8wGByirINdv8oj1mATznllOLYKUfuJeSO22KLLbKyyB778sp9AY9t6vPmm28WqzhfvDbxjmt2vaZlVb3nHoLASogu9+303gLfHXfcsZhRPvZFECX/HfdFZihulP+Oc//2t79d7LrDDjtkK6+8chRT+co5xvcP4elTTjll5XblhdxL8CT8xCc+UYiJaaoGrnW4UQ++EwiD/8tf/pJxHlzHzJrO/rPPPnvRL2F99dVXF/dZ+imsuWYJSa7XTlzvJ510UjZ27Njagw2+M1dYYYWibNq6bPfee2+Rd5flRx99dHGc8jadfkYIjNmEyRlYTwykfLYlXyC22KKL5P8Vbwf8R6jxLbfeVtv+cxusV+QjHLChCyQgAQlIQAISkIAEJDCKCUyWD1DfHa3nx8CccOAwhDEGhc2McK10YLj66qvXwr7Yl8EmeaEwBrCEen3ta1+r622FuMAAssoYfLFvCHVV2yAWISIgrrVjDOjwOEF4aGRf+tKXssMPP7y2CWID+3XDENxuvfXWfkX96Ec/KkSFEFL6rRz/YeaZZy5yaH3wgx+sWl2IjJTTyKq4Ib4yi2cY+SXPP//8QlSMZenrqquuWgg/6SyarMfD9Kqrrio2RRBDFEQgqjJYzjfffMUgvuqcETEQNhEgy4bX45e//OXCC6y8Lj4zyEf8WGihhWJR8Vo+1+OOO64QYxCvqwwBAuERQ4RsRehDSE15VpU7XJYh1iHq4K0Fr05nEkfM45qud+vknnDooYdmXFepIa4jsjLLeRjbpn2C64X7Cf0ptbjn4MGMhyOz1VYZwuC5556blT2dB7s/x8LrlXMKsZ9liFWpd+I222yT1cu7iiclfYUHJlVGCDcCfIixiPP1RKvy/nh5IwQikNGH2bfKmKjjwgsvLB6GxHrahIdH9Auu6XrH5PpGTOfBEUIwAnAjgwP9jAcDv/tdX966Rtu3si7OE1H42GOPLR4sUN+0LyLc4V3IJFq//e1vi2LL21S1E+0IP3IXRnnl9qW/4vWYfj9yAB6E4VmLkYaDCVPC4l7JJD2Ihe0auf5CEGQCEXIB1jPEQDwEsWbb4kF4+BF99VlrjTwf4aYb1SvW5RKQgAQkIAEJSEACEhiVBEZ1yDBeC6k18sJKt2PQxcAnrN7gkvUM5vGuSr1lYr94xWsMgaVsCI8IhakYSBJ5vIBSAQqPsvJ25bLKnxnQMbBOxUDOCU+y9NzYD0+jGDiWy+n25yuvvLIQ81IRBO8tPKRSQzTACwbPl7IhjjYTA9kHbni9NTI86PAwrGcItgySGxn71xMD2Y9BMF5n6Tmn5eHFicdh2RCvNt98835iIAN0+kc6AylCEyHvhI42MoTJemIg++H1hpfqpDY8GwcTRluv/uHdhWckXruIwVXXZb39WQ4jhBauLwRU2pbrGEHk5JNPLryCaWcmjigL4UxshBhIG3I9IxaR4xRvTbZHYCK0kwcZ6T0hrQ8iPzN949WLFxfHoEw80BADCd9FsAlBJ92X953uTx/Fkw4xEC9eBClmbsfT9w9/+EPRTxGd8HRGqCrba6+9Vjz44Lrmeg+ximsUD+L11luv6L94yw7GmB2a+zVtQ/vioYenHnwQgKkHXnap53MIWfQL2rKeMVMwxoQ0zcRAtsMjGyuLu8XCQf6H4Mx3BX0KhtzDQ6TDa5T+zT19gw02KB6KMWEO4j3fbRiiH+HeqXHtn3nmmUXf4Rx5gEbZ9DH69vzzz1/cww4++OAirUW671C+H3dP3/c43oGNxEDqwPozTvtx8dds28UXWzR/yDZ1UfVbxnt7D+V5WLYEJCABCUhAAhKQgASGG4EphluFulUfBsSpJwvhVGnYYKPjMLBGOAvxBKGFsFI8Q6oMAQBBi7C3ZZZZJkP0YpAc4b+84qlIqFYYg0/CtmIbymbAttpqqxUDewQRvFHwFsL+/ve/F54taehylFX1yiAYsSGMYzGgJ1SYcNA//elPhbAQ+b8YPDN4xMitGAPzsidSLGc7Boocg1x0iFdhCI4IbVgaJocHCucYRlgbg06YYXi0IZ5SNwwxk/PAsySMQSuCRxgiBNxXX331QjxEwMPDMcQ3PhPayzlVGSwogwEwSf8RIPEAwwMoDK+hOJ9Ylr7GsRCGP/nJTxZhnL/4xS/6hffSHxERaAdyhF1++eXFcWJfhAjqEjnGYLXVVltlDz30UO1QiIocA+9JymOSDMQhyiBMGS9PvADrGdvRHvDC85FwbcKQ07ajvyEmECIYbd2oD5Q90eodu5XliBb0Ubwi8ZrkXDk/2qcbhncbIgjiBtcXYgohlYR+cs70gUb3CNqCkFM44j2JCJyK65SBWEs59CPEFa4rDAGKPoHhnRVecHzm3rH11lsX+9I/6PeIfPTpsnG94jXLscNjGK9CvIx5iECb0d+595U9Rimr0/0RgbgmuE8RMpyKXMzGTKgy1zMCKX2QtAuplxiTOHFe9D+u+fThzKc//emMP2ywnnR4MdKeadtwvRCaTzgt3rZ4Ku6yyy6FFx3HpC3xDuSejOhX5anLtRIPV0J4Y99GFg+S6BPdNq4PzjHaAZ78cS1z/+Q7i/7D/Tb6KN6ZsEEsReDlnoPnclikduBeSb+N/VhP3+Y+Td/mPoVXNSLrUBs5/ggDxhDwum3LL7ds4X3IMfhDdNQkIAEJSEACEpCABCTQKwRGrSDIoC/ENhozPCNabVgG3SEIIr7g7RHJ3stlMDBn8B+5ldZee+1i8MQgOYxJDVIjbA1vFQzBA88W8sGFUSb7I5Lxh8VrbNPolTA1hDPEAcQJBm94JmGIToQdMmBlcI8hlJCbCq8TPEH4wxjghzcNXkmINGHxHkEwzUOIaBnrYlteEVLwfkL4oV546qRCHQNOjsfAlm2xGIQXH/L/CAekPcLwNEIMCWPQO8888xRiTyxjgJweJ5bHK2GKMbsnyxAgETQQATD6UirWFQtL/3HOIVR+6lOfKryR8KJKDS9AREeMbRDxECzDOE4IgogveHOFkZsNMSqMPoMwgfATs5jCtZkhGEUoK4N7clTyGhb9FOEn2hAPNnKahcXy+NyNV64FchOGpy2CBZ6gCDUIaN0yRFXSBtDPYI/witjOH2wQdAkhDaElPS7XLEIioiFCYiqYxHaIcLQVQms6eQ/53gjjxHsLr88q42EADyLwbKbfI+hUGddyiIHpegT9EHHxsqwSBNm+3f1pmxAz2beKDeVyPdMXaUOu7xAE8QrkAQnG/qkYWCwc/x/3QPowwlynRvh8vbah3lyT3DPo0/R17nNcS1zvXJ/0c7Yp8w3vQMRPQnKbGefMH9ZIEIzvgHrlcT9G/Csb4mZVO3AfjgcqPFAo91EejCECct+Iaz3KRjzE2xnRsLwf27AvfYz0BuX7cpTR7ddHHpnQF+bN7+vNDFFv7Ni+FBmLL75oU4Fvvnnnyf4+vtDn8omBFASbEXa9BCQgAQlIQAISkMBoItCnEI2mMxp/LiF+xakx8G/HUtGJ/crlpWUhBoUYGMvxeEk9mxB7UmNCjDDEF8Qwtkn/mDkyHXy2IwgyCKVeDLIRP6rqj9dMGHxamVU1tu/kFQ8mxBhEGULWGNSWjVDYEBJYF2F3vGeAfeONN/K2MES+VAyM5Yh7nDOefggMHK+eMQFDKgayHV5MZTEmFeeqytp00037LUbwS438aCEGxvLyMRBWw9L+wTIE3LRvxPtUpEZIaTS7MX0sxMA4Dv02xF+W4VlU7vux7VC+ItCEGJgeZyhCmOGAsIwgiOfahz70oeJaRYTGuxdRuSoknXUY12S9iYlYv/feexfCHx5cYQgsCGF4ACLy1LMQj8rhnLE913E9cRuhMoSseqHQnexPTriYAKRRXkmum7gPIgiGwTkE/qprPrbDM/vDH/5wfOzolbZpNAET3nFhTMYRxnVBGyH44r2bGg9U8DrG8DBsxdJ7f6PvHvpio7/wEC8fs55nburhWm8bRFOMc00NARmxv2pSmtgu+udgRNsoq5XX19+YUMcI7220XzHL8Jn5LMP5X71ZhtP943phWXgiput9LwEJSEACEpCABCQggdFMYKDrwSg5W0QlfuzHoCe8vVo9vVR8YxAdA6Gq/au8D8lXxeAsRJ5yTrA03xt1xDuomeE5FF58zbaN9eSAIpfUXXfdVXicMTilXmPGjIlNaq/BqrZgiN7AAu8vRAPqRYgobYVohkiZCkNpnRDBUrGqnjCCR00aZtzoNOoNmvFMSy1Cq9Nl8R4hoTzLL+GTqeGxWbbyNum5ca6pIVK1YvCsJ9pU9VPKRFQMbyE886hHKmi0ctzBboMoXmWIRENleDwx4QF/CBzkYcOLD29QwicJ5SU3Y1hcs/UmuontqsT3WMcrx6KdyL9HXyeUHK9W+nN4g9UTkegzaf7ItFzex/5pX0q36WT/VPzB+7HKeyyOEd7EqbcqDzYwhNBGYhPbLLHEErx0bFVec2lhtCn3P2brjnqxnr6AWEh6ALwBCasPI1cifSLC7WN5o1c8ffljv6F40EIYdCOjDxJK3onx4IXvPx6CcG/mGiRvJGJv9KsQeDspv519CBmeWNaK4Dix6uJxJCABCUhAAhKQgAQkMDEIjFpBEEEDj4cQ9p555pmMPwaEzQwRKs0/iFDVSJhgMN+OUX4qdLW6L4Mw9mvkYZSWRRgzeQgReVKjjHSQn64b6vcMwskTF+0Sx0MkZPCMUFLPQlyN9eGNFJ87eS0LeVFGO4IYno/pJDBRRvrayiQE6fblc03XNXrfyEOw3X7a6DjdXodnGNdZiG5RPiHNE8MQgJl0BQ8wJqLhAQITNyDE4g3INRMpCOr1mWb1pI8zOznesfWsnX5Xr4xuL0c8CyPMvRVLBfQQCfFEbSQmUm6nbKNOhPQ2M47BOaXnxT60PYIg4fr0Q/ojFuHCpHSIkP5iRZP/ED95IPNQkge0vMvVV19dXlSIbuuvv34tpcSADYZwAWHxpKqIvl4+1MTun7Pl4m3YUIiD6fdw6i0Yx/RVAhKQgAQkIAEJSEACo5nAqBUEaTQGfqnwdNNNN2XrrLNO0/ZksozUQ6eVQWbTQpMN8IbCkycV6mIG1GSzyreNQhXTHQiXjXxisRwvR84FDxByQCHATWwjJC0VI2GBGMRAE7EBL8iUfVq/8rmnHj7pdu28b+bN1U5Z3dy27N3Tav9IQ4i7WZ+hLgvvK8Ijye/GzLAI94SDt+oZ2Wr9CP9sJN7iWbz//vsXodVsi0BNTjX6KWIWojxeU50YIfzkEOT4hLYSqoyojZcgHqGE1jYSxDs5Zjf2ScXsRrPwpscKT0WWxf71wpjT/TplG2W0sn9sE/WKfQnzn2222Qqvbu6fpBJANAzRrtXJRKI87rcIgo2808ueyOzLvblZbsE4RjdfySHIzNUYnpb0T7xW+Z6i7UjXwF/Z272bdSiXleb0e7TkNV3etpPPjzw6wRN7vpJXeCfluY8EJCABCUhAAhKQgARGEoFRLQiSx4+BXRjJ4gn3S2dWjHXxysAHUSK1mAEzXTaY94hfhO7FwJRBF15J3bQ0Bx1CBjmw0rBVQr9Ioh8DwG4eO8LKymUSgpaKgYTlHXLIIf08HvFwI89YlYcKYX2p1RNPEG04f7im+QjTfYf7+/RcES2ZcGO0e7DgwXjuuecWggMCYTft2GOPLe4F9Id6edniePQbPILxckOgRhCMaxbROp29O/Zp9ko5iIEYE/mkuexiX2YeJlckDySGk6Ve1aQsIHy0HYv9uba55zXanzDqwViztkFoi3tQeo1xTO6T8GcWZLwCEQQvvvjiQgTGuzGdOKmVOhK6TzlMTsVs6a08jKJcQpQntvEQhlnLsR122KHfLNhRFyY1IictfCaWIQjyR36/m2+5Ndt26wkh/N2ow7h77i2K4RiGDHeDqGVIQAISkIAEJCABCYwkAqN2UhEaASEvTWKPt8fWW29dm/2x3FDMCkrS/9TzDHGgPBFDeb9OPiMyhCFspZNlxHKELeqLpxRhhpHnLdbXe0WQw9soDAapGMhyBI5mE2WwXepNxcC2ynuvLN7UK5fJCVLDY6oc/sxgvUoMZD8EozFJ7sNrr7228CZLy+Q9+QkZzH/84x8v2j8GuuXthvPntH/AvF6YKaIuM6Qed9xxhTfSUJxT2gcov177duvY5f7UjXLx/KJv4X3YLOyVnG8R8pqGWa+00kpFVch9WXUdRD3J2UnYZcz2yvKYHCVy1cW26StiVerRnK6blO/TnJRpbsCqOuFBmM6uzDapkNbs/JqVX3XMdBltU++BBNtRfqxP6xVlcC1hTOpCX4lwYcKJuWe2Y+QxjZyGCGl4nDYzQpWZJXliG9wihHrjjTeue3jCqSe2LZ9/B2OEDLcyUUir9fvb36+rTSSy+GITJthqdX+3k4AEJCABCUhAAhKQwEgnMKoFQRpnv/3265e3inxO6667biGgICjdd999Rc4oJhFgeeqhgmcW4YPtDgRb6RRpKCQhWYh+eIbEbJ7Mrstspddcc02x/MADD8z+8Ic/tFJ0Ud/U+wWPo/IgHdGsFU+UdAZaQoz33Xffok4//elPi0EzFSKUN82thScUs/wiAPKKsIkx0UpqqWjJcgakzUJjU3GW0LXtt98+u/TSS4vwZ7yPEM4QycIQf7qRazDKm1iv5CtLJ9pg1ttTTz21FuYNK9oAD0944wGHKDgUVvaopS/igYn3bTpT61Acu1tlcr3hYUlfZNbpRoLe2WefXTtsOulMTFRDflHCK6uMfHncM7i+0tlqw7sTsbvesU8//fTatVJV9qRahigas//S9s8++2xlVRA9CaslHBqPyDBE/JiIhf3r5cekPyNMDcYQc6tmiKZMPBS5f2GcU9q2xcL8P/L+feQjHyk+7r777oX4TfgznoPtGt8f3/nOd4rdEBjxAm+UpgGuu+66a5GvMg25bve4nWyf5sgtf1dEeXxfNgp/ju26/frptSbM2H76GWd1rfiLf/u7Wlmf22C92nvfSEACEpCABCQgAQlIoFcIjHpBkDyCe+65Z5bmimNyEQQUZsxEeMFTjUFkOqEBIiBeZssss8yQ9AW89tJQZAZhiIIMUlddddViHbOehuHhRH1btdT7hRxl6623XhGei6cKXjB4MLViK664Yr/N8LbDa5FQ33TgmG6H6HLCCSdkW221VfEaHjkx0I4C2WabbbYpZnT91re+VYTUpUJCbJe+fv3rX8/WWmut2iIG2OyLYAE3BIc0UTxeglUD/1oBw/QN+c0IIU2NCSnI67X66qsXXle0QbClf8NhKCxtW8q/4YYbCnED8RbheiQYM/NGDjjqjxcUQnmI1bySu41wyRAEv/jFL2azzDJL7fSYCZw+jZ188slF6G94VdEOiFm0GX2S9kiv1/BU5lokt2cqDOGNiJjLPWm4GsI+aQ4Q2GGEp1/0PepMrjweYGDksSznXT3mmGOKBweI9uxPaG/s/8orrxThqvTv9D5dFNbBf7QNYa3RNhSBVyshrzwQQvzi3lPvQU94yMVM32ussUaRW7CDqhQeyvHwhwlLmCzkd7/7XZGTL8rDI53JPNZee+1C3F9zzTULUTXWT4xXPMijr9M/ETDDELCvvPLK4vsprpdYNzFeCedd5WN93rmEDp//8wvrHpZtV11l5eKP9/Xsokt+V/MOZPtG29Yrw+USkIAEJCABCUhAAhIY6QRGdQ7BaJztttuuEPbw+EjDgWN9+ZWcV4cffnhlnq/ytoP5zCymDLDTMDm83iK3YJSNB94ZZ5zRVg45xAg8lJhABGNwiwdOaoRDN/PIYfBO2BwiaiMj7yLejI3C4vBaRJS54IILiqLwjMTDLPUyw0OHgTzCSZWR5wvxBCHxuuuuq21S5XWFKHH88cfXthlpb7bccsvCYxWxIAwRJXKgxTKEDfrSUAmfiKqIkDG5Qhx3pL0iWOGpR0gmAhZeX4Qn47nKdZhOlsC1cfDBBw84xX322ae4Prm2uEcgsC+xxBKF11zqOYcn2tJLL13bn76I0IOwgvcguRIRWhFYuP65bmi/GWecsd/1UCtgEr8h7x8i26abbloIqYhcM888c7booosW7CKdAQ8uEP/KxgQbXLekZID9BhtskM2azyDLTL6kTIADQh33aITuTg3vTwRB2uWII44o2ob7STqhCevStikfi1x/tHN4a4eQXN6u1c94k9JHOC739l122aXYle8ZxOD0Xod3Jf2q2zllm9WVewj3eu4jhH1/8pOfLERdcm7igfxKLtrS3oil9N+JbV/ZZOPslltvK8KGr/jjn3Pv6Wmyz392oFcfob/Nwn8RAy++5NLiFBAC9Q6c2K3p8SQgAQlIQAISkIAEhguByYdLRYa6Hnin4ZnBLLeEwVZ5hzDjI95zl1122ZCLgZwvAyw87vB6S0NugwV1xIMRQShyUcW6Zq94fFD2mCTnXuyDAILHDxNVNDM81fBUxDsq9d5hFtw0pHWhhRYqtivPcsugN2XNYJ/zLeelo2wG4pwrXBoZIg4TMxA+XM5ByH7UiwE1ZZVn621U7nBbBze8pg477LCiz1bVj1BMQk0j91nVNt1YhkcVnqFpfj/CGsOrqBvHGOoy4LnbbrsVghGew/Q5REC8oUIMpL8y+RCidVXfYh9C0hFGYIFAi7dbiIHcQ/D0q7q2CO/efPPNa7MVkzeUmc8Rw7gvIfqXZ74daibtlI9IitgGO4yHDXhbIgbCluv3F7/4Rd1JmxCWYRcT/SDUIYZy/tzfzjnnnGIioHbqVN4Woe/888/Pll9++VrbhBiIWMn9B2/pRoYwGW1PXfE8HqzxUIr7MSJwhOfykCXEQK6jnXfeuRCKq74LBnv8VvZHrEVEjfs63to8rEEMJKcp9S97frZSbje2YcKPnXfcoVYUgh7CXrt23gW/rImB7LvplzfSO7BdiG4vAQlIQAISkIAEJDBqCEyWD2jfHTVn08aJEO7KQJ58YAiECCt44k0qwxuFEEY8GHmP5wwiWwyeB1MvvJ/wyuGcyQfHoLSTHFXUi5A7BssIH3jrVRnHQWRBjCNXVyoIxvYIMHgGMVEJg2EEgXQCh9iu2Suhl4gKcKNeY3IBFG6Tsi2b1bmT9Vym5O+CK0IMoi5tiYfWxDTEG+qARxvtFbnxJmYdunUsQsthStgz4bDwxEO1LFbXOx7tEH2Pvs59BCG+2f7kEaTvk7+U65scl2nOz3rHGy7L6YucN0IgE6HEvYrXVow+hBBKP+I+RB+Gwf+z9x7gVlXX/vaAQ+9VOhx6R4oioogoFuy9B1sSv5tryr3Jk5vEm3zGm2Zi7DWJiaLB3lG6CNKbgDQpgoCIIErv5T/egRO3Jwc94CGc8ptPjnvvteaac8x3rs3z7Ddjrnmgf0/y0mZudVgCzr8v8GZuyb7LFNq5XZOOUZdnDvJMP0RdfhbGz9xz7zFm/i3l/0hJEjI/+zqUtogPdsTHfY0E5N/UglDYCCTzOYIpw49lv19V5s9fYI8+NmD/MmHq3nhDfzux51df91Vt6pwIiIAIiIAIiIAIiIAIFHYCxVYIFvaJU/wiIAIiIAL5TwAZRrYjso7HIOTcDCn/e1SLB0Ng+jsz/DmCz39J7iEGWSrcqGEDq+DLiSlbtm6x5Ss+NOqzQ3EqKdvw65YWp/p6FQEREAEREAEREAEREIGiSqBYPEOwqE6exiUCIiACIpC/BNLmLmwAIhmYv2zzo7WuXTpbY8+qfNmXDY8bPzGaZLORsZ988UzZA/VDJiHLhJGCKiIgAiIgAiIgAiIgAiJQ3AkoQ7C43wEavwiIgAgUYwLz5s2Lpcs8O2/gwIGxeQrZgcOHDz/gszuLMa4CNXREIGLwvQULv5QxmBlkLd+8pkuXo+30vqfoeYGZYPReBERABERABERABESg2BNQhmCxvwUEQAREQASKL4G33347dvbNJPDDH/5QMjATSAF9z1Lhb9+wb3MslgUvW77clwdviSXCnIs/F4IqIiACIiACIiACIiACIiAC/0pAQvBfmeiICIiACIhAMSFQr1692ISIzZDYQIOdoNn1WaVwEWAZsJ4LWLjmTNGKgAiIgAiIgAiIgAgcWQJaMnxk+at3ERABERCBAkCA3XXze6fjAjAshSACIiACIiACIiACIiACIiACuRKQEMwViw6KgAiIgAiIgAiIgAiIgAiIgAiIgAiIgAiIQNEkULJoDkujEgEREAEREAEREAEREAEREAEREAEREAEREAERyI2AhGBuVHRMBERABERABERABERABERABERABERABERABIooAQnBIjqxGpYIiIAIiIAIiIAIiIAIiIAIiIAIiIAIiIAI5EZAQjA3KjomAiIgAiIgAiIgAiIgAiIgAiIgAiIgAiIgAkWUgIRgEZ1YDUsEREAEREAEREAEREAEREAEREAEREAEREAEciMgIZgbFR0TAREQAREQAREQAREQAREQAREQAREQAREQgSJKQEKwiE6shiUCIiACIiACIiACIiACIiACIiACIiACIiACuRGQEMyNio6JgAiIgAiIgAiIgAiIgAiIgAiIgAiIgAiIQBElICFYRCdWwxIBERABERABERABERABERABERABERABERCB3AhICOZGRcdEQAREQAREQAREQAREQAREQAREQAREQAREoIgSkBAsohOrYYmACIiACIiACIiACIiACIiACIiACIiACIhAbgQkBHOjomMiIAIiIAIiIAIiIAIiIAIiIAIiIAIiIAIiUEQJSAgW0YnVsERABERABERABERABERABERABERABERABEQgNwISgrlR0TEREAEREAEREAEREAEREAEREAEREAEREAERKKIEJASL6MRqWCIgAiIgAiIgAiIgAiIgAiIgAiIgAiIgAiKQGwEJwdyo6JgIiIAIiIAIiIAIiIAIiIAIiIAIiIAIiIAIFFECEoJFdGI1LBEQAREQAREQAREQAREQAREQAREQAREQARHIjYCEYG5UdEwEREAEREAEREAEREAEREAEREAEREAEREAEiigBCcEiOrEalgiIgAiIgAiIgAiIgAiIgAiIgAiIgAiIgAjkRkBCMDcqOiYCIiACIiACIiACIiACIiACIiACIiACIiACRZSAhGARnVgNSwREQAREQAREQAREQAREQAREQAREQAREQARyIyAhmBsVHRMBERABERABERABERABERABERABERABERCBIkpAQrCITqyGJQIiIAIiIAIiIAIiIAIiIAIiIAIiIAIiIAK5EZAQzI2KjomACIiACIiACIiACIiACIiACIiACIiACIhAESUgIVhEJ1bDEgEREAEREAEREAEREAEREAEREAEREAEREIHcCEgI5kZFx0RABERABERABERABERABERABERABERABESgiBKQECyiE6thiYAIiIAIiIAIiIAIiIAIiIAIiIAIiIAIiEBuBErldrAwHFu5cmVhCFMxioAIiECxI1C/fv1iN2YNWAREQAREQAREQAREQAREQAQKEwFlCBam2VKsIiACIiACIiACIiACIiACIiACIiACIiACIvANCRTaDME0bmWiJBJ6FQEREIEjS0CZ20eWv3oXAREQAREQAREQAREQAREQgbwSUIZgXkmpngiIgAiIgAiIgAiIgAiIgAiIgAiIgAiIgAgUAQISgkVgEjUEERABERABERABERABERABERABERABERABEcgrAQnBvJJSPREQAREQAREQAREQAREQAREQAREQAREQAREoAgQkBIvAJGoIIiACIiACIiACIiACIiACIiACIiACIiACIpBXAhKCeSWleiIgAiIgAiIgAiIgAiIgAiIgAiIgAiIgAiJQBAhICBaBSdQQREAEREAEREAEREAEREAEREAEREAEREAERCCvBCQE80pK9URABERABERABERABERABERABERABERABESgCBCQECwCk6ghiIAIiIAIiIAIiIAIiIAIiIAIiIAIiIAIiEBeCUgI5pWU6omACIiACIiACIiACIiACIiACIiACIiACIhAESAgIVgEJlFDEAEREAEREAEREAEREAEREAEREAEREAEREIG8EpAQzCsp1RMBERABERABERABERABERABERABERABERCBIkBAQrAITKKGIAIiIAIiIAIiIAIiIAIiIAIiIAIiIAIiIAJ5JSAhmFdSqicCIiACIiACIiACIiACIiACIiACIiACIiACRYBAqSIwBg1BBERABETgEAjs3bvX9uzZYyVKlIi/3JqgDucp1C1Z8sv/P1I6Rz0VERABERABERABERABERABERCBwkFAQrBwzJOiFAEREIF8J7Bz507bsWNHtJuVlRWyD8GXxB+v/JUqVSpet2/fbhUqVIj3HOca6pcuXXp/O/kepBoUAREQAREQAREQAREQAREQARHIdwISgvmOVA2KgAiIQOEhgNBLEhDJR9m9e3fIQT5zDnHIK2IwScSUKYgkrFatmm3durXwDFqRioAIiIAIiIAIiIAIiIAIiEAxJyAhWMxvAA1fBESg+BIgwy9l+bHkd9euXQEDIcjxMmXKhAjkM0IwLQvmeMoaLF++fFxTpUoV27JlS/GFqZGLgAiIgAiIgAiIgAiIgAiIQCEiICFYiCZLoYqACIhAfhJA+mWW9BnZl95zniXBuRUEYqqXMgZzq6djIiACIiACIiACIiACIiACIiACBYuAhGDBmg9FIwIiIAJHnECSfF8XCOJQRQREQAREQAREQAREQAREQAREoPAR+PJ2kYUvfkUsAiIgAiIgAiIgAiIgAiIgAiIgAiIgAiIgAiJwEAQkBA8ClqqKgAiIgAiIgAiIgAiIgAiIgAiIgAiIgAiIQGEnUGzWe/Gsq49WrTJ2xGzUsJGVLVsm5o5dNDds2GirV6+2GjWqW61atQ77nPJg/lUey6qPV1udOkdZ3Tp1YkfP/O6YMS9fviKabdiwwQGfA5bf/Rbl9rhf1q1b5/fSx7Zm7aeWVbKkHVWrptWrV9cqVap0WOaxoPJko4kFCxbYxo0brUWLFv79qZFrqNzvK1d+5Pf7x8Z9WNu/Y3reXK6odFAEREAEREAEREAEREAEREAEREAE/i0Esm718m/pKZ87QUJQKleunKeWN23aZE8++U97+eVX7Lgex+2/bseOHTZ12lS75977rGLFitamTZs8tfdNKtHnwKefsz/+6Q4rX66cte/Q3kofhmdxITr/cPvt9u7s2dalcxcfX4VvEna+XIscWrd+vYukhbZr5y5jZ9IjXRBb7y1cFJK2QvkK+2VxzriYtxmz3rUXX3zJ/vq3R+1vAwbaoDeG2Nx337VPP11rNWvUtKpVqxYo2YUUXvnRKlu0+H2rUKG8lfP7Lb/Khg0b7Ha/v+67/35r1ry5tWrVKnaZXbBocUh27jeeMbdj5057/Ikn7U9/vstq165lrVq2jOP5FYfaKTgEDvbf5YITuSIRAREQAREQAREQAREQAREQgeJFoNgsGd7l0mfJkqU2fNhI27Fj5/5ZRlCtWbPGRo4Y7q+f7D9+ON8goPbuLWFly5RzEei7fHoMh6Ps2bPbRr41xubMnWc7d+44HF146F8Te47zu3bttnnz5tvvb/+TDR8x4rDEdLCNbt++wx586BG786577INlH+Q6JsY5Y8ZM++Wtv7HHHx9g27dusX6n9raePXvYZ+s+td/85ncueP9kSz/4wMgiLChl69atwflXt/46JGx+xsV93KhRY8/4q23bt20z7oQVH35od999r/1z4ECXpJ9Gd9RzS2rVq1axsqVL/Qvfr7uHctxC+TkEtSUCIiACIiACIiACIiACIiACIiACxZJAsVkyzOyWzHL5ZuXdTZT4YrJLlLCS/mf+v5JZ+/woYmObixSWOSI1EBbVq1ezevXrWyXPIiTr6pNPPvGlo+utbt06Vq1aNUN6IBY//fSzOMbyyc2bN3t2lrfhS0tLuBCp7UtL69at65laFeysM0+1tm1aWNOm2VambNnITvvMl6JW97Y2+XWfeTtkczVoUD/aZ4klook+PvKML7LVyLYqXbpMLNlk6TFx5FyKWbJCVcsqXdZHtG/Mc10O0m4VlzMrP1xpW13kVKlS2Zo3axbXzp03z0qUKOmxtd6fxcUyayQeO4927NgheLDEevmKD30J9rbItmzUqFHE7h3tY+F8PnQ5tMNlW6VKFX0cDSJ7bu3aT0JMxfXLVxj91XRWxP6RsyKbjPcf+/LSbVu3+RLumnbUUUe5dFvn87HSl+hmBd86vsw67XC6ZcsW72ulrV271seQZUfVqR2cyzlXhBhzQOxlnBV1tvmYa9b0Zb7169ken7clS5faCheB23ycZC4yP/Xq1rPy5b/IpqP/h//yqLf1sf3H975nF11wfiz3hvey5cvtrnsftIFPDrAOHTrYDddfF9mmMINtWee9fNly2+2CtlbNWi7RGlqZMmWC4+zZc6yCZ9Ix7+8vWeL31m7nUd0aNW5sxE/h/uNeWu79bNi4KZYp13QuDfx+pJ2dzoyl4Ttc+h5Vu3ZwR4BnZ2fbihUr7AMf3+pVKz1LcHGw5Z7i/uGa6t5XQ58b+uB+Xr36Y4+5qjOv7ff4Wvvss8/8mqre/5b4LpRzJvRbvXr1+Ot31ll2bPfu1r5dW1vv17///lKfpxX+ndrrczs/2q3tMZ19xunW0eu09izCsp+Pa6OPZcWHK2zdZ+tiLuv6smuWz5cuXTrGTVbvMudGRikZtMw5S7PT+aik/4iACIiACIiACIiACIiACIiACIiACBw0geIlBF10lS1fxla5UIvi5g8x8pkLh/IVKu2Ht2njRntr9Bh7/fXBLqI+C0FW2Ze29jm5j53V77QQMqPeesvefnucXdv/W3bccd3j2YRvjhplo0aNtm9dc7V169bVRnsbw4YPty0utna76KlatbKde87Z1qtXL1vgS1SHDR9hfU89JeTVKM/ke3vsWJdFjXy55YaQQ24R7Zyz+tnZ/c6I57Mhrp599nmbNetdyypV0ho3aeJCqKwt+2CZ93mV9Ty+x37Zsn8wOd78ybPY6tarb7Vcsi1auNBF5MdW2eXg9276jnVo396z356wxe8vtrvvutOyvX3KQo/157/4hZ14Yi8XXu1tsS8/fXzA4/5MuDVxnufotW7dyq67tn9IP+Tco3//RwhVH4IbLXOR2N6uuvIqe/fd2fbqoEEhVadNfyfkZ++TelnXLl3shZdesYUurTp5H3NclH28eo0vRW1mx3Tt6n0u9mvfte2+zPiYY46xq6+41Bq7NIMVnEeOfDPaQmbW9GfUnX76adazR3db7VmfTzzxlG3esjkk4NKlS/zYGqvfoKFdc9UVLuKq2iuvvmYbXXghdV/0JeVItIsuujBEWQzQ/zNzxiybNGGynX3OGSEDEVOpNPY5+8mPvm8LFy30tt6wc84+28VVlv329793Lm1COn7gmYMs4a5Zs7bP1RWeWdgzxPQvb/udtWnZ1CVcDXvvvbm2ySVZparV7MrLL7FTTu4d8otnFr70yms2fPhIF2yebedyt2b1mnbxJRfYiSf0dCG8yZ57/gVb7Bmwx/p9N2HiRCvlUu1GF5PcU9PfmWnlKla21wa97sJuiV3l40Yuskz+9NPPsJu+c2OMfe7cud7Pq3aMt3HeuefY6DGjbejQYdaqdVv7xEUu91kJF65nutw7/9yzXJiWt0ne1xy/DvHJd2nosGG2dftO+9C/YwN8mfBZ/c60M3wuZs+Z49+pt+388/2Ziy4bkbiv+X0wafIUzy7cHihr1qxhl1xysXXq2DHk9wsvvGhTpk510bnLvz+7QkzeeMMNsTS5VCnkvooIiIAIiIAIiIAIiIAIiIAIiIAIiMChEEDXFJuCRKhQuZz95e+P2R3+/L4/3fEnu/uee2zYiLfsqLr1gwPZVjNnzrQ777zT3pv/nousjnZ056Ptg+Ur7Y4777M3Bg/zTK89tsKzq6ZNm+JiY2tct2fP3hAm70yf5llcG0OGPfPsMy6SZlivE3vaCS5uyFZbtmxZyDAy1eZ5+x+7nNrr7bHhwuRp79hIF4pZWaVcinWwj1xmvfTqoHj+G9lS//znP+25554P+XKCC6WdLhnHuJScMHmqi8v1kY31dZM5dsIkGzx0uI0dPzHESlvP2ho7card/+AjkSHYtGm2nx9h48ePDylDVuIbQ4bYiDdHh/jkGWH3Pfiwvfrqq3bsMd3sogvPd8FYN54jN+iNwZGtNm3aNLv/vvsjE+68c84xhNmC9xaENCUjrV69epGxxyYu9EeG4M5dOz1bbKWNGTshpGETl5FkU44dN8H+5nJxmWcjdunaxbMdy9hQl39Tp02P9ojz4YcftrX+DL8zzzzDep5wvM2dv9AGPvVsZP7t8vlcsHCxS8jBkY1I1lxD31RmqM/54CEjIt4G9Ru4YiNTtGRkMpLNmLLz7PPCcxjXr19rHX1eqrpEzFnIujvapec7PofMLdzGvf22DXKpPNGZI4g7Hd3JJk+ebr//w+2RGUcbY1wyDh3xpvMd46KzW4xxztwF9rvf3W6LFi2Oe2XkqLfs/377J8/W22g9/PmX7XzOpk2f6c/v+7PN93uIjNUVnj05weXa2HHjPfOxgXX2vqr48zXrezZfVRe+OzyTk/eNGjfysZWLDW3eGjvesxv3bTpDhuCGjftE9BrPDOR+Xu736us+p8O9/73Oh+zQD1ettudeeDnuXcaIRJzu842U5PmJ9T3rsoS3VdYzF5tkN/Es1tqe/Vc6mMxyyUvWIeJ1iMvN+x94KGTxWS69j3eZjVx8+ulnQlIjqu9yKU19hCLfn9Ufr3JJ/HFkWubkr88iIAIiIAIiIAIiIAIiIAIiIAIiIAJ5J1CsMgTBgoxY6nKpzJ4d+wSaZ7dt21Uinn/GeYTXmDFv20crP3Th8kfr2/dUDluXo4+22377B3vaM/RO7n1iZHchkUqw3JjCi//xed+S5L2evVfOSmSV9n5KWufO7Y1MOJY9soSUpaYseSW7jpLl7zdsWO8ZgWfYf9z03RBSLK18863RsQMyGzSM9qxEMu1+8P2bXea1tPWeHYdUGTR46BdxRGtf8Z+S5W3Dpi32nzd9OyQL2ZCzPGvvbZdW2/3Ziuede67d98hj9vwrr9v5550XmVzPPvucte/U1bp3P9bIdBv4wit2+XlnWcuWLTwjsVxkdNWuU88effTvdoln1rE0myWtW7dsDyF08cUXhSwiqw4JeL5nnyG7urngu+G6a0MOslzYzahVr1LJLjz/PM9GPMGmewYhItBh2fXXXhMZjK/7Jh5/f+xxz3D7MJZtj2aufLfmvqedHqKxui8Hbt+2pW+kMsdl1XyPrYNny5V0uVjbrrjMs+76nOyZeAtswbwF9oEv0S3rGZbnn3+uC87XfPzb7WIXnJ19rnMuS93iMnfX7p0+d2X2z1lOyuWdRYkSO12mkcVHKRHz+ofbfxdLapHNjRs1tJv/83s2ceIka+IZjoyX+Rjw6G+stW9os9Oz7Fo2b27Xfff7NsLFZ8OGDeyhhx72Zd7l7Y+3/9ratG4dS56Z/x//5BZ76rkX7Eff/16wy/Jluueec5b1czHKEmnuL5aSr3K2s2bOsPM8O7Vnz+P3hebSuXTFqs7mi38CyK5kaW4WS+c/v623e8xkaP7kRzfHsveSfp5sTJZ077vh/b8+P1QnNuTkaM+Ure9zfcO114YU5l7nr0yZ0hETwvz5l16z3f69ONpZsyScJdOdu3az8S5IzzlnSVxX059NuMtFMePo1q2b9e59UghbZKOKCIiACIiACIiACIiACIiACIiACIjAoRP4wgYcehuF5kqeq7Zr5x779S9+6sKiXghBJM0oX8p4x113xzgQPx94ZhTZTsgKdh6mtGvb2rp0auuZbu/5s9bWfSHgPhcn3pj7LJ4+uK+QjXWuC7Wnnn7eXnzpVZswaZLLsZp2qgup43v0SNW+ePVLt3iGVh0XaXVckJCxxfMJyWokRkTldpdF7NBK5hzCqpY/B69D+7aeMfdWZKR90dhXvNu53a+v5bsptw7piKhp5Nlts+bMC/lCBtkl5/ezP7tonDd/vmd2fRpLTh95+IF4fuJql29bt2yL7Ly3x45zgeUbtLgEbde2jW1av48Ly38vvexym+LZcKs/WR0Zau3atPLloJcET2JnfIie9Dw5It7lQq5UiT2WnZ0dz/HjOX9VfB52OtcmjZvEsVq+rJTsvZ27d8US3I0eS4XKVeP5gkOHDQ8xtc2XoCKZEFUI4B1bN1mLpo1DWPH8RJasVvZM0R07toTAKu0ZbFkl93qGoMUz+Yhvv+j9HGWzptk+/iqe4bnCl4Bv/VLcVOG5j0tcltbxualUad/yc5b3dmjXxlq0aB71GevJvXuHrGPpLgwYR9OGDSITlXYQcse7tCtTuZJnNi6MuR875i0798JLIjuRuIivm0u6KtWr2sgx40MIkgm5Y+vmWHqd7lnag3Fpl36Mjev4DJMw4N7/fhPudYlnD8cySm0XuO3atPRnOdYKEXmUv1bw5wjy7MUkDanOVUlyx6tLxdIuABGTmcXDj2dqfvbZeqtcqbKL4UWxfJlryEqsXq16xFfPOX6rf3975eWX7elnnnWRXNOfwVnDLr7oImvj9xqcVERABERABERAiyPmWwAAQABJREFUBERABERABERABERABA6NQLH6Vb1n9x7bsmGrZx81jkwtkLGRRG1/vtnWjeuCYCnPnKrkMoadZ9f6hiLZvuyRpZHr1m+IZ9ohVGI5qT9LbbeVjKWYXMimDxs3bbbSniVGQf4ce0xX34Chnj+T7kObOGWqvfjiS7Zy+XLfwKN51Mnbf/ZlL7LMk77ZxRUhySYnLCNe6s91I4sqp8A6cNu7YpOP/fU/F0CIGt76i13oG2Y8+cQAe+a554ND0+ZtfBOUM0P88Wy6XVu2WpMmjSMTjeXT8GGTFaQRMdZwaXfN1VfYmaf3tXfnzPXlsKPspReeswa+VJdnJmKPQob5s+F43R+L943E+yJrba+LOs/CdKmEMKK4do3/EieCi4I07dKls2cstoxBMBe026Jli5BYXFHmcxkWF3z+H9rYV6jB8yR3uozKfYdglvw2adrchvvS3i4uPHsef1w8Q4/r6G/Q62/Es/vOPPMsF451Ph9TibhnOF/ZJSHjZBMNYuOZexQ2tPn00/W+HHjfnHJslS+NzfJMu6r+3ErGXbdeA/tktW/w4fNewzfzQOitdd47PRuynsvNVMg2zdwIheNBy/ujzxCBn1dG1CGw12/YFOd4/t8nvtR5vT/nkMzXVLiPy7tE/aKwePiL818cz3znotMFJc/9yzm/1CpbrqxluSwtU7Z0LIFu2LBh1Fvvz/Lk/mmL8PP5OvWUPnZ0p47xzMqp02f4cyufjHvtv/7rR5FRmNmj3ouACIiACIiACIiACIiACIiACIiACOSdQLESgvtk0s54Zt9+RC5KEFqUJGq6+dLFN14fYo89/k8XOqv9uLkIGhXPa7vgvHNCfFWt5s+921PC3vZn3JV0iUim05Tp061iFX++nNdfvmKFvfH5M/W6H3us9erZw2bPmB4Sb/PmfRJmry+Rpc/Ud3ofBz6Ph9j4Y6lxp46dbKJnGj7yyCPWrFnTeC7bmHETXUpu37fMM12Y8brXs+72ks21v9De7hhTOkS/23bsSh99h+E2dsaZ/WzwsBG2ZdtO63/VJbHbMfVY5tqxXUt7553p8cw7lqSyE+z48ePsggsuDOk0YcJEGzFihJ1w4ol2XPdjfKOMjTZx7JgQo0ix8hXY6bmkTX1nhj334svW2sVdDRecMT9hsPaFwlt23d1tzM8+TryQSYaIZPfbti2b2wx/luO8efMiNjLcZr37bkhPNjrhuYAM1v+3v4197/e3GPIpK8t3el79gb0+dHg8A7KrPzeSLNFUGPcll1xo9z70V7v3vgdj/K19iSxxLFq4wJ7451NWxZd1X+DLj5G1CDbXfbZg0WL761//FstdN/nS4Cefec6zCOvFElhYlPZ7Z+3az+zee++xPqecEs+kfNaXZJdx4XziiT1jR+grr7raHvA+H3zwIX9GYk/b7OL55Zdfs00bNts1l18cITI3DPFzSins4MxOxOzUO9Tn5JNP1ngbJ/imJNWsoe/GPNefQTjENw5Z77KR5wUivvc1+PlLsPuiVfrhfvziCHj9E39eyvvSZja6mb9goWf2vWAn9TrBOnXatzM1Qp4/Mlu7+hL6kb60eKF/b3imJLymTZsaz3fs5BKQJeSPDxjgS8+P8k1OurhAreL31FuxwzbZkCoiIAIiIAIiIAIiIAIiIAIiIAIiIAKHTqDYCEHkS0UXUQ0a1t6fbRbY/DjLSNmIAXHCzqls2HH2uefZuHGTbNKUyZHZtd2z8E7re4r192WMLMns1KGdi7HWLlGG2Ni3x9pRLlfKeKZa5SrVIstpm+8svNR3BZ7oGz0MdbFW3rOidrnIYjlobV/OSsZapYqV4hl23kFkdsVyU98IIhWypMgsY3kkz97r789kQ76M8d1fhw8f5jHX92WUtX2X5A1fWq6criffr36t6r65REUf876srvq+PBjRRWZaKhVcZLE8N9XheYUXnHeuvevP4Msqs8suvfjCqArDRv4MvP/5n5/Yw488bLf/6U6rVqWird+4xSpXKGubTt0YsuhTz6ycMmWKjZs42erWrmmbt263Pn36+MYRx8US0oa+aUf3Y4+xEb6ByqL7H3LheLnvpHymS7zKwSZlA/JauZIv2S6R5Yj2ZQiSQVbJj8GTeTjdd7z9aNUq31xlrE2eOi2e74dc6tO7V2T8MabqvtwUoZTaYBw1Yrz+bDtf2koW3EknnRw7DT/9/Iv+fLxVkUGaKQTp9yrf2Zgsu6FDhtpDDz9i5cpXMc+BszIlfNmvZ0x++9vfiY1XuI/2CUGzVs2b2jjf6fet0RN8k5g1VskzA7970/8XmW/M5W6Xs506tfbNRqbYZN8o5MNl/ixFX2rb/7qrfAfhEyK2b99wrS18b55vuPGsvTZ4ZFxTYtcOu/KKy33Djb6xfBt2dV00MrbMQjZrGxe8rVq19h2QB8UGIM1btLQWzbLtQn8O5Mv+7MRf/f+/jmcV+k3k42gU3wPaqFS5itWqfZQv/f3imX08M5IMWu5NeqrmS3xZzgsfCsuxT3QRzGY4D//l0YituTPgficrkucI0gb3MjsNv/raG7FL9G7/buzYvtV3Je4XmYVbPfuRTU1efm2wDRk82J/FWMYq+3yf5Dt0V6hQIfrSf0RABERABERABERABERABERABERABA6NQNatXg7t0iN7Fc/Uo1TOEGhfGZEnMLHZRdt27WKjCSRgKrEs0zfFOLpTp8hWQlx0Prqj78jqu816xlMTF1iX+cYYl/oz8Jo1axZCkU0Q2D0XMdWgQT1fZnuhb0DS16+v68/TaxvPjeNZZ7VdqJAJWM+fB3juOefamS6w2HkVGVTLnxfIjrFH+WeWcDby9o71zRN4/h0yj92HESztPGZ24mW5aIMGDX3X4y7W++Tedtlll7ksLG3z/LmGvVzCtGje7EvPbCNnC3lDPEihsmXL+DJNNgHpYO3btwvZlBh0bNvauvomH2kZLnFXcvFyqm+gwjMPk/CBFc/EgyMxl/DsvR7HH2/XX39tiFSuJ3uxVatWfg3P5jPrftxxdvVVV3q/HUNYIV2b+lJsnpHIswd7+GYlsdmKy6uWfl1bf74hdWBUySUQz+Fr5mNDKnGMpbQwYWdflim3ad0mxJXbSBe+DezCCy/wDVHO/Tyr0ayCt0E8TZtmh/wlj668j42+WrZo4aK4gvNp6bviNrZsF57dfQ5atWwRMSQ+vHLPwI6MN5Z9V61S3Z9n18ou8iXW1193fWy6glykIAQfeOA+30ymi/3whz/0Zd6brZGP+dorLw3Byn1Lpt3dDzxs1V3Q3nnHH23dho1Wy+Va/2sus6uvvNwzDasHr2p+r/XwXXiZe3/yorVs3cqu73+VXX315S7kqkV/PCeQTUk6dmj/pXlljrjf2rRpa419aW7347p7/B1dJNeKe7Wic0Y29z3tNLv44gtdCDbx+W0ROxIzlwjko33eateuFf0gWHnGJVmktFvad31mN2Hup2o+Dsbf1Oe/sT/zsaVnb/b0zFjmuqRnPDLfHbwe9z1tEBMieq8/R7FxdrZdftmldq5vOMMx5rWt37fIxj0u4xt6huaVLmRZcs4zGnOKzwhO/zniBA763+UjHrECEAEREAEREAEREAEREAEREIHiSaCEC5Z9a/0K2fhXrlwZEbN5R14LAoaSMtDSdSDgHMczRQPH03PXOJfbdfueOefPunPxQuEa2kjt0G5mv6kN6mXW5X3OGDLr8Ey25557zqbNmG19Tj7J2roU4lmC9z/woG32TKtbfvGzEG6p/TS2zL45lvNzOkZfaQwHujYdT68s50WuUZIwjA/+H9pL7GCRs23qEQv1iJk6OWNL46duGlc6lsk4tZV5fc76mW2k+rxmtkPbtMGxdD11ciuMLcXC2HLW5/mOCK2eJ/a2vzz8oGczVoj6cKJ9CjvyNm3X2cp5Bt7C2dPjM8dpK2d7HCc2+uV6+kztpHO85nYdx3MbWzrGK89uJGs03vsrbafztJn64ti/1GEOP7+GvijESr10bc7r9tVi12/q7fte5hwTdRJn3ud2nuMqBYfAofy7XHCiVyQiIAIiIAIiIAIiIAIiIAIiUHwIFJslw0zpgWRJEiw5p53jOUVXZp1953PuorpP9qR69Jlbv1zLXyq8R3hklsw6vF/rmz5M8qWlc2bP9YzDmrbdN+X4xJ9xePnll8UuvLn1k/NYzs/0l9uxrzqeYmQzjwMV4v0qdrm1nzOOzPGnfnI7ltrKeT3Hv6p+ajO9UjfnHKRzOV/zUq9E2Yq+1NUZ+TQfiAUZpmQ+Ug5UJ/XN+HIbI+cPdDxdm9vYDnTs667hulSijYzP6XjOeKiXeV2ql0UKqT9r8UAlL5wPdK2Oi4AIiIAIiIAIiIAIiIAIiIAIiIAI5E6gWAnB3BEUjqMs3+T5ha18eezo0WPt07VrfHOK+nbZJRf7M9tOiA02CsdIikeUzNe1119vzX3ZedmMZ/Bljh5pdmP/a75W5mVeo/ciIAIiIAIiIAIiIAIiIAIiIAIiIAIi8E0JFKslw98UVkG4niWUbMaw05ebZrlQYmONr8ssKwhxF7cYWCLLPJEVx/MQc8uOg8nmzZtj0TXPSlQRgcJOQEuGC/sMKn4REAEREAEREAEREAEREIHiQkAZgoVspllCmeeNVArZ2IpSuAhAZO3XlbzU+bo2dF4EREAEREAEREAEREAEREAEREAEREAEDobAgR/edTCtqK4IiIAIiIAIiIAIiIAIiIAIiIAIiIAIiIAIiEChICAhWCimSUGKgAiIgAiIgAiIgAiIgAiIgAiIgAiIgAiIQP4QkBDMH45qRQREQAREQAREQAREQAREQAREQAREQAREQAQKBQEJwUIxTQpSBERABERABERABERABERABERABERABERABPKHgIRg/nBUKyIgAiIgAiIgAiIgAiIgAiIgAiIgAiIgAiJQKAhICBaKaVKQIiACIiACIiACIiACIiACIiACIiACIiACIpA/BCQE84ejWhEBERABERABERABERABERABERABERABERCBQkFAQrBQTJOCFAEREAEREAEREAEREAEREAEREAEREAEREIH8ISAhmD8c1YoIiIAIiIAIiIAIiIAIiIAIiIAIiIAIiIAIFAoCEoKFYpoUpAiIgAiIgAiIgAiIgAiIgAiIgAiIgAiIgAjkD4FS+dNM8Wtl586dNn/+fHvrrbds8+bNVr16dTv22GPt6KOPtqysrMMGZOrUqbZ3715r06aNVa5cOU/9LF++3CZPnmynnXaaTZo0yaZPn2433HCD1apVy0qUKJGnNr6u0q5du2zx4sURU/369W3Lli02a9Ys69Spk1WoUOHrLj/s57dt22YrV66MfkqXLm2fffaZValSxerVq2dly5Y97P3nRwe7d++2Tz75xKpWrWrlypU76CbXrl1rS5cutQ4dOsSYP/roI1u1apV16dLloNvKeQH35Lp166xkyZLG/Qbbxo0b56z2L59HjRplrVq1sgYNGvzLuYM58M477wSbPXv2WM+ePW316tXWrFmzA97fsOS7S9ynnHJKxP1V/dEu7FesWGGNGjWykSNHRj8HGuOmTZtsw4YN0e6yZcusZs2a8Z2oUaOG0feBrksxfPrppxEbr/TdvHlzK1VK/1wnPnoVAREQAREQAREQAREQAREQARH4ZgSKfYYgQgC5t3Xr1oMiiQBDrL355pvWtGlTQzghNz7++ONoi/Z27NhhGzduDDGANEQEcJxjvKfwijhA1nCOdqmLXEFabd++PeqlY9OmTbPZs2d/KV7a43okBPKANrmWNniP9HnttdcMuXD33XdHnSQtGf/69eujH+omEUFbCBDaSIVz9EO9nIW4ER/UocCDOHmF75o1a6If+uMYfRI3jOiHz6kwBupwjr54D4c0ztQmvFJd3lOoT13iSdel95ynHnO0aNGiEITERqEdYmB89EuczAtxIzdTW9SjDa6jn8SI45klXUsd2kqxwyezLn3BmH6pxyttUoexcB0x8EocL7/8csxn6os6tMk1nE/XpPmnTWLlM/Mzc+bMGB/Xcw3SlusZO32musTBOImPMXAuMeBe5NrEnLa4X5DV8+bNs7lz59r7778f7XINhdi4hmszx4+UQ6wn7tSl3cy6XEP81GEuKYkLsTHmV155JWKvWLFiXP/73//+S/cu19AGopA2iPfXv/51COwkxRkrrNM9T7vEAR/ecxzxiFRlfGXKlKHZOEfM1KFt4qXeI488Ep+RpMhohDnfu9QWbRMTjPjjM30wptdffz3GBCsENtek+5PzxMoYiA0WnFcRAREQAREQAREQAREQAREQAREQgbwSKNYpJ/zYRpa99NJLIQKuvPJKa926dV7ZxQ9xftCTAcePdH6w8+McMcIPf7KAkB1kc/GZzKzx48fHj/nLL788ji1cuDDEIpIhOzs7MgyRAUkQkO10/PHH24ABA0IMjB07NjKTED0UsrHuuecea9iwoZUvX97OO++8kD7IH+RHv3799ksd+nr33XfthBNOiGwjRAgMkISXXnqpHXXUUXbzzTfbfffdZ3feeae1aNEixnTdddeFjPnb3/4WYyJb6YwzzviX7CskBSIEFgixDz/8MKQFEorxcxx5ivhAbB5zzDEhwRAoyBX6hz/1iBUGZGMxFoQHY61WrVpwIOMKCdO+ffuQsrDv379/9Ifsq1Spkk2cODGYtG3bNo4zXuJIkgx5kzgSD4IFIUa2GvUQh2RlMQ6yzWBFZiZZlswt4qtu3bq2ZMmSYMoccB1xUodz7733nnFf/eAHP7CrrroqzvXp08eyfa6JB0kEV+aN+UMI8UpfsPj5z39uN954ozHv11xzjS1YsMC6desW1ycmZH/SNzKOeSF7DZa0QfYdY5ozZ05wJdZUGDv3yLhx44I/Y+KaDz74IGJjLIwfmdejR4/gwNzwR5vECZc6derEXDFPZMAl0YXAgwHtMk4K17Zr1y7iZfzMPRyZS7Jsubf4/jC/XHP66afbU089FW0QW7ZzI6uTmLmX4EvmKzFzryPI+E4i62HJ/UI/fA+594mHzEi+A9Qhm5Xz3LvIfcbEeDt37hzjYO7JxIUFbXGPMC7EY8rQ5d6DPeOib74DzA3tIxjhwrX0QV1ipB3ucf694B5mLnjP94a63MMwYYwIQeYpyUJ4828KYyYuCpm4cFYRAREQAREQAREQAREQAREQAREQgbwQKNYZgsiJCRMm2B133GEPPfRQSLC8QEt1EAlIK36sIxEo/KBnWSEZQfyARw7xYx8hMXTo0JAqiKi0/I8f+2QQIRIQFsgD5ALLWBEfyAsEA9cgiDiWrk39kYmHHKAOEgHBhMhAzJCBxTFkSu3ateNaRByy5Y033ghxhWQibsaCjGQstJmkHPGTYYjM4Nxtt90WdWPAn/8HFvzRD/UpvDIeBCOxID2RdLSBsOL8kCFDQpogDV944YW4jvExFurzlzINkXxNmjQJqcQxxAxiCsZkbFEQi8gWhAoMkHpTpkyJ94yPvxQrr6kQE23QJvNBO8TAZ2QsEidxZk6YL8aCYCNG5oz7ifL222+H0ELmIIGQQtwjxI60gTecKLSDlEK+/vWvf414uX/INoU34olruE+IHW7MYyoIIcZBHEgyxs5c0jfLdhGdxIdoox2EXSrwp/2WLVtG+/CiPZhyDXPHvUO/iDf4EDuykzEh0Gifwv3KEnRio02kFTIXrtRH+iHfkX3ce3BJhXrc2/SPMKcvGHANMVCf9hgT88r3gfHyHRs8eHD0wfcC2Qdn7h/GmmQg/ZBZCQP+iIP+Eb+IRwrzwb3C95TxM5dk+DH/fLdGjx4d/SAMmQP+YICohQn9ch1Sj/sRBghOjjEuWNMH5+mbeeAz9xptMYecmzFjRowX2cj1zCftMVbuSeaKfhG8jBMmzBH3Z7qnYkD6jwiIgAiIgAiIgAiIgAiIgAiIgAh8BYFinSEIF36cIz+QTYdSECAnnnhi/GBHGiC2KMgkfqCTKYSs4Ac98qt79+6RGZfEC7KKH/hksVEHgUCbZBtRkAkIHsQFx5A+mQVxcPHFF0f8SA/kEiKvb9++IZkQDvRFPEgI3iMVEB0IJyQDkgMhgfhBXCCfzjrrrBAsZJshTRF6xMgfvKiH7CFTiT74zCttI3eQoSxHhS99c4w+EWBkVCI76Ac+ZN3BAFFD4TjjRbLRF9lvCCckCywRN0gSxkPctM8fhXj4QyxxnrbIQiNTjkKcuRXapQ9YI75oj3aQVcTM2BBMyCjEUxI+SD76YR6IhQKrrl27Rj2kHHNKJh1zg8RJ9wh1iYfMUc4xpiTnkDzMFc/3QxghuGDFXNE3hXYRZ8SG3EoxECdx0zZSDd4wZE6okwr3J+0hlZIQTfdDknnZnpGH8GLc3H9w4bvCnDFenmdIYVz0Q2y8Igdpg3uKeWe+kZ60n67hunS/Ex8ZdYitJP84T7zUZ354jwhjHHAnbp7byXH6TVzogxj4S4XvEdcQB7yInflOdWDNmBgf88e9S9zc73BPso16qS/ep/spzT11kYl85hz3X84CK0Qn9yUZkLwimWFGfLRLjNTjjzb5Y5wwRYZyf8CTz0v9O0J8KZac/emzCIiACIiACIiACIiACIiACIiACOQkUKyFIEKApYNksPEDvlevXjn5fOVnfoAjMX784x+H+ED6nHnmmSGjHnvsscjQ4hhyjs1GyBBEkPBDnkKfiBikGxIAkYH4QZIgJjiPUEPEPPHEE/FMMeTB+eefv//HPyIA+UV9sqeQQSxHRg4iTn76059G20g06lCQCwgyJAx9Io1+9atfhaikb/pFWtEuWWAseUVc/OhHPwr5ddFFF4Us+clPfmIPPPBAiIzULoIFcZGy5RA5bNpAJhVtI0STXEH6wQeRivRBhqWCHKEe2WW33HJLSE7iIYOL4/DkPZzJKCPzi0LsCDvGRfvU4RjCDQlDSYIlxcExpB+iBRlEzHDnPdzI3KJ07NgxskmvvfbakEsIQ4Qc8V9//fUhb6jHMm+WoSOYOM89gcDhfqHvzH7TMWK84oorbMyYMfuFI/dnqst11IHvsGHDoi7XEhuZpcgu5pu4qUvhWoQf80G2G3IKecT9kc6ne4K6zA9SFnlGZhr3KmPhGJKZ+w5hBSvmk3sNeUehbaQuDLkO3sRHm0g1YiSbkH6495IoQ3hx/yMc4c7S5EGDBsU9S32W7hJjmjPGhyQdOHBg8EYg8t2hzzQGZBoSlXnhu8fns88+2/7yl7/EnFCP2JnbVDiGkGdscCSLlvGSgQhbJCjzQSzU5Y8+EL7c6zB68MEHY36IiT6Zc+afQn3GABNYkHVI4R5iXrmGP2KgH+YNSUiMzB/3MxmqZKXCib80z7zCZcSIEfF9yvweRSf6jwiIgAiIgAiIgAiIgAiIgAiIgAjkIFDCf6DmnjKVo2JB+8gPZwri4ZsUfqgj2Xjlhzc/5PNS+BFORhc/0lMhFuQdQoXsNgrSgCweMptYootgueSSS+Ic6PnRj0RBNCACaCNlBCIKkApkoCFkkA4IIaQhbVKf2FlmiBBAjCBQkIxIPl7JVKMen3nP8+aQcimbikBgSUYUEo6ljwg82uR6/k4++eTgghyk8MwzxoUU6t27d0gN+CGEEBlIEuJBhiAuEB1kIzIexkddODMWruE8MaYMKfpAdNEfLG+66aa4nvFzHXURUVxLu7CDUbZns1HoG67IFtrmGpgxFpjDifecR0QipZB/qS1kETFSh1fGgQzk/mC+kZjUYd44j7SBCW0xRuQUWXWMj/sEWcl1ZAIij5hfpGUSQcQPT2QU9xTjQ0AhNGmbuWbstE8d2qdNxsL4OMdYiB8ZxCuciZ++mJOlLgIZJ2y4R3iP+KIu7VMv8UEGUo/2kXfcHxxD7HEc7tRlfMTNK3WJPWXHMR8c5zrGwzi4FvbcE9wjFL4nSUKTGct1LBGmHrHRJ+0yf8RMO9wniF7mg+8HdbiGeYEFMTFe7nGkN5yJg+8Q/dI2Yx4+fHjIWuJI88y4uF+IkXmhHeaCP/oja5B5oT3mkMIcw4T7hHngesaC9KMdxs31vBITdfneMh7Y8EcbxMBxYqQNYqE95o8xpDli/FzDMeoSE8IQeU7WJNm4R6rk17/LRyp+9SsCIiACIiACIiACIiACIiACxYVAsReC/46JRmKQ2UM57rjj9ouE/OwbIYMgyM+SW5u5HcvPPmkLEYNMQfIgN8jQSuVw9p+z7ZyfUwyZr0gc5E1uJS/X5+d1ubVVkI4dDI+v4prGlJc6qW5eX3OLMbdjeW0vP+sRB+VA33PkMAIREXukioTgkSKvfkVABERABERABERABERABETg4AhICB4cr0OqnbLCWCaZsn8OqaFichHig0wpuJGJR0aXigiIQMEnICFY8OdIEYqACIiACIiACIiACIiACIgABIr1MwT/XbcAy/tYQqiSNwJkQKVlmnm7QrVEQAREQAREQAREQAREQAREQAREQAREQATySiD3tY55vVr1REAEREAEREAEREAEREAEREAEREAEREAEREAEChUBZQjm83SxGQYbVLABAQ//5zlnbIrApgFsIsDz5tjoIC+FTQXYVCNzs428XPd1dXimIUtx2ZyCmNhIhNcGDRoc8Hl4X9dm5nnGzPPMiJ3dgAtK4ZmELNtmnJnLkJkbNmzglU072JSCDTxUREAEREAEREAEREAEREAEREAEREAERKAoElCG4CHOKs+5Sw/5z2yCZ98hANntFOFGQQ7ysP/333/fli1bFpIQ2ccz8nIWdiJFKvLK9YsWLQq5Rl3aRlpReGWnUzbgyFk4Tv0UH6+IrnTtfffdFzuTjho1KqQdO5+yEQFLdamDHEsFucdutDlLapvjvOePeKmb+ps+ffqXLkvXpNgZY85C3EnOcY7+aZfdZFPhOvil9tillmN8pl7Oc3DjPPPAUmSkLPUSP+Zr5syZ+3d4RRoSI/NA26mkOIhJRQREQAREQAREQAREQAREQAREQAREQAQKKwFlCB7izH300Uch+Bo1amTvvPOOrVmzxtq2bWvTpk2LbDsert+mTZt4diAyEHFHVhoiatiwYUaWXvny5a1FixbWuXPnkFRz5swJAYgU45rmzZtHdEuWLLEFCxZEH2QXNmvWzJB5ZcqUCdHVt29fIw7Km2++GQKR+OjvggsusKeeeso6depkkydPtv79+9u7775rs2bNsnnz5oUEpJ369evb8OHD41qkGRmEZ555pv3qV7+y0047zW655RZ7/PHHY9df4vvzn/9sN998cwize++91y699FIbO3Zs7AhMhuQxxxwTIo+4yRZkLMR80kknRRxJtJFBCAMEHDGNHDky2kBg9u7d28aPHx/syNojs2/GjBnx16NHD6tevbohM7kG1sSNxEMMwok+qQ8L+BAH7Oh77dq1UZc2+bxw4cJ45VqOwQpJyjydffbZdtddd8XYkZWnnHKKde3a1Xg2pIoIiIAIiIAIiIAIiIAIiIAIiIAIiIAIFDYCyhA8xBlDFlEQgCxFRTCRhYZIQzoh0erUqROZeWTNIdFYlotgQpgh/MhMe++99yKjjbZq1KgRMgrJRT2uI2uPzDTEGplryLMk3k499dSQiggv6lCQjY0bNzYkIaIPsYV4JCsO8UXmYpMmTUJuIc1ojz6IHanZq1cvo11imzRpUnzu1q2bXXHFFZFBRx+IRo4h25CKJ5xwgtWsWTPGjdibMmVKtEefjJuMPbLqkGm0S/zEhKAbNGgQTUZ8devWDXGJPCV7j+vg2adPn+D4t7/9LcTl6aefHkuR4cmyZGQggg4ZSH+0TTYmLMgKPO+886I+MSBkkZ/8UQ/OiL2WLVtGX/Q9YcKEYAgLWK1fvz7YdezY0fr16xfzR9ahigiIgAiIgAiIgAiIgAiIgAiIgAiIgAgURgLKEDzEWatSpYrxN3Xq1BB5SCMyBZFjyDlkIMILUUjWGdKNgnjjOs6z8zDCKj3PDgGHBENOpUw3JBbZcWS7IfPGjRsXErF169bxbEGkHxIrLWP94IMPQnBxDecQV/SDbOvevXv0i1gkm45X5CNijUKc1OMY75FnxIeUI2suFeIls++f//xnjIUsxDFjxkRGXXZ2drTH9ZnjRhSmJc/0i7TkOX1JZNIXYhW5iYRLBWnHWCgIS+JGxhJXihuRSoyIPdjSNvKRzEr6YkzMA4wQhmRIci1CFCGIuGTMXM975oB+aJe+GAfveZYjMa9YsWI/7xSnXkVABERABERABERABERABERABERABESgsBCQEDzEmUIcIZCScEJszZ49O5bO8ty/zJLkGFIMOYcYQx7SBsuMkxBEiiEWEVlk0iGhKGQKkiHIeUQV2X9k53GM+mSukXFIueqqq2KZLcdp/5xzzrFXX301zpEtSCYdggz5iDwbPHhwZPchuhBmiEv+EGdIvwEDBkQ8Q4YMsZ/97GfRDuepj3BkbMg0xoTERNrxR1v0j3h79tlnoy36J1uP5bsTJ06Mfjp06BBt0g5tINsoZFEi9pCE8GTc119/fbxnaTXXIQGJAyFKhiJ1qEvWIBmA1CEDk3lB/qVlyrBhLhC2xIxwZKk1dWizS5cuIQ3pG2F41llnRayMiTgZE2OcP39+jAs5qSICIiACIiACIiACIiACIiACIiACIiAChYVACRccewtLsJlx8ow+CuLnSBUkIHIJGYdAQ2iRSccrshBRxXEEGnKMPwrHyWBDBCKgEHPU4bl5HKce04LgSgIqLYdFgHGcjDf6J4MNGYaco4wYMSKy55CIbGBC9h4xIMNoCxnHtQix1A5t8EffZC4SF5l6jIGMRLIRn3zySfv2t79t2Z4BSKEtdicmVvpHrnE9gpS46tWrF7KN5/wtXbo0jnNNWoILN2Im644sQGQb1yMCaYNz8CCbr1WrViExYcQSbcTocccdFyKS/rkWecr1afOUxInPsOMz/TMmsjTJAkwilnMwoV/Ow4L4GAefiZHsTF65hmuJjziYP65TEQERMCsI/y5rHkRABERABERABERABERABERABL6egITg1zP6yhpIpsyCtMp5LPN8eo/Eom764zjXZV7LuVTSOQQYx1O2Wvqc6rGEee7cuSGrWL6MzCOjLfVH/dRWaifFwHHOU3iPEGNZMOeRlhdeeGG0lfqiDoXzvE99pGPpNWesmXVTf9TNPE6byAWWQJPph7xEtJIBiIwjs5I6qaT3B+orsx+uyRlr5lgyx8N1fM6sn/rkmpztpnN6FYHiSEBCsDjOusYsAiIgAiIgAiIgAiIgAiJQGAlICBbGWfuKmMkG5A9ZRabbN8leow2y63ilHdr7dxayGMmmRAAmKcdn3n+Tcf07x6C+RKA4EZAQLE6zrbGKgAiIgAiIgAiIgAiIgAgUZgJ6hmBhnr1cYmeJK3/5URBvZAYeqcLy3LSslxjIxkMOqoiACIiACIiACIiACIiACIiACIiACIiACBw6gX3rQw/9el0pAiIgAiIgAiIgAiIgAiIgAiIgAiIgAiIgAiJQiAgoQ/AQJ4ulq0t9sww2veA9O+3yXLumTZseYot5u4wddllK27x58+iTjTRmzpxp7dq1i8098tZK3mux6+/IkSOjL5YOsxz52GOPjU1K0g7BbFgChzZt2uR5WTGbnowfPz6eC8imHmz+cfnll+c9sHyoyW7EsGSX4bRL84GaZVMRNhNhE5uvq3ugNg7X8U2bNgV/Nlohi5Jl3mwow3xkZlgebP+0y73NximHszD3bErD7td8jwpCYa7ZUOe00077UjjcLzzLklfiJl424jmYwneI3avJwGWTH9rh+8DmPEcyI/dgxqC6IiACIiACIiACIiACIiACIiAChZuAMgQPcf6QYG+++aY99NBD0QK73957772xCQYbUKTNLXhFHvBKSZ+Ra6kgGBAi6dl/nKN9jvNKQcxwfuzYsTZp0qSQPhxnN9zf/OY3Nm/ePD5GO+kaPiOH0q7CfKYddgfmNRXq0FdmTOkcO+siRZBDbE5y6qmnxnimTJkS1xATYqNy5cqxnJexrlmz5l/a4jj90A7xvf/++8GK9seMGWPnnntu7P6LGEnxw4qNTfhjR1/OJY4pPsbBOa5B4iBI09h4pT+up3Atf2mcCN0lS5bEeeoxB+xAzHnqcSy1xVJlNjZBsHGOWNI52mZ35MzPMGDMFOpzjrmibfpJ5zjPjs6ZnzlGIRbOpUI7zBNxUWiLsSE2//rXv0YbHCM2NpehT9rInP90DZxSoY30mfMUXp966in74x//GJ+ZZ+rwms7DnWtTXLxnDjjOsVSPtlK7HOd9uueJDyHG/cu4ctajjTQv0WDGf2CGqE3sUrvEwHv64o+5SYXjzAOFc3wXUuEz7Bgj88xO2RQ4Mp/cY1yLIGdeuB+Qw/QPG8aUCm1QlzZzFs5x7/FHIT42y+H7kdkW16briTvzj+vok7FS0jne0wbXwTO1yfl0LPM+pb6KCIiACIiACIiACIiACIiACIhA8SNQrDME+ZGMEEB88KP8+uuvj8y7vN4GCALEAdl6yBDeI0Oef/75kGONGzeO7D1EGuKADC76ou5PfvKTyC5CrL366qu2ePFiY1fgE0880YYNG7ZfGFx00UV2xhlnhJhBjEyfPt0uueSSkHDEiYwjw43nBiKFZs2aFeLixz/+cWQhPfnkkyEFTj75ZOvXr5/97ne/i4wmBMcvf/nL6Pfhhx8OcfSjH/3Iunfv/qWdc4mbzK0aNWpEphjZUIiGZ599NjCRQfjtb3/bZs+eHdmBAwcOtAYNGgTX7373u3EMJhMnTjTGSjstWrSIDDYyG5EmCxYsiOuRcwgMsq6OPvroqI8oIdMNmYFwQTxefPHFwRNmQ4cODQbZ2dnRFnIJ7h07drR33nkn+kHWMv4mTZrEGMjyW758eYgysrJgyn0AXyQQmY8vvfRSzOcVV1wR44EXsSEv2fkY3mTOnX322bETM3GRlXf11VfbiBEj4jxsvvOd79gLL7wQcwIH6nGfwBDejzzySGSGLVy40L73ve8FH+5LhOkzzzwTGafM6S9+8YsQv7AjFrIpuY9efvnlELXExL2Q7gneI60GDx4c52mzd+/ekZVJdhrjhhnzSR02aUEkMV6y1mCNbEM2wmepyysYwYf7HTHN+Fq2bBlSCjHFfQ4XOMGbTFLm7bXXXrNmzZrFfYT4o23mCd5k1HK/IFzJGGVXbOoi2tnVmn5og+8n0phz8GPzCu415pIYv/Wtb9lf/vKX6AM+jINrXn/99biG8TFX//M//2Pt27cPsc33lP7gSP1BgwYFW6QgffNdvfnmm43vEN8B2ksMqcM9CmeOMy6y+8gShsUrr7wSnGDCPcBrZoEB4+eeZ+74HsAN1tzXiHL+mCe+M9zLtWvXDk60xf3LPMKN7GDmplWrVjGPtIss5BiciZPvFPchbTJWxqMiAiIgAiIgAiIgAiIgAiIgAiJQfAlk3eqlMA6fH88UBMuhFgQNEgAxgzTiB/QFF1yQp+bIsuFHOlmCSIG0lJcf5/ygJ/MJQYBIQbDwyh/ZWvzIR/xxHT/okSy0h2BBMiG5unXrFn/IBQQHEgTZhEjgRz0/8slQ4oc/oo027r///pBlCAYEELEg0xAew4cPj89//vOf7ZhjjgnJiBT4+c9/HqIFmYDAu+mmmyKmTAjEOX/+fCtfvnxItZRFde2114ZwQAIhKIgBiYLA7Ny5cwgMlrASD+Lr17/+dTCBeY8ePSL+448/PsZQvXr1EDo33HBDyBFEIO0lTmS89erVK0QfjGgXKYSU5fjo0aNt7ty5ds4554QgYgkz4yOjEWHDsmSYwJvrYYqUQ5QgWpCF7KKMZGHeqIvUQi4yfuQa7IkLccs5xC1jR5rSDzKIdhFrZ555Zhynb2QoUoj7gDlmHmfMmGGM+bnnnrPrrrsuYkGMdurUKdDTP/Fzr/zsZz8LWYho/P73vx9c4ME8wBpBx/2LxEpLhhGMxMX9c/755++/Rxljiu3tt9+2hg0bRlyIYMaZxCBj4PvA+LiXEb70hfSEO9dxH3EN30F4wBNBSMxIqySwGBftwI57Fg78cd1S/04wB0g/5BXyi/sbScn4uRaRTtxIN4Qg46I+7We71LznnnusT58+IVG5J7t06WKPPfZYXA8bRDgyjDmGG/c83xnmmbaRv8TMd5jvAN8b5vqBBx4w7kfuF/qif2RxEn/8G8T8vvfeezGHjGfChAlRl/a4t6nDWIk5FXgiw/n3g3FwPVmDsIQb8fJ9gjNtIjzJCuY6/s3iHqMe31lEIvcK1/P95DsAP/4tQJYyR+n/JEAm9+3bNyQwfR2Okh//Lh+OuNSmCIiACIiACIiACIiACIiACIjAlwmU/PLH4veJH8YIM35U84P6YAs/yn/wgx+EVEQcjBo1Kn7k8+MdqcIrWVgIP6QEYuH000+PH/8cQ8ogFRElSATiQGIgPhBGiEDaQIggBziGtEmF+mkMjAPh2LNnz5AFZLMho1L/iAmyqGjnyiuvjIwshCJiibH/3//9X4gbJNLXFaQIco0/YqDQ7q3ul5EkCEBioRAX4gcphMhAXsCGuBFYFMZFthZtkN2H8GScMCXTjHjJmkPeIOcoXJ+EHGNkfLSD3ELkERcihjaSdELAwJ3XVJA4PC8OzoyHQjtck+KjrcQaVsRGXQQN9egH6Qg7PhMXn9N9wDHmknnkHNciT4iTPhCozBuFfpA43Be8z3bpRR1kGf3QBiKUcXDfEE+SmNGA/4fxwZhxpGuoD39iIX7eU4/raZM/hCg86J95o1/i5RrmBoGGtKQ/xBOF69OYeU/9xI3zyG1kIJKSuUCsIeQoMGGMFF65jj/uEaQcfRIrMgsRS4wUMusQsvDnO8W9QF365hW5SHuMH9b0Aw/ipg78iIX317mQJW7qp+tTe8hssgyJBf4UzsEuFdpm/LTBe85xP8KdY5n3GtfQD1mRZDxeeumlIWz5d4R7hbEzRq4l85f24MX40z2HjOU9sSL8uHeYE753SETGS+ZlkqvIUuaKf1+4X4hfRQREQAREQAREQAREQAREQAREoHgTKNZCkB/rZOM8/vjjdtttt9ktt9xy0HcDS/xYnsvSQrK0TjrppBBhLKl94okn4sc8P/L5Uc4PfZZh8mOdgigg24cMIGTXUpdmCCXEDfKC84gLBCEZU3fccUcsReSazILEQTAgJRACSD9kE0IO2YeIoQ/aR/oRDzEgoxBtZCORYYdkQLSQFYUAySxIDP5SSZIjHSdeJAzPUaQdZESqQ2z9+/cPHmRoIYhgkcbJKxIHeTN58uSQc2SnpUImFctnESBIjVTomz4QHGQTIk9Ydko2FfVgwHUsq4Uv2VS0zzEEFYXryaqCO1zpF+Yp9tRXeuV44oAwQ+Qggcnegy33FEKNzyxJJSuN9hKn1C7yB+mL3ET4PP3008GPfqjLfYJQ5HxmrKkdpA8C9B//+EfcG4w5iR7qwAL589Zbb+0/z33EPHGemODJH8KLZbHEjHgi05CMR5gmiYZ0ow8EMzHRV4olMUmf02tiRqbaUr/3EGXMMfci9yDZktyvSZpyPzI/L774og0ZMiTkHXXhw7JjmCR+LIulLe59xohAJMMPYcwSeJZU0x/fbb47sGAM9EXsLBtGuDL3MEz3D9eTGch3h/uYrEcK9xJZsvBAQiLbGQPtIhbJjEUqc99xL1OPAgtEHRmhyPdUEjNiJB7+iIF++beD7yTfZwQm3xXuMziQMUkmKt812oQLY+A7Bjf65b5AqhM7/4cD9bi/07yQoZukeopHryIgAiIgAiIgAiIgAiIgAiIgAsWLQAn/kfiF5SlEY0ckUJAN37QkycAP/LwWruFHefphjTwgCwcRhoRDLCFl+DGP2EGIIAhZcnjNNdfs7wbRgOigLgUJgCBDNPDjHumE+EiCj8wh6iAhkEKcJwayiYiJjCakFFlEyA8+p5gQUEgvBAXiAomAiGDJIoKIpZKIFUQNYijFRFxcg7ygX/pk7GRBIWaIA+HA+BEazA3LPREcqXAesUVsxEE/CAvkCbxoizbpm9hoi2vgRxww4jxtco64OU8ssKIOcoj+6ZvCWDmOFGIpK5IIwcS1MKUwb3wFiJnY+Mwrx4iNsVGINckgjjMPxEQsxMD8MgdIJ8QPS2t5TyyMifmgHqKV48TBvYtcQvQwR0haYqMwd4geYiFWxsjYaIdraIf7in6oy3va43rYwjTNB/cH3JBL3EfUZb4RpNwztMv4mGMyABM/+DK/xEA9xkvsxEMMyET6ojBPtMEx2k6yLH2naBuWjIPYEV5whDPXpvrMA5zgS8wwR+byGdFF+xTigQ/zxfXEOGDAgBCZfOYeQ/jRF1zTjstwR9JyPe/5nlKX+5rxpixGWBILMdA/cTK/xMkfTKnDd4JzfM/4XqZ5hgEx0T/jhhfciZ8xMQ8U+uUcf8RNDPRLXb6f/FtAXa6jDv3Bn3uM+DlOjPTFPMIDxpSlfk/SHqKV+4IxEyPLiVlaz3c8vwuxU2CjIgIiIAIiIAIiIAIiIAIiIAIiUHAJSAj+G+aGDDeen5ftSz955ce+yuElgDwk647sPZ7lxkYsCCWVLxMgw5WMOsQSkogdpZPE+3LNgv0JiYhwZ3MR5CGF3YARmGTLJdFasEfx74kOyYs0TLI7P3uVEMxPmmpLBERABERABERABERABERABA4fAQnBw8dWLYuACIhAsSIgIVispluDFQEREAEREAEREAEREAERKMQE8r5GthAPUqGLgAiIgAiIgAiIgAiIgAiIgAiIgAiIgAiIgAjsIyAhmA93As8Q40/lCwL5wQOih4KVa9LfFxF99buc9Q/3nPI8t68rOet8HdNvGnO6Pr1+XXzf5Dxjy62f3I4dqJ/EJ70eqN5XHae/w1VyjiXn54Pp95tcezD9qK4IiIAIiIAIiIAIiIAIiIAIiEDxICAh+A3mmQ0VeLg/y+TYmCMvhU0G+DsS5WDkR2ZdNitgc4NUGDfP6Eslsy7HOM+Or5m7qh6objqe2+u6dTts8ZJNtn1H3qXNps27bOWqrbbIr1v+IZuO7NvtNbf2M4/NXbDRVn+yb4MMNoR49913Y0ONzDqH8j4nG9qAz9ixY2OTBz7nrMNn7hF2iE0F6cUmKTnrpvNsVMGmKmy0cSiFjUnY6IMNTnilr8NViJXnarIhCrvmZt4nxE/feZF8tMFGJnDiFTY5+eT8nDkmzsHsUMpXtZvaYxyzZs3a/93h2X2Ml81BDrawiQk7gLNJiIoIiIAIiIAIiIAIiIAIiIAIiIAIfFMCpb5pA8X1ejYxmDZtWuy8yq647PjJDqMUdvJEKvHjnV1u+Zw2amDnU86dddZZURc5wIYObITAcT5Tl91CkTScow2EHOeoxx9Cgt1HqcvupAgU6lPYLAChRB12cqVwPdKEz9RL51I7vLILLe2kOIib/h955JHYrIFNOTg/Y8aMEB033nhj1EXocC11KQgv6nA99dnAgDFwnLhSu2mjB2LjOKKI+Bg75dPPdtjCxRutdq1yfq6Ebdu+x8qVLWlly5S0Xbv32o6d+1IBK5T3HZp9c95t2/bYJ2u328drtvnfTqtapZT3Xcr2eDXqcm3pUiVs5669Hvce5+Tt+HvfgNXGT1lnnTtUsTq1y35JKsGceYQx3IkZVsw/nFLMjI96jJHxMgbOsZMv13F9Ys2xQYMGWc+ePWNe2BEYftTjGnhS56mnnrLevXsHCz7/4Q9/sFtvvTV2lGXu2XGWvrgHuA4xjYBiF13ipE/mmnknPtgyH8QOc3amZc6IGemLrEJaMc9sfJN23uXazHuYNrmGtrjXiJtjjJ9x0y/xMKdcy2fq8pmYqc9x4lrqO+ESK5+JByGZ7kXYp755TYXj9Ddp0qTYEZnr+WNc9ME4GReMmCNighPXcZy2OMfrL3/5S7vvvvviPdwZD3XTPFCH9tL3l3GkeYYJbdMv9Ymbuun+gCf/RrDDMeNmp+X58+fHjtKpDmOGR/rOMUY+U59+OA4/5CnxMS98VhEBERABERABERABERABERABERCBb0JAQvAQ6SEz2KF14cKFdtxxx9nMmTNt0aJFISjOPvvskCsTJkyIH/+9evWy9u3bh4SZOnWqffDBB9agQQNbsWJFCBAEDOJn4sSJIXT4wY9YQM507do12kQsIBTq169vp59+erQxZcqUECPIRUTI6NGjrXnz5iEpFi9eHJLnvPPOC1kyfvx4W716tdWqVSvkBvLoxz/+cUikIUOGRGz9+vULGfLiiy+G4EA+XHHFFfb8889bixYtQhQhRCZPnhwyhvqILbKskKLf+c53QrggZxA2f//730PydOvWLcbx8ssvRwyM/aKLLgoJhvAgG++1114LKdOqVavYERgB4834sRL20apt9s7s9fbhxzusfp2y1rl9ZVuweJO9v2xbCL7julRxSVLKxk9d5xJxpzWsW8bjKWNZ3sbKj7bZrHmbbNmHW61jm0rWpkVFmzJjvbPcYe3984pVO2zDxl22bv1OK1PaO/SC3CFLDjmEdEJatW3b1vr27RvziVh67LHHQmgx9muuuSa4Mj7EHXNNXeQvGW/It//4j/8ITrBFBjFu+nn88ccjIw4x9J//+Z/G/TF06NDgiCRM8XBvMQ+XX365IRDJMOQ8OwMTGwUxxT2watWqOHfxxRfHfUkGHffTKaecEv2+8cYb0T6sTzzxxIiTDFdEFG0hwRB+tMV9U69ePeMe5hwxcwwujItjxx57bGT8kbHHrr708/7778e9jDBj5+IkK7m3YUMGabNmzYx7mLFUr1497glEGP3z3eH7xX194YUXhlSjLT6zmzAMiI97P0lQ7iGkGffiDTfcYD/4wQ8iPrjwnvN9+vSxOnXq2K0uVq+77jp75ZVX7L/+678i+47vGEzpj3l99dVXgxv3asuWLUNqcl8MHDgwxo4wPf/882M3a7gQN/PBe9rl/yTgPd8HCvc0Y6Dt9O8FsvCEE04IUQhT7q3u3bvH/7nAvCFq+TeAvrg2tRUN6j8iIAIiIAIiIAIiIAIiIAIiIAIicIgEsvyH8a2HeO0RvYwMHwqi40gUxAVyg2wsJBvy6KqrrgopMHv27JB5iBLECuIPUYf04XOnTp1CaCAGTj755JAnZAMhUTp37hw//GkX2YBIYekh0hDZgGBi7GTgIQqohyxClLRr1y7EDbEdf/zxIa/IUkJAIeEQV4ip3/zmNyE3YIfcQKrQL9IEMYmsQk6NHDnSjj766MhKQpKkDECuO+qooyJO2F977bURE+MhHsbI8sYzzjgjhBPiBimD8Lz66qtDcjAmJCNSCcnBWBjX008/HUIQufKZLxn+9NPtLnDKuwh0WdWyoi9V3mHrN+y0KpWzrOex1Z17ln3oUo/Mvzq1y/ixai5ePHvQlxlnlSxh0+Zs8mvLW/9LG9j8RZt9OfE2q1wxy7p3rW4rP95uLbIrWr9Tj7Kly7fZUbXKWj0XjsSP3ELgIGSQZojYGjVqBAPOI2uQpUg14h42bFhII+q+/vrrIVafeeYZu/7660MKIXeRfz//+c8jMxCpypyMGjXKbrrppph72uHz//7v/1rr1q1D1DE3xIGoQi4hn9966y275ZZbQnz993//d8wr5+gj3Ye8RyDVrVs3hBMiF5mFWEL8Ia1Z9o14Yyy//e1voz6imzpIa6Qb9xHCFlF50kknxVeNexCp9q1vfSvaZOzZ2dkxb7BBPDPXjA8exM792rRpU0MOI/+4hu8N2Xjc52TXwpq44Yyku+CCC+IeQVbSPt+fcePGRd/ITrLmjjnmmOCNsIPLZZddFt8V4kNQP/vss8FgzJgxIQupR2bfT3/6U/vFL34R3xuE3IABA+I+hg2CHBmOWEReJkEPQzjzXUZmwoR+iI/vDuNC5jImsj+5N2DIeyfeBxkAAEAASURBVO5nxsYYE3Pi4zxSlJj4jqXMQL4bxAozrmNe+N7RHxwKauEephypf5cLKhfFJQIiIAIiIAIiIAIiIAIiIAIFjYCeIXiIM4JkQ2aRCYewQZbxyg965ByZYkg+RBIZP0mmIRW4DnFCPYQA0q1Dhw4hPRBt/OBHKtAe/fCKqECcka3F9RwnG4pzXM8PcK6jDkKKP8QMhWOpPYQSbREPMSD/iAPpcPvtt4cUoi7XIJQyx5lQIUUYN7EjnPhM34wtsyA5uB4hRCywQEIhDRkvhRgQK//4xz9CeqRl15yLvCqPg0zAF99YZbPnrvN4d/uYzfvzpZy+HLhc2RL+2Rn5itKKFUq6EINVlve779l8pT3D0JtwZnviWYQsHa7oQrCMLx92jLH0eI+vKS7hbVIvFcaEfEGCIVUffvjhELucZ0yMDcnDH3OA9IUJohNxy3zABklKO0hg6tEunDgPC+YbsUWmHVxgz3nuI+ReZoFVWvZKX7TFvKVC+8TF3HE99yDZgMOHDw9pmeaUvqlL7MSGSE59coz3CFzuX9pA6iF9OUfh3uHeoB4CCNFIbJznOAIN+Yw0u+2220I4Ioe5Do7IUGLhj3uDWBg3bTAm/hDEfGYcvGdclLSslzrw4jzvkY+IVZYc3+r/Hwf35pVXXhkx0j7fGeKjLvc8fTOP8ES2ERvzwX1MVi0SD04sJyabj8K1LPl96KGHQnhTlzaJPRX6gguvfM+YX/pJhfccJ27Gguhv3LhxxME52NEe4hM5zv9JQL8qIiACIiACIiACIiACIiACIiACIpCfBCQED5EmP/gRC8gclvLyAz8VMnvIIkJKkGlFRlUqZB4hWsiOIvuHNshGI6Mus41UH+GAvGD5JFlXLCtEmrE0kxjYbAAZhTTgM6II+YEsQXAgPJJ8oU1ED+KBY2RAkWGFEERisHSTQjvplf4RGMSYCudZ8onIePLJJ0OYkNnG8kcKbRMHS1yRP8jAHj16xPPU6IeMKmKjEB8MkD4UJMl+geKCzqvbxk0u0SzL5VE527wFobZPsOz25wjucldSyZcLr9uw18ZN3WQjRq+1OfP92XU+hFKlS1rDemVsy+btNvLtNVau9F5r1sSfIeeZgzia7MblfEnxFhsy8mOfw+0+7ggh4kcQkZ1JNhfjZDzMWyqJEWNlTJdcckmc5zNLhckWgzXsEEq0hRRjuS3Zasw3YyY7DClGNiYyjTlB4PGZdlPhPRxpk3rwRlSS5ZYKfRNXeiUbDdbMC9KLeYZtip1X+iNWBBT3Kf3QfnZ2dghcxowEI24KbTNHZPyxpBaBxbMkmUey41hCz3yyfHqpL7VGjnLPs7QcwUcmKqIt3a9k5pGRx71CHMgwmCH4eM+yW9qBP4WMRTJOWd579913x7iIl+8AGZhk5XFPMw6yX4lz8ODBkSXJ94bvEBmR6Z6HPwVxRx8wRioyFmJkWTx1KekeIAbOMY9812DCH4WxMZ8jRowIptw/iTd1+D7x7wNinrlkbNRHeBInWaXMPXWR/4yDeaRk9hMH9B8REAEREAEREAEREAEREAEREAEROEQCJVwQfJG+coiNHInLECwUss6OVEGMkAFGJhc/6pEByAMEAMKA5/iRRYQcRDBRkABIPI5TEIbICDKFaI+2ECrIQa5BtCDfkI5cQ2YdWV3USRswIEGQFVyDWCBLjb5pM7WDiCA+BAuigcwvZA598Aw24kZS0B9tsWyTZ9EhjJBJZCohWihIEJaRsqyVDDGEEc/NQ3JSGDsSgz5SBiRxMIa0/JPYUiHLjeP0Rb8IpKys0r5L8FZ7z58VWKFcSZu7aGtk+LVuVs4lyV4r71mAFTwjcOtWlnHujQ1EZi/Y4vHs9mXA5XwJ8b7nD1aqWMoWLtnqy4P9mYGtKliNamRw7rYKniXIJiPzFm7x8e12+ZRlXTpWsaaNK7gw3BvxI6QYB/KObDcy/uDI+GBMrLBgTol5qcsd+DJHyC1Ykv2IvGWOuBZBlUQc9y6MkLxk6cGEtpG/9E0b9EnhONKLwv1COyztJbOQwtcYeUefHE/3EuKVDD7ipw5zziv3EnNOP0lcEyf3MXPFHwKP5ejUQWJxjPEiI5kzxsk1xMPcMn6YIFCJBWFJP4hv7ilkIW1lu2zkvuEc8fIdYO4RdvCgDpKPMcIMoUndVJB23N+w4Rq+g9zT3K/cRzDhHKKSPzgTAwyZD+aK7wLX0A5MiBvunGNczCnSkX6RmEnqwQxxyveUccISJsTPNfzRHv9HAd8bxDxtcz1j5Q/GjAFezDnzxb8J1OdxA9RnGTP3Hf3zvaIfvqu0DZuCWgrCv8sFlY3iEgEREAEREAEREAEREAEREIGCREBCsCDNxgFiQXIgZ5AaiIziUJB8S5dtsVlzN0RGn3uhKJ4wFQWL7Y7E9uVl7Y33bEDiiVUuDP3cvmpx3F2MlfQTiESuoSBYKGQLcg27FrdoVtGaN/UMNReFKrkTQKolqdmlS5fcKxWQo3fddVc82w+pWJAL8pZMQiQ7IhMxj4AtjEVCsDDOmmIWAREQAREQAREQAREQAREojgQkBAvBrLNsEIFFllFamlgIwlaIRZQAUpBS0EUbWYk5n8NYUKeELMOU5VtYYs6NpYRgblR0TAREQAREQAREQAREQAREQAQKHoEvHnxX8GJTRJ8TSMsVBUQECgKBgi4CE6PCJNbSMu0Uu15FQAREQAREQAREQAREQAREQARE4HASkBA8RLpk7KVMKX7MqxQsAswPWVdkVObH/KS2lKVZsOZZ0YiACIiACIiACIiACIiACIiACIiACBw8AT0s7eCZxRUIIjacYHOJol4YI+PNj8KySNpjGfThLMTLZhNpN+Nv2hcbehB3ksB5aY9nw7EJRXpeYV6uUR0REAEREAEREAEREAEREAEREAEREAERONwEsm71crg7ORzts0sp5UhtsoEYIgZ2+yVrjF1C2WGUZYoc5zPyi+WV1KGwwyjHKOzKilDkWv7YtZVdUinsJpr5rECEEjvBIqSQTGwwQvscp78kJtnZtVy5crFTK+1Tn7Zon7b5jChj51JiRHIRM4UsOp7/la5Jyy2p/9vf/jZ2FIY1O8KyEyz90D/SjWsYG7vDslMqO+1Sh77hxI6q/CEBiePRRx+NnWBpm8/EQEzEmQptMx5ipC04Upd+iI1r6Jdz1GXnVeQfXODDeGBF/0kO0j5xE2M6Tl2OI+44BktihT990iY7LLOzLPUYE+3Rfma8xE1/9E9s1Hv11VeDD7vREivxEyfxZ85vGrNeRaCwEzjS/y4Xdn6KXwREQAREQAREQAREQAREQAT+XQQkBA+RNCJp2bJlIb+WLFliTz31VEifmjVr2qRJk2zgwIEh3RBDCCbk0pw5c6I+Uuull16yMWPGhMxCDg0ZMsRefPHFEE0IpCTkCA8B9cQTT9jQoUNjh1ek07PPPhvCrH79+jZixAh74403bNy4cSHaXnjhhdi1dNiwYUY8yDbqc/3Mmf+PvTsBs7yq7/x/mu6mG2iafVOBBpq12ZEdBAzKIot7QkxM0Bgn8T+GiZnRjGaeZDIxRkfRGUeMO25BQAVBUPZVVlE2QUBsQTYXQKDZaf6/19FT3i66uquqq7qquj7H53Lv/f3O+j7n9vPU2+/5nevLvHnzal7XfvKTn/QJNaLuoosuqkJtq622qn0mz97xjneU7bffvub75Cc/WX7wgx9U+UeKfeITnyjf+973yq233lqcOusE2i9+8Yu1/bXXXrv28ctf/nI5//zzKx99MZZNN920ljn11FPrde2RdS2RqNdee21xUqy6tXXKKacUJy7LN3/+/HLaaafVk1mJwzXWWKOOyTy4p21yD6vrrruunHnmmWXNNdes7eqvcZGN6tanm266qZYzfn0l9QjQ008/vfyf//N/yrrrrltPgFU3OYtr7xwRveZQnzB1Wqw5uf3228tOO+1U+euDOufMmfMCmdjGnfcQmMgEIgQn8uyl7yEQAiEQAiEQAiEQAiEQApOJQITgMGebECSURNURSoTWNttsUwWYSLO5c+fWa8SWvISV/EQUSSTPy1/+8ioLRY6RVbvttlt58YtfXGWbOlsSWUfEvfKVr6x1klNHHnlkbZtw3GijjWrZM844o7z0pS+tIupP/uRPyqGHHlpuuOGGWh8Bt++++5b3ve99Za+99iok5nHHHdcXMUfybbnlluXwww8v73//+8vRRx9d76lfJNxrX/va8rd/+7fl7W9/e9lxxx2rYJOf5Pynf/qnGuFIepKdxjV79ux6T7uE3Vve8pYq87bddtta3/7771/Fmf5iteqqq9Z+tjGToCLzCLTXve515ZZbbim77rprFYOi9eQ3bvdECZqHzTffvI4fY8y9i9pbb731ysEHH1wZqZ8kVIa4Ixi1JQ8RuPfee5c//dM/rYLQHJmbd77znXV+Lr300ioK99tvv7LWWmu1rtZ3kZPKmxeJUFTnQQcdVKUjoYqB/pg/gjMpBFY0AhGCK9qMZjwhEAIhEAIhEAIhEAIhEAIrKoFYiWWYWVtViS/SS4TZHXfcUaO/fBeJR1JtsMEGVWrZkkpCEWZkEGFkuy2xJWLMddFqxJIIOEJQviaOtthiixr1JprQPdFp7qlXGf1Qhz6JTlOv7amSiDYSkmwkJtXR+qAewpG0sz2WKCQFe6Pf1EGwuSfakSBsEYTklqQteUQpEqPalM917WpPH0k27RkDSWbMt912WxVxJJu+tX7L4xphRzTgRToSkepzXV3GTNzpv7Latn1ZXe6tttpqlUftaPefrbfeupCn8uk/NvgSeJI+alvdIjCV91n/RQKSejiqGyfjVAb/u+++u/aLyDQ3hLC5lk9Z8yKRlfqYFAIhEAIhEAIhEAIhEAIhEAIhEAIhEALLm0CE4DCJk0DEHVFE9G288cZVDHl+nu2kvpNYRBBZRBYSarayElJkkAg3Uos4Uo/rJGKLXlt//fX7JBXBpK4mzLSvDnm1Z5sxYaU+74SZPMrJQ2wRlQSYdkkwItH2WXJvn332qc811G99IN5a0md5/7F73KRIRoJMO+SW+vWJQDNO9R1xxBFV0CmjHzjpi/w+q8N2a885FNWHkxd28umnOo1XGVJVVKL63SfWyDwRl8baxqkODIk5/W/Rjd57x6PP8uKg/bPPPrsK0e22266+33jjjVX24a9NZY1D5CPxSPpp07wRifqoLp/1nbjEjAjE0hZtEY6Y2b7snr6LeDTOpBAIgRAIgRAIgRAIgRAIgRAIgRAIgRBYngSmdFFOzy/PBkeqLaJFIrrGIpE7IsUIIzJPlBvRJXrNs+tsdyV+SCJCjhwTvUbcEXnuy0dIkXTzu2fTGZPvhJVtseSc/Oq3zbVFqJFTJJeIOHJOXSSZ9skzB5SIEiSb5NEeyUXaeYnYU7+oQNtmCavdd9+9Sit9sI2XZGxJVKB8e+65Z7nmmmtqOdubjcdhGS95yUtq5CAxpm3ikxjTT31qW6YJQBF/3gk541Gv8Runcvq8ww479IlWEXbEnHHY3qvOzTbbrIo1495jjz3qGtAO6apefW+iskXxtbG3Mek3qWcMxJ6+kJXm0RjMmzqJR+/qxVwec2H+sdp5551rW+o1LpGi5l2UpL5///vfr1u09bVJQH0hFa2VCME2I3lfEQiM9b/LKwLDjCEEQiAEQiAEQiAEQiAEQiAElgeBCMHlQXmIbYgs8yKOSKiRTkSVQ01IM7LvsMMOq5GIYymnCE3baFsU4ZLGLK+txsZBTI5FIlNJQUK2N/pwLPqSNkNgvBCIEBwvM5F+hEAIhEAIhEAIhEAIhEAIhMCSCUQILpnPCntX5JxIOJFxouQmWhKZaQwiBpNCIATGB4EIwfExD+lFCIRACIRACIRACIRACIRACCyNQGzK0gitoPdFA/ZuC55ow0xU3kSbsfQ3BEIgBEIgBEIgBEIgBEIgBEIgBEJgvBCIEBzmTIhOs2XU8/F89jw623tHO2JNe5KoPm0OJumnbbaef+fADVuRe8va/uoAj/59t22ZOBzqtmU8RnL7sWcoGoM6+0czihTEpN3XtjyEYXthZPyLK9/4qUP+/gza/eXxbm7Mg63Q5mpxyfj0VR7PhlxWzvh5GXfvmsCzsVxcP5blmnpb/fqv7TYO99rnZWmjf1lsrWPsrP/RTpj6/RiPOfUaytjMr9R/vY92v1N/CIRACIRACIRACIRACIRACITA5CAwOKM0OVgMaZT+4HcwxymnnFIuvfTS8p3vfKdcdtllVTgMqaIhZtZmOxBksEWdenv++efXLcInn3xyPSCjlSXK9J0w6Z9++MMf1kMy+l8f6Dsmtgw6ibclEsTWZIdrDDcRgg4UcYKx+noT6eLAlquuuqrOg3bmdwe0eHk+Yks+68dAyUEhDokZy3TxxRfXA2hwHygRRddff309QKU/i4HKLOk6fg63sQ56kzXjkJeRaKO3Xp9JOfNj3nDXB8nYzJP7I52uvvrq+oxKY1oeye/gvPPO61uHDsXpXY8D9cFhN9h7RqaTqZNCIARCIARCIARCIARCIARCIARCYDQITPoIQbLJCbJkhBNwB7sVVX4C8Itf/GJ5y1veUv94JzKcEuxgDFFOIpIclEGqqLedWkucrbfeejUyiogjD8goJwOvscYatT++a8MJu8qRCaTCt7/97brVd6ONNqoRYiKt7rnnnnoarrJOXVaObBHxNWfOnHqi7Yknnlg///M//3N52cteVtuxoJzMe84555RXvvKVtYw2HDZiHManLtFNDs9wjThShsRpJyI7MVc+J/J+97vfrRzf9ra31XLGR4ycdNJJ5TOf+Uzl4rRd9Tnt2P0mELWr3tam/rsvnzYvv/zysssuu9TnHvb/MagDI6cDm8fbb7+9MndiMdakl3kxJz6bD2xdk5TVnrnCQGSWE5tbpJ5+mSdzp+/qlM8J0uqQ1ynDTiy2DpwQLYLP3Ljm5GGnKftuvblPUKpXW+aJrMWUYN5qq636DpUxNmtDItBI6KOOOqquLSyNySnNWOmD+XLys7FoW79F4emnvuPr2ZEiQ61P/RE1512fzMP8TtipS7vGYw32Rqv53bgvv3XnpS1rQD58fcdYm0SXttTjHsErYeSlfevImjvwwAPrd3UZi7XuXcLbdXWZA9/V51Rr/cRDwlM/nGLtt4jt3LlzK4utt9669secqcscq0ed5tf6MS7v8kiYEXXasE6sSeOTD39sjVFd5pqAPPXUU8t/+S//pc6xOcTrTW960yIca+W/+4/fFnFvXqwL86Fu82Gs2rN2jctaamu3t458DoEQCIEQCIEQCIEQCIEQCIEQCIHBEJjUQpDUuOuuu6osIAIOPfTQKpwGA04eooHIaHLIH+ykggguf7STBqJ8SAJyZptttqmRctp6wxveUCUNUSDyjbggLHbccccqvggBr+23377MmzevXHDBBVX4qG/XXXetbesD2UN2EIPEyate9aoq+IgniVzRHqGyuK2YBMzRRx9d8xx//PFVVBnTX/zFX9QxEGvXXHNNufLKK8tHP/rRKjquvfbaOp6LLrqoCo6vfvWrVfRoz7Utt9yy9tV3UgMPAohkuummm6rUIlucEEx8fuMb36hjInZuu+22KrOIGlwJMNwwIOBEeO20006qrols2nbbbaukMebtttuuipIf/OAHVfKZDwJIfcSKPOacECMXiTRctGPObr755ipd5N1jjz2qEHPf+M0VGYTn3nvvXW688cYqb0giQtXJzWQQoUMUbbbZZlVwKYODOT/99NNrP8yHSEB1iwb7b//tv/VtndUPYovgsx4IwHe84x01r3qJJ4LP3OGHG6GlLnOFlbWnX7irXx7Caeedd65iyhrC0ljUZWzWoDXs2ZLKellv1q5+6FdLeIrGtP5ITBxJW/VoB1/szR2ppm5CzW9BXfqjXn1uybiIbPnIM+NX15577lnXpX6anyagvfvNmNM3v/nNlaf21WutkK5+W9YRkea6utVrnZoP65E8JWGte30m4fzbYA7e85731O65TtYZl3oIZHnw0Y7fnznQR2vbb1e7xmcsxqUMptbD4pJ+3XnnnXUO9Emb1113XRWq1ri+G7N2iW5rXXtJIRACIRACIRACIRACIRACIRACITBUAov/y3SotUzQ/P44v+KKK8q73/3u8q//+q/l05/+9JBHQvSQFP6QJwS8/NHuRZqQCv5oJ0vOPvvsKsVIDtJBagJCtA8ZRhwQbr6LrvKdeCE9CDTX9bsl4kNbTXaQD8QdQUFM2UpLTpAQvfJFeWKBqGlRYNrVL3LMuOQnxgjDz3/+81VI4ETyHHHEEeXLX/5y7d8NN9xQIxMJVaJJBCKxJHqStDIO9erDpz71qSo4jFsUFSlFGO6zzz5VohkrgUeekH3Kfetb36qSRRSa8S0uGb/xeJeUJfwIIxyaSNIvMsrYcCTEJNuwMXa/SRbzpE5JH0iv3XffvdZHBM3vBKdILbz0l4zDZv/996+iiMzRX3LHPXnIyAM7Sduiu0hc8pIMau0aA4lGUilDcrmHH9FnXOaFJD7yyCOrGCIjjRMj68T4rA3rjrzEwRq1JtUp4o1M9Gqi1ftBBx1UoyytH+vR3Irqa/2tMLr/6K86cNZf86l9kY366TqZbe2RhgQoQYYZqdnWYntXL7FG9poD5fbbb7+6NvVDexIWhOXhhx9ezjzzzCpt5TUm390zJ7ZfW/tEGt6u6S/Bbc7bb8aY9dvvAFeizTrAjKhuSVm/CXKSAP2P//iPKivNk36b1z/4gz+ovwPrmayzFswbxvrR1rXfmbXR+7Lu/db9Fglda5RY3HfffSsr981fk5baM+6kEAiBEAiBEAiBEAiBEAiBEAiBEBgOgUktBAEjnEgWYoLIGEoii0iOww47rEozf8ATC0QScSGihyAkDQgSW3O1Rxhpj3QhKERxETVECFmhTn3yTgyQEYQK8SJCqX3WV22SMISIKDaioEUryUccaYv8anKrjVF98koitwg9UkIkVBMmtmKKepPXuLRDSqizRUbhRjiRMe7JZ9xkIJljzMqTOqSKd2XIK31ShjTzLm+TOnO6bZ/G15uwwIrI6U3q95K824aqftwx1A45Y0u170StqLE2fuXcNyZ5cSSumjAUHafPXj4bo7LmTFvKEmde2nVPHi9CyFiUJUe9mojSRhN02tJ3ZY0b4y984Qs1ClP/fNe2efXexqRtTNv4zKWkLnX6rgy+kmvWg76rU75Wl7zqltzTT2uCfPKST8LVPOkr6UiKWpuuWbdevusT6UuyWRNtHapHu14taRcjdfqsrH6b89582GBOnBGVmBsT1ur30g/9NWb1GEtL2hCNqA/zO0HpnnbUa61biziYp5bkca2JUez0UTveram2fn320q6X9rzro/n227L+el+ukcfyyG/MyhhbY2B85GXvXLb+5T0EQiAEQiAEQiAEQiAEQiAEQiAEhkJgUu838we+SKC/+7u/q1Lmz//8zwfNjiAgl8gDWzIJGdFeIoFsQxQV5UUgkBcvfelLyxlnnFFFIdknERIt4k05skB+90klcoAAmNPJJFJGlBsp4B4JIZEnoorIC5KChCH2PEvP+EQqSbav+m4brHeJtFA3wab/5IPtnKLljE9UFTkhHdhFWZF1//W//te6VZbAMH59FTnnHoGhPqJDBOEJJ5xQxyC6SbSU8R5zzDG1jHGSjUSSqDDtEKcitPTPeAgW15QlEgke7amfIOqVhdonqZqAIUK1QZ40Rq75rN/4abOJJtfkd994sMGg3Td/2ie/SDJ9Voe5kIcYshZavcQSUat9XJtYbUzJMf2xvZpM1a48xiGP9kWjvetd7yrvfe976xz4j+vaUqcIPNuOCbBDDjmkrjN9bMlasA7MJ37Wh3LkHBGtTcyMU1+UFd1mjblnzq2L+Z00I0jls8atZ3mwVr971ioWxtvYtzkhXpUzVm2Y3yYEMTcmCTv14kis25JN3PlttDWrDZ/1hbzVB+sAE/21Xtp84Oi3aSzK6Jv7+qVN9ZO17rluPbQ59W5sLemveRcxKdlurJz28dAH7HA2j9auPsmDufcmMa2lxSX91i+8lJdfn8yR368x44Oh/qozKQRCIARCIARCIARCIARCIARCIASGQ2BK90fo70N0hlPDGJUh2yQiZywSAUJWEGM+++O8iTl/0IuK8sc9GeBd9N5ZZ51VZd0f//Ef93WZZCCZ/OFPVMjvj37vRAYhKNpKW6IOCRTygTCTX9vkyfxO2mDR5BJxYWoJNvUoS3QRQb2Cxbbd0047rbzvfe+roshW2Dmd1FPOGPTLd9sciTltqptIIQ8JGtKFnCGCREWqg/QgpPSBJCFfyDySg6DybgulrabkmG2Y5KjvZIeoOeMUKaU8RrZ3/6f/9J9qnQD2zr085JU28caVANJ/dZBhxApeIjLNl/bll8yjz3gbj3G5r4zkWXTGbG7ND+FJxBkXgSUvMWaMxA0OPtvmiQeBiBGxSxgRTNaEvppf82mOlFHWNVuGCVPPc2zJWAg9dRHI2sdJtJwxqpeIakmfjUc/zP073/nOWt560o82Pu+uWUf6oE6scDA/+qZu84STz8arXvOlP7jgqh9NumEkr3zGqixRZxw4uaYNAs461Vf3lSHWzTGRqD5JP7ShHuPRH/8W+O2pk3xWr23TxkTSEd7qJNWw8xsRuWp9k37KGrtx64P8+OuzNS9Zj56Vac2ry3xbc63/1q559rv1+8JCPW1NWYvyYGW8AyWs9UV57ZiHtpaNTxtYaEPd4y2N9b/L441H+hMCIRACIRACIRACIRACIRAC45VAhOBymBkRbaSbP+Rf+9rXLiJslkPzS2yCePjgBz9YjjvuuCrplph5jG4SU+QYgXPssceOSS9s924RbKLdRP8RU6ORSFQCyjPxPL+RGFrWRN55VqHt7eTUUBPJR0iRviTYZEvEKinuuYbD4TdZeEUITpaZzjhDIARCIARCIARCIARCIAQmOoEIweUwg6KOREoRSuNRJojKI7dsfxyPSbRYiygbS36kEBlmO6fIw9FMbc20CL5lbQtDdY4lv2Udw1iWJ2mtwfBb8ixECC6ZT+6GQAiEQAiEQAiEQAiEQAiEwHghMD4N0HihM0L9INrGq2wzRNt3x3Nq26nHuo/Lc4vmSK8ZDCOzhr+CbEMOv+HzS8kQCIEQCIEQCIEQCIEQCIEQCIHxRWB0w5zG11hHpTcih5aWWnSW9yWlweZbUh1Dube0vttOvLQ+D7a9FmE12Pxjmc8WZa+l8RluH9WL7VCS6L7eufB5MHWMxhi0LeLVMxv1azwlUXwDjdl1fZcnKQRCIARCIARCIARCIARCIARCIAQmM4EIwWHOPrHgYf8OOVhaclCArXQEypKSrbuek+cwgtFO+u8wkiUJHYd/eHbcSCTbbR0KsjwS8eNgBgeADCU59MFceX6fz6Mljoi8Cy64YBHBt6R+miOHbThERDI+/bzwwgsHLKbvDieRb6QTtk439kw969/a1tZAIm6k219SfQ4V8Tvq3xe/KfPqIBAHuySFQAiEQAiEQAiEQAiEQAiEQAiEwGQmkC3Dw5x9cs8hDYTIgQceWE//9bw3p9Q++eSTVUoQOU4J9U5E2JrrnWxyiqkTSckV0mbttdeuEV9khe2ivpM6TVLZrug0VLKDGGons/psO6iTbt0j8LyczmqLq/va0DfXiBt9ULdTjx1y4vmBTlg1Jv13iIUtkgSKk4m9e+n/nO7EYYlQNHYn2nqunoNTnKBKDqnb4RPa05YTfL2TNXvttVc96VWEmZN1nZrcnjvmuzbwMm59Vz8WxkDA6pux+6xOrJQT0WdsvmvbqcCS0461ZTye/aes+gkj35s0U4cTl5VvbeqLvuGKj/wko3Y9DxLzdvqtOud3J/Sae3Orz/goKzkpFzPC1zVC8OCDD+57FiFGbR04tITAciKu+tvp0D7rg3bwufzyy8shhxxS68dce/qm38ahDX20PiV9c2qxd2vPesKFoNSe9s2lecRTXvPjpT1r0Hp2cm87Xdn3dlry6173urrmsDVfyuBtzvRL/Ti1k3a1LVlbuFqv5sG8t+/yqqdxNDZzj7F5Nmbr1vo2VqJyzu/WqN8SZk4Vvuaaa2o5689YzYXTpr3ja2x4Y2FunV7c+lc7mf+EQAiEQAiEQAiEQAiEQAiEQAiEwApEIEJwmJNJmDTJceedd1aBQvqQKIQNGUFGESOkBMlABomUIyG8u05AqEu0HnlCyDQRQXRcfPHFVXboJrF10UUXVUGz/fbbV4FBoqiLENKusqQJQbfttttWeUPIiDBT90knnVQFiXJECzkk0uzNb35zufnmm2tbhJh6CBxy8fOf/3w58sgj633ShWwidi677LJy0EEH1XF86UtfqnWcccYZddzkH+F1ww031LGri3QhvrSjDSffEm3k3XbbbVdlE5lEzBBOxkEO4XPHHXeULbbYovLECVfXiSJSiigj7/TPvJBGRCl5pW3tqJvoUcZn5TEwH/LoG9FEgOEpQlJdxnvbbbdVqac+wo6IIpc23XTTeh97chE3effff/9y/PHHl6OOOqrWaywElLowN+8t+fzFL36xngBsnowFR+vJOjLv1o/+XnLJJX1iUl2SsVgDuBJ91tnGG29cGRCTkvnSP+tMXerVjvx4GKt3Yzc20oxce/nLX17LWgfaJ94wUQ53fVNv65+2lDcOLMyttep3Yf2ZE+1Ym9oyv9rxW8CQpGzy2fWXvexl5eSTTy7bbLNNX4St9Xz++eeXI444opx++ul1HvTf+tIPPE488cSy55571jVmfrWp31jr8y233FL8bvGxVg844IB6EngT1tgQ2kkhEAIhEAIhEAIhEAIhEAIhEAIhsCISyJbhYc4q+UAYzOmikcgDUoT8IkIIB0KJ0CFSyAqC6rzzzqtSaKeddqrig5wgSsg78sNnwqQlEoc8IrOawLNNk1xqYkZ0EwlG9Nx+++1VtBEw5JOIN9LOPbKIqBEppQwhs9lmm9XPogJJmK997WtV9BA5knLaNxbihajTJ4lkIZXcMw79Mm4yRkQWoUT4aXeHHXaogsp9/ZKXjHHPmOVVxrgaE/LGOAg6fSN05s2bV9u96aabaltkHMmEn36QiOSOz+bG+PCXx3ftG6u6zYf5cm/HHXeskWmi05SRiKqrrrqq9sl82e6MB/FmzptMbDzUbbwYmUuC0Xy0cRnnOeecU4WkcRBXvUk/MTZWbVtH2tXWmWeeWdeFtl3HhRw1By3ph7JkJMYYkJ8YSeaFYLYG5MFKfRLmXiQi2UrMmR9jss71R3skoHFZi75rE0vltGX+JBzUt/XWW1cpiInxK0/4qcN4JXOHpd9KW8e+E4CEJ8lrnSgnIlByj2i0buTVDjmJjd+POf74xz9e1yeRbLzWvD7ioM5zzz23rici2nwZIzmsLnXob1IIhEAIhEAIhEAIhEAIhEAIhEAIrKgEfm+fVtQRjtK4SDNCxovIIJauu+66GnHUhB3p0wSf/OSFJBrKZ1FuhJuy5AuJQ1h4tSSKypZedanDe9su6bOX+5L7vXm1Qap4ESbakcc2THKFtPH9D/7gD8opp5xS84m+cq037bbbbvWevvaKEvlcI+v0X/3Ejj5rDxt5jFe/9MfY9Mc18gkffdEnY5F687ivHtJVGWV9J6VE6pFM5KhIL9KI1CG9tOUluYcZgaW/RBIhpR71qds97bY+KuezPmnX3PgustH86nMvJ5GcyrtGvKmP+JNX+8pqT30km7wtuUf+uUeyKo9l46YuZVuZVofrkvLG5HubE/l97s1DlLU1Zu57kzrNUVsj5oZEM5etL/rd7rd3bWir9VGdvrsvP04Ytznw3sq0vNo2VsnY5XfNvBizuVPOXPutmXvrQj36Ka+XvF6NlXq0rx/uW6Mt6W9bU+0aIdzmVh3Wiv4khUAIhEAIhEAIhEAIhEAIhEAIhMCKRmDqP3ZpIg5KZJLkD/6xSGSESCeRRcSJqCOyzBZRUUkisJqsILvIFjKDhJBP/wkaIoSIICAILSKN+DAuMkIklLxEjvLKbLXVVlWGaVMfRIaJfiLD5BX9RprsvPPOVZoQKoSIctreY489qujRT/mU/cQnPlHe9ra31TaMTZrfRYq5J4pLXcSfiDdliBffRUaKNNM/2y31T0SjvrToNIIOJ+JORJaxGrN6sCFqRCxKRA9Zo7znyGmDlDIugob8IgJdI+eaPGviCnMv/PSl5dcnY8cKM0xEDeq78alH/7xrnxgloeTVf6KI7MTGPChnnuQjv0Rjqs8cqgNr84CbvptnbRoTEaxveLXxim7bddddKydl8DJe0XWErHbVbTzKe6lzl112qTzltx7Ml7XWtn3rg2i+Vk6/9R8v82MOyFFrAQfJmFxXv/nSf/eUbWKuSTjM5MPMnPqur+ZPH7Uv6rKNn5wjI7Xht6AeY5TXWtI3/SE4sdK+sVkf2pDf2GyLdu/SSy+tbSqLn3LmyZyYA+/Gbz2I1NVHSX22DZtfc0DeKtvaMw7r1Pozz0mDI2CtSGP17/LgeplcIRACIRACIRACIRACIRACIRACUzqx8/tQpQnEg/yQSJixSmQC8UEo2KpKWLzhDW8o3/72t+uz644++ugqgfxxTIKQIuQG+UGEESI+N9FBPLSINfcIkW9961tVgNgmSWop34QhueVFepA7ng9IThImtnGSNySYetRL5nlOnnvEDKniOunxmc98przvfe+rQrLxtPWTQNGGOpogct+yIYhsoyWg9NeYyBxSU35ijhxrz6sjmdyb34lGPPTTWHDsnUeCkOAhk+Qhj3wnbFoZApKk0x5+krEaD3Emya+fyuiLcagHL+NSXhntYEsCyUNoYYcREYZPu++zMeiz++bW/KtDXoyUx8JcNXnoGk54SXiRd65LtrWShOpzXT/1TX22sapL/3DD0ziNSf2Ssrb5qk8dhJ+xK0eM+azP+mj8xo6rfISn6FbXtY0fphjjZC793oyXjJUIRsJMGQlrXPTJ9bbuzLk69M+YsbImtK8+SZ/aelG/OVCfvlmr6mri2DiMDwPJwTjEqrbnzJlTx0K8ElPWLx4knz7ZSm2dqcP82nruvja05bdons2lcSnjhVPS4AiMh3+XB9fT5AqBEAiBEAiBEAiBEAiBEAiByU0gQnAZ559cIG/INSJFNJRoL7Js99137xM+w2mG7FIvGUJyLC057VU0FIHRRNPSyui/05IJlH333beKpqWVyf0Vi4C1SoaRZMTaRElkp+hCslzkYNLYE4gQHPs5SA9CIARCIARCIARCIARCIARCYDAEIgQHQ2kpeUS0iahqEVA+iyxqEVBLKT7gbXWoS7RSi8QaMHN3Qz9Ejg0mb6uHECQD9T1SpVGZXO/WmYg/0XtDWTtjTUmf/T78zgYrwMe6zyt6+xGCK/oMZ3whEAIhEAIhEAIhEAIhEAIrCoFpK8pAxnIctnV6tUTKjUQiaIYiFXv7MNj2iRTbOpMmLwHrzGuipcGK8ok2rvQ3BEIgBEIgBEIgBEIgBEIgBEIgBEabwMSzAKNNZBLWL0JMpOB4SvqjX0m/J+CZfkkhEAIhEAIhEAIhEAIhEAIhEAIhEAIhsKwEIgSHSdDhDhdeeGF5+9vf3vf6/Oc/X7ftDrPKQRU7++yzy7nnnlsPXRhUgS7T7bffXt7znvfUQyf++3//7/V5ca0syfShD32oHs5x3HHH1WcftnvDfSfyPJPuhz/84XCrqIdn3HDDDeWSSy55QR0OoLjooovKBz/4wfIP//AP5XOf+1y54IILys0331wPv1BAHzzL0UEbi0vuX3/99fVAi8XdXx7XbHn9q7/6qzqXl19++YBNepbkv/zLvxQ8RkvcqtdBHQ4XGY6IveKKK8q1115bt/AOOJAh3PjBjb8pDz38TDfeRQs9/JtnygO/cNr0729c+8PflEcefWHeRUt2h5fc+0T56V0L+l8e1Hf9+OWvny7nXvyrQeVPphAIgRAIgRAIgRAIgRAIgRAIgRAYzwRGZm/reB7hUvpGfniGnmeROY12sInMIaAcyHHsscfW03vvuOOOesqpLbi24tru61RassU2Ytd9J+Gcruv+k08+WU9Rdd1prPIQQL57JqBr8jp51Smx11xzTT38YYcddqhd1X/P7XLasf472ETfyB3bQJ0+7J5yf/iHf1hPIn7rW9/ad0iJk1bdl0488cTy3ve+t7JwGq5+OiTF6bZObPWMQQeouKafpJ/vjVs7KdiYCLtbbrmlHnKiP06SVcapuHg7EAJz14xTGTxwcgqtcRsvCbbzzjvXfLWT3X9sjXbQihNtsTLmdoKvbaROtFXe+M2DU2MxcpKsU2zlldp943eSrb6437Zp64dxy2cOHLghr7lQv4NejEP9WDnQRd+c5Oz6nO7UW310ii9W7ntXB1bGcOmll9b+mi/31avP8mjPeJT/zne+U171qldVJvO7U5r1x4nSGJKeGPtuPXgepISz03z1B1/szaU+kKra8nKiLz7qJbp32mmnWl7d5tdYMDYWB5Aoq19YqU/CCVcnWatfe07sdU396nI6sLL66LN1o248HYSjL227/ZTyfMehlF8/9FRX/unybCcAN3nJauWW2x7peD9VdttlnSoFH3n06fLMs8+VKd3/HnzoyfLoY8+VBY8/W+ZutnpX15Tyk592v7dnF5YtNptV+8kwknu3/+TRbs4WlrlbrF5mrLxS16fnu7aeLmuusXJZqWv3Vw8+VdZea+Xys04gPvHkc2WjDVfp6l3YlXusHLjv2l07z5Q1Vl+5PP5E9wzD6VNrXT+/9/FuvFPLS168apk2taskKQRCIARCIARCIARCIARCIARCIATGKYFJLQRJFFFkH/7wh6uI+LM/+7N60u5g54ooIvtIKVKIDCK3RA4SG4QQKUbKaGvLLbcs3//+96sQ+aM/+qPaDJFy22231dNSCavtttuunHfeeVVKEVvKbL/99uWrX/1qFTAE2a677lqlkQpE/332s58tm2++eRUsBx10UPn6179e5Rd5s+OOO9a8hE4TXb3ju+qqq8rBBx/c9wxEouekk06qMonM+fa3v13+83/+z+Wd73xnef3rX1/H+r3vfa+85jWvKR/4wAfKnnvuWYXVjTfeWERIGieRRpb++Mc/LiQpGUlSkWZOXiafTjnllHLYYYfV+twnOL076Zg8Mm7CCFNCjKxrCc9tt9221kc06gOR5URm3LXrus/K6wMJRWiRbSSpeWtyioxTPwGJEVbyi07Ub3OqHMGlL0SdiDjzcPzxx5cjjjiiCjB90KZ6CS7sXv3qV5e///u/L8ccc0ydE/0iAs8888wqaDfeeONat34Se9aR/p1++unlLW95Sx2ye/Jplxjceuuta17S0BwRfuSkKEP9nTdvXu2zeSJTRZTiap1hYE2Sh7iQd4Sd8TV53Thbq8pstdVWtYz1qU15myS03qR2IE1jbe166Tu+TjD2Xf+wVd6axcq49H233XYrc7rfjN/VL371VHnJi1YpH/zcA+UVe61WVlr4bMd4YSfgOvk35fkaPXjeJb8ue+wyu9xz31Nl27nPl+9e0EnXzVbt1sLCct2jD3dyb2r5+T1PlQ3WX7nM/9njZaWppTz91HPlhpsfLr955Jmy+qxp5fs/fLjss8faVS7e0cm+jTacWdZac0Y549xflsMOWreLRnyqk5fTy/ldWzvNm93Jw04wd5GL13blXrb32uXO+Y91czC94/hUN7aVysOPPFfuvu/psv+eE+e05jbfeQ+BEAiBEAiBEAiBEAiBEAiBEJg8BCb1lmGixxbJr3zlK/X17//+70OeeQKJjCFYyBmyizTyIpjuueeeGk1F5JFgBIh8TaAQU4TM/C46i0QTqeYzcUKiiNASxUfUEUHEEMnSEjmjvO25yhE82iHFiBiSrQmtVqa9k3ciAckrEkYiN20hJpLIO3XpE4ElIoywsT1Xv/SXxCHTcFTXP/7jP5YzzjijRnsRPuQeYYmL+/pJPJFL22yzTY04I0V9d09f8NF/1/RL+wMl/NpL1Jn+kXLElTnQlj5o21yQUZIyItPISyJPe767jylmrpGP6mxrhUzD2TsGGJt/L+UvvvjiKpnJSeUJPnNCcJpTHPQDOxF8+tr6QxSaL33VrrHrC77qJ9SINHXhdNppp9W8OJN2RGaLVhShpy3JNeLb3JKOF3XRm/rtM2koytVcWFvYSzhgaNzaa/Lce8vXKxD10wtrXIhq41RHW8v6bo7UZyz6hBFWeDRBq/0Hfvl0eerp57vxdlGy684oG20ws7v2VFl1lall/fVmlIXd/M1adUqZs3EnKR98ujzdRfuJ6ttw/VVqNODNtz5aI/fm3/14+dHtv90mvGDBc+XBTuZ9//qHy5ZbzC5zN59VBaD2VurCAteYPb1c/YPuN3vf42WdNc3LlHLfL58pd/38yXLTjxd0/elkZPczeaoTjr/o+vfss8936/eZcn+3hfmaHz7U5XuiE4QLyk9/NrxtyfqRFAIhEAIhEAIhEAIhEAIhEAIhEALLg8CkFoKEi62XXqQFsTKURJqQdnvvvXeVZ+SgCDCSiRwiBEkYMkd0GZHm+i677FLlCRElGpA8aZKFUCGA5LfFkzAiYZpUUZ/6WyIKiTtRcqKs1EXC6NecTmSJsiNqROc1GdbKNonjvSX1NYmDi/paErlGOhmXukSmNbFJ9HiJcDQWwkqfiTeCyHhIU1tMvUQuNolK/OknGSWfKDZCSzJH2iKLiK3e1ESgaz6rBzvC1DgkZW3PJbzIpx/96Ef1mvzGje2cjhOh5pmC5JRr7pkL7UvelcFEfW2+fCfvjF1bytj6Ko+x4NN4ELvyWQ/Winbkl8yP+cb+5JNPrmuq3uj5T2OhrJf29Ekb7jWhRjRaJwQc1qQtttrXjrWhLf1UjzXm1caqTonwU1ebY9fxVd441Nnyym/OyFLjMv/qdF8EYFuHvnu1tsy1NWUtWC8tdfhrevG6U7utubbbd7+DzuUSd92wa9p4o5XL7O6e7bmyr9Jt11191vS67feJpxbW/NtvO7usv86Mct0N3bblbtux6VzYVaTMjBlTy333/26ddd9f3EUkPthtG77sqofKXrut2UUVPtZJx6ndWLr11LXbdbtbaNZaF03ZbR9+5hnbjJ/pJOGUjtFKdVuxrcVrdduOk0IgBEIgBEIgBEIgBEIgBEIgBEJgPBOY1FuGyZA99tijfPSjH62i5IADDhj0XBFGhA8xIsKQBCGByBfbZ203FfHmPlHluWxkColDEEmkFTkkUosM0R/yhRwhXURnKSMykOwREUayaLcJL+XkI+dE8Cn713/9131i68gjj6x1e+6fvLbmtghDUobkI470S4Savv7P//k/y6mnnloFz7vf/e5aLzb6po8ivIzVtmHyitiUjOXoo4+udTlg4qyzzqpi621ve1uNfCOJ9t9//zqWtn3XNdt/vWOnb00QEkw4Y0hm6b/5aqnlxQKXxpAEI9q8yDoRlEQtgdXabfW6L5KQiFPOd/eM86UvfWmNXCPXzIOoSf0gFrVHdHlmnnrx837ggQdWsSj6zX31mW+sfRYp6jORSIwZu7qMWZtEqS2++LZkfObW/GBsS7iytnAraxux6+6Ta+ecc04di+8YiNSTz9iJT0LXOHzfZ5996vr75je/WZtTRv+8Wl73jMU6dF1/9Lc34eM3gHUTkXjKa57MDVa2IJOyRKO5tMXYy9jVoX7Jdt6pnaTbaL1Ofk7vdN/Clbo6ppV11p5RLrr812XrLdU7tZurUiP7pnR5Z3dbe6fU8lM6KTi9Phvwx3c+UbpH/NXnARKGbu+x2zrl7G578cyZK5XNN/5tRCTRt0oXfbj13FnlJ/Of6PLP6CL9Hi933/tkeea50kUlEqe/jSKc3r2Tixd+78HyTLf0t+2E4TZbrl7umP94jWDcbJPfi81eRvkcAiEQAiEQAiEQAiEQAiEQAiEQAuOFwJROLIh7mXCpbYfsFSfDGYThE1pN6JBBg0nyk0i2uypPuJAx+kOItGfYkVlEmq2Zl112WTn00EPL4Ycf3teEvISNJB9RpD7ltEGKkTG2nYq0I2LIQgKNRJFXVBvJQ6jMmTOnliEZCRoShmRRVlQYUSWKj7ySCKrPfOYz5f3vf3+5+uqrq7AjGEkbbXt+ofY8T045ddpuKuLrn/7pn6o00jfiyam/Eqai+YgzUZe+t22wJJMIR22IUCM6RaIZDzFHfLlnSylRZDurZ+kpg7EyLSknr3FjRdwZlyg4L+1ipCxRRUxpB1v3zJ/8LZJTXkIMY+MRvale/cKAzNRmexae+bYOzTku2lE3Oat9n41nfhc1Z16Ua2LSfWLXd7LWOiDNSF95e+W0utUhnwhTea0V+dSDrb7rj/Vrfnxva0V/sCMkrSV1eL6k7/pu/NaHMiQhuage829u5bUu3cNFvVhL6pPMo6Q/GDURqJ+443zllVfWutpWaTyt3zZvWMm3YMGz5Rvfvq9M6ep7qDtVeK01p9e6PUOQxLv3/qeqBJy6UrdtuBOHDz30bPd9Wvf8vu6wnk4ErtT1vR4Q0l0j9Ii8ddYSRSm68PlOFE7trndRtl0DG60/o4rF2kD3L6FDQhY8/lxZr4sq9NnJwg4dwUOkomcYikq0fbmrqsycsVLti+cWPthFC07r5OXmm65aDthnnRqpWOudRP8ZqX+XJxGyDDUEQiAEQiAEQiAEQiAEQiAExoTApBeCy4M68SRakCSxXZhcGS+JUPPMv0MOOaQKrMH2i8Rph5+QOiLdyL6RSvpFapJLIvUGK2pHqn0i0HZp8o0YI+PaFuCRaqN/PcQjQesAENF1K1IiYIlrMtJ6Iae9SMj+yfMAPY+PALRVl8Qj76wB9dRrv/u/Mdwj+lwnAp+Tt0u/zfPbvL7Xy10e9XhzX5Lf95Zc1o7rPte6f3fzeZXog3tdRKIaFNWH7nJtX10zOkn4oo06CdpFME62FCE42WY84w2BEAiBEAiBEAiBEAiBEJioBCIEl8PMiZoSHSZaSnTVeEukm+g0wnKwiYAREeelXO92z8HWsaR8hBxxRM6IMBuL1KLdtC3aT5TdaCYStEU8jmY7Y1U3nkSytSM60e9hoNRN/4ROv9v5PKHHMJzORwgOh1rKhEAIhEAIhEAIhEAIhEAIhMDyJxAhuPyZp8UQCIEQWCEJRAiukNOaQYVACIRACIRACIRACIRACKyABH77BP8VcGArwpBEUnkNlJZ2f6Byo319SX0ejbYHw2GgPJ7P116ejycysX//F3dtaeNQh6hQ7yIw+9e5tPID3R+penrrV+do1Nvbxkh/bv01N6ORWv2jUffyqHOi9395MEobIRACIRACIRACIRACIRACITCZCYzuHsjJTHYExu4AEIcseNZa7/ZKgskhDrYf33ffffVk4fHyXEJ9c0ruq171qsU+H24EsLygCpw858/zGQdK11xzTd2m6mCUlgg71z2r0HZW26Y3654VSKZss8029XANeT37zjw40KR3Hlo9/d+V93xFW57ld2jHUUcdtUxbn9XpoBaHvey66671wBUnEi9LcmCI51vavuv5heodyrbx1jZ2yuPn0JbRTliccsop5bDDDqvz56Rk8zOcRCiaf8+H1H9yWJSbZ0c6GXy4CRN1qG9ZDz4aTh++/e1v11OhnQieFAIhEAIhEAIhEAIhEAIhEAIhEAL9CUz9xy71vzgRvjupVPJst7FKnvfmlGEvhyN43h1RR46QTQSDdyfJkgOehUcUEA7EmeQEWGXk9Yw6p706JdZn4oPoUPf87pRZpxHL5zORRQKq0/P7SCdiTF5lfJef9CF8ep9/RwLdfPPNfXU7gVcZ4/GMN3lvvPHG2ken67qmHvU5gVYSTed0W7LMHLQVc80MAAA2dklEQVTn/DmR9pvf/GbZb7/96omy+kQyqV872sbDibUSoWm8xJl8XurWf/easMIW13aCrpOT3fPyHEMMGhsHVzSeyuj7tddeW09bdupxS+rQd3Ni7A5GIW9INzLPS7/d9y45aAQPh340eWaezKN5wdo4Cautt966fOITn6gnSxNOt9xyS5V6mBKY+m7tOKnXKc7G3St2ySR8ndYsjzXj1GVzrH6M9cVc6Ysxk4bWkN+HMWGoP3jjRH65Ju/ll19e6yHUjMG1FnEnr8/qautbu219mg9C2rtrl156ac1PCOJgTWOmTEv6Yc0YV+ursanDd33WN2WlJsTNUyvruryf/exny957713HiKd1Z27kxUAf9MV3p1WbH/m0ZT3ggI+6vvrVr9Z17eRsY7bO9WPOnDm1HmXberW23MfdXPl9q0vfteV3oA2/dyeL6/fGG29c17xymDWu8lhbxqten61X82xdqkfSljkwLr9Nc61/+uU7zn4vWCqrjU9/+tN1/MZs/NaW6/o4mmk8/Ls8muNL3SEQAiEQAiEQAiEQAiEQAiGwohCIEBzmTJJF/gC/7bbbqlggI0iJq666qn73Rz4ZQNw5YZh8cE303Pnnn1823HDDKojkIYaUJSoIIH/ckwXql1ob7pMC/ugmDggMooCUaILv1FNPLRtssEH593//9yoKlCUB5G0i4ayzzqqy4Oyzz65Rb1/4whfqSb76Shy4TyQQPcSD/n35y1+ugmujjTaqQodgc136yle+Ug488MD6WV8uu+yyIjLpzDPPrPUYP+GHDRlKNhFDJBQeBImIpk033bSKL+O84IILKgv1YUt0XHzxxVWUECvyXH311ZWFd3mIpjYPBAumxBCWpI2+9xeCJIn+mJ8tttiiSp7vfOc7lRVxqW/mDUPjwdAcEYLtIBXj0y6BY4wEDXG388471zJveMMb6vhIHn0hcrT5sY99rMybN6987nOfq+/mkPiTT7s33XRTbcv3E044oc6RtskpcyWCzdwZE4lJKF1xxRV1zHh9/etfr+PRnvGZL/ytr+uvv76y00+nQ+u3sbkvkXHWDolJ6rluLWjfnFiDxomDepu8I5/MjbVjbVtHJJk8BJmy1jXJZXzavOiii2pdp512Wu2n++qxZowLV+uP4FOHtUxmHnDAAcUaJuZwML84ydfbH/OoD8pYY0ceeWSNLvzWt75Vo2utZZGhfpPWZPudYebUZ+MnPKXjjz++1oGLvmMk//xunVn3u+++e10rGOu7eTQvpK26rUNsrG9rqv37gId11AShuq0FvIwZf30xFuX9Bkhlc+s3qx/+Tbryyitrf/VPRCuO+kCkWze9orEOaIT/EyE4wkBTXQiEQAiEQAiEQAiEQAiEQAiMEoHRDRcZpU6Ph2pF5vgD2x/uZJA/vMk6gmnPPfesf+wTAoQJ6UPaEAL+mCfsRA0RLMRYEwonnXRSlU/K2w5KhJAS8vtjn0wgAkShiThrMkvbZIZtrnO6qCbyRd9EqIl60y+iQSJh5s6dW/OKhiOOSBt9OPHEE6tcId70k1QjUUiJvfbaq4ojdRAZ5AuJoU9NXLrXopq0ST5sv/32VQ6SJcSEcZEvxIbx77DDDpWPPhmrpK/Gtscee9TxkAykDQmqT+SLMRNy2OKhv8QIqWfrsPbPOeecGkFF0pBEhOFASb+9zBG2WKpLncapT8QQfvIZGw7SRz7ykcqDoDM/ximSknzSLrHz0Y9+tI4ZZzKOLNt///1rO8QNCUuAmTdJG+ogDq2v7373u7Ve19WJP+GJi7F7Nflj/bivH/gQaNrDy1xacwSTeZ/TrRdcXLem9d99nNUpctFnQkkdylnX+mptS96tJdF26rDF3RzIb44lMss8kaREHqbGYQs3TubLb4lItt6tZ2vHXBOyfi/EpbnxHQcv4g0jZYxVOetendr/5Cc/WcdGxJJv+KtHO36T2sVKvW0+1Uu2+R3o65yOkd+JtvRZ/ZiSbpdcckldp35nBKn1QSibM33A3FrHz/rFD2NrydrHSn/wMx/qxhB7yW9Zv1y3Jq0729Fd32233Wqf1NsiLNu/J8roj3GbL5/9powtKQRCIARCIARCIARCIARCIARCIATyDMFhrgFCg6wgkIgrkVMEjD/0/dHu3T3v/hD3B7k/xptI9Ac8iUEsbLLJJlVAkCbuEyckgjbIDiKDSCPlmiBQHynjD38iTQSUOokLiYQiIwgtIkNfWiJe5CWClD+wi+77xje+UWUNKaF92zH1V9Sa+kmrJoDIsZNPPrmWI0JEO7WkHRy0q37tGJM2veuXcWlX/USnPPrfm+TVnrwSOUbGkGjGQ0Sq3xhbWfX53F6+N8nmXb8GSvrdGGnXHCrT2seAwHEdExFohIy8eIlSc49Yk/TfHLXP+vzSl7605iHu9J0wUp6cIoVEOpKYr371q+t9Mta4ySrMW//UbYzKqoMAJIzILlwwVr/28fFOSFk72sKRzMLHy1x4aWd+t6ZJJRJVGdLsZS97WRVn1uKcTo7pC6lprR100EG1rHXuRd6qS/+8t6TvePotkIT6SoaZe2wxxE9/XVOXa8ahrLE2odWuqbuNgUiV39jVI69+mj9rpv1e1E0AeteWuvD0vX/SX/0wDmPXVmtHfsLRPW3Jq5/WQWNK2PqsbSKU0MPH2tEv7eurJI86jUF/9EtSv3Xr3X2s8DMP+qJd8tGYrAHrTJ3K+w3aVq6+Cy+8sOYnas1NUgiEQAiEQAiEQAiEQAiEQAiEwOQmECE4zPn3RzYhYvuvP8aJPWLA1kAix7WDDz64biMkzEQ7HdiJN3/IkwzEATFjyyxJcPjhh5c3velNVcyJFnMoBwlCAni3FVAZEkA00de+9rVaH5HgMAj1fOlLX6oCh2ghcyQigYwjJiRC4POf/3wtLypPHwkEUUR/8zd/U2WBa//YPVqSUDjuuONqZJN6WvLZ+EhBbflMvpAT7hEd5NJ1111X/u7v/q726dBDD60izX19IT6w0G9bcYkcclGSR/9tByXECCn3bSsWkWW8eBIyUhNjRIdtsvpChDjIQ7SWrajyiDITaadOgkY7UpOVrW/m1mfv+tqkDpFnW6eoqz/5kz+p86j8O97xjvLxj3+8Sp4DuznWjr4opy11fehDHyof+MAH6ue/+Iu/WGROSBxRhiTOX//1X6uyljUvGJsngk7SVy9RmcoRdu9973ursNUnIlm7+o5x+2wdEVTWjbXqnndS2nZTfNv6Mj71GgP5+b73va8KYkJapCcG5oqMlKx7/dEmuX366afX38YrXvGKug7kwdsWXeKZlNx3333LRd1WYfM1p1sHZKtIRMk6MkbJ+lav51KSWsTpG9/4xrrGjE0f5fUuydveybO///u/L//jf/yPmsd6MG4vybxoy1r9t3/7t/IP//APtbzr1ovxuoadSEHRh/rjvjaVs/bNq+9+zy26keg2Xn1+61vfWtettUe0+334t0P/lSMS9du/C22+2jiIeBGFfiNN1B577LH13x3rSL+IZv8OmRdrSB+aGHXNbxsf68k6I5zbb62CyH9CIARCIARCIARCIARCIARCIAQmHYEp3R+jvw8dm0DDt/VOIsfGIsFG5JEyTUj4w9sf7QQWoUA2eKab7YfkAplHsknkiyghWxZd8we8MiKnyAKyRr3EALGhjiYwCBhbCv2B7z5hQeKITiMbtKNu4oMgIMiUUV60EfEi4qlJIdc9i4xIICW037YsEn7Ky6MOydjJJWOXX1KWzNCeLZ0iDQk7+YzLd/3Tpj4oa6ykoXGIbCO0SBV9cZ1Ya3IDC6zUIb96cNMn/dUu6SGP+vHERV+M1T1smrjUp5bwdV0e7ZhXZY1TvV7GqR73XCf6yCFj1g/SRh2u65t+6AOOxkAQtTVLIrWk/ziZP3PpnnWjDXMoqk+/jEndbV5FiWFlXWhL/8gj341Nn/UVd+PTR9fMh7zaMEY8taXttibl13dl9Eub2OGuPN6+y6+c8uYSC33VrrIt2tR1edTlnjEra9zq1l/f9cVnrJTBVxl1E2sOP2lba3ExfmPHWxl9kl9dvhuvOpocl98YlMXKOMw3ttaJta7dth5wMmeuKeu7/mODs7asU+Px2fp485vfXPMbr75Z5+bfWFsf1WOt+J2qR/L7cs2caF+b6lVeG+r2uyAlSUCsvDDGTFuYq8cY5XfdO8bmRb9JSZGtZOZopLbGx+rf5dEYU+oMgRAIgRAIgRAIgRAIgRAIgRWRQITgCM4q8eAPeNFr/jD3x7iILQKgRVONYHMTuirChITxDDwixHMFRS0RNOQJ4UVakDxJk5sAgU002RJLmI2XRPAR2bYAk3DtGYYj2T+ST2SqKE5j98xF0ti/L8NJhCZJSgiPRooQHA2qqTMEQiAEQiAEQiAEQiAEQiAERp5AhOAIMvXHu2gjAlAivVwT7SOSKmlRAliRpt57JYXvuGE2XPGxaEv5NpEJiPTzIrH8lsZTIrOtYSKbsBuN9Uo8ihrURotiHU8MevsSIdhLI59DIARCIARCIARCIARCIARCYPwSiKUawbnpL/3Ii9GKxBnBbo9ZVeSJbY39k+tNqva/l++TjwAR5jUek9/3aP/G/RbyexiPs58+hUAIhEAIhEAIhEAIhEAIhMDEJTC8fWcTd7xj2nMRg17LIy3smlk+LS2P0aSNEAiBEAiBEAiBEAiBEAiBEAiBEAiBEAiBkSIQIThSJAdRzw033FBPAh1NKfjTuxaURx57tlx+xa+6AyCeGUSvhp6F03zo4afLA798auiFUyIEQiAEQiAEQiAEQiAEQiAEQiAEQiAEQmBMCWTL8DLgd0KoU2RtDXZCqe+edWZ7n+d+eaaYEz6daupEUSeReqi/z05GddJpS56b5wASdTih033P4/LdKaVta+1TTy/sri0sjz3eneK65vSu/u402QXPlg3Xn9GdOrqwfPOsX5TD/2D9ro5Vu22WK5VHHu1Oin3o6fKijWZ2p6p2JwA/+HSZs4kTh0t5/ImFVeytPmta92yyqeVnP19Qtt5iVndvSnn4N8+W+x54smyz1aziqW0P/+aZ2qbPG6w3s3zv6l93455aDu3aGub5Bm3oeQ+BEAiBEAiBEAiBEAiBEAiBEAiBEAiBEFiOBCIEhwn7scceK1deeWU9/ZPgIwE32WSTekLuVlttVe655556KMb8+fOrHPR8QWUIQaKPLNxtt93qicQO0DjhhBOqTFxzzTWrKCQUHVjQhODuu+9e1lprrXLvfY+Xk05/oMydM7MQeQu6aMDVVp1arr7uubLNlrM6AfhM+XUnAH/eyb0dt59d/vnf7ytH7rdambvpquXmWx8rm268Srn0qgfLQfuuW97/ibvKkQfNLhde/nDZabtZdTvz/fc/UTabs1o57awHyu47zy7Hn/CL8tdvmVN2fNOt5XN/t0H54Y2/KYccvEE3lmfL088+V5597vmycicQk0IgBEIgBEIgBEIgBEIgBEIgBEIgBEIgBCYGgQjBYc4TwUfW3XbbbeWQQw4p8+bNq6KvVSdS8KGHHqrRgPvvv3+Vg5deemmVg3vvvXf5/ve/30X0PV6zq+s1r3lNueuuu8pll11WReDGG29cbrzxxhotSDCuvvrqNe9znYDbZd6sssN2s8t3zv9ljdpba43p5YyLHynvmbtG2WrzVcqLN5zZCckFZWGX9+CXrlYO3Ge9csZ37itPdzuIH/jl0+UbF/6mzNtmVtl5q5XLy/Zet5OKz5TddlmrO+l3Wrn55l+V8y96oj6A8J77nyrX//iJctfPHy/7bD6t7N/lXWP29Bo5uOUWq3UnAZfuQIXIwDbneQ+BEAiBEAiBEAiBEAiBEAiBEAiBEAiBiUAgQnCYs+TUU1F7W265Zbn11lvLd77znbLppptW4WebsEhAUrCdNCwq0JZgUYQzZ86srbZnCRKDZ511Vtloo43KAQccUH75y1/WbcLHHntsufvuu8u5555bSMVtttmmi+IrXTSiU3hXKtNXnlL22HrNGhm4w3arl01ePKPc9uMpZaWpv5V0DhWZtcpKZeaMleq23v33WqtsMWfVMreTeWuvuXIn87p6ute0aV1d3WtaV06fpnTbiV++31pl7uarly03X7Wss9b0MmPalNrm1C7Pwu7Ekm6XdFduSt1ObJzj9RTYYU5vioVACIRACIRACIRACIRACIRACIRACITACksgQnCYU2ub780331wj+tZdd90qBqdPn14uuuiienCIZwoShjfddFP58Ic/XDbbbLMye/bsKgNJQlLQNmNJhKDP8tpK7NmCrl199dXdwSCPFBGC2pBmzpxaZq8+vUq8fXdfq1zzg9+UW+9YUNZeY2rZ9CWrlvt+8XS5484FZdZqU7utxNPK2mtP72TdlO5ZfxuWsy94oNx466Nl1swp5UUbzCwbrDujPi9wzTWmlVVXmdr1YWpZddWVy5GHrllO/dZ95ebbHy/PPPVs2WHbtco2m8+o7c/qtik//ezCss7aM8opZ/yiE4tPlwvOO6O85a1/Ue/nPyEQAiEQAiEQAiEQAiEQAiEQAiEQAiEQAuObwJQuIkwg2YRLIu4kB3CMVXrqqafKb37zmxoF6Nl/EoHngBBbfAnCJ554oh4ssuqqq1bJ12Sg7cY+z5jxW9HWogqJQtdE3HnmoGcJekah6/JfePmvy4/veLyL7OsiBbvtuvc+8Ez51cPPlTkvnl5mz5pa7v3lM7+N3usOFFlt5krlqWeeL7NWFQlYyj1d3nt+8UyZt8XMLiJwSnlkwcKy1uyp5aFHn+sk4Uo1MvDR7uCR9daZ3uV7uvzsnmfKjlvNLKt09+771TNlo/W6Q0yeeL5uRZ45Y0q56/5ny1/9yQbd/Wc62bnGWE1D2g2BEBgnBMbDv8vjBEW6EQIhEAIhEAIhEAIhEAIhEALjmkCE4DJOT/OpZF1LddvtEr63fP3f+5dzv/+1+3/xZHmke+Zf3TtcN+x2PlfTvVq3dcW13nv1evefmrenXP88z3cXpvy2cLdAfpu9J0/7aMwbv3i1uiVZX5NCIAQmN4EIwck9/xl9CIRACIRACIRACIRACITAxCGQLcPLOFe9IrBV1f9a/+8tX//3xeXrf23D9butvuv99hmE/cuPxfce7zkWzafNEAiBEAiBEAiBEAiBEAiBEAiBEAiBEAiBIRKIEBwisPGQPRJuPMxC+hACIRACIRACIRACIRACIRACIRACIRACE5NAd55sUgiEQAiEQAiEQAiEQAiEQAiEQAiEQAiEQAiEwGQhECE4WWY64wyBEAiBEAiBEAiBEAiBEAiBEAiBEAiBEAiBjkC2DK8Ay6AdbDLeh9L/eYjjvb/pXwiEQAiEQAiEQAiEQAiEQAiEQAiEQAisiAQSITjBZ3WiyECYJ1JfJ/iySPdDIARCIARCIARCIARCIARCIARCIARCYEACEYIDohn/NyaiYJuIfR7/KyE9DIEQCIEQCIEQCIEQCIEQCIEQCIEQCIHBE4gQHDyrcZVzIou1idz3cbUI0pkQCIEQCIEQCIEQCIEQCIEQCIEQCIEQGAaBCMFhQEuREAiBEAiBEAiBEAiBEAiBEAiBEAiBEAiBEJioBCIEJ+rMpd8hEAIhEAIhEAIhEAIhEAIhEAIhEAIhEAIhMAwCEYLDgJYiIRACIRACIRACIRACIRACIRACIRACIRACITBRCUQITtSZS79DIARCIARCIARCIARCIARCIARCIARCIARCYBgEIgSHAS1FQiAEQiAEQiAEQiAEQiAEQiAEQiAEQiAEQmCiEpg2UTuefo8cgSlTpgyqspwOPChMyRQCIRACIRACIRACIRACIRACIRACIRAC45rAhBeC995777gGPFqdGxk5N6UM0gX2DeP5532s/+m7NpwPg5WQw6k7ZUIgBEIgBEIgBEIgBEIgBEIgBEIgBEIgBAYmkC3DA7NZ4e8MVQYCMpwyKzzIDDAEQiAEQiAEQiAEQiAEQiAEQiAEQiAEJhCBCR8huOaaa04g3CPX1ZGIEOyN0ltafYvmNY5lixLsrW/kqKSmEAiBsSTw8MMPj2XzaTsEQiAEQiAEQiAEQiAEQiAEQmCQBBIhOEhQK1q2XiG3NBlo7L15EiW4oq2GjCcEQiAEQiAEQiAEQiAEQiAEQiAEQmAyEYgQnEyz/bux9srA4Q5/JOoYbtspFwIhEAIhEAIhEAIhEAIhEAIhEAIhEAIhMHwCEYLDZ7dClOyN/FvagIaSd2l15X4IhEAIhEAIhEAIhEAIhEAIhEAIhEAIhMDYEIgQHBvuY9bqSEb2jWRdYwYkDYdACIRACIRACIRACIRACIRACIRACITAJCMw4Q8VmWTzNaLDXVzEX3/J1z+P7/3zjGinUlkIhEAIhEAIhEAIhEAIhEAIhEAIhEAIhMCoEkiE4KjiHV+V94q8/qJvKD3tLdtb51DqSN4QCIEQCIEQCIEQCIEQCIEQCIEQCIEQCIGxIRAhODbcl3+rgzgaeHFyb3HX+nd+MHn6l8n3EAiBEAiBEAiBEAiBEAiBEAiBEAiBEAiBsSEQITg23Jd7q1N6WuyN8Ou5PKSPI1HHkBpM5hAIgRAIgRAIgRAIgRAIgRAIgRAIgRAIgREhECE4IhjHdyWDieDrzfN8N5zuUYF9qfde38V+HwaTp1+RfA2BEAiBEAiBEAiBEAiBEAiBEAiBEAiBEBgDAhGCYwB9LJscVGRftYE9RnCADg+qrgHK5nIIhEAIhEAIhEAIhEAIhEAIhEAIhEAIhMDYEIgQHBvuy63V3si9gQTeQHl68/fm6e28PO3Vez2fQyAEQiAEQiAEQiAEQiAEQiAEQiAEQiAExieBCMHxOS/js1eDOJhkfHY8vQqBEAiBEAiBEAiBEAiBEAiBEAiBEAiBEGgEIgQbiRXwvTeqrzfar3eoS8vTW673YJLeOvI5BEIgBEIgBEIgBEIgBEIgBEIgBEIgBEJg4hCIEJw4czWknvaKvoEKDiZPb9leOdh7XT1Drau3fD6HQAiEQAiEQAiEQAiEQAiEQAiEQAiEQAgsPwLTll9TaWmsCAwk8nr7s6Q8S7rXW0c+h0AIhEAIhEAIhEAIhEAIhEAIhEAIhEAIjH8CEYLdHD33qyvKM/O/UhYu+MlymbGVVtuiTH/J0WXqhq8YlfYGE603mDyj0rlUGgIhEAIhEAIhEAIhEAIhEAIhEAIhEAIhMKYEJr0QfO6B88pTt354uU4C8fjUjz9SVp66Wpm23j6j2vZgo/uWJAgHW8eoDiSVh0AIhEAIhEAIhEAIhEAIhEAIhEAIhEAIjAiBSf8MwWfuPm1EQA6nkud+9tXhFBtSmSWJviFVlMwhEAIhEAIhEAIhEAIhEAIhEAIhEAIhEAIrBIFJHyG4vLYJL261PDdKW5RF9I2WCFxSvYu7l+jCxc18roVACIRACIRACIRACIRACIRACIRACITA2BGY9BGCY4d++bU8kKgj6wbzWn49HXxLCxYsGHzm5AyBEAiBEAiBEAiBEAiBEAiBEAiBEAiBEOgjMOkjBPtIrGAfRitKcHERf004Lu7eSGN9+umny4knnljuu+++Mnv27PLHf/zHZf311x/pZlJfCIRACIRACIRACIRACIRACIRACIRACKywBCIEV4CpJeIuvfTSvpFsttlmZeONN67Rf03WeZfvlltuKb/85S9r3tVWW63stttufeUmwocf/vCHVQbq6yOPPFIuvvji8oY3vGHcd/2pp54qP/nJT8o999xTXw8//HBZb731yotf/OLyohe9qMydO7estFICdsf9RKaDIRACIRACIRACIRACIRACIRACIbACEIgQXAEmceHChVWMtaEQf4Rg/0QKEmp33HFHvTVr1qwJJwSfe+65RYbV//siN8fJl5/+9Kfl5JNPLqRgbyI0SUJpzTXXLMccc0yVhL15Jsvnm266qTz77LN1uJtssklZe+21J8vQM84QCIEQCIEQCIEQCIEQCIEQCIEQWO4EIgR7kK80dXqZsvLKPVdG/uPz3ZbXhc89M/IVD1AjOdiiBGXxuUWi+dx7b4Aq6mX1jIe0yy67lKuvvrr85je/KSt3c7X//vuPh24N2Idzzz23XHHFFQPebzdEDJ5wwgnlyCOPLMY4mRIR+I1vfKNvyIcffniEYB+NfAiBEAiBEAiBEAiBEAiBEAiBEAiBkScQIdjDdMacw8pqW72r58rIf1xw24fLEz/51shXPMo1EofjQQrOnDmz/M3f/E158MEHy1prrTVooTnKeBZb/e23375YGbjOOuuUDTbYoPz85z+v2557C59xxhlFhJw8SSEQAiEQAiEQAiEQAiEQAiEQAiEQAiEwGgQiBEeD6jirs3+U4GC6pwzpZlvr1KlT65ZWh3gsTgou7tpg2uif55lnnikPPPBA8e75erY0D5SGsqX0ySefrM8d9MzEddddty9CcqC6bcG+++67yyqrrFL7Mdgoyt761PGtby0qfrfZZpty9NFHlxkzZvRldVryl770pfKLX/yi79rpp59e3vKWt/R9H+iDsp4Hueqqqw75YJXhlG1rQnTmtGnT+tbEQP3rf10k4P3331/Mh+cm6nfS0AiYg9tuu6286N6/KVNXmjK0wssh9/SVVikr7/qJ5dBSmgiBEAiBEAiBEAiBEAiBEAiBEFgWAhGCy0JvApVt0s47WSX53K73DsUBJd/73veKE317k+fcvfKVryxbb7117+Vy77331pN/28W3ve1tVby17+r56Ec/Wtrz/kixefPmtdtVEp166qlVQPZd7D6QTq961avKTjvt1Hf50UcfLf/3//7fvu8OFNlyyy3r9x/96EfltNNOq58Jwze+8Y3lq1/96iL12i59yCGHlN13372vjvbhV7/6VTn77LPLz372sz5G7u21115VXl1yySU164YbbrhUYXfNNdcU0q0lh4e8/vWvf4GMJCn//M//vHziE58ojz32WM0ucvDOO+8sm2++ef1uO7H7Lcl/zjnnlLvuuqtdqtun5cdLnS0tS9lWh3dr4vLLL1/smsCz/5roPxcHHXRQ+frXv973nMBXvOIVZYcddigf//jH+6619s4666w6Pt+dIj1nzpy6xr7whS+0LOUv//IvX7DGjj/++L419upXv7pst912fflXhA9+q57/aV2NRxn4/NRZZeXt/7msvs6cFQF3xhACIRACIRACIRACIRACIRACKzSBlVbo0WVwQyZwTvfMu4suuugF4kdF5JLDMUQo9SYRX6K/2qsJx5aHCHSgRrsvArAldX3qU59aRNq1e/KLlrvgggvapSrqWj3ee+t6/PHH+9oQcffJT37yBfXqG+l3/fXX99XpAxn32c9+tjgApH//r7zyysqktaudpaX58+cvkoXYas9uXORG98U26P4nJZOSLelPa9s7MdYrA+UjXW+99dZ6r5fJspRt7ZOPF1544YBr4mtf+9oL1kTvXBCtp5xySh1Dq9O7seh3f97tXhuz78uyxpRfERIZ+NBDD1VR3rnBcZUWdpGB08nADXcecJ2Pqw6nMyEQAiEQAiEQAiEQAiEQAiEwyQlECK6AC0Ak2ze/+c3FvtoJw4sb9mWXXVau6uTX0hIB1F9ILa3MQPdb1F277/l5os1EB7a0uGjFdm9J74TSQInkaomQ+tznPveCU4Dbfe+Lk1a99/t/tvW5JVuPvZaUbKHtTb3le6/7vKRx/frXv65Rkf3LtO9DLWtNEKJLSyeddNKAawK7xfEbzlbspfVjRb3veZSEvIN0FhfVO5bjft424R0/VGZHBo7lNKTtEAiBEAiBEAiBEAiBEAiBEBgSgd9blyEVS+bxTuCmm24aUhcJG1FgvcmJt557J7rvik4KXdOd7tvSeeedt9Rtsy3vQO8i2Ww3bmmfffYpBx98cP0qEurEE0+szxFcf/316zZJMmSo6YgjjqhbRwlM0YZPPPFErcK7qDPReffdd1+VLa1uz/h705veVGzzJdhERYpyG0oib1pSz9KS5zSuscYa9fRkeZckBN3fbbfdyn777VdFoyhLW6WbdBNdKEJvoGf0Dbas+nqjM7V71FFH/X5NdKcnO/G5JScqv/Wtb21fF3kXHdm2d1tPEkn67ne/u0Z5fuQjH+nLb3tx29I9nDnvq2gF+NC2CVtP06dPrzJwPInUKgN36mTgBtuP6wN+VoClkCGEQAiEQAiEQAiEQAiEQAiEwIgSiBAcUZwTtzJSrDcRP+3ZfaTZod1z4hZ022o9G07qn7+37GA/ExyET3tW4fe///0qALfddtt6gvBxxx032KoWm+9lL3tZ2XXXXeu9rbbaqko0EW8tkY4bbbRRPUCkXfNOajl8RPJ+7LHHFs+nW1J0Xc38u//0btl1afXVV++9PeBnh6g4sENq4nJxmY3FswJb2n777evBL7bltuQ5hPL1T0Mp23+OPftxkTVx6KF1q/Vg1oRnBrbnDPZGS5KvZGhvct+am+yJDBQZ2A5xGXeRgVNnl+k7/EtZff15kYGTfbFm/CEQAiEQAiEQAiEQAiEQAhOOQLYMT7gpG1yHN9hgg7K410Cl+28BXtyBDA6BaEn0mBNuh5N6I5x66xQ5Zivvxz72sfL+97+/RuYRIsNNoht709y5c3u/9gm+3rG3k4h7MxJUg4nya2Wa6Gzfe6Mg27XFvfdGBa6zzjqLy1KvEYD9U5Nt7TohuLg0lLK9XNS1uDWx44479jWzpDWxxRZb9OXLh8ERsL2/RQYOrsTyy7VwpVXrMwNFBg70bMzl15u0FAIhEAIhEAIhEAIhEAIhEAIhMFQCiRAcKrFxkp9UGyhiSGTcAQccsNie/sd//Ec9qbT/zd5oMFFbpFb/1KLm2vX777+/rLfeeu3rgO8D9VOBww8/vEYI3njjjYuUF43nkAwvIs+hHENN/aVa/0i0Vl/v9t6Bovls5x1KwqqJwMGIU6cn90YgkrkDpcUxJ2VEGLaTih2qsrg0lLKt/+pZ1jUxVH6L6/uSri1pjS2p3Hi9N96fGThj5w+X1dfbJjJwvC6g9CsEQiAEQiAEQiAEQiAEQiAElkIgEYJLATSeb/dG2i1rP3tFkUg9JwP3Tw8++OAil3rL9N7oL2f6l+vNawyvec1ryt/+7d+WV77ylTUKTZRebxIpZTvxaKXe6L+BRFqvHBtMP3qFnsi5W265ZYnFfvCDHyxyv7f8Ije6L55r2D9h3mSge/3lbcs/lLKe3djSsq6JVs9IvQ9ljY1Um8ujHuNq24TbMwOXR7uDbeP5qauVlXf632X2+ttGBg4WWvKFQAiEQAiEQAiEQAiEQAiEwDgkECE4DidlKF0aKSm46aabLtKsgyr6J9F6LYlIa9Kqf+TdT3/605atvi/pZGPPR9MWYbbXXnuV17/+9eVd73pXefOb37xIHf3rXOTmMn7pHTt5d9VVVy1So/4P9VARB3f0pq9//evlnnvu6b3U9/nmm28uF110Ud93bBe3tbdl+PGPf9w+9r3Pnz+/77MPL3nJSxb53r4MpWwvF+UXtyZ6RWfvmmjtDed9cc9PXNoaW9rWcvPqsJX+opuAc73/cx9dt2W6Pd9yOOMYahlttm3CTtn2fTyl56fNLivv8G/dMwO3yzMDx9PEpC8hEAIhEAIhEAIhEAIhEAIhMAwC2TI8DGjjrUh/Keh7/2sD9bnl6y+QvvGNb5RjjjmmbL755lWWXHvttaU3io0MJICktddee5HqnTzrmXEiCEnESy+9dJH77cs111xTzj777Pa1yhpSUOpfZ2urL/MIfth4440Xqe273/1u3e67ySabFBGD+jnU9KIXvah4PmLbCk1IOTXZ6blbbrlllal33313jQbrH/348pe/vPSPkuxtX50iAPfcc8+6tZu4shW8N/Wfz3ZvKGV7IyeVJzWXtibaemrtDead/OpN1hlGxOCaa65ZD5hZa621erNUaWttLm2NKWTL9qc//em6JVtbf/Znf1afCWmr+Cc/+ckq/ayvP/3TPy0kqEjL//f//l89Xdv1P/zDP6z9WaQDo/BlPG8TXrhSFxm4/f8qq28wr+93PwoIUmUIhEAIhEAIhEAIhEAIhEAIhMByIrDoX+LLqdE0M/4IiMDaY489CpknEVhf+cpX6h//PvdPvc8onD17diFa2jPwRP0RLUtLTqwl31r9DhQRKbfqqquWRx55ZJHivYePLHJjBL54vt0+++xTvve97/XVRpw1mdd3cYgfDulOZhZB17h4v+KKK+proKr0Ze+99x7odt/1Cy+8sHgRVo1fu0nWep7gQGmwZZdlTQzU9kDXjbudsEzUfepTn6pZbScnA4e7xlRiXnvn4PLLLy9vfOMby5VXXtkXAYjhJZdcUqWg34At0pLrF1988agLwbZN2Knb4y4ycOqqZcZOH+meGbhVZGBdFflPCIRACIRACIRACIRACIRACEx8AtkyPPHncMRGcOihh5Z58+YtUl9/2eTmUUcdVbbaaqtF8h144IGLfB/MF/LjoIMOWiSrLZqEUG+7nmU32qfUHnzwwYs9RVfnSLe2PXqRzi7lC7H5jne8Y9BlMX37298+6OhOzfdy8p0I7L/d2vXFpcGUXZY1sbg2B7omKnJpaThrTJ1Oie5NM2fOrF/7X2/fzVtvatd7r43UZ3PQZOD4fGbgrDJj5490zwzcOjJwpCY99YRACIRACIRACIRACIRACITAOCCQCMGeSXhq/tnl6XvP77ky8h+f74TXaKf+z1sbqL3F5Xvta19bCBPbNvsLIwJP1NvOO+/8gipt9V2wYMELot/IlNe97nV1u2l7Nlxvu/vuu2/d9mmL8uKe1yZqUZttK2pvWZ3o//0FHRvCBWMXiWibs2e5OVnXtlnRg54r+MADD9TalrSdt39zIt/+8i//skaf2XaNUf8kD9klYnIwST8v6iIp+x/WYpuyZzAuSWANp+xw18RgxtLy4P7444+Xc889d5F1Zw5aGu4aU649B9IW5P32269Wafu2CE7bwkUgOp1b2nXXXWt0qJO3Cdb+0rpmGoH/tGcGiowclzJw2hrdMwP/pcxad+u+398IDDtVhEAIhEAIhEAIhEAIhEAIhEAIjAMCU7o/SsfXk+sHCaWd+uoP/GVJj1982LIUX+ayqx7w+2foLXNlI1gBOYex56mRcTgTTk3MDdQU4UWktOe/EWoi7AaTtKXsk08+WTbccMP6nLyltTeYegeTx2ET2vYihPqLxhNOOKE+i05dBKGIwuEkXLXx0EMPVRFqnP3b6l8v8ffxj3+87/If/dEf1QhNrB2IQZp59l3/Z/EpsCxl+xr83Yfhron+9SztO0GmLaKUhO6fhrvGrMnFyVLrrUUN9rY1UP7ePMvy2SEtomGHuk3Y72nuQ+/pfovL0vqSyz4/dVYnAz+QZwYuGVPuhkAIhEAIhEAIhEAIhEAIhMCEJZAIwQk7daPbcZJizpw5Q25E9NzcuXOHXE4B0VgOk1jeSeTeWWed1dcsiSYqsaUbbrihTwa65rCR4SZcybv+J/gOpz6st9tuu+EUrYeWDLXscNfEUDtIBC4pDXeNLU4GamdxMtD1gfK7t6ypbRMeqgxc1nYHU/75qd0BIjsfX1Zfd+6gZf5g6k2eEAiBEAiBEAiBEAiBEAiBEAiB8UMgQnD8zEV6MkYEtt1220WEoO3BN998c9lss81qJN/Pf/7zvp6Jzup/KnHfzXwIgaUQsA3f9uXxuk24TJvdHSDywW6bcGTgUqYyt0MgBEIgBEIgBEIgBEIgBEJgQhMY3F7OCT3EdD4ElkxAxNn++++/SCbbl50y3CsDZXBgx2hGji3SiXxZoQiMdxn4/LQ1y/Qd/rU7TXibRAauUCsvgwmBEAiBEAiBEAiBEAiBEAiBFxKIEHwhk1yZhAQcHOHwjIGed+j5fMccc8wybRceLtZleY7ispQdbn9T7oUE2gEinhk4Lg8Qmbp698zA/1VWX3+7pT4n9IWjy5UQCIEQCIEQCIEQCIEQCIEQCIGJRmDSHyry5LX/X1m44CdjMm8rrbZFmfnS3x8WMSadSKOLEHCYxf33319f7eAPz1Jce+21F8m3PL+QSe2EY+3qi2fPDSYtS9nB1J88gyPgAJFHHnmkHvyyrOc4jfShIvUAkV0+VlZfZ/MBhfjgRplcIRACIRACIRACIRACIRACIRACE4XApH+G4LRN/7g8/aN/HpP5mv6So8ek3TQ6MAGizaEhy3JwyMC1D++OKD+nEQ8nLUvZ4bSXMosSGP/bhGeXlXf8UGTgotOWbyEQAiEQAiEQAiEQAiEQAiGwwhOY9FuGp623T5mxzbuKaL3llbQ1Y97/KFM3fMXyajLthEAILGcCIgHbacLjcZvwwqlrdjLw37pnBm6VyMDlvDbSXAiEQAiEQAiEQAiEQAiEQAiMNYFJHyFoAqZucHB9jfVkpP0QCIEVgwAZaJuw04RFnS7rNuGRpvL81O404R3fnwNERhps6guBEAiBEAiBEAiBEAiBEAiBCUIgQnCCTFS6GQIhMHEIkIGPPvroOJWBs8qMXT9aZq29WSIDJ86SSk9DIARCIARCIARCIARCIARCYEQJRAiOKM5UFgIhMJkJeGagbcJkoJOpx11k4LRum/BOH6zPDMwJ1JN5pWbsIRACIRACIRACIRACIRACk53ApH+G4GRfABl/CITAyBBoMnCkThMemV79vpaFZOCO/1pWX3fLEhn4ey75FAIhEAIhEAIhEAIhEAIhEAKTkUAiBCfjrGfMIRACI0qgPTOQDByXzwycNrvM3OkDZda6W2eb8IjOfCoLgRAIgRAIgRAIgRAIgRAIgYlJIEJwYs5beh0CITBOCDQZ+Nhjj41PGTh19TJzl4+VWetslsjAcbJm0o0QCIEQCIEQCIEQCIEQCIEQGGsCEYJjPQNpPwRCYMISsE3YASJk4Lh8ZuD0tcqMnT4UGThhV1g6HgIhEAIhEAIhEAIhEAIhEAKjQyDPEBwdrqk1BEJgBSfQZOB4PUBk4bS1y8o7fKB7ZuDcRAau4GsxwwuBEAiBEAiBEAiBEAiBEAiBoRKIEBwqseQPgRCY9ARsE3aasGcGTp8+fRyeJrxGmeEAkfW2igyc9Ks1AEIgBEIgBEIgBEIgBEIgBELghQSyZfiFTHIlBEIgBAYk0J4ZOG4PEJk6u8zY5aNl9TwzcMA5zI0QCIEQCIEQCIEQCIEQCIEQmOwEIgQn+wrI+EMgBAZN4LnnnquRgZ4ZOB4jA20TnrnL/44MHPSMJmMIhEAIhEAIhEAIhEAIhEAITE4C2TI8Oec9ow6BEBgiAc8MtE24PTNwiMVHPfvC6euUmTv/WycDN8824VGnnQZCIARCIARCIARCIARCIARCYGITiBCc2POX3odACCwHAot7ZqBr4yU9P607TdgzA9fdMjJwvExK+hECIRACIRACIRACIRACIRAC45hAtgyP48lJ10IgBMaeQG9k4MorrzwODxDxzMDjy6y1N40MHPvlkh6EQAiEQAiEQAiEQAiEQAiEwIQgECE4IaYpnQyBEBgLAp4ZeNttt5UFCxaUadOmjTsZaJvwKjv/7zJrnTmRgWOxQNJmCIRACIRACIRACIRACIRACExQAtkyPEEnLt0OgRAYXQIiA8lAB4iMJxloq/KUKaWQgTN2/EAnAzeLDBzdpZDaQyAEQiAEQiAEQiAEQiAEQmCFIzDhIwQffvjhFW5SMqAQCIGxJfDss8+WO++8s6yyyipl9dVXH1eRgbNmzSoLH1+vO0Ckk4Fr///t3TEKwzAQBEDFoHwkff7/MqEy0RO2CPHCuDMceJlztdjIASL/fVM8nQABAgQIECBAgAABAp0CvhDs3JvUBAj8UOCcJrzWGnPOW5WB13WNvfd4vs9pwq9x7l0ECBAgQIAAAQIECBAgQCAVeHx/P7vPUZlpevMECBAgQIAAAQIECBAgQIAAAQIECEQCPi+JuAwTIECAAAECBAgQIECAAAECBAgQ6BZQCHbvT3oCBAgQIECAAAECBAgQIECAAAECkYBCMOIyTIAAAQIECBAgQIAAAQIECBAgQKBbQCHYvT/pCRAgQIAAAQIECBAgQIAAAQIECEQCCsGIyzABAgQIECBAgAABAgQIECBAgACBbgGFYPf+pCdAgAABAgQIECBAgAABAgQIECAQCSgEIy7DBAgQIECAAAECBAgQIECAAAECBLoFFILd+5OeAAECBAgQIECAAAECBAgQIECAQCSgEIy4DBMgQIAAAQIECBAgQIAAAQIECBDoFlAIdu9PegIECBAgQIAAAQIECBAgQIAAAQKRgEIw4jJMgAABAgQIECBAgAABAgQIECBAoFtAIdi9P+kJECBAgAABAgQIECBAgAABAgQIRAIKwYjLMAECBAgQIECAAAECBAgQIECAAIFuAYVg9/6kJ0CAAAECBAgQIECAAAECBAgQIBAJKAQjLsMECBAgQIAAAQIECBAgQIAAAQIEugUUgt37k54AAQIECBAgQIAAAQIECBAgQIBAJKAQjLgMEyBAgAABAgQIECBAgAABAgQIEOgWUAh27096AgQIECBAgAABAgQIECBAgAABApGAQjDiMkyAAAECBAgQIECAAAECBAgQIECgW0Ah2L0/6QkQIECAAAECBAgQIECAAAECBAhEAh8bqeKiGGMsCAAAAABJRU5ErkJggg==)"
   ]
  },
  {
   "cell_type": "markdown",
   "metadata": {
    "id": "zS8aPJeugMzf"
   },
   "source": [
    "# 🧹 Cleaning up\n",
    "\n",
    "Clean up resources created in this notebook."
   ]
  },
  {
   "cell_type": "markdown",
   "metadata": {
    "id": "qo2UYWl_dC55"
   },
   "source": [
    "Remove the extensions instances created in this notebook by running the cell below:  "
   ]
  },
  {
   "cell_type": "code",
   "execution_count": null,
   "metadata": {
    "id": "BtdR2b7DdC55"
   },
   "outputs": [],
   "source": [
    "extension_code_interpreter.delete()\n",
    "extension_vertex_ai_search.delete()"
   ]
  },
  {
   "cell_type": "markdown",
   "metadata": {
    "id": "K1pyDrUuSOg8"
   },
   "source": [
    "You can run the next cell to get a list of all other remaining Vertex AI Extension Instances in your environment:"
   ]
  },
  {
   "cell_type": "code",
   "execution_count": null,
   "metadata": {
    "id": "GTEgYGhFQfTW"
   },
   "outputs": [],
   "source": [
    "extensions.Extension.list()"
   ]
  },
  {
   "cell_type": "markdown",
   "metadata": {
    "id": "ihJEWJvNSfc9"
   },
   "source": [
    "Optionally, you can uncomment the following code block to delete all active extensions in your project, by using the IDs above to clean up:"
   ]
  },
  {
   "cell_type": "code",
   "execution_count": null,
   "metadata": {
    "id": "CsPKKv-USmi-"
   },
   "outputs": [],
   "source": [
    "#clean_ids = []\n",
    "\n",
    "#for element in extensions.Extension.list():\n",
    "    #clean_ids.append(str(element).split(\"extensions/\")[1])\n",
    "\n",
    "#for id in clean_ids:\n",
    "   #extension = extensions.Extension(id)\n",
    "   #extension.delete()"
   ]
  },
  {
   "cell_type": "markdown",
   "metadata": {
    "id": "nOaXVcpzhBI3"
   },
   "source": [
    "Uncomment below to delete your GCS Bucket by first deleting all files in it, then deleting the bucket itself:\n",
    "\n",
    "❗❗❗ Only run the below cells if you created a new bucket just for this notebook ❗❗❗"
   ]
  },
  {
   "cell_type": "code",
   "execution_count": null,
   "metadata": {
    "id": "BR891aucg72e"
   },
   "outputs": [],
   "source": [
    "# Delete contents of the bucket and the bucket\n",
    "#! gsutil -m rm -r gs://$GCS_BUCKET"
   ]
  },
  {
   "cell_type": "markdown",
   "metadata": {
    "id": "3w8tg9O6rBmx"
   },
   "source": [
    "Delete your Google Cloud CLI ADC Configuration, if you no longer need it, by running this command in your shell:\n",
    "\n",
    "`$ gcloud config configurations delete CONFIG_NAME`"
   ]
  },
  {
   "cell_type": "markdown",
   "metadata": {
    "id": "SuJs4q0oThE3"
   },
   "source": [
    "❗❗❗ Don't forget to delete any other created assets if you don't need them, e.g. the Vertex AI data store and search app (you need to delete them from the Google Cloud Console).\n",
    "\n",
    "*   Your Vertex AI Search app: https://console.cloud.google.com/gen-app-builder/apps\n",
    "*   Your Vertex AI Search data store: https://console.cloud.google.com/gen-app-builder/data-stores\n",
    "\n",
    "Uncomment to delete files downloaded by this notebook:"
   ]
  },
  {
   "cell_type": "code",
   "execution_count": 46,
   "metadata": {
    "tags": []
   },
   "outputs": [],
   "source": [
    "# os.remove('california-housing-test.csv')\n",
    "# os.remove('invest1.pdf')\n",
    "# os.remove('invest2.pdf')\n",
    "# os.remove('invest3.pdf')\n",
    "# os.remove('invest4.pdf')"
   ]
  }
 ],
 "metadata": {
  "colab": {
   "provenance": []
  },
  "environment": {
   "kernel": "conda-root-py",
   "name": "workbench-notebooks.m119",
   "type": "gcloud",
   "uri": "us-docker.pkg.dev/deeplearning-platform-release/gcr.io/workbench-notebooks:m119"
  },
  "kernelspec": {
   "display_name": "Python 3 (ipykernel) (Local)",
   "language": "python",
   "name": "conda-root-py"
  },
  "language_info": {
   "codemirror_mode": {
    "name": "ipython",
    "version": 3
   },
   "file_extension": ".py",
   "mimetype": "text/x-python",
   "name": "python",
   "nbconvert_exporter": "python",
   "pygments_lexer": "ipython3",
   "version": "3.10.14"
  }
 },
 "nbformat": 4,
 "nbformat_minor": 4
}
