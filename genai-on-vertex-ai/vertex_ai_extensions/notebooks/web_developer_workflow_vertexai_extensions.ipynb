{
 "cells": [
  {
   "cell_type": "code",
   "execution_count": null,
   "metadata": {
    "id": "8iYCg6gJVk66"
   },
   "outputs": [],
   "source": [
    "# Copyright 2024 Google LLC\n",
    "#\n",
    "# Licensed under the Apache License, Version 2.0 (the \"License\");\n",
    "# you may not use this file except in compliance with the License.\n",
    "# You may obtain a copy of the License at\n",
    "#\n",
    "#     https://www.apache.org/licenses/LICENSE-2.0\n",
    "#\n",
    "# Unless required by applicable law or agreed to in writing, software\n",
    "# distributed under the License is distributed on an \"AS IS\" BASIS,\n",
    "# WITHOUT WARRANTIES OR CONDITIONS OF ANY KIND, either express or implied.\n",
    "# See the License for the specific language governing permissions and\n",
    "# limitations under the License."
   ]
  },
  {
   "cell_type": "markdown",
   "metadata": {
    "id": "x0q6qjyLbCG5"
   },
   "source": [
    "# Web Developer Workflow with Vertex AI Extensions\n",
    "\n",
    "<table align=\"left\">\n",
    "  <td style=\"text-align: center\">\n",
    "    <a href=\"https://art-analytics.appspot.com/r.html?uaid=G-FHXEFWTT4E&utm_source=aRT-webdev_extbygoog_notebook-from_notebook-colab&utm_medium=aRT-clicks&utm_campaign=webdev_extbygoog_notebook-from_notebook-colab&destination=webdev_extbygoog_notebook-from_notebook-colab&url=https%3A%2F%2Fcolab.research.google.com%2Fgithub%2FGoogleCloudPlatform%2Fapplied-ai-engineering-samples%2Fblob%2Fmain%2Fgenai-on-vertex-ai%2Fvertex_ai_extensions%2Fnotebooks%2Fweb_developer_workflow_vertexai_extensions.ipynb\">\n",
    "      <img src=\"https://cloud.google.com/ml-engine/images/colab-logo-32px.png\" alt=\"Google Colaboratory logo\"><br> Open in Colab\n",
    "    </a>\n",
    "  </td>\n",
    "  <td style=\"text-align: center\">\n",
    "    <a href=\"https://art-analytics.appspot.com/r.html?uaid=G-FHXEFWTT4E&utm_source=aRT-webdev_extbygoog_notebook-from_notebook-colab_ent&utm_medium=aRT-clicks&utm_campaign=webdev_extbygoog_notebook-from_notebook-colab_ent&destination=webdev_extbygoog_notebook-from_notebook-colab_ent&url=https%3A%2F%2Fconsole.cloud.google.com%2Fvertex-ai%2Fcolab%2Fimport%2Fhttps%3A%252F%252Fraw.githubusercontent.com%252FGoogleCloudPlatform%252Fapplied-ai-engineering-samples%252Fmain%252Fgenai-on-vertex-ai%252Fvertex_ai_extensions%252Fnotebooks%252Fweb_developer_workflow_vertexai_extensions.ipynb\">\n",
    "      <img width=\"32px\" src=\"https://lh3.googleusercontent.com/JmcxdQi-qOpctIvWKgPtrzZdJJK-J3sWE1RsfjZNwshCFgE_9fULcNpuXYTilIR2hjwN\" alt=\"Google Cloud Colab Enterprise logo\"><br> Open in Colab Enterprise\n",
    "    </a>\n",
    "  </td>    \n",
    "  <td style=\"text-align: center\">\n",
    "    <a href=\"https://art-analytics.appspot.com/r.html?uaid=G-FHXEFWTT4E&utm_source=aRT-webdev_extbygoog_notebook-from_notebook-vai_workbench&utm_medium=aRT-clicks&utm_campaign=webdev_extbygoog_notebook-from_notebook-vai_workbench&destination=webdev_extbygoog_notebook-from_notebook-vai_workbench&url=https%3A%2F%2Fconsole.cloud.google.com%2Fvertex-ai%2Fworkbench%2Fdeploy-notebook%3Fdownload_url%3Dhttps%3A%2F%2Fraw.githubusercontent.com%2FGoogleCloudPlatform%2Fapplied-ai-engineering-samples%2Fmain%2Fgenai-on-vertex-ai%2Fvertex_ai_extensions%2Fnotebooks%2Fweb_developer_workflow_vertexai_extensions.ipynb\">\n",
    "      <img src=\"https://lh3.googleusercontent.com/UiNooY4LUgW_oTvpsNhPpQzsstV5W8F7rYgxgGBD85cWJoLmrOzhVs_ksK_vgx40SHs7jCqkTkCk=e14-rj-sc0xffffff-h130-w32\" alt=\"Vertex AI logo\"><br> Open in Workbench\n",
    "    </a>\n",
    "  </td>\n",
    "  <td style=\"text-align: center\">\n",
    "    <a href=\"https://art-analytics.appspot.com/r.html?uaid=G-FHXEFWTT4E&utm_source=aRT-webdev_extbygoog_notebook-from_notebook-github&utm_medium=aRT-clicks&utm_campaign=webdev_extbygoog_notebook-from_notebook-github&destination=webdev_extbygoog_notebook-from_notebook-github&url=https%3A%2F%2Fgithub.com%2FGoogleCloudPlatform%2Fapplied-ai-engineering-samples%2Fblob%2Fmain%2Fgenai-on-vertex-ai%2Fvertex_ai_extensions%2Fnotebooks%2Fweb_developer_workflow_vertexai_extensions.ipynb\">\n",
    "      <img src=\"https://cloud.google.com/ml-engine/images/github-logo-32px.png\" alt=\"GitHub logo\"><br> View on GitHub\n",
    "    </a>\n",
    "  </td>\n",
    "</table>"
   ]
  },
  {
   "cell_type": "markdown",
   "metadata": {
    "id": "zegJQ_d_lWRa"
   },
   "source": [
    "| | |\n",
    "|----------|-------------|\n",
    "| Author(s)   | [Lei Pan](https://github.com/genaimagician)|\n",
    "| Reviewers(s) | [Meltem Subasioglu](https://github.com/5Y5TEM), Michael W. Sherman|\n",
    "| Last updated | 2024-04-30: Review and Cleanup |\n",
    "| | 2024-04-25: Initial Publication |"
   ]
  },
  {
   "cell_type": "markdown",
   "metadata": {
    "id": "_D7HcoxpVk68"
   },
   "source": [
    "## Overview\n",
    "\n",
    "In this notebook, you will learn how to use the Vertex AI Extensions Code Interpreter Extension to build and deploy a static web application by following these steps:\n",
    "\n",
    "- Generate PRD using Gemini API\n",
    "- Registering the pre-built Code Interpreter extension in your project\n",
    "- Using Code Interpreter to build up the website according to the PRD\n",
    "- Using GCS API to deploy the website"
   ]
  },
  {
   "cell_type": "markdown",
   "metadata": {
    "id": "4S23-EwCumCU"
   },
   "source": [
    "▶ If you're already familiar with Google Cloud and the Vertex Extensions Code Interpreter Extension, you can skip reading between here and the \"**Getting Started**\" section."
   ]
  },
  {
   "cell_type": "markdown",
   "metadata": {
    "id": "KUXzlvfpn513"
   },
   "source": [
    "### Vertex AI Extensions\n",
    "\n",
    "[Vertex AI Extensions](https://cloud.google.com/vertex-ai/generative-ai/docs/extensions/overview) is a platform for creating and managing extensions that connect large language models to external systems via APIs. These external systems can provide LLMs with real-time data and perform data processing actions on their behalf. You can use pre-built or third-party extensions in Vertex AI Extensions."
   ]
  },
  {
   "cell_type": "markdown",
   "metadata": {
    "id": "3r29fUEFn8JH"
   },
   "source": [
    "### Vertex AI Extensions Code Interpreter Extension\n",
    "\n",
    "The [Code Interpreter](https://console.cloud.google.com/vertex-ai/generative-ai/docs/extensions/google-extensions.md#google_code_interpreter_extension) extension provides access to a Python interpreter with a sandboxed, secure execution environment. It lets you generate and execute Python code to:\n",
    "\n",
    "* Analyze, clean, transform, and reshape your datasets\n",
    "* Visualize data in charts and graphs\n",
    "* Execute calculations"
   ]
  },
  {
   "cell_type": "markdown",
   "metadata": {
    "id": "uNriTZl70OdV"
   },
   "source": [
    "### Using this Notebook\n",
    "\n",
    "Colab is recommended for running this notebook, but it can run in any iPython environment where you can connect to Google Cloud, install pip packages, etc.\n",
    "\n",
    "If you're running outside of Colab, depending on your environment you may need to install pip packages that are included in the Colab environment by default but are not part of the Python Standard Library. Outside of Colab you'll also notice comments in code cells that look like #@something, these trigger special Colab functionality but don't change the behavior of the notebook.\n",
    "\n",
    "\n",
    "This tutorial uses the following Google Cloud services and resources:\n",
    "\n",
    "* Vertex AI Extensions\n",
    "* Google Cloud Storage Client\n",
    "  - If you don't have a bucket, you can follow [this doc](https://cloud.google.com/storage/docs/creating-buckets) to create one or follow the code provided in this notebook later.\n",
    "\n",
    "This notebook has been tested in the following environment:\n",
    "\n",
    "* Python version = 3.10.12\n",
    "* [google-cloud-aiplatform](https://pypi.org/project/google-cloud-aiplatform/) version = 1.4.7"
   ]
  },
  {
   "cell_type": "markdown",
   "metadata": {
    "id": "Ar0aDcql1dxl"
   },
   "source": [
    "### Useful Tips\n",
    "\n",
    "1. This notebook uses Generative AI cababilities. Re-running a cell that uses Generative AI capabilities may produce similar but not identical results.\n",
    "2. Because of #1, it is possible that an output from Code Interpreter producess errors. If that happens re-run the cell that produced the coding error. The different generated code will likely be bug free. The `run_code_interpreter` method below helps automate this.\n",
    "3. The use of Extensions and other Generative AI capabilities is subject to service quotas. Running the notebook using \"Run All\" may exceed  your Queries per minute (QPM) limitations. Run the notebook manually and if you get a quota error pause for up to 1 minute before retrying that cell. Code Interpreter uses Gemini on the backend and is subject to the Gemini quotas, [view your Gemini quotas here](https://console.cloud.google.com/iam-admin/quotas?pageState=(%22allQuotasTable%22:(%22f%22:%22%255B%257B_22k_22_3A_22_22_2C_22t_22_3A10_2C_22v_22_3A_22_5C_22base_model_5C_22_22%257D_2C%257B_22k_22_3A_22_22_2C_22t_22_3A10_2C_22v_22_3A_22_5C_22gemini_5C_22_22%257D%255D%22%29%29&e=13802955&mods=logs_tg_staging).\n",
    "4. The Code Interpreter Extension is stateless and therefore every request to Code Interpreter does not have knowledge of previous operations nor files injested or produced in previous steps. Therefore, with any request to Code Interpreter you need to submit all files and instructions for that request to complete successfully.\n"
   ]
  },
  {
   "cell_type": "markdown",
   "metadata": {
    "id": "PO_tnShTGUik"
   },
   "source": [
    "## Getting Started\n",
    "\n",
    "The following steps are necessary to run this notebook, no matter what notebook environment you're using.\n",
    "\n",
    "If you're entirely new to Google Cloud, [get started here](https://cloud.google.com/docs/get-started)."
   ]
  },
  {
   "cell_type": "markdown",
   "metadata": {
    "id": "dq30xzDj-dkW"
   },
   "source": [
    "### Google Cloud Project Setup\n",
    "\n",
    "1. [Select or create a Google Cloud project](https://console.cloud.google.com/cloud-resource-manager). When you first create an account, you get a $300 free credit towards your compute/storage costs.\n",
    "1. [Make sure that billing is enabled for your project](https://cloud.google.com/billing/docs/how-to/modify-project).\n",
    "1. [Enable the Service Usage API](https://console.cloud.google.com/apis/library/serviceusage.googleapis.com)\n",
    "1. [Enable the Vertex AI API](https://console.cloud.google.com/flows/enableapi?apiid=aiplatform.googleapis.com).\n",
    "1. [Enable the Cloud Storage API](https://console.cloud.google.com/flows/enableapi?apiid=storage.googleapis.com)."
   ]
  },
  {
   "cell_type": "markdown",
   "metadata": {
    "id": "PTuXDJ2qn-8W"
   },
   "source": [
    "### Google Cloud Permissions\n",
    "\n",
    "**To run the complete Notebook, including the optional section, you will need to have the [Owner role](https://cloud.google.com/iam/docs/understanding-roles) for your project.**\n",
    "\n",
    "If you want to skip the optional section, you need at least the following [roles](https://cloud.google.com/iam/docs/granting-changing-revoking-access):\n",
    "* **`roles/aiplatform.user`** to use Vertex AI components\n",
    "* **`roles/storage.objectAdmin`** to modify and delete GCS buckets"
   ]
  },
  {
   "cell_type": "markdown",
   "metadata": {
    "id": "4flyjsPnVk68"
   },
   "source": [
    "### Install Vertex AI SDK and other required packages\n"
   ]
  },
  {
   "cell_type": "code",
   "execution_count": null,
   "metadata": {
    "id": "AoNGuRTHUl2p",
    "tags": []
   },
   "outputs": [],
   "source": [
    "!pip install google-cloud-aiplatform --upgrade\n",
    "# Note -- this may not work in some non-Colab environments. If you get errors\n",
    "# when running 'import vertexai' below, you'll need to find another way to\n",
    "# install the latest google-cloud-aiplatform package into your notebook kernel.\n",
    "# In some kernel setups running \"%pip install google-cloud-aiplatform --upgrade\"\n",
    "# in a code cell works if \"!pip install ....\" doesn't.\n",
    "\n",
    "## If you're running outside of colab, make sure to install the following modules as well:\n",
    "!pip install Pillow"
   ]
  },
  {
   "cell_type": "markdown",
   "metadata": {
    "id": "R5Xep4W9lq-Z"
   },
   "source": [
    "### Restart runtime\n",
    "\n",
    "To use the newly installed packages in this Jupyter runtime, you must restart the runtime. You can do this by running the cell below, which restarts the current kernel.\n",
    "\n",
    "You may see the restart reported as a crash, but it is working as-intended -- you are merely restarting the runtime.\n",
    "\n",
    "The restart might take a minute or longer. After it's restarted, continue to the next step."
   ]
  },
  {
   "cell_type": "code",
   "execution_count": null,
   "metadata": {
    "colab": {
     "base_uri": "https://localhost:8080/"
    },
    "id": "XRvKdaPDTznN",
    "outputId": "ffbc8163-a69f-45c3-d188-0e7b54bc9c3b",
    "tags": []
   },
   "outputs": [
    {
     "data": {
      "text/plain": [
       "{'status': 'ok', 'restart': True}"
      ]
     },
     "execution_count": 3,
     "metadata": {},
     "output_type": "execute_result"
    }
   ],
   "source": [
    "import IPython\n",
    "\n",
    "app = IPython.Application.instance()\n",
    "app.kernel.do_shutdown(True)"
   ]
  },
  {
   "cell_type": "markdown",
   "metadata": {
    "id": "SbmM4z7FOBpM"
   },
   "source": [
    "<div class=\"alert alert-block alert-warning\">\n",
    "<b>⚠️ The kernel is going to restart. Please wait until it is finished before continuing to the next step. ⚠️</b>\n",
    "</div>\n"
   ]
  },
  {
   "cell_type": "markdown",
   "metadata": {
    "id": "-vk8FYRBekhR"
   },
   "source": [
    "### Authenticate\n",
    "\n",
    "If you're using Colab, run the code in the next cell. Follow the popups and authenticate with an account that has access to your Google Cloud [project](https://cloud.google.com/resource-manager/docs/creating-managing-projects#identifying_projects).\n",
    "\n",
    "If you're running this notebook somewhere besides Colab, make sure your environment has the right Google Cloud access. If that's a new concept to you, consider looking into [Application Default Credentials for your local environment](https://cloud.google.com/docs/authentication/provide-credentials-adc#local-dev) and [initializing the Google Cloud CLI](https://cloud.google.com/docs/authentication/gcloud). More authentication options are discussed [here](https://cloud.google.com/docs/authentication)."
   ]
  },
  {
   "cell_type": "code",
   "execution_count": null,
   "metadata": {
    "id": "JAihqmEKetF9",
    "tags": []
   },
   "outputs": [],
   "source": [
    "import sys\n",
    "\n",
    "if \"google.colab\" in sys.modules:\n",
    "    from google.colab import auth\n",
    "\n",
    "    auth.authenticate_user()"
   ]
  },
  {
   "cell_type": "markdown",
   "metadata": {
    "id": "pNcfOA7Ne0kP"
   },
   "source": [
    "### Set Google Cloud project information and initialize Vertex AI SDK\n",
    "\n",
    "To get started using Vertex AI, you must have an existing Google Cloud project and [enable the Vertex AI API](https://console.cloud.google.com/flows/enableapi?apiid=aiplatform.googleapis.com).\n",
    "\n",
    "Learn more about [setting up a project and a development environment](https://cloud.google.com/vertex-ai/docs/start/cloud-environment).\n",
    "\n",
    "Make sure to change `PROJECT_ID` in the next cell. You can leave the values for `REGION` and `API_ENV` unless you have a specific reason to change them."
   ]
  },
  {
   "cell_type": "code",
   "execution_count": null,
   "metadata": {
    "id": "gL6f3bqGVk69",
    "tags": []
   },
   "outputs": [],
   "source": [
    "import vertexai\n",
    "\n",
    "PROJECT_ID = \"your project ID\"  # @param {type:\"string\"}\n",
    "REGION = \"us-central1\"  # @param {type: \"string\"}\n",
    "API_ENV = \"aiplatform.googleapis.com\"  # @param {type:\"string\"}\n",
    "\n",
    "vertexai.init(\n",
    "    project=PROJECT_ID,\n",
    "    location=REGION,\n",
    "    api_endpoint=f\"{REGION}-{API_ENV}\",\n",
    ")"
   ]
  },
  {
   "cell_type": "markdown",
   "metadata": {
    "id": "yMSvnCXwV3Za"
   },
   "source": [
    "## Using Extensions to Build and Deploy a Static Web Application Tutorial"
   ]
  },
  {
   "cell_type": "markdown",
   "metadata": {
    "id": "9MFqpF8pfWPJ"
   },
   "source": [
    "### Import libraries"
   ]
  },
  {
   "cell_type": "code",
   "execution_count": null,
   "metadata": {
    "id": "Tl4tmS4WWEI7",
    "tags": []
   },
   "outputs": [],
   "source": [
    "import base64\n",
    "from google.cloud import storage\n",
    "from google.protobuf import json_format\n",
    "from google.protobuf.struct_pb2 import Struct\n",
    "import io\n",
    "from IPython.display import display\n",
    "from IPython.display import Markdown\n",
    "import json\n",
    "from PIL import Image\n",
    "import pprint\n",
    "import textwrap\n",
    "from vertexai.generative_models import GenerativeModel\n",
    "from vertexai.preview import extensions"
   ]
  },
  {
   "cell_type": "markdown",
   "metadata": {
    "id": "-SBZl8Z9lhev"
   },
   "source": [
    "### Step 1: Generate a PRD using Gemini API\n",
    "\n",
    "In step 1, we use Gemini to generate a PRD. We will use the PRD to generate the web app in step 3."
   ]
  },
  {
   "cell_type": "code",
   "execution_count": null,
   "metadata": {
    "id": "TAzE7QawllZh",
    "tags": []
   },
   "outputs": [],
   "source": [
    "vertexai.init(project=PROJECT_ID, location=REGION)\n",
    "model = GenerativeModel(model_name=\"gemini-1.0-pro\")\n",
    "\n",
    "response = model.generate_content(\"\"\"Write a simple website log-in page product\n",
    "requirement document with 2 features including 1) use html, css, and javascript\n",
    "to make a login page. The login button should be red. Javascript should validate\n",
    "login username as \"test_login_user\", password as \"test1234\". 2) deploy this html,\n",
    "css, javascript file to GCS bucket as a static web hosting.\"\"\")"
   ]
  },
  {
   "cell_type": "code",
   "execution_count": null,
   "metadata": {
    "id": "aJQPcAMLtApg",
    "tags": []
   },
   "outputs": [],
   "source": [
    "def to_markdown(text):\n",
    "  \"\"\"Converts the given text to a Markdown-formatted blockquote.\n",
    "\n",
    "  This function replaces all bullet points ('•') with markdown list markers ('  *')\n",
    "  and indents each line with a '>' character to create a blockquote.\n",
    "\n",
    "  Args:\n",
    "    text: The text to be converted to Markdown.\n",
    "\n",
    "  Returns:\n",
    "    A Markdown object representing the converted text as a blockquote.\n",
    "  \"\"\"\n",
    "  text = text.replace('•', '  *')\n",
    "  return Markdown(textwrap.indent(text, '> ', predicate=lambda _: True))"
   ]
  },
  {
   "cell_type": "code",
   "execution_count": null,
   "metadata": {
    "colab": {
     "base_uri": "https://localhost:8080/",
     "height": 942
    },
    "id": "bAgz7pcEs-B0",
    "outputId": "ce8ec788-c40f-435c-a990-73b73ef28e76",
    "tags": []
   },
   "outputs": [
    {
     "data": {
      "text/markdown": [
       "> ## Product Requirement Document: Simple Website Login Page\n",
       "> \n",
       "> ### 1. Introduction\n",
       "> \n",
       "> This document outlines the requirements for a simple website login page. The login page will be built using HTML, CSS, and Javascript and deployed to a GCS bucket as a static web hosting solution.\n",
       "> \n",
       "> ### 2. Features\n",
       "> \n",
       "> **2.1 Login Form:**\n",
       "> \n",
       "> * The login page will feature a form with two input fields:\n",
       ">     * Username\n",
       ">     * Password\n",
       "> * The login button will be red.\n",
       "> * Javascript will validate the entered username and password.\n",
       "> * Valid credentials:\n",
       ">     * Username: \"test_login_user\"\n",
       ">     * Password: \"test1234\"\n",
       "> \n",
       "> **2.2 Validation:**\n",
       "> \n",
       "> * Javascript will handle the validation logic on the client-side.\n",
       "> * If the username or password is invalid, an error message will be displayed.\n",
       "> * On successful login, a success message will be displayed.\n",
       "> \n",
       "> ### 3. Technical Requirements\n",
       "> \n",
       "> **3.1 Development Tools:**\n",
       "> \n",
       "> * HTML\n",
       "> * CSS\n",
       "> * Javascript\n",
       "> \n",
       "> **3.2 Hosting:**\n",
       "> \n",
       "> * GCS Bucket (configured for static website hosting)\n",
       "> \n",
       "> ### 4. User Interface\n",
       "> \n",
       "> **4.1 Design:**\n",
       "> \n",
       "> * The login page will have a clean and simple design.\n",
       "> * The layout will be responsive and optimized for different screen sizes.\n",
       "> \n",
       "> **4.2 Language:**\n",
       "> \n",
       "> * English\n",
       "> \n",
       "> ### 5. Success Criteria\n",
       "> \n",
       "> * The login page successfully validates user credentials.\n",
       "> * Valid credentials redirect the user to the intended destination (e.g., dashboard).\n",
       "> * Invalid credentials display an appropriate error message.\n",
       "> * The page is responsive and functions correctly on different devices.\n",
       "> \n",
       "> ### 6. Non-Functional Requirements\n",
       "> \n",
       "> **6.1 Performance:**\n",
       "> \n",
       "> * The login page should load quickly and perform well on different network speeds.\n",
       "> \n",
       "> **6.2 Security:**\n",
       "> \n",
       "> * User credentials should be securely transmitted to the server using HTTPS.\n",
       "> \n",
       "> ### 7. Open Issues\n",
       "> \n",
       "> * None\n",
       "> \n",
       "> ### 8. Dependencies\n",
       "> \n",
       "> * GCS bucket with static website hosting enabled\n",
       "> \n",
       "> ### 9. Assumptions\n",
       "> \n",
       "> * Users have a basic understanding of web browsing.\n",
       "> \n",
       "> ### 10. Approvals\n",
       "> \n",
       "> * This document requires approval from the development team and project manager.\n",
       "> \n",
       "> ## Additional Notes\n",
       "> \n",
       "> * This document serves as a high-level overview of the product requirements. More detailed design specifications and implementation details will be defined in separate documents.\n",
       "> * User interface mocks and detailed API documentation will be developed in subsequent phases.\n",
       "> \n",
       "> Please let me know if you have any questions or require further information."
      ],
      "text/plain": [
       "<IPython.core.display.Markdown object>"
      ]
     },
     "execution_count": 8,
     "metadata": {},
     "output_type": "execute_result"
    }
   ],
   "source": [
    "to_markdown(response.text)"
   ]
  },
  {
   "cell_type": "markdown",
   "metadata": {
    "id": "tgTdZdjBzrEN"
   },
   "source": [
    "### Step 2: Create a Code Interpreter Extension\n",
    "\n",
    "Now you can create the extension itself. The following cell uses the Python SDK to import the extension (thereby creating it) in Vertex AI Extensions."
   ]
  },
  {
   "cell_type": "code",
   "execution_count": null,
   "metadata": {
    "id": "dZ_vC0E7lyWy",
    "tags": []
   },
   "outputs": [],
   "source": [
    "extension_code_interpreter = extensions.Extension.from_hub(\"code_interpreter\")\n",
    "extension_code_interpreter"
   ]
  },
  {
   "cell_type": "markdown",
   "metadata": {
    "id": "yKCjnPm_lyWz"
   },
   "source": [
    "### Step 3: Use Code Interpreter to Build the Web App\n",
    "\n",
    "We use only a portion of the mini PRD when generating the web application because we want to focus solely on the generation of a runnable index.html file.\n",
    "\n",
    "The complete mini PRD encompasses specifications for both web development (such as the index.html) and deployment instructions. Since our immediate goal was to obtain a functional index.html file without any manual modifications, we opted to exclude the deployment details.\n",
    "\n",
    "Including the entire PRD would have resulted in the model attaching deployment instructions as plain text to the generated index.html. These instructions, while informative, wouldn't be directly executable and would require separate handling.\n"
   ]
  },
  {
   "cell_type": "code",
   "execution_count": null,
   "metadata": {
    "id": "CjnOWke4lTML",
    "tags": []
   },
   "outputs": [],
   "source": [
    "prompt = \"\"\"\n",
    "You are asked to generate an index.html page for the feature below:\n",
    "\n",
    "<feature>\n",
    "Log-In Page Interface:\n",
    "Use HTML, CSS, and JavaScript to create a log-in page.\n",
    "The log-in form should include fields for username and password.\n",
    "The login button should be red.\n",
    "Implement JavaScript validation to ensure that the username is \"test_login_user\" and the password is \"test1234\".\n",
    "</feature>\n",
    "\n",
    "Generate the index.html file now.\n",
    "\"\"\"\n",
    "\n",
    "response = extension_code_interpreter.execute(\n",
    "    operation_id = \"generate_and_execute\",\n",
    "    operation_params = {\"query\": prompt},\n",
    ")\n",
    "\n",
    "pprint.pprint(response)"
   ]
  },
  {
   "cell_type": "markdown",
   "metadata": {
    "id": "v6y-6A_iPu3T"
   },
   "source": [
    "The next cell parses response from the extension and saves the index.html generated by Code Interpreter to the working directory."
   ]
  },
  {
   "cell_type": "code",
   "execution_count": null,
   "metadata": {
    "id": "uRvUI_oOi_LC",
    "tags": []
   },
   "outputs": [],
   "source": [
    "# Helper function to parse Code Interpreter output.\n",
    "def parse_output_files(outputFiles):\n",
    "    \"\"\"Parses and displays the contents of output files generated by a process.\n",
    "\n",
    "    This function iterates through a list of output files, decodes their contents\n",
    "    from base64, and prints the file name and contents to the console.\n",
    "    The output is sorted so that image files are displayed first.\n",
    "\n",
    "    Args:\n",
    "      outputFiles: A list of dictionaries, where each dictionary represents\n",
    "                  an output file and contains the following keys:\n",
    "        - \"name\": The name of the file.\n",
    "        - \"contents\": The base64-encoded contents of the file.\n",
    "\n",
    "    Returns:\n",
    "      The decoded contents of the last file processed as a string.\n",
    "    \"\"\"\n",
    "    IMAGE_FILE_EXTENSIONS = set([\"jpg\", \"jpeg\", \"png\"])\n",
    "    # Sort the output_files so images are displayed before other files such as JSON.\n",
    "    for output_file in sorted(\n",
    "        outputFiles,\n",
    "        key=lambda x: x[\"name\"].split(\".\")[-1] not in IMAGE_FILE_EXTENSIONS,\n",
    "    ):\n",
    "        file_name = output_file.get(\"name\")\n",
    "        file_contents = base64.b64decode(output_file.get(\"contents\"))\n",
    "        print(\"Output Files: \\n=======================\\n\")\n",
    "        print(f\"File Name: {file_name}\\n\")\n",
    "\n",
    "        if file_name.endswith(\".html\"):\n",
    "          pprint.pprint(file_contents.decode(), compact=False, width=160)\n",
    "        else:\n",
    "          print(f\"File Contents: {file_contents.decode()}\\n\")\n",
    "    return file_contents.decode()"
   ]
  },
  {
   "cell_type": "code",
   "execution_count": null,
   "metadata": {
    "colab": {
     "base_uri": "https://localhost:8080/"
    },
    "id": "g4WM-oP83__i",
    "outputId": "010f60e7-e3a2-4228-bc8c-3d5fffe01b4c"
   },
   "outputs": [
    {
     "name": "stdout",
     "output_type": "stream",
     "text": [
      "Output Files: \n",
      "=======================\n",
      "\n",
      "File Name: index.html\n",
      "\n",
      "('\\n'\n",
      " '<!DOCTYPE html>\\n'\n",
      " '<html lang=\"en\">\\n'\n",
      " '<head>\\n'\n",
      " '    <meta charset=\"UTF-8\">\\n'\n",
      " '    <meta name=\"viewport\" content=\"width=device-width, initial-scale=1.0\">\\n'\n",
      " '    <title>Log-In Page</title>\\n'\n",
      " '    <style>\\n'\n",
      " '        body {\\n'\n",
      " '            font-family: Arial, sans-serif;\\n'\n",
      " '            background-color: #f4f4f4;\\n'\n",
      " '            margin: 0;\\n'\n",
      " '            padding: 0;\\n'\n",
      " '        }\\n'\n",
      " '\\n'\n",
      " '        .container {\\n'\n",
      " '            width: 300px;\\n'\n",
      " '            margin: 50px auto;\\n'\n",
      " '            padding: 20px;\\n'\n",
      " '            border: 1px solid #ccc;\\n'\n",
      " '            background-color: #fff;\\n'\n",
      " '            border-radius: 5px;\\n'\n",
      " '        }\\n'\n",
      " '\\n'\n",
      " '        h2 {\\n'\n",
      " '            text-align: center;\\n'\n",
      " '            margin-bottom: 20px;\\n'\n",
      " '        }\\n'\n",
      " '\\n'\n",
      " '        input[type=\"text\"],\\n'\n",
      " '        input[type=\"password\"] {\\n'\n",
      " '            width: 100%;\\n'\n",
      " '            padding: 10px;\\n'\n",
      " '            margin: 10px 0;\\n'\n",
      " '            border: 1px solid #ccc;\\n'\n",
      " '            border-radius: 3px;\\n'\n",
      " '        }\\n'\n",
      " '\\n'\n",
      " '        button {\\n'\n",
      " '            background-color: red;\\n'\n",
      " '            color: white;\\n'\n",
      " '            padding: 10px 20px;\\n'\n",
      " '            border: none;\\n'\n",
      " '            border-radius: 3px;\\n'\n",
      " '            cursor: pointer;\\n'\n",
      " '        }\\n'\n",
      " '    </style>\\n'\n",
      " '</head>\\n'\n",
      " '<body>\\n'\n",
      " '    <div class=\"container\">\\n'\n",
      " '        <h2>Log In</h2>\\n'\n",
      " '        <form id=\"login-form\">\\n'\n",
      " '            <label for=\"username\">Username:</label>\\n'\n",
      " '            <input type=\"text\" id=\"username\" name=\"username\" required>\\n'\n",
      " '\\n'\n",
      " '            <label for=\"password\">Password:</label>\\n'\n",
      " '            <input type=\"password\" id=\"password\" name=\"password\" required>\\n'\n",
      " '\\n'\n",
      " '            <button type=\"submit\">Log In</button>\\n'\n",
      " '        </form>\\n'\n",
      " '    </div>\\n'\n",
      " '\\n'\n",
      " '    <script>\\n'\n",
      " \"        const form = document.getElementById('login-form');\\n\"\n",
      " '\\n'\n",
      " \"        form.addEventListener('submit', (event) => {\\n\"\n",
      " '            event.preventDefault();\\n'\n",
      " '\\n'\n",
      " \"            const username = document.getElementById('username').value;\\n\"\n",
      " \"            const password = document.getElementById('password').value;\\n\"\n",
      " '\\n'\n",
      " \"            if (username === 'test_login_user' && password === 'test1234') {\\n\"\n",
      " '                // Successful login\\n'\n",
      " \"                alert('Login successful!');\\n\"\n",
      " '            } else {\\n'\n",
      " '                // Invalid credentials\\n'\n",
      " \"                alert('Invalid username or password.');\\n\"\n",
      " '            }\\n'\n",
      " '        });\\n'\n",
      " '    </script>\\n'\n",
      " '</body>\\n'\n",
      " '</html>\\n')\n"
     ]
    }
   ],
   "source": [
    "index_page = parse_output_files(response[\"output_files\"])"
   ]
  },
  {
   "cell_type": "code",
   "execution_count": null,
   "metadata": {
    "id": "nbYGax8p4hm9"
   },
   "outputs": [],
   "source": [
    "def write_file(filename, content):\n",
    "    \"\"\"Writes the specified content to a file.\n",
    "\n",
    "    This function opens the file with the given filename in write mode (\"w\") and\n",
    "    writes the provided content to it. If the file already exists, its contents\n",
    "    will be overwritten.\n",
    "\n",
    "    Args:\n",
    "      filename (str): The name of the file to write to.\n",
    "      content (str): The content to be written to the file.\n",
    "\n",
    "    Raises:\n",
    "      IOError: If there is an error opening or writing to the file.\n",
    "    \"\"\"\n",
    "    with open(filename, \"w\") as f:\n",
    "        f.write(content)"
   ]
  },
  {
   "cell_type": "code",
   "execution_count": null,
   "metadata": {
    "id": "gRnjn3Zr4hm-"
   },
   "outputs": [],
   "source": [
    "write_file(\"index.html\", index_page)"
   ]
  },
  {
   "cell_type": "markdown",
   "metadata": {
    "id": "a_9_VWVllTgm"
   },
   "source": [
    "### Step 4: Use GCS API to Deploy the Web App\n",
    "\n",
    "For a static web page, you can just upload the html file to a GCS bucket. You will be able to view it via URL after you upload index.html.\n",
    "\n",
    "If you run this outside of colab and you get an authentication error here or it asks you for a password, run 'gcloud auth login' in a shell and try again."
   ]
  },
  {
   "cell_type": "code",
   "execution_count": null,
   "metadata": {
    "id": "sDre8cG33PL4",
    "outputId": "087d3e2b-0029-47ad-d8d0-36a7a1e854ca",
    "tags": []
   },
   "outputs": [
    {
     "name": "stdout",
     "output_type": "stream",
     "text": [
      "+ gsutil mb -p mws-playground -l us-central1 gs://mws-playground-web-dev\n",
      "Creating gs://mws-playground-web-dev/...\n"
     ]
    }
   ],
   "source": [
    "# Create a GCS bucket if you don't have one.\n",
    "GCS_BUCKET = f\"{PROJECT_ID}-web-dev\"\n",
    "! set -x && gsutil mb -p $PROJECT_ID -l us-central1 gs://$GCS_BUCKET"
   ]
  },
  {
   "cell_type": "code",
   "execution_count": null,
   "metadata": {
    "id": "M37hyrajlXKE",
    "tags": []
   },
   "outputs": [],
   "source": [
    "def upload_blob(bucket_name, source_file_name, destination_blob_name):\n",
    "    \"\"\"Uploads a file to a Google Cloud Storage bucket.\n",
    "\n",
    "    Args:\n",
    "        bucket_name: The name of the bucket to upload the file to.\n",
    "        source_file_name: The name of the file to upload.\n",
    "        destination_blob_name: The name of the blob in the bucket.\n",
    "    \"\"\"\n",
    "    storage_client = storage.Client()\n",
    "    bucket = storage_client.bucket(bucket_name)\n",
    "    blob = bucket.blob(destination_blob_name)\n",
    "\n",
    "    generation_match_precondition = None\n",
    "\n",
    "    blob.upload_from_filename(source_file_name, if_generation_match=generation_match_precondition)\n",
    "\n",
    "    print(\n",
    "        f\"File {source_file_name} uploaded to {destination_blob_name}.\"\n",
    "    )"
   ]
  },
  {
   "cell_type": "markdown",
   "metadata": {
    "id": "olU8gbIc2-9w"
   },
   "source": [
    "If you already have a GCS bucket, specify the GCS bucket you will use to store index.html before running `upload_blob` in the next cell."
   ]
  },
  {
   "cell_type": "code",
   "execution_count": null,
   "metadata": {
    "colab": {
     "base_uri": "https://localhost:8080/"
    },
    "id": "D5UetmHzMQBn",
    "outputId": "b06cc542-2c18-4aab-8dfd-b6dbe2c7d256",
    "tags": []
   },
   "outputs": [
    {
     "name": "stdout",
     "output_type": "stream",
     "text": [
      "File index.html uploaded to index.html.\n"
     ]
    }
   ],
   "source": [
    "# GCS_BUCKET = \"\"\n",
    "upload_blob(GCS_BUCKET,\"index.html\",\"index.html\")"
   ]
  },
  {
   "cell_type": "markdown",
   "metadata": {
    "id": "n1o6kHqTkbWk"
   },
   "source": [
    "Click the Authenticated URL of the index.html file in your GCS bucket to check out the live update.\n",
    "\n",
    "You can view the page from this link. Please relace your-bucket-name with the bucket name you used above.\n",
    "https://storage.mtls.cloud.google.com/your-bucket-name/index.html\n",
    "\n",
    "You can also use UI to find the link.\n",
    "- Step 1: Go to your [cloud storage page](https://console.cloud.google.com/storage?hl=en) in your GCP project.\n",
    "- Step 2: Find the bucket you use\n",
    "- Step 3: Click index.html file in that bucket, you should see the Authenticated URL there. That's the link you need to click."
   ]
  },
  {
   "cell_type": "markdown",
   "metadata": {
    "id": "zS8aPJeugMzf"
   },
   "source": [
    "# 🧹 Cleaning up\n",
    "\n",
    "Clean up resources created in this notebook."
   ]
  },
  {
   "cell_type": "markdown",
   "metadata": {
    "id": "qo2UYWl_dC55"
   },
   "source": [
    "Remove the extensions instances created in this notebook by running the cell below:  "
   ]
  },
  {
   "cell_type": "code",
   "execution_count": null,
   "metadata": {
    "colab": {
     "base_uri": "https://localhost:8080/"
    },
    "id": "nl0ephMroHQX",
    "outputId": "c34e21c6-6b0e-4b06-ea19-f0a76113b43e"
   },
   "outputs": [
    {
     "name": "stderr",
     "output_type": "stream",
     "text": [
      "INFO:google.cloud.aiplatform.base:Deleting Extension : projects/certain-haiku-391918/locations/us-central1/extensions/2441443579244052480\n",
      "INFO:google.cloud.aiplatform.base:Delete Extension  backing LRO: projects/656421903914/locations/us-central1/operations/7221688063104122880\n",
      "INFO:google.cloud.aiplatform.base:Extension deleted. . Resource name: projects/certain-haiku-391918/locations/us-central1/extensions/2441443579244052480\n"
     ]
    }
   ],
   "source": [
    "extension_code_interpreter.delete()"
   ]
  },
  {
   "cell_type": "markdown",
   "metadata": {
    "id": "K1pyDrUuSOg8"
   },
   "source": [
    "You can run the next cell to get a list of all other remaining Vertex AI Extension Instances in your environment:"
   ]
  },
  {
   "cell_type": "code",
   "execution_count": null,
   "metadata": {
    "id": "GTEgYGhFQfTW"
   },
   "outputs": [],
   "source": [
    "extensions.Extension.list()"
   ]
  },
  {
   "cell_type": "markdown",
   "metadata": {
    "id": "PMKk4CScm_4C"
   },
   "source": [
    "Uncomment to remove the file created by this notebook:"
   ]
  },
  {
   "cell_type": "code",
   "execution_count": null,
   "metadata": {
    "id": "1BfKIV2Jm_eU"
   },
   "outputs": [],
   "source": [
    "# os.remove('index.html')"
   ]
  },
  {
   "cell_type": "markdown",
   "metadata": {
    "id": "ihJEWJvNSfc9"
   },
   "source": [
    "Optionally, you can uncomment the following code block to delete all active extensions in your project, by using the IDs above to clean up:"
   ]
  },
  {
   "cell_type": "code",
   "execution_count": null,
   "metadata": {
    "id": "CsPKKv-USmi-"
   },
   "outputs": [],
   "source": [
    "#clean_ids = []\n",
    "\n",
    "#for element in extensions.Extension.list():\n",
    "    #clean_ids.append(str(element).split(\"extensions/\")[1])\n",
    "\n",
    "#for id in clean_ids:\n",
    "   #extension = extensions.Extension(id)\n",
    "   #extension.delete()"
   ]
  },
  {
   "cell_type": "markdown",
   "metadata": {
    "id": "nOaXVcpzhBI3"
   },
   "source": [
    "Uncomment below to delete your GCS Bucket by first deleting all files in it, then deleting the bucket itself:\n",
    "\n",
    "❗❗❗ Only run the below cells if you created a new bucket just for this notebook ❗❗❗"
   ]
  },
  {
   "cell_type": "code",
   "execution_count": null,
   "metadata": {
    "id": "BR891aucg72e"
   },
   "outputs": [],
   "source": [
    "# Delete contents of the bucket and the bucket\n",
    "#! gsutil -m rm -r gs://$GCS_BUCKET"
   ]
  },
  {
   "cell_type": "markdown",
   "metadata": {
    "id": "3w8tg9O6rBmx"
   },
   "source": [
    "Delete your Google Cloud CLI ADC Configuration, if you no longer need it, by running:\n",
    "\n",
    "`$ gcloud config configurations delete CONFIG_NAME`\n"
   ]
  },
  {
   "cell_type": "markdown",
   "metadata": {
    "id": "SuJs4q0oThE3"
   },
   "source": [
    "❗❗❗ Don't forget to delete any other created assets if you don't need them."
   ]
  }
 ],
 "metadata": {
  "colab": {
   "provenance": [],
   "toc_visible": true
  },
  "environment": {
   "kernel": "webdev",
   "name": "workbench-notebooks.m119",
   "type": "gcloud",
   "uri": "us-docker.pkg.dev/deeplearning-platform-release/gcr.io/workbench-notebooks:m119"
  },
  "kernelspec": {
   "display_name": "webdev (Local)",
   "language": "python",
   "name": "webdev"
  },
  "language_info": {
   "codemirror_mode": {
    "name": "ipython",
    "version": 3
   },
   "file_extension": ".py",
   "mimetype": "text/x-python",
   "name": "python",
   "nbconvert_exporter": "python",
   "pygments_lexer": "ipython3",
   "version": "3.10.14"
  }
 },
 "nbformat": 4,
 "nbformat_minor": 4
}
